{
  "nbformat": 4,
  "nbformat_minor": 0,
  "metadata": {
    "colab": {
      "provenance": [],
      "authorship_tag": "ABX9TyMcqTEPI36f80r9PV9bkNnA",
      "include_colab_link": true
    },
    "kernelspec": {
      "name": "python3",
      "display_name": "Python 3"
    },
    "language_info": {
      "name": "python"
    }
  },
  "cells": [
    {
      "cell_type": "markdown",
      "metadata": {
        "id": "view-in-github",
        "colab_type": "text"
      },
      "source": [
        "<a href=\"https://colab.research.google.com/github/aitormorais/Qiskit/blob/main/sumar.ipynb\" target=\"_parent\"><img src=\"https://colab.research.google.com/assets/colab-badge.svg\" alt=\"Open In Colab\"/></a>"
      ]
    },
    {
      "cell_type": "code",
      "execution_count": 1,
      "metadata": {
        "colab": {
          "base_uri": "https://localhost:8080/"
        },
        "id": "jL7Vr6U2PHKs",
        "outputId": "9259c628-ecf0-4fe9-829b-2b4e3dd14721"
      },
      "outputs": [
        {
          "output_type": "stream",
          "name": "stdout",
          "text": [
            "Looking in indexes: https://pypi.org/simple, https://us-python.pkg.dev/colab-wheels/public/simple/\n",
            "Collecting qiskit\n",
            "  Downloading qiskit-0.42.1.tar.gz (14 kB)\n",
            "  Preparing metadata (setup.py) ... \u001b[?25l\u001b[?25hdone\n",
            "Collecting qiskit-terra==0.23.3\n",
            "  Downloading qiskit_terra-0.23.3-cp39-cp39-manylinux_2_17_x86_64.manylinux2014_x86_64.whl (5.1 MB)\n",
            "\u001b[2K     \u001b[90m━━━━━━━━━━━━━━━━━━━━━━━━━━━━━━━━━━━━━━━━\u001b[0m \u001b[32m5.1/5.1 MB\u001b[0m \u001b[31m35.7 MB/s\u001b[0m eta \u001b[36m0:00:00\u001b[0m\n",
            "\u001b[?25hCollecting qiskit-aer==0.12.0\n",
            "  Downloading qiskit_aer-0.12.0-cp39-cp39-manylinux_2_17_x86_64.manylinux2014_x86_64.whl (12.8 MB)\n",
            "\u001b[2K     \u001b[90m━━━━━━━━━━━━━━━━━━━━━━━━━━━━━━━━━━━━━━━━\u001b[0m \u001b[32m12.8/12.8 MB\u001b[0m \u001b[31m38.2 MB/s\u001b[0m eta \u001b[36m0:00:00\u001b[0m\n",
            "\u001b[?25hCollecting qiskit-ibmq-provider==0.20.2\n",
            "  Downloading qiskit_ibmq_provider-0.20.2-py3-none-any.whl (241 kB)\n",
            "\u001b[2K     \u001b[90m━━━━━━━━━━━━━━━━━━━━━━━━━━━━━━━━━━━━━━\u001b[0m \u001b[32m241.5/241.5 kB\u001b[0m \u001b[31m14.4 MB/s\u001b[0m eta \u001b[36m0:00:00\u001b[0m\n",
            "\u001b[?25hRequirement already satisfied: scipy>=1.0 in /usr/local/lib/python3.9/dist-packages (from qiskit-aer==0.12.0->qiskit) (1.10.1)\n",
            "Requirement already satisfied: numpy>=1.16.3 in /usr/local/lib/python3.9/dist-packages (from qiskit-aer==0.12.0->qiskit) (1.22.4)\n",
            "Requirement already satisfied: websocket-client>=1.5.1 in /usr/local/lib/python3.9/dist-packages (from qiskit-ibmq-provider==0.20.2->qiskit) (1.5.1)\n",
            "Collecting websockets>=10.0\n",
            "  Downloading websockets-11.0.1-cp39-cp39-manylinux_2_5_x86_64.manylinux1_x86_64.manylinux_2_17_x86_64.manylinux2014_x86_64.whl (129 kB)\n",
            "\u001b[2K     \u001b[90m━━━━━━━━━━━━━━━━━━━━━━━━━━━━━━━━━━━━━━━\u001b[0m \u001b[32m129.5/129.5 kB\u001b[0m \u001b[31m7.1 MB/s\u001b[0m eta \u001b[36m0:00:00\u001b[0m\n",
            "\u001b[?25hCollecting requests-ntlm<=1.1.0\n",
            "  Downloading requests_ntlm-1.1.0-py2.py3-none-any.whl (5.7 kB)\n",
            "Requirement already satisfied: urllib3>=1.21.1 in /usr/local/lib/python3.9/dist-packages (from qiskit-ibmq-provider==0.20.2->qiskit) (1.26.15)\n",
            "Requirement already satisfied: python-dateutil>=2.8.0 in /usr/local/lib/python3.9/dist-packages (from qiskit-ibmq-provider==0.20.2->qiskit) (2.8.2)\n",
            "Requirement already satisfied: requests>=2.19 in /usr/local/lib/python3.9/dist-packages (from qiskit-ibmq-provider==0.20.2->qiskit) (2.27.1)\n",
            "Collecting stevedore>=3.0.0\n",
            "  Downloading stevedore-5.0.0-py3-none-any.whl (49 kB)\n",
            "\u001b[2K     \u001b[90m━━━━━━━━━━━━━━━━━━━━━━━━━━━━━━━━━━━━━━━━\u001b[0m \u001b[32m49.6/49.6 kB\u001b[0m \u001b[31m2.8 MB/s\u001b[0m eta \u001b[36m0:00:00\u001b[0m\n",
            "\u001b[?25hCollecting rustworkx>=0.12.0\n",
            "  Downloading rustworkx-0.12.1-cp39-cp39-manylinux_2_17_x86_64.manylinux2014_x86_64.whl (1.9 MB)\n",
            "\u001b[2K     \u001b[90m━━━━━━━━━━━━━━━━━━━━━━━━━━━━━━━━━━━━━━━━\u001b[0m \u001b[32m1.9/1.9 MB\u001b[0m \u001b[31m45.4 MB/s\u001b[0m eta \u001b[36m0:00:00\u001b[0m\n",
            "\u001b[?25hRequirement already satisfied: sympy>=1.3 in /usr/local/lib/python3.9/dist-packages (from qiskit-terra==0.23.3->qiskit) (1.11.1)\n",
            "Collecting symengine>=0.9\n",
            "  Downloading symengine-0.10.0-cp39-cp39-manylinux_2_12_x86_64.manylinux2010_x86_64.whl (37.5 MB)\n",
            "\u001b[2K     \u001b[90m━━━━━━━━━━━━━━━━━━━━━━━━━━━━━━━━━━━━━━━━\u001b[0m \u001b[32m37.5/37.5 MB\u001b[0m \u001b[31m14.5 MB/s\u001b[0m eta \u001b[36m0:00:00\u001b[0m\n",
            "\u001b[?25hCollecting dill>=0.3\n",
            "  Downloading dill-0.3.6-py3-none-any.whl (110 kB)\n",
            "\u001b[2K     \u001b[90m━━━━━━━━━━━━━━━━━━━━━━━━━━━━━━━━━━━━━━━\u001b[0m \u001b[32m110.5/110.5 kB\u001b[0m \u001b[31m8.3 MB/s\u001b[0m eta \u001b[36m0:00:00\u001b[0m\n",
            "\u001b[?25hRequirement already satisfied: psutil>=5 in /usr/local/lib/python3.9/dist-packages (from qiskit-terra==0.23.3->qiskit) (5.9.4)\n",
            "Collecting ply>=3.10\n",
            "  Downloading ply-3.11-py2.py3-none-any.whl (49 kB)\n",
            "\u001b[2K     \u001b[90m━━━━━━━━━━━━━━━━━━━━━━━━━━━━━━━━━━━━━━━━\u001b[0m \u001b[32m49.6/49.6 kB\u001b[0m \u001b[31m2.5 MB/s\u001b[0m eta \u001b[36m0:00:00\u001b[0m\n",
            "\u001b[?25hRequirement already satisfied: six>=1.5 in /usr/local/lib/python3.9/dist-packages (from python-dateutil>=2.8.0->qiskit-ibmq-provider==0.20.2->qiskit) (1.16.0)\n",
            "Requirement already satisfied: idna<4,>=2.5 in /usr/local/lib/python3.9/dist-packages (from requests>=2.19->qiskit-ibmq-provider==0.20.2->qiskit) (3.4)\n",
            "Requirement already satisfied: charset-normalizer~=2.0.0 in /usr/local/lib/python3.9/dist-packages (from requests>=2.19->qiskit-ibmq-provider==0.20.2->qiskit) (2.0.12)\n",
            "Requirement already satisfied: certifi>=2017.4.17 in /usr/local/lib/python3.9/dist-packages (from requests>=2.19->qiskit-ibmq-provider==0.20.2->qiskit) (2022.12.7)\n",
            "Collecting ntlm-auth>=1.0.2\n",
            "  Downloading ntlm_auth-1.5.0-py2.py3-none-any.whl (29 kB)\n",
            "Requirement already satisfied: cryptography>=1.3 in /usr/local/lib/python3.9/dist-packages (from requests-ntlm<=1.1.0->qiskit-ibmq-provider==0.20.2->qiskit) (40.0.1)\n",
            "Collecting pbr!=2.1.0,>=2.0.0\n",
            "  Downloading pbr-5.11.1-py2.py3-none-any.whl (112 kB)\n",
            "\u001b[2K     \u001b[90m━━━━━━━━━━━━━━━━━━━━━━━━━━━━━━━━━━━━━━━\u001b[0m \u001b[32m112.7/112.7 kB\u001b[0m \u001b[31m3.5 MB/s\u001b[0m eta \u001b[36m0:00:00\u001b[0m\n",
            "\u001b[?25hRequirement already satisfied: mpmath>=0.19 in /usr/local/lib/python3.9/dist-packages (from sympy>=1.3->qiskit-terra==0.23.3->qiskit) (1.3.0)\n",
            "Requirement already satisfied: cffi>=1.12 in /usr/local/lib/python3.9/dist-packages (from cryptography>=1.3->requests-ntlm<=1.1.0->qiskit-ibmq-provider==0.20.2->qiskit) (1.15.1)\n",
            "Requirement already satisfied: pycparser in /usr/local/lib/python3.9/dist-packages (from cffi>=1.12->cryptography>=1.3->requests-ntlm<=1.1.0->qiskit-ibmq-provider==0.20.2->qiskit) (2.21)\n",
            "Building wheels for collected packages: qiskit\n",
            "  Building wheel for qiskit (setup.py) ... \u001b[?25l\u001b[?25hdone\n",
            "  Created wheel for qiskit: filename=qiskit-0.42.1-py3-none-any.whl size=12938 sha256=6486b97ccc9ea91a2d6c4075cfd1ec45a027eaefd4130e074612b13e6de527ae\n",
            "  Stored in directory: /root/.cache/pip/wheels/40/64/74/29c046bda04fd60f3f6b2e244fa85b70f219e363fc3373f541\n",
            "Successfully built qiskit\n",
            "Installing collected packages: ply, websockets, symengine, rustworkx, pbr, ntlm-auth, dill, stevedore, requests-ntlm, qiskit-terra, qiskit-ibmq-provider, qiskit-aer, qiskit\n",
            "Successfully installed dill-0.3.6 ntlm-auth-1.5.0 pbr-5.11.1 ply-3.11 qiskit-0.42.1 qiskit-aer-0.12.0 qiskit-ibmq-provider-0.20.2 qiskit-terra-0.23.3 requests-ntlm-1.1.0 rustworkx-0.12.1 stevedore-5.0.0 symengine-0.10.0 websockets-11.0.1\n"
          ]
        }
      ],
      "source": [
        "pip install qiskit"
      ]
    },
    {
      "cell_type": "code",
      "source": [
        "# initialization\n",
        "import matplotlib.pyplot as plt\n",
        "import numpy as np\n",
        "\n",
        "# importing Qiskit\n",
        "from qiskit import IBMQ, Aer\n",
        "from qiskit.providers.ibmq import least_busy\n",
        "from qiskit import QuantumCircuit, ClassicalRegister, QuantumRegister, transpile, assemble,execute\n",
        "\n",
        "# import basic plot tools\n",
        "from qiskit.visualization import plot_histogram"
      ],
      "metadata": {
        "id": "jfqY1Hy4PKdp"
      },
      "execution_count": 4,
      "outputs": []
    },
    {
      "cell_type": "code",
      "source": [
        "circuito = QuantumCircuit(3,3)\n"
      ],
      "metadata": {
        "id": "vmTKF7AKPdXc"
      },
      "execution_count": 38,
      "outputs": []
    },
    {
      "cell_type": "code",
      "source": [
        "circuito.x(0)\n",
        "#circuito.x(1)"
      ],
      "metadata": {
        "colab": {
          "base_uri": "https://localhost:8080/"
        },
        "id": "74skQr0HPsC2",
        "outputId": "ad00d92a-ebb7-4161-c801-63aa2ea4d72f"
      },
      "execution_count": 39,
      "outputs": [
        {
          "output_type": "execute_result",
          "data": {
            "text/plain": [
              "<qiskit.circuit.instructionset.InstructionSet at 0x7f44767d8d00>"
            ]
          },
          "metadata": {},
          "execution_count": 39
        }
      ]
    },
    {
      "cell_type": "code",
      "source": [
        "circuito.measure_all()"
      ],
      "metadata": {
        "id": "wmagMXfcQNFN"
      },
      "execution_count": 40,
      "outputs": []
    },
    {
      "cell_type": "code",
      "source": [
        "circuito.draw()"
      ],
      "metadata": {
        "colab": {
          "base_uri": "https://localhost:8080/",
          "height": 186
        },
        "id": "0f16NnDFPnfH",
        "outputId": "78b36fdf-27e0-4436-f4c4-fc0655225d15"
      },
      "execution_count": 41,
      "outputs": [
        {
          "output_type": "execute_result",
          "data": {
            "text/plain": [
              "        ┌───┐ ░ ┌─┐      \n",
              "   q_0: ┤ X ├─░─┤M├──────\n",
              "        └───┘ ░ └╥┘┌─┐   \n",
              "   q_1: ──────░──╫─┤M├───\n",
              "              ░  ║ └╥┘┌─┐\n",
              "   q_2: ──────░──╫──╫─┤M├\n",
              "              ░  ║  ║ └╥┘\n",
              "   c: 3/═════════╬══╬══╬═\n",
              "                 ║  ║  ║ \n",
              "meas: 3/═════════╩══╩══╩═\n",
              "                 0  1  2 "
            ],
            "text/html": [
              "<pre style=\"word-wrap: normal;white-space: pre;background: #fff0;line-height: 1.1;font-family: &quot;Courier New&quot;,Courier,monospace\">        ┌───┐ ░ ┌─┐      \n",
              "   q_0: ┤ X ├─░─┤M├──────\n",
              "        └───┘ ░ └╥┘┌─┐   \n",
              "   q_1: ──────░──╫─┤M├───\n",
              "              ░  ║ └╥┘┌─┐\n",
              "   q_2: ──────░──╫──╫─┤M├\n",
              "              ░  ║  ║ └╥┘\n",
              "   c: 3/═════════╬══╬══╬═\n",
              "                 ║  ║  ║ \n",
              "meas: 3/═════════╩══╩══╩═\n",
              "                 0  1  2 </pre>"
            ]
          },
          "metadata": {},
          "execution_count": 41
        }
      ]
    },
    {
      "cell_type": "code",
      "source": [
        "backend = Aer.get_backend(\"qasm_simulator\")"
      ],
      "metadata": {
        "id": "i_O-N9rBQSad"
      },
      "execution_count": 42,
      "outputs": []
    },
    {
      "cell_type": "code",
      "source": [
        "job = execute(circuito,backend,shots = 1024)\n",
        "result = job.result()"
      ],
      "metadata": {
        "id": "DklH_RlZQUUM"
      },
      "execution_count": 43,
      "outputs": []
    },
    {
      "cell_type": "code",
      "source": [
        "contar=result.get_counts(circuito)"
      ],
      "metadata": {
        "id": "SJA4HnGzQWJj"
      },
      "execution_count": 44,
      "outputs": []
    },
    {
      "cell_type": "code",
      "source": [
        "contar"
      ],
      "metadata": {
        "colab": {
          "base_uri": "https://localhost:8080/"
        },
        "id": "RorkHCS2QXGU",
        "outputId": "b5b7de3a-fc91-4819-817e-eb91364877cd"
      },
      "execution_count": 45,
      "outputs": [
        {
          "output_type": "execute_result",
          "data": {
            "text/plain": [
              "{'001 000': 1024}"
            ]
          },
          "metadata": {},
          "execution_count": 45
        }
      ]
    },
    {
      "cell_type": "code",
      "source": [
        "# Definir los registros cuánticos y clásicos\n",
        "qreg = QuantumRegister(2)\n",
        "creg = ClassicalRegister(2)\n",
        "\n",
        "# Crear un circuito cuántico\n",
        "qc = QuantumCircuit(qreg, creg)\n",
        "\n",
        "# Aplicar la puerta X al segundo qubit controlado por el primer qubit\n",
        "qc.x(0)\n",
        "qc.x(1)\n",
        "qc.cx(qreg[0], qreg[1])\n",
        "\n",
        "# Medir ambos qubits y almacenar los resultados en los bits clásicos\n",
        "qc.measure(qreg[0], creg[0])\n",
        "qc.measure(qreg[1], creg[1])"
      ],
      "metadata": {
        "colab": {
          "base_uri": "https://localhost:8080/"
        },
        "id": "_IH3ZivQW-hr",
        "outputId": "1f969619-0371-4765-dc7c-df59fe3c58ab"
      },
      "execution_count": 53,
      "outputs": [
        {
          "output_type": "execute_result",
          "data": {
            "text/plain": [
              "<qiskit.circuit.instructionset.InstructionSet at 0x7f447a691d00>"
            ]
          },
          "metadata": {},
          "execution_count": 53
        }
      ]
    },
    {
      "cell_type": "code",
      "source": [
        "qc.draw()"
      ],
      "metadata": {
        "colab": {
          "base_uri": "https://localhost:8080/",
          "height": 125
        },
        "id": "btkNGIMgXAlS",
        "outputId": "fb207919-f255-4f82-ee28-badc6b432fbd"
      },
      "execution_count": 50,
      "outputs": [
        {
          "output_type": "execute_result",
          "data": {
            "text/plain": [
              "       ┌───┐     ┌─┐   \n",
              "q15_0: ┤ X ├──■──┤M├───\n",
              "       ├───┤┌─┴─┐└╥┘┌─┐\n",
              "q15_1: ┤ X ├┤ X ├─╫─┤M├\n",
              "       └───┘└───┘ ║ └╥┘\n",
              " c1: 2/═══════════╩══╩═\n",
              "                  0  1 "
            ],
            "text/html": [
              "<pre style=\"word-wrap: normal;white-space: pre;background: #fff0;line-height: 1.1;font-family: &quot;Courier New&quot;,Courier,monospace\">       ┌───┐     ┌─┐   \n",
              "q15_0: ┤ X ├──■──┤M├───\n",
              "       ├───┤┌─┴─┐└╥┘┌─┐\n",
              "q15_1: ┤ X ├┤ X ├─╫─┤M├\n",
              "       └───┘└───┘ ║ └╥┘\n",
              " c1: 2/═══════════╩══╩═\n",
              "                  0  1 </pre>"
            ]
          },
          "metadata": {},
          "execution_count": 50
        }
      ]
    },
    {
      "cell_type": "code",
      "source": [
        "# Ejecutar el circuito en el simulador de Qiskit\n",
        "backend = Aer.get_backend('qasm_simulator')\n",
        "job = execute(qc, backend, shots=1024)\n",
        "result = job.result()\n",
        "\n",
        "# Obtener los conteos de resultados de la ejecución del circuito\n",
        "counts = result.get_counts(qc)\n",
        "\n",
        "# Imprimir los resultados\n",
        "print(counts)"
      ],
      "metadata": {
        "colab": {
          "base_uri": "https://localhost:8080/"
        },
        "id": "zcEX0XFTXQdX",
        "outputId": "7f4d7784-41f1-4611-ba52-4e3635f40854"
      },
      "execution_count": 51,
      "outputs": [
        {
          "output_type": "stream",
          "name": "stdout",
          "text": [
            "{'01': 1024}\n"
          ]
        }
      ]
    },
    {
      "cell_type": "code",
      "source": [
        "def suma():\n",
        "  a = QuantumRegister(2, 'a')\n",
        "  b = QuantumRegister(2, 'b')\n",
        "  s0 = QuantumRegister(1, 's0')\n",
        "  s1 = QuantumRegister(1, 's1')\n",
        "  s2 = QuantumRegister(1, 's2')\n",
        "  c = ClassicalRegister(3, 'c')\n",
        "  # Creamos el circuito cuántico\n",
        "  qc = QuantumCircuit(a, b, s0, s1, s2,c)\n",
        "  qc.x(1)\n",
        "  #qc.x(2)\n",
        "  qc.barrier()\n",
        "  qc.ccx(a[0],b[0],s0)\n",
        "  qc.x(s0)\n",
        "  qc.x(s1)\n",
        "  qc.barrier()\n",
        "  qc.ccx(a[1],b[1],s1)\n",
        "  qc.x(s1)\n",
        "  qc.x(s2)\n",
        "  qc.barrier()\n",
        "  qc.cx(a[0],s0)\n",
        "  qc.barrier()\n",
        "  qc.cx(a[1],s1)\n",
        "  qc.barrier()\n",
        "  qc.cx(b[0],s0)\n",
        "  qc.barrier()\n",
        "  qc.cx(b[1],s1)\n",
        "  qc.barrier()\n",
        "  qc.measure(s0,2)\n",
        "  qc.measure(s1,1)\n",
        "  qc.measure(s2,0)\n",
        "  return qc\n"
      ],
      "metadata": {
        "id": "nLy0Im1IgCPs"
      },
      "execution_count": 196,
      "outputs": []
    },
    {
      "cell_type": "code",
      "source": [
        "a = QuantumRegister(2, 'a')\n",
        "b = QuantumRegister(2, 'b')\n",
        "s0 = QuantumRegister(1, 's0')\n",
        "s1 = QuantumRegister(1, 's1')\n",
        "s2 = QuantumRegister(1, 's2')"
      ],
      "metadata": {
        "id": "5JBctJD2aelC"
      },
      "execution_count": 175,
      "outputs": []
    },
    {
      "cell_type": "code",
      "source": [
        "c = ClassicalRegister(3, 'c')"
      ],
      "metadata": {
        "id": "Go6FUgRaavwz"
      },
      "execution_count": 176,
      "outputs": []
    },
    {
      "cell_type": "code",
      "source": [
        "# Creamos el circuito cuántico\n",
        "qc = QuantumCircuit(a, b, s0, s1, s2,c)"
      ],
      "metadata": {
        "id": "-vtTyFGOaz71"
      },
      "execution_count": 177,
      "outputs": []
    },
    {
      "cell_type": "code",
      "source": [
        "qc.x(0)\n",
        "qc.x(2)\n",
        "qc.barrier()"
      ],
      "metadata": {
        "colab": {
          "base_uri": "https://localhost:8080/"
        },
        "id": "sB91w-ZAeTZk",
        "outputId": "d4b091f4-6b50-4286-851f-b47e0bcee8ed"
      },
      "execution_count": 178,
      "outputs": [
        {
          "output_type": "execute_result",
          "data": {
            "text/plain": [
              "<qiskit.circuit.instructionset.InstructionSet at 0x7f446cc95940>"
            ]
          },
          "metadata": {},
          "execution_count": 178
        }
      ]
    },
    {
      "cell_type": "code",
      "source": [
        "qc.ccx(a[0],b[0],s0)\n",
        "qc.x(s0)\n",
        "qc.x(s1)\n",
        "qc.barrier()\n"
      ],
      "metadata": {
        "colab": {
          "base_uri": "https://localhost:8080/"
        },
        "id": "6r2vdIDabTay",
        "outputId": "2dd5cab3-4821-42c3-a6ea-a6d567c4b9da"
      },
      "execution_count": 179,
      "outputs": [
        {
          "output_type": "execute_result",
          "data": {
            "text/plain": [
              "<qiskit.circuit.instructionset.InstructionSet at 0x7f446cc95fd0>"
            ]
          },
          "metadata": {},
          "execution_count": 179
        }
      ]
    },
    {
      "cell_type": "code",
      "source": [
        "qc.ccx(a[1],b[1],s1)\n",
        "qc.x(s1)\n",
        "qc.x(s2)\n",
        "qc.barrier()\n"
      ],
      "metadata": {
        "colab": {
          "base_uri": "https://localhost:8080/"
        },
        "id": "kYCur4wscdI7",
        "outputId": "fe499221-e1cb-4e43-a18b-f229d3b80e05"
      },
      "execution_count": 180,
      "outputs": [
        {
          "output_type": "execute_result",
          "data": {
            "text/plain": [
              "<qiskit.circuit.instructionset.InstructionSet at 0x7f446cc958b0>"
            ]
          },
          "metadata": {},
          "execution_count": 180
        }
      ]
    },
    {
      "cell_type": "code",
      "source": [
        "qc.cx(a[0],s0)\n",
        "qc.barrier()"
      ],
      "metadata": {
        "colab": {
          "base_uri": "https://localhost:8080/"
        },
        "id": "9prOCHEEdHOL",
        "outputId": "edb5e34d-5221-48cc-ca56-fb1aaf0cfa18"
      },
      "execution_count": 181,
      "outputs": [
        {
          "output_type": "execute_result",
          "data": {
            "text/plain": [
              "<qiskit.circuit.instructionset.InstructionSet at 0x7f446cc95d90>"
            ]
          },
          "metadata": {},
          "execution_count": 181
        }
      ]
    },
    {
      "cell_type": "code",
      "source": [
        "qc.cx(a[1],s1)\n",
        "qc.barrier()"
      ],
      "metadata": {
        "colab": {
          "base_uri": "https://localhost:8080/"
        },
        "id": "29a70n6_dqd8",
        "outputId": "6d8a5ba9-2152-4132-a90c-9d8325b4dd2f"
      },
      "execution_count": 182,
      "outputs": [
        {
          "output_type": "execute_result",
          "data": {
            "text/plain": [
              "<qiskit.circuit.instructionset.InstructionSet at 0x7f446cc954c0>"
            ]
          },
          "metadata": {},
          "execution_count": 182
        }
      ]
    },
    {
      "cell_type": "code",
      "source": [
        "qc.cx(b[0],s0)\n",
        "qc.barrier()"
      ],
      "metadata": {
        "colab": {
          "base_uri": "https://localhost:8080/"
        },
        "id": "J6hMjcZmb8Yt",
        "outputId": "b5daa210-d24b-4949-c92b-dff3ea80a16f"
      },
      "execution_count": 183,
      "outputs": [
        {
          "output_type": "execute_result",
          "data": {
            "text/plain": [
              "<qiskit.circuit.instructionset.InstructionSet at 0x7f446cc95340>"
            ]
          },
          "metadata": {},
          "execution_count": 183
        }
      ]
    },
    {
      "cell_type": "code",
      "source": [
        "qc.cx(b[1],s1)\n",
        "qc.barrier()"
      ],
      "metadata": {
        "colab": {
          "base_uri": "https://localhost:8080/"
        },
        "id": "O8WhuXasd2AK",
        "outputId": "c96d31e2-892b-4aa2-be0e-b0fb6d38cb32"
      },
      "execution_count": 184,
      "outputs": [
        {
          "output_type": "execute_result",
          "data": {
            "text/plain": [
              "<qiskit.circuit.instructionset.InstructionSet at 0x7f446cc95af0>"
            ]
          },
          "metadata": {},
          "execution_count": 184
        }
      ]
    },
    {
      "cell_type": "code",
      "source": [
        "qc.measure(s0,2)\n",
        "qc.measure(s1,1)\n",
        "qc.measure(s2,0)"
      ],
      "metadata": {
        "colab": {
          "base_uri": "https://localhost:8080/"
        },
        "id": "TsmS89Zod1ys",
        "outputId": "8c1b6122-9cf8-4262-a2a5-c62af9b4ab6a"
      },
      "execution_count": 185,
      "outputs": [
        {
          "output_type": "execute_result",
          "data": {
            "text/plain": [
              "<qiskit.circuit.instructionset.InstructionSet at 0x7f446cc95f70>"
            ]
          },
          "metadata": {},
          "execution_count": 185
        }
      ]
    },
    {
      "cell_type": "code",
      "source": [
        "a=suma()"
      ],
      "metadata": {
        "id": "5IMU18oIgqep"
      },
      "execution_count": 197,
      "outputs": []
    },
    {
      "cell_type": "code",
      "source": [
        "a.draw()"
      ],
      "metadata": {
        "colab": {
          "base_uri": "https://localhost:8080/",
          "height": 540
        },
        "id": "NtXWfs7ra8zG",
        "outputId": "aab2f342-9ebc-4b42-e809-20cb1c139f48"
      },
      "execution_count": 198,
      "outputs": [
        {
          "output_type": "execute_result",
          "data": {
            "text/plain": [
              "           ░            ░            ░       ░       ░       ░       ░       »\n",
              "a_0: ──────░───■────────░────────────░───■───░───────░───────░───────░───────»\n",
              "     ┌───┐ ░   │        ░            ░   │   ░       ░       ░       ░       »\n",
              "a_1: ┤ X ├─░───┼────────░───■────────░───┼───░───■───░───────░───────░───────»\n",
              "     └───┘ ░   │        ░   │        ░   │   ░   │   ░       ░       ░       »\n",
              "b_0: ──────░───■────────░───┼────────░───┼───░───┼───░───■───░───────░───────»\n",
              "           ░   │        ░   │        ░   │   ░   │   ░   │   ░       ░       »\n",
              "b_1: ──────░───┼────────░───■────────░───┼───░───┼───░───┼───░───■───░───────»\n",
              "           ░ ┌─┴─┐┌───┐ ░   │        ░ ┌─┴─┐ ░   │   ░ ┌─┴─┐ ░   │   ░ ┌─┐   »\n",
              " s0: ──────░─┤ X ├┤ X ├─░───┼────────░─┤ X ├─░───┼───░─┤ X ├─░───┼───░─┤M├───»\n",
              "           ░ ├───┤└───┘ ░ ┌─┴─┐┌───┐ ░ └───┘ ░ ┌─┴─┐ ░ └───┘ ░ ┌─┴─┐ ░ └╥┘┌─┐»\n",
              " s1: ──────░─┤ X ├──────░─┤ X ├┤ X ├─░───────░─┤ X ├─░───────░─┤ X ├─░──╫─┤M├»\n",
              "           ░ └───┘      ░ ├───┤└───┘ ░       ░ └───┘ ░       ░ └───┘ ░  ║ └╥┘»\n",
              " s2: ──────░────────────░─┤ X ├──────░───────░───────░───────░───────░──╫──╫─»\n",
              "           ░            ░ └───┘      ░       ░       ░       ░       ░  ║  ║ »\n",
              "c: 3/═══════════════════════════════════════════════════════════════════╩══╩═»\n",
              "                                                                        2  1 »\n",
              "«        \n",
              "«a_0: ───\n",
              "«        \n",
              "«a_1: ───\n",
              "«        \n",
              "«b_0: ───\n",
              "«        \n",
              "«b_1: ───\n",
              "«        \n",
              "« s0: ───\n",
              "«        \n",
              "« s1: ───\n",
              "«     ┌─┐\n",
              "« s2: ┤M├\n",
              "«     └╥┘\n",
              "«c: 3/═╩═\n",
              "«      0 "
            ],
            "text/html": [
              "<pre style=\"word-wrap: normal;white-space: pre;background: #fff0;line-height: 1.1;font-family: &quot;Courier New&quot;,Courier,monospace\">           ░            ░            ░       ░       ░       ░       ░       »\n",
              "a_0: ──────░───■────────░────────────░───■───░───────░───────░───────░───────»\n",
              "     ┌───┐ ░   │        ░            ░   │   ░       ░       ░       ░       »\n",
              "a_1: ┤ X ├─░───┼────────░───■────────░───┼───░───■───░───────░───────░───────»\n",
              "     └───┘ ░   │        ░   │        ░   │   ░   │   ░       ░       ░       »\n",
              "b_0: ──────░───■────────░───┼────────░───┼───░───┼───░───■───░───────░───────»\n",
              "           ░   │        ░   │        ░   │   ░   │   ░   │   ░       ░       »\n",
              "b_1: ──────░───┼────────░───■────────░───┼───░───┼───░───┼───░───■───░───────»\n",
              "           ░ ┌─┴─┐┌───┐ ░   │        ░ ┌─┴─┐ ░   │   ░ ┌─┴─┐ ░   │   ░ ┌─┐   »\n",
              " s0: ──────░─┤ X ├┤ X ├─░───┼────────░─┤ X ├─░───┼───░─┤ X ├─░───┼───░─┤M├───»\n",
              "           ░ ├───┤└───┘ ░ ┌─┴─┐┌───┐ ░ └───┘ ░ ┌─┴─┐ ░ └───┘ ░ ┌─┴─┐ ░ └╥┘┌─┐»\n",
              " s1: ──────░─┤ X ├──────░─┤ X ├┤ X ├─░───────░─┤ X ├─░───────░─┤ X ├─░──╫─┤M├»\n",
              "           ░ └───┘      ░ ├───┤└───┘ ░       ░ └───┘ ░       ░ └───┘ ░  ║ └╥┘»\n",
              " s2: ──────░────────────░─┤ X ├──────░───────░───────░───────░───────░──╫──╫─»\n",
              "           ░            ░ └───┘      ░       ░       ░       ░       ░  ║  ║ »\n",
              "c: 3/═══════════════════════════════════════════════════════════════════╩══╩═»\n",
              "                                                                        2  1 »\n",
              "«        \n",
              "«a_0: ───\n",
              "«        \n",
              "«a_1: ───\n",
              "«        \n",
              "«b_0: ───\n",
              "«        \n",
              "«b_1: ───\n",
              "«        \n",
              "« s0: ───\n",
              "«        \n",
              "« s1: ───\n",
              "«     ┌─┐\n",
              "« s2: ┤M├\n",
              "«     └╥┘\n",
              "«c: 3/═╩═\n",
              "«      0 </pre>"
            ]
          },
          "metadata": {},
          "execution_count": 198
        }
      ]
    },
    {
      "cell_type": "code",
      "source": [
        "# Ejecutar el circuito en el simulador de Qiskit\n",
        "backend = Aer.get_backend('qasm_simulator')\n",
        "job = execute(a, backend, shots=1024)\n",
        "result = job.result()\n",
        "\n",
        "# Obtener los conteos de resultados de la ejecución del circuito\n",
        "counts = result.get_counts(a)\n",
        "\n",
        "# Imprimir los resultados\n",
        "print(counts)"
      ],
      "metadata": {
        "colab": {
          "base_uri": "https://localhost:8080/"
        },
        "id": "DQPXhD28aPVj",
        "outputId": "7254326c-80a4-4a5f-bfd8-dd68cec71299"
      },
      "execution_count": 199,
      "outputs": [
        {
          "output_type": "stream",
          "name": "stdout",
          "text": [
            "{'111': 1024}\n"
          ]
        }
      ]
    }
  ]
}
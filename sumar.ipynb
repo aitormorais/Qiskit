{
  "nbformat": 4,
  "nbformat_minor": 0,
  "metadata": {
    "colab": {
      "provenance": [],
      "authorship_tag": "ABX9TyN8OAnJl+35T0qMCKdTdlD1",
      "include_colab_link": true
    },
    "kernelspec": {
      "name": "python3",
      "display_name": "Python 3"
    },
    "language_info": {
      "name": "python"
    }
  },
  "cells": [
    {
      "cell_type": "markdown",
      "metadata": {
        "id": "view-in-github",
        "colab_type": "text"
      },
      "source": [
        "<a href=\"https://colab.research.google.com/github/aitormorais/Qiskit/blob/main/sumar.ipynb\" target=\"_parent\"><img src=\"https://colab.research.google.com/assets/colab-badge.svg\" alt=\"Open In Colab\"/></a>"
      ]
    },
    {
      "cell_type": "code",
      "execution_count": 1,
      "metadata": {
        "colab": {
          "base_uri": "https://localhost:8080/"
        },
        "id": "jL7Vr6U2PHKs",
        "outputId": "85ad4e5c-da06-4dbd-b295-1ca6324c5436"
      },
      "outputs": [
        {
          "output_type": "stream",
          "name": "stdout",
          "text": [
            "Looking in indexes: https://pypi.org/simple, https://us-python.pkg.dev/colab-wheels/public/simple/\n",
            "Collecting qiskit\n",
            "  Downloading qiskit-0.42.1.tar.gz (14 kB)\n",
            "  Preparing metadata (setup.py) ... \u001b[?25l\u001b[?25hdone\n",
            "Collecting qiskit-terra==0.23.3\n",
            "  Downloading qiskit_terra-0.23.3-cp39-cp39-manylinux_2_17_x86_64.manylinux2014_x86_64.whl (5.1 MB)\n",
            "\u001b[2K     \u001b[90m━━━━━━━━━━━━━━━━━━━━━━━━━━━━━━━━━━━━━━━━\u001b[0m \u001b[32m5.1/5.1 MB\u001b[0m \u001b[31m41.5 MB/s\u001b[0m eta \u001b[36m0:00:00\u001b[0m\n",
            "\u001b[?25hCollecting qiskit-aer==0.12.0\n",
            "  Downloading qiskit_aer-0.12.0-cp39-cp39-manylinux_2_17_x86_64.manylinux2014_x86_64.whl (12.8 MB)\n",
            "\u001b[2K     \u001b[90m━━━━━━━━━━━━━━━━━━━━━━━━━━━━━━━━━━━━━━━━\u001b[0m \u001b[32m12.8/12.8 MB\u001b[0m \u001b[31m41.8 MB/s\u001b[0m eta \u001b[36m0:00:00\u001b[0m\n",
            "\u001b[?25hCollecting qiskit-ibmq-provider==0.20.2\n",
            "  Downloading qiskit_ibmq_provider-0.20.2-py3-none-any.whl (241 kB)\n",
            "\u001b[2K     \u001b[90m━━━━━━━━━━━━━━━━━━━━━━━━━━━━━━━━━━━━━━\u001b[0m \u001b[32m241.5/241.5 kB\u001b[0m \u001b[31m21.5 MB/s\u001b[0m eta \u001b[36m0:00:00\u001b[0m\n",
            "\u001b[?25hRequirement already satisfied: scipy>=1.0 in /usr/local/lib/python3.9/dist-packages (from qiskit-aer==0.12.0->qiskit) (1.10.1)\n",
            "Requirement already satisfied: numpy>=1.16.3 in /usr/local/lib/python3.9/dist-packages (from qiskit-aer==0.12.0->qiskit) (1.22.4)\n",
            "Requirement already satisfied: websocket-client>=1.5.1 in /usr/local/lib/python3.9/dist-packages (from qiskit-ibmq-provider==0.20.2->qiskit) (1.5.1)\n",
            "Requirement already satisfied: requests>=2.19 in /usr/local/lib/python3.9/dist-packages (from qiskit-ibmq-provider==0.20.2->qiskit) (2.27.1)\n",
            "Requirement already satisfied: urllib3>=1.21.1 in /usr/local/lib/python3.9/dist-packages (from qiskit-ibmq-provider==0.20.2->qiskit) (1.26.15)\n",
            "Requirement already satisfied: python-dateutil>=2.8.0 in /usr/local/lib/python3.9/dist-packages (from qiskit-ibmq-provider==0.20.2->qiskit) (2.8.2)\n",
            "Collecting requests-ntlm<=1.1.0\n",
            "  Downloading requests_ntlm-1.1.0-py2.py3-none-any.whl (5.7 kB)\n",
            "Collecting websockets>=10.0\n",
            "  Downloading websockets-11.0.1-cp39-cp39-manylinux_2_5_x86_64.manylinux1_x86_64.manylinux_2_17_x86_64.manylinux2014_x86_64.whl (129 kB)\n",
            "\u001b[2K     \u001b[90m━━━━━━━━━━━━━━━━━━━━━━━━━━━━━━━━━━━━━━━\u001b[0m \u001b[32m129.5/129.5 kB\u001b[0m \u001b[31m6.6 MB/s\u001b[0m eta \u001b[36m0:00:00\u001b[0m\n",
            "\u001b[?25hCollecting dill>=0.3\n",
            "  Downloading dill-0.3.6-py3-none-any.whl (110 kB)\n",
            "\u001b[2K     \u001b[90m━━━━━━━━━━━━━━━━━━━━━━━━━━━━━━━━━━━━━━━\u001b[0m \u001b[32m110.5/110.5 kB\u001b[0m \u001b[31m4.3 MB/s\u001b[0m eta \u001b[36m0:00:00\u001b[0m\n",
            "\u001b[?25hRequirement already satisfied: psutil>=5 in /usr/local/lib/python3.9/dist-packages (from qiskit-terra==0.23.3->qiskit) (5.9.4)\n",
            "Requirement already satisfied: sympy>=1.3 in /usr/local/lib/python3.9/dist-packages (from qiskit-terra==0.23.3->qiskit) (1.11.1)\n",
            "Collecting ply>=3.10\n",
            "  Downloading ply-3.11-py2.py3-none-any.whl (49 kB)\n",
            "\u001b[2K     \u001b[90m━━━━━━━━━━━━━━━━━━━━━━━━━━━━━━━━━━━━━━━━\u001b[0m \u001b[32m49.6/49.6 kB\u001b[0m \u001b[31m3.9 MB/s\u001b[0m eta \u001b[36m0:00:00\u001b[0m\n",
            "\u001b[?25hCollecting rustworkx>=0.12.0\n",
            "  Downloading rustworkx-0.12.1-cp39-cp39-manylinux_2_17_x86_64.manylinux2014_x86_64.whl (1.9 MB)\n",
            "\u001b[2K     \u001b[90m━━━━━━━━━━━━━━━━━━━━━━━━━━━━━━━━━━━━━━━━\u001b[0m \u001b[32m1.9/1.9 MB\u001b[0m \u001b[31m45.2 MB/s\u001b[0m eta \u001b[36m0:00:00\u001b[0m\n",
            "\u001b[?25hCollecting symengine>=0.9\n",
            "  Downloading symengine-0.10.0-cp39-cp39-manylinux_2_12_x86_64.manylinux2010_x86_64.whl (37.5 MB)\n",
            "\u001b[2K     \u001b[90m━━━━━━━━━━━━━━━━━━━━━━━━━━━━━━━━━━━━━━━━\u001b[0m \u001b[32m37.5/37.5 MB\u001b[0m \u001b[31m15.1 MB/s\u001b[0m eta \u001b[36m0:00:00\u001b[0m\n",
            "\u001b[?25hCollecting stevedore>=3.0.0\n",
            "  Downloading stevedore-5.0.0-py3-none-any.whl (49 kB)\n",
            "\u001b[2K     \u001b[90m━━━━━━━━━━━━━━━━━━━━━━━━━━━━━━━━━━━━━━━━\u001b[0m \u001b[32m49.6/49.6 kB\u001b[0m \u001b[31m3.2 MB/s\u001b[0m eta \u001b[36m0:00:00\u001b[0m\n",
            "\u001b[?25hRequirement already satisfied: six>=1.5 in /usr/local/lib/python3.9/dist-packages (from python-dateutil>=2.8.0->qiskit-ibmq-provider==0.20.2->qiskit) (1.16.0)\n",
            "Requirement already satisfied: charset-normalizer~=2.0.0 in /usr/local/lib/python3.9/dist-packages (from requests>=2.19->qiskit-ibmq-provider==0.20.2->qiskit) (2.0.12)\n",
            "Requirement already satisfied: certifi>=2017.4.17 in /usr/local/lib/python3.9/dist-packages (from requests>=2.19->qiskit-ibmq-provider==0.20.2->qiskit) (2022.12.7)\n",
            "Requirement already satisfied: idna<4,>=2.5 in /usr/local/lib/python3.9/dist-packages (from requests>=2.19->qiskit-ibmq-provider==0.20.2->qiskit) (3.4)\n",
            "Requirement already satisfied: cryptography>=1.3 in /usr/local/lib/python3.9/dist-packages (from requests-ntlm<=1.1.0->qiskit-ibmq-provider==0.20.2->qiskit) (40.0.1)\n",
            "Collecting ntlm-auth>=1.0.2\n",
            "  Downloading ntlm_auth-1.5.0-py2.py3-none-any.whl (29 kB)\n",
            "Collecting pbr!=2.1.0,>=2.0.0\n",
            "  Downloading pbr-5.11.1-py2.py3-none-any.whl (112 kB)\n",
            "\u001b[2K     \u001b[90m━━━━━━━━━━━━━━━━━━━━━━━━━━━━━━━━━━━━━━━\u001b[0m \u001b[32m112.7/112.7 kB\u001b[0m \u001b[31m8.4 MB/s\u001b[0m eta \u001b[36m0:00:00\u001b[0m\n",
            "\u001b[?25hRequirement already satisfied: mpmath>=0.19 in /usr/local/lib/python3.9/dist-packages (from sympy>=1.3->qiskit-terra==0.23.3->qiskit) (1.3.0)\n",
            "Requirement already satisfied: cffi>=1.12 in /usr/local/lib/python3.9/dist-packages (from cryptography>=1.3->requests-ntlm<=1.1.0->qiskit-ibmq-provider==0.20.2->qiskit) (1.15.1)\n",
            "Requirement already satisfied: pycparser in /usr/local/lib/python3.9/dist-packages (from cffi>=1.12->cryptography>=1.3->requests-ntlm<=1.1.0->qiskit-ibmq-provider==0.20.2->qiskit) (2.21)\n",
            "Building wheels for collected packages: qiskit\n",
            "  Building wheel for qiskit (setup.py) ... \u001b[?25l\u001b[?25hdone\n",
            "  Created wheel for qiskit: filename=qiskit-0.42.1-py3-none-any.whl size=12938 sha256=a249c7971c5c3c91db2c78d14fde4b43321740e9b629144725f5150e7007d8f1\n",
            "  Stored in directory: /root/.cache/pip/wheels/40/64/74/29c046bda04fd60f3f6b2e244fa85b70f219e363fc3373f541\n",
            "Successfully built qiskit\n",
            "Installing collected packages: ply, websockets, symengine, rustworkx, pbr, ntlm-auth, dill, stevedore, requests-ntlm, qiskit-terra, qiskit-ibmq-provider, qiskit-aer, qiskit\n",
            "Successfully installed dill-0.3.6 ntlm-auth-1.5.0 pbr-5.11.1 ply-3.11 qiskit-0.42.1 qiskit-aer-0.12.0 qiskit-ibmq-provider-0.20.2 qiskit-terra-0.23.3 requests-ntlm-1.1.0 rustworkx-0.12.1 stevedore-5.0.0 symengine-0.10.0 websockets-11.0.1\n"
          ]
        }
      ],
      "source": [
        "pip install qiskit"
      ]
    },
    {
      "cell_type": "code",
      "source": [
        "# initialization\n",
        "import matplotlib.pyplot as plt\n",
        "import numpy as np\n",
        "\n",
        "# importing Qiskit\n",
        "from qiskit import IBMQ, Aer\n",
        "from qiskit.providers.ibmq import least_busy\n",
        "from qiskit import QuantumCircuit, ClassicalRegister, QuantumRegister, transpile, assemble,execute\n",
        "\n",
        "# import basic plot tools\n",
        "from qiskit.visualization import plot_histogram"
      ],
      "metadata": {
        "id": "jfqY1Hy4PKdp"
      },
      "execution_count": 2,
      "outputs": []
    },
    {
      "cell_type": "code",
      "source": [
        "\n",
        "\n",
        "def sumar():\n",
        "    a = QuantumRegister(2, 'a')\n",
        "    b = QuantumRegister(2, 'b')\n",
        "    s = QuantumRegister(3, 's')\n",
        "    c = ClassicalRegister(3, 'c')\n",
        "    ci = QuantumCircuit(a, b, s, c)\n",
        "\n",
        "    # Aquí se crean los números binarios a sumar\n",
        "    ci.x(0)\n",
        "    #ci.x(1)\n",
        "    ci.x(2)\n",
        "    ci.x(3)\n",
        "    \n",
        "\n",
        "    # Al final barrier para visualizar\n",
        "    ci.barrier()\n",
        "\n",
        "    # Empezamos con las puertas\n",
        "    ci.ccx(a[0], b[0], s[1])\n",
        "    ci.barrier()\n",
        "    ci.ccx(a[1], b[1], s[2])\n",
        "    ci.barrier()\n",
        "    ci.cx(a[0], s[0])\n",
        "    ci.barrier()\n",
        "    ci.cx(b[0], s[0])\n",
        "    ci.barrier()\n",
        "    ci.cx(a[1], s[1])\n",
        "    ci.barrier()\n",
        "    ci.cx(b[1], s[1])\n",
        "    ci.barrier()\n",
        "    ci.ccx(a[0], b[0], s[0])\n",
        "    ci.ccx(a[1], s[0], s[2])\n",
        "    ci.ccx(a[0], b[0], s[0])\n",
        "    ci.barrier()\n",
        "    ci.ccx(a[0], b[0], s[0])\n",
        "    ci.ccx(b[1], s[0], s[2])\n",
        "    ci.ccx(a[0], b[0], s[0])\n",
        "    ci.barrier()\n",
        "\n",
        "    # Medir los qubits de suma\n",
        "    ci.measure(s[0], 0)\n",
        "    ci.measure(s[1], 1)\n",
        "    ci.measure(s[2], 2)\n",
        "\n",
        "    return ci\n"
      ],
      "metadata": {
        "id": "7pn_kvtScw20"
      },
      "execution_count": 103,
      "outputs": []
    },
    {
      "cell_type": "code",
      "source": [
        "a=sumar()"
      ],
      "metadata": {
        "id": "RdTlnzhrI56L"
      },
      "execution_count": 104,
      "outputs": []
    },
    {
      "cell_type": "code",
      "source": [
        "a.draw()"
      ],
      "metadata": {
        "id": "nbM6yW_UI8Si",
        "outputId": "c2034790-3f80-42e6-b9d8-196db2127858",
        "colab": {
          "base_uri": "https://localhost:8080/",
          "height": 540
        }
      },
      "execution_count": 105,
      "outputs": [
        {
          "output_type": "execute_result",
          "data": {
            "text/plain": [
              "     ┌───┐ ░       ░       ░       ░       ░       ░       ░                 ░ »\n",
              "a_0: ┤ X ├─░───■───░───────░───■───░───────░───────░───────░───■─────────■───░─»\n",
              "     └───┘ ░   │   ░       ░   │   ░       ░       ░       ░   │         │   ░ »\n",
              "a_1: ──────░───┼───░───■───░───┼───░───────░───■───░───────░───┼────■────┼───░─»\n",
              "     ┌───┐ ░   │   ░   │   ░   │   ░       ░   │   ░       ░   │    │    │   ░ »\n",
              "b_0: ┤ X ├─░───■───░───┼───░───┼───░───■───░───┼───░───────░───■────┼────■───░─»\n",
              "     ├───┤ ░   │   ░   │   ░   │   ░   │   ░   │   ░       ░   │    │    │   ░ »\n",
              "b_1: ┤ X ├─░───┼───░───■───░───┼───░───┼───░───┼───░───■───░───┼────┼────┼───░─»\n",
              "     └───┘ ░   │   ░   │   ░ ┌─┴─┐ ░ ┌─┴─┐ ░   │   ░   │   ░ ┌─┴─┐  │  ┌─┴─┐ ░ »\n",
              "s_0: ──────░───┼───░───┼───░─┤ X ├─░─┤ X ├─░───┼───░───┼───░─┤ X ├──■──┤ X ├─░─»\n",
              "           ░ ┌─┴─┐ ░   │   ░ └───┘ ░ └───┘ ░ ┌─┴─┐ ░ ┌─┴─┐ ░ └───┘  │  └───┘ ░ »\n",
              "s_1: ──────░─┤ X ├─░───┼───░───────░───────░─┤ X ├─░─┤ X ├─░────────┼────────░─»\n",
              "           ░ └───┘ ░ ┌─┴─┐ ░       ░       ░ └───┘ ░ └───┘ ░      ┌─┴─┐      ░ »\n",
              "s_2: ──────░───────░─┤ X ├─░───────░───────░───────░───────░──────┤ X ├──────░─»\n",
              "           ░       ░ └───┘ ░       ░       ░       ░       ░      └───┘      ░ »\n",
              "c: 3/══════════════════════════════════════════════════════════════════════════»\n",
              "                                                                               »\n",
              "«                     ░          \n",
              "«a_0: ──■─────────■───░──────────\n",
              "«       │         │   ░          \n",
              "«a_1: ──┼─────────┼───░──────────\n",
              "«       │         │   ░          \n",
              "«b_0: ──■─────────■───░──────────\n",
              "«       │         │   ░          \n",
              "«b_1: ──┼────■────┼───░──────────\n",
              "«     ┌─┴─┐  │  ┌─┴─┐ ░ ┌─┐      \n",
              "«s_0: ┤ X ├──■──┤ X ├─░─┤M├──────\n",
              "«     └───┘  │  └───┘ ░ └╥┘┌─┐   \n",
              "«s_1: ───────┼────────░──╫─┤M├───\n",
              "«          ┌─┴─┐      ░  ║ └╥┘┌─┐\n",
              "«s_2: ─────┤ X ├──────░──╫──╫─┤M├\n",
              "«          └───┘      ░  ║  ║ └╥┘\n",
              "«c: 3/═══════════════════╩══╩══╩═\n",
              "«                        0  1  2 "
            ],
            "text/html": [
              "<pre style=\"word-wrap: normal;white-space: pre;background: #fff0;line-height: 1.1;font-family: &quot;Courier New&quot;,Courier,monospace\">     ┌───┐ ░       ░       ░       ░       ░       ░       ░                 ░ »\n",
              "a_0: ┤ X ├─░───■───░───────░───■───░───────░───────░───────░───■─────────■───░─»\n",
              "     └───┘ ░   │   ░       ░   │   ░       ░       ░       ░   │         │   ░ »\n",
              "a_1: ──────░───┼───░───■───░───┼───░───────░───■───░───────░───┼────■────┼───░─»\n",
              "     ┌───┐ ░   │   ░   │   ░   │   ░       ░   │   ░       ░   │    │    │   ░ »\n",
              "b_0: ┤ X ├─░───■───░───┼───░───┼───░───■───░───┼───░───────░───■────┼────■───░─»\n",
              "     ├───┤ ░   │   ░   │   ░   │   ░   │   ░   │   ░       ░   │    │    │   ░ »\n",
              "b_1: ┤ X ├─░───┼───░───■───░───┼───░───┼───░───┼───░───■───░───┼────┼────┼───░─»\n",
              "     └───┘ ░   │   ░   │   ░ ┌─┴─┐ ░ ┌─┴─┐ ░   │   ░   │   ░ ┌─┴─┐  │  ┌─┴─┐ ░ »\n",
              "s_0: ──────░───┼───░───┼───░─┤ X ├─░─┤ X ├─░───┼───░───┼───░─┤ X ├──■──┤ X ├─░─»\n",
              "           ░ ┌─┴─┐ ░   │   ░ └───┘ ░ └───┘ ░ ┌─┴─┐ ░ ┌─┴─┐ ░ └───┘  │  └───┘ ░ »\n",
              "s_1: ──────░─┤ X ├─░───┼───░───────░───────░─┤ X ├─░─┤ X ├─░────────┼────────░─»\n",
              "           ░ └───┘ ░ ┌─┴─┐ ░       ░       ░ └───┘ ░ └───┘ ░      ┌─┴─┐      ░ »\n",
              "s_2: ──────░───────░─┤ X ├─░───────░───────░───────░───────░──────┤ X ├──────░─»\n",
              "           ░       ░ └───┘ ░       ░       ░       ░       ░      └───┘      ░ »\n",
              "c: 3/══════════════════════════════════════════════════════════════════════════»\n",
              "                                                                               »\n",
              "«                     ░          \n",
              "«a_0: ──■─────────■───░──────────\n",
              "«       │         │   ░          \n",
              "«a_1: ──┼─────────┼───░──────────\n",
              "«       │         │   ░          \n",
              "«b_0: ──■─────────■───░──────────\n",
              "«       │         │   ░          \n",
              "«b_1: ──┼────■────┼───░──────────\n",
              "«     ┌─┴─┐  │  ┌─┴─┐ ░ ┌─┐      \n",
              "«s_0: ┤ X ├──■──┤ X ├─░─┤M├──────\n",
              "«     └───┘  │  └───┘ ░ └╥┘┌─┐   \n",
              "«s_1: ───────┼────────░──╫─┤M├───\n",
              "«          ┌─┴─┐      ░  ║ └╥┘┌─┐\n",
              "«s_2: ─────┤ X ├──────░──╫──╫─┤M├\n",
              "«          └───┘      ░  ║  ║ └╥┘\n",
              "«c: 3/═══════════════════╩══╩══╩═\n",
              "«                        0  1  2 </pre>"
            ]
          },
          "metadata": {},
          "execution_count": 105
        }
      ]
    },
    {
      "cell_type": "code",
      "source": [
        "# Ejecutar el circuito en el simulador de Qiskit\n",
        "backend = Aer.get_backend('qasm_simulator')\n",
        "job = execute(a, backend, shots=1024)\n",
        "result = job.result()\n",
        "\n",
        "# Obtener los conteos de resultados de la ejecución del circuito\n",
        "counts = result.get_counts(a)\n",
        "\n",
        "# Imprimir los resultados\n",
        "print(counts)"
      ],
      "metadata": {
        "id": "Hb1IMhRNJYka",
        "outputId": "eeda2870-6290-4604-b0f6-aed9c4569d4c",
        "colab": {
          "base_uri": "https://localhost:8080/"
        }
      },
      "execution_count": 106,
      "outputs": [
        {
          "output_type": "stream",
          "name": "stdout",
          "text": [
            "{'100': 1024}\n"
          ]
        }
      ]
    },
    {
      "cell_type": "code",
      "source": [
        "for i in counts:\n",
        "  print(int(i, 2))"
      ],
      "metadata": {
        "id": "71OQpsuVd2vE",
        "outputId": "f7c71fbd-c48d-4e9b-d9fd-ffe6b1add95b",
        "colab": {
          "base_uri": "https://localhost:8080/"
        }
      },
      "execution_count": 108,
      "outputs": [
        {
          "output_type": "stream",
          "name": "stdout",
          "text": [
            "4\n"
          ]
        }
      ]
    }
  ]
}
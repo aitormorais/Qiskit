{
  "nbformat": 4,
  "nbformat_minor": 0,
  "metadata": {
    "colab": {
      "provenance": [],
      "authorship_tag": "ABX9TyNxv9EiI9oSykohd4Q2yKdS",
      "include_colab_link": true
    },
    "kernelspec": {
      "name": "python3",
      "display_name": "Python 3"
    },
    "language_info": {
      "name": "python"
    }
  },
  "cells": [
    {
      "cell_type": "markdown",
      "metadata": {
        "id": "view-in-github",
        "colab_type": "text"
      },
      "source": [
        "<a href=\"https://colab.research.google.com/github/aitormorais/Qiskit/blob/main/Algoritmo_genetico_tsp.ipynb\" target=\"_parent\"><img src=\"https://colab.research.google.com/assets/colab-badge.svg\" alt=\"Open In Colab\"/></a>"
      ]
    },
    {
      "cell_type": "code",
      "execution_count": null,
      "metadata": {
        "id": "PtIdj8CQgGme"
      },
      "outputs": [],
      "source": [
        "import random\n",
        "import networkx as nx\n",
        "import matplotlib.pyplot as plt\n",
        "import itertools\n",
        "import numpy as np\n",
        "import time"
      ]
    },
    {
      "cell_type": "code",
      "source": [
        "def generar_grafo(numero_ciudades):\n",
        "  n = numero_ciudades # número de nodos\n",
        "  G = nx.complete_graph(n) # grafo completo\n",
        "  for (u, v) in G.edges():\n",
        "      G.edges[u, v]['distancia'] = random.randint(1, 10) # peso aleatorio en la arista\n",
        "  #if dibujar:# Dibujar el grafo\n",
        "  pos = nx.circular_layout(G) # posición de los nodos en un círculo\n",
        "  nx.draw(G, pos, with_labels=True) # dibujar el grafo con etiquetas de nodos\n",
        "  labels = nx.get_edge_attributes(G, 'distancia') # obtener los pesos de las aristas\n",
        "  nx.draw_networkx_edge_labels(G, pos, edge_labels=labels) # dibujar los pesos de las aristas\n",
        "  return G,labels"
      ],
      "metadata": {
        "id": "7RPgVmrLgT5a"
      },
      "execution_count": null,
      "outputs": []
    },
    {
      "cell_type": "code",
      "source": [
        "def crear_poblacion(numero_ciudades):\n",
        "  viajes = []\n",
        "  for i in range(numero_ciudades):\n",
        "    viaje = list(range(numero_ciudades))\n",
        "    random.shuffle(viaje)\n",
        "    viajes.append(viaje)\n",
        "  return viajes"
      ],
      "metadata": {
        "id": "qY5KM00PgWVQ"
      },
      "execution_count": null,
      "outputs": []
    },
    {
      "cell_type": "markdown",
      "source": [
        "obtener la distancia total del recorrido\n"
      ],
      "metadata": {
        "id": "hQ7f6zY1gcS5"
      }
    },
    {
      "cell_type": "code",
      "source": [
        "def distancia_entera(viaje,labels):\n",
        "  suma = 0\n",
        "  for pueblo in viaje:\n",
        "    if pueblo == viaje[-1]:\n",
        "      clave = (viaje[0],pueblo) if pueblo > viaje[0] else (pueblo,viaje[0])\n",
        "      suma = suma +labels.get(clave, None)\n",
        "    else:\n",
        "      siguiente= viaje[viaje.index(pueblo)+1]\n",
        "      clave = (pueblo,siguiente ) if siguiente > pueblo else (siguiente,pueblo)\n",
        "      suma = suma +labels.get(clave, None)\n",
        "  return suma\n"
      ],
      "metadata": {
        "id": "mO3Mb15lgZ25"
      },
      "execution_count": null,
      "outputs": []
    },
    {
      "cell_type": "markdown",
      "source": [
        "Almacenar distancia en un array"
      ],
      "metadata": {
        "id": "aYBL8-BrgiQd"
      }
    },
    {
      "cell_type": "code",
      "source": [
        "def almacenar_dist(viajes,labels):\n",
        "  recorridos=[]\n",
        "  for v in viajes:\n",
        "    recorridos.append(distancia_entera(v,labels))\n",
        "  return recorridos"
      ],
      "metadata": {
        "id": "cBZXe4T5gh8l"
      },
      "execution_count": null,
      "outputs": []
    },
    {
      "cell_type": "markdown",
      "source": [
        "Cruce"
      ],
      "metadata": {
        "id": "KOZuTRnEgoSQ"
      }
    },
    {
      "cell_type": "code",
      "source": [
        "def crucePMX(padre1,padre2):\n",
        "    # generamos los puntos de corte aleatorios\n",
        "    primero = random.randint(0, len(padre2)-2)\n",
        "    segundo = random.randint(primero+1, len(padre2)-1)\n",
        "    # creamos los bloques de los padres\n",
        "    bloque_padre2 = padre2[primero:segundo]\n",
        "    # creamos los hijos\n",
        "    hijo1 = crear_hijo(padre1, padre2, bloque_padre2)\n",
        "    return hijo1\n",
        "  "
      ],
      "metadata": {
        "id": "XUKsHQ22goEV"
      },
      "execution_count": null,
      "outputs": []
    },
    {
      "cell_type": "code",
      "source": [
        "def crear_hijo(padre1, padre2, bloque_padre):\n",
        "    # creamos el hijo\n",
        "    padre1=list(padre1)\n",
        "    hijo = [-1] * len(padre1)\n",
        "    donde=bloque_padre[0]\n",
        "    part1=padre1[:padre2.index(donde)]\n",
        "    donde = bloque_padre[-1]\n",
        "    part2=padre1[padre2.index(donde)+1:]\n",
        "    pfinal=[]\n",
        "    pinicio=[]\n",
        "    for numero in part1:\n",
        "      i = numero\n",
        "      while i in bloque_padre:\n",
        "        i = padre1[padre2.index(i)]\n",
        "      pinicio.append(i)\n",
        "    for numero in part2:\n",
        "      i = numero\n",
        "      while i in bloque_padre:\n",
        "        i = padre1[padre2.index(i)]\n",
        "      pfinal.append(i)  \n",
        "    hijo=pinicio+bloque_padre+pfinal\n",
        "    return hijo\n"
      ],
      "metadata": {
        "id": "JJznzBaugsys"
      },
      "execution_count": null,
      "outputs": []
    },
    {
      "cell_type": "markdown",
      "source": [
        "Mutacion\n"
      ],
      "metadata": {
        "id": "XQ8gNTkakgmI"
      }
    },
    {
      "cell_type": "code",
      "source": [
        "def swap_mutation(viaje):\n",
        "    # seleccionar aleatoriamente dos posiciones distintas del individual\n",
        "  pos1, pos2 = random.sample(range(len(viaje)), 2)\n",
        "      # intercambiar los valores en esas posiciones\n",
        "  viaje[pos1], viaje[pos2] = viaje[pos2], viaje[pos1]\n",
        "  return viaje"
      ],
      "metadata": {
        "id": "EtqOLPckkh6K"
      },
      "execution_count": null,
      "outputs": []
    },
    {
      "cell_type": "markdown",
      "source": [
        "Reemplazo"
      ],
      "metadata": {
        "id": "Tgsdy0W0kmhh"
      }
    },
    {
      "cell_type": "code",
      "source": [
        "def reemplazo_torneo(poblacion, hijo,labels):\n",
        "    # seleccionar aleatoriamente un individuo de la población\n",
        "    indice = random.randint(0, len(poblacion) - 1)\n",
        "    # comparar el individuo con el hijo\n",
        "    if distancia_entera(hijo,labels) < distancia_entera(poblacion[indice],labels):\n",
        "        poblacion[indice] = hijo\n",
        "    return poblacion\n"
      ],
      "metadata": {
        "id": "Dwucj4H4knzy"
      },
      "execution_count": null,
      "outputs": []
    },
    {
      "cell_type": "markdown",
      "source": [
        "Seleccion"
      ],
      "metadata": {
        "id": "kYJJGRg9krP2"
      }
    },
    {
      "cell_type": "code",
      "source": [
        "def seleccion(poblacion,padre1):#una vez la seleccion torneo es hecha esto sirve para seleccionar al segundo padre\n",
        "  lista_hijos=[]\n",
        "  for padre in poblacion:\n",
        "    if padre==padre1:\n",
        "      lista_hijos.append(padre1)\n",
        "      #cruce\n",
        "    lista_hijos.append(crucePMX(padre1,padre))\n",
        "  return lista_hijos\n"
      ],
      "metadata": {
        "id": "6cQSK7ZukxvX"
      },
      "execution_count": null,
      "outputs": []
    },
    {
      "cell_type": "code",
      "source": [
        "def seleccion_torneo(poblacion,labels):\n",
        "  distancia = almacenar_dist(poblacion,labels)\n",
        "  dic=crear_dic_viaje_distancia(poblacion,distancia)\n",
        "  i=0\n",
        "  while i == 0:\n",
        "    for k in dic.keys():\n",
        "      primer_elemento=k\n",
        "      i=1\n",
        "      break \n",
        "  return primer_elemento\n"
      ],
      "metadata": {
        "id": "jBaQ-GoMksvj"
      },
      "execution_count": null,
      "outputs": []
    },
    {
      "cell_type": "code",
      "source": [
        "def crear_dic_viaje_distancia(viajes,distancias):#funcion que crea un diccionario con los viajes y su respectiva distancia\n",
        "  distancias_viajes = {}\n",
        "  for i, viaje in enumerate(viajes):\n",
        "    distancias_viajes[tuple(viaje)] = distancias[i]\n",
        "  return dict(sorted(distancias_viajes.items(), key=lambda x: x[1]))"
      ],
      "metadata": {
        "id": "2BKuKqNqk4gC"
      },
      "execution_count": null,
      "outputs": []
    },
    {
      "cell_type": "markdown",
      "source": [
        "crear dicionario con los mejores rutas de los padres y de los hijo"
      ],
      "metadata": {
        "id": "Yw5Eu8y0k8HF"
      }
    },
    {
      "cell_type": "code",
      "source": [
        "def nueva_mejor_ruta(distancias_viajes_1,distancias_viajes_2):\n",
        "  nuevo_tamano = len(distancias_viajes_1)\n",
        "  n = nuevo_tamano // 2\n",
        "  # Selección de los mejores individuos del primer diccionario\n",
        "  mejores_viajes_1 = list(distancias_viajes_1.keys())[:n]\n",
        "  # Selección de los mejores individuos del segundo diccionario\n",
        "  mejores_viajes_2 = list(distancias_viajes_2.keys())[:n]\n",
        "  # Unión de las dos listas de los mejores individuos\n",
        "  mejores_viajes = set(mejores_viajes_1 + mejores_viajes_2)\n",
        "  # Si la longitud del conjunto de mejores individuos es menor que n, agregar los restantes en orden de aparición\n",
        "  if len(mejores_viajes) < n:\n",
        "      for viaje in list(distancias_viajes_1.keys())[n:]:\n",
        "          if viaje not in mejores_viajes:\n",
        "              mejores_viajes.add(viaje)\n",
        "              if len(mejores_viajes) == n:\n",
        "                  break\n",
        "      for viaje in list(distancias_viajes_2.keys())[n:]:\n",
        "          if viaje not in mejores_viajes:\n",
        "              mejores_viajes.add(viaje)\n",
        "              if len(mejores_viajes) == n*2:\n",
        "                  break\n",
        "\n",
        "  # Crear un nuevo diccionario que contenga solo los mejores individuos y sus distancias\n",
        "  mejores_distancias_viajes = {}\n",
        "  for viaje in mejores_viajes:\n",
        "      if viaje in distancias_viajes_1:\n",
        "          mejores_distancias_viajes[viaje] = distancias_viajes_1[viaje]\n",
        "      else:\n",
        "          mejores_distancias_viajes[viaje] = distancias_viajes_2[viaje]\n",
        "\n",
        "  return mejores_distancias_viajes"
      ],
      "metadata": {
        "id": "Gg6AkIznlAZw"
      },
      "execution_count": null,
      "outputs": []
    },
    {
      "cell_type": "markdown",
      "source": [
        "Algoritmo genetico"
      ],
      "metadata": {
        "id": "Z322GnUWlvYr"
      }
    },
    {
      "cell_type": "code",
      "source": [
        "def algoritmo_genetico(numero_ciudades,probabilidad):\n",
        "  #inicializamos variables\n",
        "  hijos=[]\n",
        "  hijos_dist=[]\n",
        "  padres_dist=[]\n",
        "  distancias_viajes_hijos = {}\n",
        "  distancias_viajes_padres={}\n",
        "  #primer paso: creamos el grafico de las ciudades.\n",
        "  grafo,labels=generar_grafo(numero_ciudades)\n",
        "  #segundo paso creamos los viajes\n",
        "  viajes=crear_poblacion(numero_ciudades)\n",
        "  #establecemos el metodo de parada\n",
        "  i=0\n",
        "  while i<10000:\n",
        "    #seleccion\n",
        "    #primero seleccionaremos el mejor padre del recorrido para asi cruzarlo con el resto de viajes.\n",
        "    padre1=seleccion_torneo(viajes,labels)\n",
        "    #ahora aplicaremos el cruce con cada viaje para generar una lista de hijos\n",
        "    hijos=seleccion(viajes,padre1)\n",
        "    #mutaremos si procede alguno de los hijos\n",
        "    for i in range(len(hijos)):\n",
        "      if random.random()<probabilidad:\n",
        "        hijos[i]=swap_mutation(hijos[i])\n",
        "    for hijo in hijos:\n",
        "      hijos_dist.append(distancia_entera(hijo,labels))\n",
        "    for viaje in viajes:\n",
        "      padres_dist.append(distancia_entera(viaje,labels))    \n",
        "    #vamos a crear un diccionario para almacenar los viajes-con su distancia \n",
        "    distancias_viajes_hijos = crear_dic_viaje_distancia(hijos,hijos_dist)\n",
        "    distancias_viajes_padres= crear_dic_viaje_distancia(viajes,padres_dist)\n",
        "    #con los dos diccionarios creados toca crear uno nuevo con los mejores resultados de cada dic\n",
        "    mejores=nueva_mejor_ruta(distancias_viajes_hijos,distancias_viajes_padres)\n",
        "    #los ordenamos de mejor a peor.\n",
        "    mejores=dict(sorted(mejores.items(), key=lambda x: x[1]))\n",
        "    #ahora tendriamos que suplantar la lista viajes con los mejores viajes y la lista distancias con las mejores distancias\n",
        "    #resetamos las variables\n",
        "    hijos=[]\n",
        "    hijos_dist=[]\n",
        "    padres_dist=[]\n",
        "    distancias_viajes_hijos = {}\n",
        "    distancias_viajes_padres={}\n",
        "    for distancia in mejores.values():\n",
        "      padres_dist.append(distancia)\n",
        "    for ruta in mejores.keys():\n",
        "      viajes.append(list(ruta))\n",
        "    i=i+1\n",
        "  return viajes[0],padres_dist[0]\n",
        "\n",
        "\n",
        "\n",
        "    \n",
        "    \n",
        "\n"
      ],
      "metadata": {
        "id": "Nk3SvQE_lDAe"
      },
      "execution_count": null,
      "outputs": []
    },
    {
      "cell_type": "code",
      "source": [
        "# @title Parámetros del algoritmo\n",
        "numero_ciudades = 6  #@param {type:\"integer\"}\n",
        "probabilidad = 0.89 #@param {type:\"number\", min:0, max:1, step:\"0.01\"}\n"
      ],
      "metadata": {
        "id": "ONe3pM2PlHKG"
      },
      "execution_count": null,
      "outputs": []
    },
    {
      "cell_type": "code",
      "source": [
        "viaje,distancia=algoritmo_genetico(numero_ciudades,probabilidad)"
      ],
      "metadata": {
        "colab": {
          "base_uri": "https://localhost:8080/",
          "height": 319
        },
        "id": "LgL2Pideltp7",
        "outputId": "569cb825-af44-4c60-dd77-74e87fb06520"
      },
      "execution_count": null,
      "outputs": [
        {
          "output_type": "display_data",
          "data": {
            "text/plain": [
              "<Figure size 432x288 with 1 Axes>"
            ],
            "image/png": "[encoded data removed]"
          },
          "metadata": {}
        }
      ]
    },
    {
      "cell_type": "code",
      "source": [
        "viaje"
      ],
      "metadata": {
        "colab": {
          "base_uri": "https://localhost:8080/"
        },
        "id": "F4iTrU-1tGsf",
        "outputId": "40bc4fea-603d-49ba-d53f-584c153dc83c"
      },
      "execution_count": null,
      "outputs": [
        {
          "output_type": "execute_result",
          "data": {
            "text/plain": [
              "[3, 2, 0, 5, 1, 4]"
            ]
          },
          "metadata": {},
          "execution_count": 62
        }
      ]
    },
    {
      "cell_type": "code",
      "source": [
        "distancia"
      ],
      "metadata": {
        "colab": {
          "base_uri": "https://localhost:8080/"
        },
        "id": "VQCBsxXqtGel",
        "outputId": "f17e9cb1-70d7-4e63-bd85-51021ea85191"
      },
      "execution_count": null,
      "outputs": [
        {
          "output_type": "execute_result",
          "data": {
            "text/plain": [
              "14"
            ]
          },
          "metadata": {},
          "execution_count": 63
        }
      ]
    },
    {
      "cell_type": "code",
      "source": [
        "viaje"
      ],
      "metadata": {
        "colab": {
          "base_uri": "https://localhost:8080/"
        },
        "id": "vK35NVGLspkV",
        "outputId": "8a74fd30-80c2-437b-d085-cd825847abdc"
      },
      "execution_count": null,
      "outputs": [
        {
          "output_type": "execute_result",
          "data": {
            "text/plain": [
              "[1, 5, 2, 3, 4, 0]"
            ]
          },
          "metadata": {},
          "execution_count": 49
        }
      ]
    },
    {
      "cell_type": "code",
      "source": [
        "distancia"
      ],
      "metadata": {
        "colab": {
          "base_uri": "https://localhost:8080/"
        },
        "id": "BP8SEOmQtDSX",
        "outputId": "8c4ffc8d-6f78-4879-c088-3de9bdc09449"
      },
      "execution_count": null,
      "outputs": [
        {
          "output_type": "execute_result",
          "data": {
            "text/plain": [
              "18"
            ]
          },
          "metadata": {},
          "execution_count": 50
        }
      ]
    }
  ]
}
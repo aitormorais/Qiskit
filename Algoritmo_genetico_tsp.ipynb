{
  "nbformat": 4,
  "nbformat_minor": 0,
  "metadata": {
    "colab": {
      "provenance": [],
      "authorship_tag": "ABX9TyPeEpKOuVGFL/G8/ohxqNiM",
      "include_colab_link": true
    },
    "kernelspec": {
      "name": "python3",
      "display_name": "Python 3"
    },
    "language_info": {
      "name": "python"
    }
  },
  "cells": [
    {
      "cell_type": "markdown",
      "metadata": {
        "id": "view-in-github",
        "colab_type": "text"
      },
      "source": [
        "<a href=\"https://colab.research.google.com/github/aitormorais/Qiskit/blob/main/Algoritmo_genetico_tsp.ipynb\" target=\"_parent\"><img src=\"https://colab.research.google.com/assets/colab-badge.svg\" alt=\"Open In Colab\"/></a>"
      ]
    },
    {
      "cell_type": "markdown",
      "source": [
        "Para implementar una versión cuántica del algoritmo genético, puedes seguir estos pasos:\n",
        "\n",
        "Familiarízate con la computación cuántica y las bibliotecas de Python:\n",
        "Aprende sobre conceptos básicos de computación cuántica, como qubits, superposición, entrelazamiento y compuertas cuánticas. Para ello, puedes revisar recursos en línea, como el libro \"Quantum Computing for Computer Scientists\" de Noson S. Yanofsky y Mirco A. Mannucci, o el curso \"Quantum Machine Learning\" en el sitio web de Qiskit.\n",
        "\n",
        "Selecciona una biblioteca de Python para la computación cuántica:\n",
        "Existen varias bibliotecas de Python para trabajar con computadoras cuánticas, como Qiskit, Cirq, PennyLane y PyQuil. Investiga las características de cada una y elige la que mejor se adapte a tus necesidades y conocimientos.\n",
        "\n",
        "Diseña el circuito cuántico para la representación del problema:\n",
        "Representa las soluciones del problema del viajante (TSP) utilizando qubits y compuertas cuánticas. Puedes considerar el uso de \"quantum annealing\" o \"QAOA (Quantum Approximate Optimization Algorithm)\" para encontrar soluciones óptimas en un espacio de búsqueda cuántico.\n",
        "\n",
        "Adapta las funciones de cruce, mutación y selección a la versión cuántica:\n",
        "Reescribe las funciones de cruce, mutación y selección utilizando operaciones cuánticas y teniendo en cuenta las propiedades de la computación cuántica, como la superposición y el entrelazamiento.\n",
        "\n",
        "Implementa una función de evaluación cuántica:\n",
        "Crea una función de evaluación cuántica que calcule la calidad de las soluciones utilizando un enfoque cuántico. Para ello, puedes utilizar algoritmos cuánticos de optimización aproximada, como QAOA, para medir la calidad de las soluciones.\n",
        "\n",
        "Ejecuta el algoritmo en un simulador cuántico o en una computadora cuántica real:\n",
        "Ejecuta el algoritmo cuántico en un entorno simulado o en una computadora cuántica real si tienes acceso a través de la biblioteca que hayas elegido en el paso 2.\n",
        "\n",
        "Compara el rendimiento de la versión cuántica con la versión clásica:\n",
        "Analiza los resultados del algoritmo cuántico y compáralos con los del algoritmo genético clásico en términos de calidad de las soluciones y tiempo de ejecución.\n",
        "\n",
        "Ten en cuenta que la computación cuántica todavía está en una etapa temprana, y es posible que no siempre ofrezca mejoras significativas en problemas como el TSP, especialmente para instancias pequeñas. Sin embargo, explorar algoritmos cuánticos puede ser útil para comprender cómo abordar problemas de optimización en el ámbito cuántico y cómo aprovechar las características únicas de la computación cuántica."
      ],
      "metadata": {
        "id": "tQ7FW-gloJn3"
      }
    },
    {
      "cell_type": "code",
      "source": [
        "pip install qiskit"
      ],
      "metadata": {
        "id": "bK-Q6DjyomBD",
        "outputId": "5cde8469-1f22-45fd-df0a-7b9e33486320",
        "colab": {
          "base_uri": "https://localhost:8080/"
        }
      },
      "execution_count": 1,
      "outputs": [
        {
          "output_type": "stream",
          "name": "stdout",
          "text": [
            "Looking in indexes: https://pypi.org/simple, https://us-python.pkg.dev/colab-wheels/public/simple/\n",
            "Requirement already satisfied: qiskit in /usr/local/lib/python3.9/dist-packages (0.42.1)\n",
            "Requirement already satisfied: qiskit-ibmq-provider==0.20.2 in /usr/local/lib/python3.9/dist-packages (from qiskit) (0.20.2)\n",
            "Requirement already satisfied: qiskit-aer==0.12.0 in /usr/local/lib/python3.9/dist-packages (from qiskit) (0.12.0)\n",
            "Requirement already satisfied: qiskit-terra==0.23.3 in /usr/local/lib/python3.9/dist-packages (from qiskit) (0.23.3)\n",
            "Requirement already satisfied: numpy>=1.16.3 in /usr/local/lib/python3.9/dist-packages (from qiskit-aer==0.12.0->qiskit) (1.22.4)\n",
            "Requirement already satisfied: scipy>=1.0 in /usr/local/lib/python3.9/dist-packages (from qiskit-aer==0.12.0->qiskit) (1.10.1)\n",
            "Requirement already satisfied: urllib3>=1.21.1 in /usr/local/lib/python3.9/dist-packages (from qiskit-ibmq-provider==0.20.2->qiskit) (1.26.15)\n",
            "Requirement already satisfied: websockets>=10.0 in /usr/local/lib/python3.9/dist-packages (from qiskit-ibmq-provider==0.20.2->qiskit) (11.0.1)\n",
            "Requirement already satisfied: requests>=2.19 in /usr/local/lib/python3.9/dist-packages (from qiskit-ibmq-provider==0.20.2->qiskit) (2.27.1)\n",
            "Requirement already satisfied: requests-ntlm<=1.1.0 in /usr/local/lib/python3.9/dist-packages (from qiskit-ibmq-provider==0.20.2->qiskit) (1.1.0)\n",
            "Requirement already satisfied: python-dateutil>=2.8.0 in /usr/local/lib/python3.9/dist-packages (from qiskit-ibmq-provider==0.20.2->qiskit) (2.8.2)\n",
            "Requirement already satisfied: websocket-client>=1.5.1 in /usr/local/lib/python3.9/dist-packages (from qiskit-ibmq-provider==0.20.2->qiskit) (1.5.1)\n",
            "Requirement already satisfied: ply>=3.10 in /usr/local/lib/python3.9/dist-packages (from qiskit-terra==0.23.3->qiskit) (3.11)\n",
            "Requirement already satisfied: dill>=0.3 in /usr/local/lib/python3.9/dist-packages (from qiskit-terra==0.23.3->qiskit) (0.3.6)\n",
            "Requirement already satisfied: rustworkx>=0.12.0 in /usr/local/lib/python3.9/dist-packages (from qiskit-terra==0.23.3->qiskit) (0.12.1)\n",
            "Requirement already satisfied: stevedore>=3.0.0 in /usr/local/lib/python3.9/dist-packages (from qiskit-terra==0.23.3->qiskit) (5.0.0)\n",
            "Requirement already satisfied: symengine>=0.9 in /usr/local/lib/python3.9/dist-packages (from qiskit-terra==0.23.3->qiskit) (0.10.0)\n",
            "Requirement already satisfied: sympy>=1.3 in /usr/local/lib/python3.9/dist-packages (from qiskit-terra==0.23.3->qiskit) (1.11.1)\n",
            "Requirement already satisfied: psutil>=5 in /usr/local/lib/python3.9/dist-packages (from qiskit-terra==0.23.3->qiskit) (5.9.4)\n",
            "Requirement already satisfied: six>=1.5 in /usr/local/lib/python3.9/dist-packages (from python-dateutil>=2.8.0->qiskit-ibmq-provider==0.20.2->qiskit) (1.16.0)\n",
            "Requirement already satisfied: idna<4,>=2.5 in /usr/local/lib/python3.9/dist-packages (from requests>=2.19->qiskit-ibmq-provider==0.20.2->qiskit) (3.4)\n",
            "Requirement already satisfied: certifi>=2017.4.17 in /usr/local/lib/python3.9/dist-packages (from requests>=2.19->qiskit-ibmq-provider==0.20.2->qiskit) (2022.12.7)\n",
            "Requirement already satisfied: charset-normalizer~=2.0.0 in /usr/local/lib/python3.9/dist-packages (from requests>=2.19->qiskit-ibmq-provider==0.20.2->qiskit) (2.0.12)\n",
            "Requirement already satisfied: ntlm-auth>=1.0.2 in /usr/local/lib/python3.9/dist-packages (from requests-ntlm<=1.1.0->qiskit-ibmq-provider==0.20.2->qiskit) (1.5.0)\n",
            "Requirement already satisfied: cryptography>=1.3 in /usr/local/lib/python3.9/dist-packages (from requests-ntlm<=1.1.0->qiskit-ibmq-provider==0.20.2->qiskit) (40.0.1)\n",
            "Requirement already satisfied: pbr!=2.1.0,>=2.0.0 in /usr/local/lib/python3.9/dist-packages (from stevedore>=3.0.0->qiskit-terra==0.23.3->qiskit) (5.11.1)\n",
            "Requirement already satisfied: mpmath>=0.19 in /usr/local/lib/python3.9/dist-packages (from sympy>=1.3->qiskit-terra==0.23.3->qiskit) (1.3.0)\n",
            "Requirement already satisfied: cffi>=1.12 in /usr/local/lib/python3.9/dist-packages (from cryptography>=1.3->requests-ntlm<=1.1.0->qiskit-ibmq-provider==0.20.2->qiskit) (1.15.1)\n",
            "Requirement already satisfied: pycparser in /usr/local/lib/python3.9/dist-packages (from cffi>=1.12->cryptography>=1.3->requests-ntlm<=1.1.0->qiskit-ibmq-provider==0.20.2->qiskit) (2.21)\n"
          ]
        }
      ]
    },
    {
      "cell_type": "code",
      "source": [
        "pip install qiskit-optimization"
      ],
      "metadata": {
        "id": "3f_LeRxGooUC",
        "outputId": "2592bcb2-0b12-4a1c-e7b7-a9f9a3521c0e",
        "colab": {
          "base_uri": "https://localhost:8080/"
        }
      },
      "execution_count": 2,
      "outputs": [
        {
          "output_type": "stream",
          "name": "stdout",
          "text": [
            "Looking in indexes: https://pypi.org/simple, https://us-python.pkg.dev/colab-wheels/public/simple/\n",
            "Requirement already satisfied: qiskit-optimization in /usr/local/lib/python3.9/dist-packages (0.5.0)\n",
            "Requirement already satisfied: docplex!=2.24.231,>=2.21.207 in /usr/local/lib/python3.9/dist-packages (from qiskit-optimization) (2.25.236)\n",
            "Requirement already satisfied: networkx>=2.6.3 in /usr/local/lib/python3.9/dist-packages (from qiskit-optimization) (3.1)\n",
            "Requirement already satisfied: setuptools>=40.1.0 in /usr/local/lib/python3.9/dist-packages (from qiskit-optimization) (67.6.1)\n",
            "Requirement already satisfied: qiskit-terra>=0.22.4 in /usr/local/lib/python3.9/dist-packages (from qiskit-optimization) (0.23.3)\n",
            "Requirement already satisfied: scipy>=1.4 in /usr/local/lib/python3.9/dist-packages (from qiskit-optimization) (1.10.1)\n",
            "Requirement already satisfied: numpy>=1.17 in /usr/local/lib/python3.9/dist-packages (from qiskit-optimization) (1.22.4)\n",
            "Requirement already satisfied: six in /usr/local/lib/python3.9/dist-packages (from docplex!=2.24.231,>=2.21.207->qiskit-optimization) (1.16.0)\n",
            "Requirement already satisfied: sympy>=1.3 in /usr/local/lib/python3.9/dist-packages (from qiskit-terra>=0.22.4->qiskit-optimization) (1.11.1)\n",
            "Requirement already satisfied: dill>=0.3 in /usr/local/lib/python3.9/dist-packages (from qiskit-terra>=0.22.4->qiskit-optimization) (0.3.6)\n",
            "Requirement already satisfied: stevedore>=3.0.0 in /usr/local/lib/python3.9/dist-packages (from qiskit-terra>=0.22.4->qiskit-optimization) (5.0.0)\n",
            "Requirement already satisfied: python-dateutil>=2.8.0 in /usr/local/lib/python3.9/dist-packages (from qiskit-terra>=0.22.4->qiskit-optimization) (2.8.2)\n",
            "Requirement already satisfied: ply>=3.10 in /usr/local/lib/python3.9/dist-packages (from qiskit-terra>=0.22.4->qiskit-optimization) (3.11)\n",
            "Requirement already satisfied: symengine>=0.9 in /usr/local/lib/python3.9/dist-packages (from qiskit-terra>=0.22.4->qiskit-optimization) (0.10.0)\n",
            "Requirement already satisfied: rustworkx>=0.12.0 in /usr/local/lib/python3.9/dist-packages (from qiskit-terra>=0.22.4->qiskit-optimization) (0.12.1)\n",
            "Requirement already satisfied: psutil>=5 in /usr/local/lib/python3.9/dist-packages (from qiskit-terra>=0.22.4->qiskit-optimization) (5.9.4)\n",
            "Requirement already satisfied: pbr!=2.1.0,>=2.0.0 in /usr/local/lib/python3.9/dist-packages (from stevedore>=3.0.0->qiskit-terra>=0.22.4->qiskit-optimization) (5.11.1)\n",
            "Requirement already satisfied: mpmath>=0.19 in /usr/local/lib/python3.9/dist-packages (from sympy>=1.3->qiskit-terra>=0.22.4->qiskit-optimization) (1.3.0)\n"
          ]
        }
      ]
    },
    {
      "cell_type": "markdown",
      "source": [
        "QUANTUM"
      ],
      "metadata": {
        "id": "j59yytf4o7kA"
      }
    },
    {
      "cell_type": "code",
      "source": [
        "import numpy as np\n",
        "from qiskit_optimization import QuadraticProgram\n"
      ],
      "metadata": {
        "id": "wKXz5LicpRBW"
      },
      "execution_count": 3,
      "outputs": []
    },
    {
      "cell_type": "markdown",
      "source": [
        "La función tsp_to_qubo convierte un problema del viajante (Travelling Salesman Problem, TSP) en un problema de optimización cuadrática sin restricciones binarias (Quadratic Unconstrained Binary Optimization, QUBO) utilizando el modelo de Ising. La función toma como entrada una matriz de distancias y devuelve un objeto QuadraticProgram de Qiskit que representa el problema QUBO.\n",
        "\n",
        "A continuación, se detallan los pasos de la función tsp_to_qubo:\n",
        "\n",
        "La función toma como entrada una matriz de distancias distance_matrix que representa las distancias entre las ciudades en el problema TSP. La matriz es cuadrada y simétrica, con una dimensión igual al número de ciudades en el problema.\n",
        "\n",
        "Se crea un objeto QuadraticProgram vacío llamado qubo.\n",
        "\n",
        "Se añaden variables binarias x_i,j al problema QUBO para cada par de ciudades i y j. Estas variables indican si el viajante va de la ciudad i a la ciudad j en su recorrido.\n",
        "\n",
        "Se define la función de coste del problema QUBO, que es una función cuadrática de las variables x_i,j. La función de coste tiene en cuenta las distancias entre las ciudades y busca minimizar la distancia total del recorrido del viajante.\n",
        "\n",
        "Se añaden restricciones al problema QUBO para garantizar que se encuentre una solución válida para el problema TSP. Estas restricciones incluyen:\n",
        "\n",
        "Asegurar que cada ciudad sea visitada exactamente una vez.\n",
        "Asegurar que el viajante salga de cada ciudad exactamente una vez.\n",
        "Evitar subtours, es decir, que el viajante no repita ciudades en el recorrido.\n",
        "La función devuelve el objeto QuadraticProgram que representa el problema QUBO correspondiente al problema TSP de entrada.\n",
        "\n",
        "La función tsp_to_qubo permite convertir un problema TSP en un problema QUBO que puede ser resuelto utilizando algoritmos de optimización cuántica, como el algoritmo QAOA, en Qiskit."
      ],
      "metadata": {
        "id": "pHxPIvrqpkPP"
      }
    },
    {
      "cell_type": "code",
      "source": [],
      "metadata": {
        "id": "Sdd13K4vo_cB"
      },
      "execution_count": null,
      "outputs": []
    },
    {
      "cell_type": "code",
      "source": [],
      "metadata": {
        "id": "s_xdWcRro_QY"
      },
      "execution_count": null,
      "outputs": []
    },
    {
      "cell_type": "code",
      "source": [],
      "metadata": {
        "id": "3PaKVKwuo_IY"
      },
      "execution_count": null,
      "outputs": []
    },
    {
      "cell_type": "markdown",
      "source": [
        "FIN QUANTUM"
      ],
      "metadata": {
        "id": "EckQiLWRo9bS"
      }
    },
    {
      "cell_type": "code",
      "execution_count": null,
      "metadata": {
        "id": "PtIdj8CQgGme"
      },
      "outputs": [],
      "source": [
        "import random\n",
        "import networkx as nx\n",
        "import matplotlib.pyplot as plt\n",
        "import itertools\n",
        "import numpy as np\n",
        "import time"
      ]
    },
    {
      "cell_type": "code",
      "source": [
        "def generar_grafo(numero_ciudades):\n",
        "    \"\"\"Crea un grafo completo con distancias aleatorias entre los nodos.\"\"\"\n",
        "    n = numero_ciudades\n",
        "    G = nx.complete_graph(n)\n",
        "    for (u, v) in G.edges():\n",
        "        G.edges[u, v]['distancia'] = random.randint(1, 10)\n",
        "    return G,nx.get_edge_attributes(G, 'distancia')"
      ],
      "metadata": {
        "id": "PZNS7J_ok99X"
      },
      "execution_count": 73,
      "outputs": []
    },
    {
      "cell_type": "code",
      "source": [
        "def dibujar_grafo(G):\n",
        "    \"\"\"Dibuja el grafo con las etiquetas de nodos y distancias.\"\"\"\n",
        "    pos = nx.circular_layout(G)\n",
        "    nx.draw(G, pos, with_labels=True)\n",
        "    labels = nx.get_edge_attributes(G, 'distancia')\n",
        "    nx.draw_networkx_edge_labels(G, pos, edge_labels=labels)"
      ],
      "metadata": {
        "id": "aYPcvHGalATY"
      },
      "execution_count": 76,
      "outputs": []
    },
    {
      "cell_type": "code",
      "source": [
        "def crear_poblacion(numero_ciudades):\n",
        "    \"\"\"Genera una lista de viajes aleatorios.\"\"\"\n",
        "    return [random.sample(range(numero_ciudades), numero_ciudades) for _ in range(numero_ciudades)]\n"
      ],
      "metadata": {
        "id": "qY5KM00PgWVQ"
      },
      "execution_count": 62,
      "outputs": []
    },
    {
      "cell_type": "markdown",
      "source": [
        "obtener la distancia total del recorrido\n"
      ],
      "metadata": {
        "id": "hQ7f6zY1gcS5"
      }
    },
    {
      "cell_type": "code",
      "source": [
        "def distancia_entera(viaje,labels):\n",
        "  suma = 0\n",
        "  for pueblo in viaje:\n",
        "    if pueblo == viaje[-1]:\n",
        "      clave = (viaje[0],pueblo) if pueblo > viaje[0] else (pueblo,viaje[0])\n",
        "      suma = suma +labels.get(clave, None)\n",
        "    else:\n",
        "      siguiente= viaje[viaje.index(pueblo)+1]\n",
        "      clave = (pueblo,siguiente ) if siguiente > pueblo else (siguiente,pueblo)\n",
        "      suma = suma +labels.get(clave, None)\n",
        "  return suma\n"
      ],
      "metadata": {
        "id": "mO3Mb15lgZ25"
      },
      "execution_count": null,
      "outputs": []
    },
    {
      "cell_type": "markdown",
      "source": [
        "Almacenar distancia en un array"
      ],
      "metadata": {
        "id": "aYBL8-BrgiQd"
      }
    },
    {
      "cell_type": "code",
      "source": [
        "def almacenar_dist(viajes, labels):\n",
        "    \"\"\"Almacena las distancias de todos los recorridos en una lista.\"\"\"\n",
        "    return [distancia_entera(v, labels) for v in viajes]"
      ],
      "metadata": {
        "id": "cBZXe4T5gh8l"
      },
      "execution_count": 67,
      "outputs": []
    },
    {
      "cell_type": "markdown",
      "source": [
        "Cruce"
      ],
      "metadata": {
        "id": "KOZuTRnEgoSQ"
      }
    },
    {
      "cell_type": "code",
      "source": [
        "def crucePMX(padre1,padre2):\n",
        "    # generamos los puntos de corte aleatorios\n",
        "    primero = random.randint(0, len(padre2)-2)\n",
        "    segundo = random.randint(primero+1, len(padre2)-1)\n",
        "    # creamos los bloques de los padres\n",
        "    bloque_padre2 = padre2[primero:segundo]\n",
        "    # creamos los hijos\n",
        "    hijo1 = crear_hijo(padre1, padre2, bloque_padre2)\n",
        "    return hijo1\n",
        "  "
      ],
      "metadata": {
        "id": "XUKsHQ22goEV"
      },
      "execution_count": null,
      "outputs": []
    },
    {
      "cell_type": "code",
      "source": [
        "def crear_hijo(padre1, padre2, bloque_padre):\n",
        "    # creamos el hijo\n",
        "    padre1=list(padre1)\n",
        "    hijo = [-1] * len(padre1)\n",
        "    donde=bloque_padre[0]\n",
        "    part1=padre1[:padre2.index(donde)]\n",
        "    donde = bloque_padre[-1]\n",
        "    part2=padre1[padre2.index(donde)+1:]\n",
        "    pfinal=[]\n",
        "    pinicio=[]\n",
        "    for numero in part1:\n",
        "      i = numero\n",
        "      while i in bloque_padre:\n",
        "        i = padre1[padre2.index(i)]\n",
        "      pinicio.append(i)\n",
        "    for numero in part2:\n",
        "      i = numero\n",
        "      while i in bloque_padre:\n",
        "        i = padre1[padre2.index(i)]\n",
        "      pfinal.append(i)  \n",
        "    hijo=pinicio+bloque_padre+pfinal\n",
        "    return hijo\n"
      ],
      "metadata": {
        "id": "JJznzBaugsys"
      },
      "execution_count": null,
      "outputs": []
    },
    {
      "cell_type": "markdown",
      "source": [
        "Mutacion\n"
      ],
      "metadata": {
        "id": "XQ8gNTkakgmI"
      }
    },
    {
      "cell_type": "code",
      "source": [
        "def swap_mutation(viaje):\n",
        "    # seleccionar aleatoriamente dos posiciones distintas del individual\n",
        "  pos1, pos2 = random.sample(range(len(viaje)), 2)\n",
        "      # intercambiar los valores en esas posiciones\n",
        "  viaje[pos1], viaje[pos2] = viaje[pos2], viaje[pos1]\n",
        "  return viaje"
      ],
      "metadata": {
        "id": "EtqOLPckkh6K"
      },
      "execution_count": null,
      "outputs": []
    },
    {
      "cell_type": "markdown",
      "source": [
        "Reemplazo"
      ],
      "metadata": {
        "id": "Tgsdy0W0kmhh"
      }
    },
    {
      "cell_type": "code",
      "source": [
        "def reemplazo_torneo(poblacion, hijo,labels):\n",
        "    # seleccionar aleatoriamente un individuo de la población\n",
        "    indice = random.randint(0, len(poblacion) - 1)\n",
        "    # comparar el individuo con el hijo\n",
        "    if distancia_entera(hijo,labels) < distancia_entera(poblacion[indice],labels):\n",
        "        poblacion[indice] = hijo\n",
        "    return poblacion\n"
      ],
      "metadata": {
        "id": "Dwucj4H4knzy"
      },
      "execution_count": null,
      "outputs": []
    },
    {
      "cell_type": "markdown",
      "source": [
        "Seleccion"
      ],
      "metadata": {
        "id": "kYJJGRg9krP2"
      }
    },
    {
      "cell_type": "code",
      "source": [
        "def seleccion(poblacion,padre1):#una vez la seleccion torneo es hecha esto sirve para seleccionar al segundo padre\n",
        "  lista_hijos=[]\n",
        "  for padre in poblacion:\n",
        "    if padre==padre1:\n",
        "      lista_hijos.append(padre1)\n",
        "      #cruce\n",
        "    lista_hijos.append(crucePMX(padre1,padre))\n",
        "  return lista_hijos\n"
      ],
      "metadata": {
        "id": "6cQSK7ZukxvX"
      },
      "execution_count": null,
      "outputs": []
    },
    {
      "cell_type": "code",
      "source": [
        "def seleccion_torneo(poblacion,labels):\n",
        "  distancia = almacenar_dist(poblacion,labels)\n",
        "  dic=crear_dic_viaje_distancia(poblacion,distancia)\n",
        "  i=0\n",
        "  while i == 0:\n",
        "    for k in dic.keys():\n",
        "      primer_elemento=k\n",
        "      i=1\n",
        "      break \n",
        "  return primer_elemento\n"
      ],
      "metadata": {
        "id": "jBaQ-GoMksvj"
      },
      "execution_count": null,
      "outputs": []
    },
    {
      "cell_type": "code",
      "source": [
        "def crear_dic_viaje_distancia(viajes,distancias):#funcion que crea un diccionario con los viajes y su respectiva distancia\n",
        "  distancias_viajes = {}\n",
        "  for i, viaje in enumerate(viajes):\n",
        "    distancias_viajes[tuple(viaje)] = distancias[i]\n",
        "  return dict(sorted(distancias_viajes.items(), key=lambda x: x[1]))"
      ],
      "metadata": {
        "id": "2BKuKqNqk4gC"
      },
      "execution_count": null,
      "outputs": []
    },
    {
      "cell_type": "markdown",
      "source": [
        "crear dicionario con los mejores rutas de los padres y de los hijo"
      ],
      "metadata": {
        "id": "Yw5Eu8y0k8HF"
      }
    },
    {
      "cell_type": "code",
      "source": [
        "def nueva_mejor_ruta(distancias_viajes_1,distancias_viajes_2):\n",
        "  nuevo_tamano = len(distancias_viajes_1)\n",
        "  n = nuevo_tamano // 2\n",
        "  # Selección de los mejores individuos del primer diccionario\n",
        "  mejores_viajes_1 = list(distancias_viajes_1.keys())[:n]\n",
        "  # Selección de los mejores individuos del segundo diccionario\n",
        "  mejores_viajes_2 = list(distancias_viajes_2.keys())[:n]\n",
        "  # Unión de las dos listas de los mejores individuos\n",
        "  mejores_viajes = set(mejores_viajes_1 + mejores_viajes_2)\n",
        "  # Si la longitud del conjunto de mejores individuos es menor que n, agregar los restantes en orden de aparición\n",
        "  if len(mejores_viajes) < n:\n",
        "      for viaje in list(distancias_viajes_1.keys())[n:]:\n",
        "          if viaje not in mejores_viajes:\n",
        "              mejores_viajes.add(viaje)\n",
        "              if len(mejores_viajes) == n:\n",
        "                  break\n",
        "      for viaje in list(distancias_viajes_2.keys())[n:]:\n",
        "          if viaje not in mejores_viajes:\n",
        "              mejores_viajes.add(viaje)\n",
        "              if len(mejores_viajes) == n*2:\n",
        "                  break\n",
        "\n",
        "  # Crear un nuevo diccionario que contenga solo los mejores individuos y sus distancias\n",
        "  mejores_distancias_viajes = {}\n",
        "  for viaje in mejores_viajes:\n",
        "      if viaje in distancias_viajes_1:\n",
        "          mejores_distancias_viajes[viaje] = distancias_viajes_1[viaje]\n",
        "      else:\n",
        "          mejores_distancias_viajes[viaje] = distancias_viajes_2[viaje]\n",
        "\n",
        "  return mejores_distancias_viajes"
      ],
      "metadata": {
        "id": "Gg6AkIznlAZw"
      },
      "execution_count": null,
      "outputs": []
    },
    {
      "cell_type": "markdown",
      "source": [
        "Algoritmo genetico"
      ],
      "metadata": {
        "id": "Z322GnUWlvYr"
      }
    },
    {
      "cell_type": "code",
      "source": [
        "def algoritmo_genetico(numero_ciudades,probabilidad,labels):\n",
        "  #inicializamos variables\n",
        "  hijos=[]\n",
        "  hijos_dist=[]\n",
        "  padres_dist=[]\n",
        "  distancias_viajes_hijos = {}\n",
        "  distancias_viajes_padres={}\n",
        "  #primer paso: creamos el grafico de las ciudades.\n",
        "  #grafo,labels=generar_grafo(numero_ciudades)\n",
        "  #segundo paso creamos los viajes\n",
        "  viajes=crear_poblacion(numero_ciudades)\n",
        "  #establecemos el metodo de parada\n",
        "  i=0\n",
        "  while i<1000:\n",
        "    #seleccion\n",
        "    #primero seleccionaremos el mejor padre del recorrido para asi cruzarlo con el resto de viajes.\n",
        "    padre1=seleccion_torneo(viajes,labels)\n",
        "    #ahora aplicaremos el cruce con cada viaje para generar una lista de hijos\n",
        "    hijos=seleccion(viajes,padre1)\n",
        "    #mutaremos si procede alguno de los hijos\n",
        "    for i in range(len(hijos)):\n",
        "      if random.random()<probabilidad:\n",
        "        hijos[i]=swap_mutation(hijos[i])\n",
        "    for hijo in hijos:\n",
        "      hijos_dist.append(distancia_entera(hijo,labels))\n",
        "    for viaje in viajes:\n",
        "      padres_dist.append(distancia_entera(viaje,labels))    \n",
        "    #vamos a crear un diccionario para almacenar los viajes-con su distancia \n",
        "    distancias_viajes_hijos = crear_dic_viaje_distancia(hijos,hijos_dist)\n",
        "    distancias_viajes_padres= crear_dic_viaje_distancia(viajes,padres_dist)\n",
        "    #con los dos diccionarios creados toca crear uno nuevo con los mejores resultados de cada dic\n",
        "    mejores=nueva_mejor_ruta(distancias_viajes_hijos,distancias_viajes_padres)\n",
        "    #los ordenamos de mejor a peor.\n",
        "    mejores=dict(sorted(mejores.items(), key=lambda x: x[1]))\n",
        "    #ahora tendriamos que suplantar la lista viajes con los mejores viajes y la lista distancias con las mejores distancias\n",
        "    #resetamos las variables\n",
        "    hijos=[]\n",
        "    hijos_dist=[]\n",
        "    padres_dist=[]\n",
        "    distancias_viajes_hijos = {}\n",
        "    distancias_viajes_padres={}\n",
        "    for distancia in mejores.values():\n",
        "      padres_dist.append(distancia)\n",
        "    for ruta in mejores.keys():\n",
        "      viajes.append(list(ruta))\n",
        "    i=i+1\n",
        "  return viajes[0],padres_dist[0]\n",
        "\n",
        "\n",
        "\n",
        "    \n",
        "    \n",
        "\n"
      ],
      "metadata": {
        "id": "Nk3SvQE_lDAe"
      },
      "execution_count": 90,
      "outputs": []
    },
    {
      "cell_type": "code",
      "source": [
        "# @title Parámetros del algoritmo\n",
        "numero_ciudades = 6  #@param {type:\"integer\"}\n",
        "probabilidad = 0.89 #@param {type:\"number\", min:0, max:1, step:\"0.01\"}\n"
      ],
      "metadata": {
        "id": "ONe3pM2PlHKG"
      },
      "execution_count": 63,
      "outputs": []
    },
    {
      "cell_type": "code",
      "source": [
        "g,labels=generar_grafo(numero_ciudades)"
      ],
      "metadata": {
        "id": "jXP4Cqlal3-K"
      },
      "execution_count": 77,
      "outputs": []
    },
    {
      "cell_type": "code",
      "source": [
        "dibujar_grafo(g)"
      ],
      "metadata": {
        "id": "Et9WCZHRmE_M",
        "outputId": "8cae328a-3e21-4924-ef69-2f080890c980",
        "colab": {
          "base_uri": "https://localhost:8080/",
          "height": 516
        }
      },
      "execution_count": 78,
      "outputs": [
        {
          "output_type": "display_data",
          "data": {
            "text/plain": [
              "<Figure size 640x480 with 1 Axes>"
            ],
            "image/png": "[encoded data removed]"
          },
          "metadata": {}
        }
      ]
    },
    {
      "cell_type": "code",
      "source": [
        "viaje,distancia=algoritmo_genetico(numero_ciudades,probabilidad,labels)"
      ],
      "metadata": {
        "id": "LgL2Pideltp7"
      },
      "execution_count": 94,
      "outputs": []
    },
    {
      "cell_type": "code",
      "source": [
        "v,d=algoritmo_genetico(numero_ciudades,probabilidad,labels)"
      ],
      "metadata": {
        "id": "vrVSWgcemULO"
      },
      "execution_count": 84,
      "outputs": []
    },
    {
      "cell_type": "code",
      "source": [
        "v"
      ],
      "metadata": {
        "id": "fK76xgzOmXJz",
        "outputId": "bb241742-2b4e-404e-f8e6-93adaddf3d2a",
        "colab": {
          "base_uri": "https://localhost:8080/"
        }
      },
      "execution_count": 85,
      "outputs": [
        {
          "output_type": "execute_result",
          "data": {
            "text/plain": [
              "[0, 3, 2, 1, 5, 4]"
            ]
          },
          "metadata": {},
          "execution_count": 85
        }
      ]
    },
    {
      "cell_type": "code",
      "source": [
        "d"
      ],
      "metadata": {
        "id": "S1SX_kgBmYb7",
        "outputId": "a91eb08f-fdf2-48a0-e790-a1d0d4a06e70",
        "colab": {
          "base_uri": "https://localhost:8080/"
        }
      },
      "execution_count": 86,
      "outputs": [
        {
          "output_type": "execute_result",
          "data": {
            "text/plain": [
              "17"
            ]
          },
          "metadata": {},
          "execution_count": 86
        }
      ]
    },
    {
      "cell_type": "code",
      "source": [
        "viaje"
      ],
      "metadata": {
        "colab": {
          "base_uri": "https://localhost:8080/"
        },
        "id": "F4iTrU-1tGsf",
        "outputId": "8d238d42-a156-485a-ccba-0554f13dcbe5"
      },
      "execution_count": 95,
      "outputs": [
        {
          "output_type": "execute_result",
          "data": {
            "text/plain": [
              "[1, 0, 2, 4, 5, 3]"
            ]
          },
          "metadata": {},
          "execution_count": 95
        }
      ]
    },
    {
      "cell_type": "code",
      "source": [
        "distancia"
      ],
      "metadata": {
        "colab": {
          "base_uri": "https://localhost:8080/"
        },
        "id": "VQCBsxXqtGel",
        "outputId": "42cb08b1-7cb9-4c9d-83ab-8db7a17e4f9b"
      },
      "execution_count": 96,
      "outputs": [
        {
          "output_type": "execute_result",
          "data": {
            "text/plain": [
              "17"
            ]
          },
          "metadata": {},
          "execution_count": 96
        }
      ]
    },
    {
      "cell_type": "code",
      "source": [
        "viaje"
      ],
      "metadata": {
        "colab": {
          "base_uri": "https://localhost:8080/"
        },
        "id": "vK35NVGLspkV",
        "outputId": "8a74fd30-80c2-437b-d085-cd825847abdc"
      },
      "execution_count": null,
      "outputs": [
        {
          "output_type": "execute_result",
          "data": {
            "text/plain": [
              "[1, 5, 2, 3, 4, 0]"
            ]
          },
          "metadata": {},
          "execution_count": 49
        }
      ]
    },
    {
      "cell_type": "code",
      "source": [
        "distancia"
      ],
      "metadata": {
        "colab": {
          "base_uri": "https://localhost:8080/"
        },
        "id": "BP8SEOmQtDSX",
        "outputId": "8c4ffc8d-6f78-4879-c088-3de9bdc09449"
      },
      "execution_count": null,
      "outputs": [
        {
          "output_type": "execute_result",
          "data": {
            "text/plain": [
              "18"
            ]
          },
          "metadata": {},
          "execution_count": 50
        }
      ]
    }
  ]
}
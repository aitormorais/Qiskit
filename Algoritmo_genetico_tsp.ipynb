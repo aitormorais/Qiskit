{
  "nbformat": 4,
  "nbformat_minor": 0,
  "metadata": {
    "colab": {
      "provenance": [],
      "authorship_tag": "ABX9TyN6kTyAScP0984hKtOA3Q6R",
      "include_colab_link": true
    },
    "kernelspec": {
      "name": "python3",
      "display_name": "Python 3"
    },
    "language_info": {
      "name": "python"
    }
  },
  "cells": [
    {
      "cell_type": "markdown",
      "metadata": {
        "id": "view-in-github",
        "colab_type": "text"
      },
      "source": [
        "<a href=\"https://colab.research.google.com/github/aitormorais/Qiskit/blob/main/Algoritmo_genetico_tsp.ipynb\" target=\"_parent\"><img src=\"https://colab.research.google.com/assets/colab-badge.svg\" alt=\"Open In Colab\"/></a>"
      ]
    },
    {
      "cell_type": "markdown",
      "source": [
        "Para implementar una versión cuántica del algoritmo genético, puedes seguir estos pasos:\n",
        "\n",
        "Familiarízate con la computación cuántica y las bibliotecas de Python:\n",
        "Aprende sobre conceptos básicos de computación cuántica, como qubits, superposición, entrelazamiento y compuertas cuánticas. Para ello, puedes revisar recursos en línea, como el libro \"Quantum Computing for Computer Scientists\" de Noson S. Yanofsky y Mirco A. Mannucci, o el curso \"Quantum Machine Learning\" en el sitio web de Qiskit.\n",
        "\n",
        "Selecciona una biblioteca de Python para la computación cuántica:\n",
        "Existen varias bibliotecas de Python para trabajar con computadoras cuánticas, como Qiskit, Cirq, PennyLane y PyQuil. Investiga las características de cada una y elige la que mejor se adapte a tus necesidades y conocimientos.\n",
        "\n",
        "Diseña el circuito cuántico para la representación del problema:\n",
        "Representa las soluciones del problema del viajante (TSP) utilizando qubits y compuertas cuánticas. Puedes considerar el uso de \"quantum annealing\" o \"QAOA (Quantum Approximate Optimization Algorithm)\" para encontrar soluciones óptimas en un espacio de búsqueda cuántico.\n",
        "\n",
        "Adapta las funciones de cruce, mutación y selección a la versión cuántica:\n",
        "Reescribe las funciones de cruce, mutación y selección utilizando operaciones cuánticas y teniendo en cuenta las propiedades de la computación cuántica, como la superposición y el entrelazamiento.\n",
        "\n",
        "Implementa una función de evaluación cuántica:\n",
        "Crea una función de evaluación cuántica que calcule la calidad de las soluciones utilizando un enfoque cuántico. Para ello, puedes utilizar algoritmos cuánticos de optimización aproximada, como QAOA, para medir la calidad de las soluciones.\n",
        "\n",
        "Ejecuta el algoritmo en un simulador cuántico o en una computadora cuántica real:\n",
        "Ejecuta el algoritmo cuántico en un entorno simulado o en una computadora cuántica real si tienes acceso a través de la biblioteca que hayas elegido en el paso 2.\n",
        "\n",
        "Compara el rendimiento de la versión cuántica con la versión clásica:\n",
        "Analiza los resultados del algoritmo cuántico y compáralos con los del algoritmo genético clásico en términos de calidad de las soluciones y tiempo de ejecución.\n",
        "\n",
        "Ten en cuenta que la computación cuántica todavía está en una etapa temprana, y es posible que no siempre ofrezca mejoras significativas en problemas como el TSP, especialmente para instancias pequeñas. Sin embargo, explorar algoritmos cuánticos puede ser útil para comprender cómo abordar problemas de optimización en el ámbito cuántico y cómo aprovechar las características únicas de la computación cuántica."
      ],
      "metadata": {
        "id": "tQ7FW-gloJn3"
      }
    },
    {
      "cell_type": "markdown",
      "source": [
        "Representación del problema: Representa el TSP como una matriz de distancias entre las ciudades. Para facilitar la manipulación cuántica, puedes usar qubits para representar los genes y cromosomas en el algoritmo genético.\n",
        "\n",
        "Inicialización de la población: Crea una población inicial de soluciones posibles (cromosomas) utilizando el principio de superposición cuántica. En lugar de representar cada solución como una secuencia de ciudades, utiliza una secuencia de qubits en estado de superposición. Esto permitirá que el algoritmo cuántico explore múltiples soluciones simultáneamente.\n",
        "\n",
        "Evaluación de la aptitud: Utiliza un operador cuántico para calcular la aptitud (fitness) de cada cromosoma en la población. La aptitud es una medida de la calidad de la solución, en este caso, la distancia total del recorrido. Para hacerlo, puedes utilizar el algoritmo de estimación de amplitud cuántica, que permite calcular la aptitud de cada cromosoma de manera eficiente.\n",
        "\n",
        "Selección: Implementa un operador de selección cuántico que seleccione los cromosomas con mayor aptitud en la población para la reproducción. Puedes utilizar el algoritmo de Grover para buscar eficientemente los cromosomas con mejor aptitud en el espacio de soluciones.\n",
        "\n",
        "Cruce y mutación: Aplica operadores cuánticos de cruce y mutación en los cromosomas seleccionados. El cruce cuántico puede ser implementado usando operadores de entrelazamiento, mientras que la mutación cuántica puede ser implementada usando operadores de rotación y cambio de fase.\n",
        "\n",
        "Nueva generación: Repite los pasos 3-5 varias veces para generar nuevas generaciones de cromosomas. Cada iteración del algoritmo implica evaluar la aptitud, seleccionar los mejores cromosomas, y aplicar operaciones de cruce y mutación.\n",
        "\n",
        "Medición y solución: Una vez que el algoritmo ha convergido o se ha alcanzado un número máximo de iteraciones, realiza una medición cuántica en los qubits de los cromosomas para colapsarlos en soluciones clásicas. La mejor solución encontrada será la que tenga la menor distancia total del recorrido."
      ],
      "metadata": {
        "id": "OSAPtflQjcOw"
      }
    },
    {
      "cell_type": "code",
      "source": [
        "pip install qiskit"
      ],
      "metadata": {
        "id": "bK-Q6DjyomBD",
        "outputId": "f7d131be-3d65-4dc0-f393-60ef030472bf",
        "colab": {
          "base_uri": "https://localhost:8080/"
        }
      },
      "execution_count": 42,
      "outputs": [
        {
          "output_type": "stream",
          "name": "stdout",
          "text": [
            "Looking in indexes: https://pypi.org/simple, https://us-python.pkg.dev/colab-wheels/public/simple/\n",
            "Requirement already satisfied: qiskit in /usr/local/lib/python3.9/dist-packages (0.42.1)\n",
            "Requirement already satisfied: qiskit-ibmq-provider==0.20.2 in /usr/local/lib/python3.9/dist-packages (from qiskit) (0.20.2)\n",
            "Requirement already satisfied: qiskit-aer==0.12.0 in /usr/local/lib/python3.9/dist-packages (from qiskit) (0.12.0)\n",
            "Requirement already satisfied: qiskit-terra==0.23.3 in /usr/local/lib/python3.9/dist-packages (from qiskit) (0.23.3)\n",
            "Requirement already satisfied: numpy>=1.16.3 in /usr/local/lib/python3.9/dist-packages (from qiskit-aer==0.12.0->qiskit) (1.22.4)\n",
            "Requirement already satisfied: scipy>=1.0 in /usr/local/lib/python3.9/dist-packages (from qiskit-aer==0.12.0->qiskit) (1.10.1)\n",
            "Requirement already satisfied: requests-ntlm<=1.1.0 in /usr/local/lib/python3.9/dist-packages (from qiskit-ibmq-provider==0.20.2->qiskit) (1.1.0)\n",
            "Requirement already satisfied: websockets>=10.0 in /usr/local/lib/python3.9/dist-packages (from qiskit-ibmq-provider==0.20.2->qiskit) (11.0.1)\n",
            "Requirement already satisfied: requests>=2.19 in /usr/local/lib/python3.9/dist-packages (from qiskit-ibmq-provider==0.20.2->qiskit) (2.27.1)\n",
            "Requirement already satisfied: python-dateutil>=2.8.0 in /usr/local/lib/python3.9/dist-packages (from qiskit-ibmq-provider==0.20.2->qiskit) (2.8.2)\n",
            "Requirement already satisfied: urllib3>=1.21.1 in /usr/local/lib/python3.9/dist-packages (from qiskit-ibmq-provider==0.20.2->qiskit) (1.26.15)\n",
            "Requirement already satisfied: websocket-client>=1.5.1 in /usr/local/lib/python3.9/dist-packages (from qiskit-ibmq-provider==0.20.2->qiskit) (1.5.1)\n",
            "Requirement already satisfied: ply>=3.10 in /usr/local/lib/python3.9/dist-packages (from qiskit-terra==0.23.3->qiskit) (3.11)\n",
            "Requirement already satisfied: dill>=0.3 in /usr/local/lib/python3.9/dist-packages (from qiskit-terra==0.23.3->qiskit) (0.3.6)\n",
            "Requirement already satisfied: sympy>=1.3 in /usr/local/lib/python3.9/dist-packages (from qiskit-terra==0.23.3->qiskit) (1.11.1)\n",
            "Requirement already satisfied: rustworkx>=0.12.0 in /usr/local/lib/python3.9/dist-packages (from qiskit-terra==0.23.3->qiskit) (0.12.1)\n",
            "Requirement already satisfied: stevedore>=3.0.0 in /usr/local/lib/python3.9/dist-packages (from qiskit-terra==0.23.3->qiskit) (5.0.0)\n",
            "Requirement already satisfied: symengine>=0.9 in /usr/local/lib/python3.9/dist-packages (from qiskit-terra==0.23.3->qiskit) (0.10.0)\n",
            "Requirement already satisfied: psutil>=5 in /usr/local/lib/python3.9/dist-packages (from qiskit-terra==0.23.3->qiskit) (5.9.4)\n",
            "Requirement already satisfied: six>=1.5 in /usr/local/lib/python3.9/dist-packages (from python-dateutil>=2.8.0->qiskit-ibmq-provider==0.20.2->qiskit) (1.16.0)\n",
            "Requirement already satisfied: charset-normalizer~=2.0.0 in /usr/local/lib/python3.9/dist-packages (from requests>=2.19->qiskit-ibmq-provider==0.20.2->qiskit) (2.0.12)\n",
            "Requirement already satisfied: certifi>=2017.4.17 in /usr/local/lib/python3.9/dist-packages (from requests>=2.19->qiskit-ibmq-provider==0.20.2->qiskit) (2022.12.7)\n",
            "Requirement already satisfied: idna<4,>=2.5 in /usr/local/lib/python3.9/dist-packages (from requests>=2.19->qiskit-ibmq-provider==0.20.2->qiskit) (3.4)\n",
            "Requirement already satisfied: ntlm-auth>=1.0.2 in /usr/local/lib/python3.9/dist-packages (from requests-ntlm<=1.1.0->qiskit-ibmq-provider==0.20.2->qiskit) (1.5.0)\n",
            "Requirement already satisfied: cryptography>=1.3 in /usr/local/lib/python3.9/dist-packages (from requests-ntlm<=1.1.0->qiskit-ibmq-provider==0.20.2->qiskit) (40.0.1)\n",
            "Requirement already satisfied: pbr!=2.1.0,>=2.0.0 in /usr/local/lib/python3.9/dist-packages (from stevedore>=3.0.0->qiskit-terra==0.23.3->qiskit) (5.11.1)\n",
            "Requirement already satisfied: mpmath>=0.19 in /usr/local/lib/python3.9/dist-packages (from sympy>=1.3->qiskit-terra==0.23.3->qiskit) (1.3.0)\n",
            "Requirement already satisfied: cffi>=1.12 in /usr/local/lib/python3.9/dist-packages (from cryptography>=1.3->requests-ntlm<=1.1.0->qiskit-ibmq-provider==0.20.2->qiskit) (1.15.1)\n",
            "Requirement already satisfied: pycparser in /usr/local/lib/python3.9/dist-packages (from cffi>=1.12->cryptography>=1.3->requests-ntlm<=1.1.0->qiskit-ibmq-provider==0.20.2->qiskit) (2.21)\n"
          ]
        }
      ]
    },
    {
      "cell_type": "code",
      "source": [
        "pip install qiskit-optimization"
      ],
      "metadata": {
        "id": "3f_LeRxGooUC",
        "outputId": "bb0170c6-855f-4615-9740-fe152f9bce43",
        "colab": {
          "base_uri": "https://localhost:8080/"
        }
      },
      "execution_count": 43,
      "outputs": [
        {
          "output_type": "stream",
          "name": "stdout",
          "text": [
            "Looking in indexes: https://pypi.org/simple, https://us-python.pkg.dev/colab-wheels/public/simple/\n",
            "Requirement already satisfied: qiskit-optimization in /usr/local/lib/python3.9/dist-packages (0.5.0)\n",
            "Requirement already satisfied: networkx>=2.6.3 in /usr/local/lib/python3.9/dist-packages (from qiskit-optimization) (3.1)\n",
            "Requirement already satisfied: scipy>=1.4 in /usr/local/lib/python3.9/dist-packages (from qiskit-optimization) (1.10.1)\n",
            "Requirement already satisfied: docplex!=2.24.231,>=2.21.207 in /usr/local/lib/python3.9/dist-packages (from qiskit-optimization) (2.25.236)\n",
            "Requirement already satisfied: setuptools>=40.1.0 in /usr/local/lib/python3.9/dist-packages (from qiskit-optimization) (67.6.1)\n",
            "Requirement already satisfied: numpy>=1.17 in /usr/local/lib/python3.9/dist-packages (from qiskit-optimization) (1.22.4)\n",
            "Requirement already satisfied: qiskit-terra>=0.22.4 in /usr/local/lib/python3.9/dist-packages (from qiskit-optimization) (0.23.3)\n",
            "Requirement already satisfied: six in /usr/local/lib/python3.9/dist-packages (from docplex!=2.24.231,>=2.21.207->qiskit-optimization) (1.16.0)\n",
            "Requirement already satisfied: python-dateutil>=2.8.0 in /usr/local/lib/python3.9/dist-packages (from qiskit-terra>=0.22.4->qiskit-optimization) (2.8.2)\n",
            "Requirement already satisfied: stevedore>=3.0.0 in /usr/local/lib/python3.9/dist-packages (from qiskit-terra>=0.22.4->qiskit-optimization) (5.0.0)\n",
            "Requirement already satisfied: symengine>=0.9 in /usr/local/lib/python3.9/dist-packages (from qiskit-terra>=0.22.4->qiskit-optimization) (0.10.0)\n",
            "Requirement already satisfied: psutil>=5 in /usr/local/lib/python3.9/dist-packages (from qiskit-terra>=0.22.4->qiskit-optimization) (5.9.4)\n",
            "Requirement already satisfied: ply>=3.10 in /usr/local/lib/python3.9/dist-packages (from qiskit-terra>=0.22.4->qiskit-optimization) (3.11)\n",
            "Requirement already satisfied: rustworkx>=0.12.0 in /usr/local/lib/python3.9/dist-packages (from qiskit-terra>=0.22.4->qiskit-optimization) (0.12.1)\n",
            "Requirement already satisfied: sympy>=1.3 in /usr/local/lib/python3.9/dist-packages (from qiskit-terra>=0.22.4->qiskit-optimization) (1.11.1)\n",
            "Requirement already satisfied: dill>=0.3 in /usr/local/lib/python3.9/dist-packages (from qiskit-terra>=0.22.4->qiskit-optimization) (0.3.6)\n",
            "Requirement already satisfied: pbr!=2.1.0,>=2.0.0 in /usr/local/lib/python3.9/dist-packages (from stevedore>=3.0.0->qiskit-terra>=0.22.4->qiskit-optimization) (5.11.1)\n",
            "Requirement already satisfied: mpmath>=0.19 in /usr/local/lib/python3.9/dist-packages (from sympy>=1.3->qiskit-terra>=0.22.4->qiskit-optimization) (1.3.0)\n"
          ]
        }
      ]
    },
    {
      "cell_type": "markdown",
      "source": [
        "QUANTUM"
      ],
      "metadata": {
        "id": "j59yytf4o7kA"
      }
    },
    {
      "cell_type": "code",
      "source": [
        "import numpy as np\n",
        "from qiskit_optimization import QuadraticProgram\n"
      ],
      "metadata": {
        "id": "wKXz5LicpRBW"
      },
      "execution_count": 44,
      "outputs": []
    },
    {
      "cell_type": "markdown",
      "source": [
        "La función tsp_to_qubo convierte un problema del viajante (Travelling Salesman Problem, TSP) en un problema de optimización cuadrática sin restricciones binarias (Quadratic Unconstrained Binary Optimization, QUBO) utilizando el modelo de Ising. La función toma como entrada una matriz de distancias y devuelve un objeto QuadraticProgram de Qiskit que representa el problema QUBO.\n",
        "\n",
        "A continuación, se detallan los pasos de la función tsp_to_qubo:\n",
        "\n",
        "La función toma como entrada una matriz de distancias distance_matrix que representa las distancias entre las ciudades en el problema TSP. La matriz es cuadrada y simétrica, con una dimensión igual al número de ciudades en el problema.\n",
        "\n",
        "Se crea un objeto QuadraticProgram vacío llamado qubo.\n",
        "\n",
        "Se añaden variables binarias x_i,j al problema QUBO para cada par de ciudades i y j. Estas variables indican si el viajante va de la ciudad i a la ciudad j en su recorrido.\n",
        "\n",
        "Se define la función de coste del problema QUBO, que es una función cuadrática de las variables x_i,j. La función de coste tiene en cuenta las distancias entre las ciudades y busca minimizar la distancia total del recorrido del viajante.\n",
        "\n",
        "Se añaden restricciones al problema QUBO para garantizar que se encuentre una solución válida para el problema TSP. Estas restricciones incluyen:\n",
        "\n",
        "Asegurar que cada ciudad sea visitada exactamente una vez.\n",
        "Asegurar que el viajante salga de cada ciudad exactamente una vez.\n",
        "Evitar subtours, es decir, que el viajante no repita ciudades en el recorrido.\n",
        "La función devuelve el objeto QuadraticProgram que representa el problema QUBO correspondiente al problema TSP de entrada.\n",
        "\n",
        "La función tsp_to_qubo permite convertir un problema TSP en un problema QUBO que puede ser resuelto utilizando algoritmos de optimización cuántica, como el algoritmo QAOA, en Qiskit."
      ],
      "metadata": {
        "id": "pHxPIvrqpkPP"
      }
    },
    {
      "cell_type": "code",
      "source": [],
      "metadata": {
        "id": "Sdd13K4vo_cB"
      },
      "execution_count": null,
      "outputs": []
    },
    {
      "cell_type": "code",
      "source": [],
      "metadata": {
        "id": "s_xdWcRro_QY"
      },
      "execution_count": null,
      "outputs": []
    },
    {
      "cell_type": "code",
      "source": [],
      "metadata": {
        "id": "3PaKVKwuo_IY"
      },
      "execution_count": null,
      "outputs": []
    },
    {
      "cell_type": "markdown",
      "source": [
        "FIN QUANTUM"
      ],
      "metadata": {
        "id": "EckQiLWRo9bS"
      }
    },
    {
      "cell_type": "code",
      "execution_count": 45,
      "metadata": {
        "id": "PtIdj8CQgGme"
      },
      "outputs": [],
      "source": [
        "import random\n",
        "import networkx as nx\n",
        "import matplotlib.pyplot as plt\n",
        "import itertools\n",
        "import numpy as np\n",
        "import time"
      ]
    },
    {
      "cell_type": "code",
      "source": [
        "def generar_grafo(numero_ciudades):\n",
        "    \"\"\"Crea un grafo completo con distancias aleatorias entre los nodos.\"\"\"\n",
        "    n = numero_ciudades\n",
        "    G = nx.complete_graph(n)\n",
        "    for (u, v) in G.edges():\n",
        "        G.edges[u, v]['distancia'] = random.randint(1, 10)\n",
        "    return G,nx.get_edge_attributes(G, 'distancia')"
      ],
      "metadata": {
        "id": "PZNS7J_ok99X"
      },
      "execution_count": 10,
      "outputs": []
    },
    {
      "cell_type": "code",
      "source": [
        "def dibujar_grafo(G):\n",
        "    \"\"\"Dibuja el grafo con las etiquetas de nodos y distancias.\"\"\"\n",
        "    pos = nx.circular_layout(G)\n",
        "    nx.draw(G, pos, with_labels=True)\n",
        "    labels = nx.get_edge_attributes(G, 'distancia')\n",
        "    nx.draw_networkx_edge_labels(G, pos, edge_labels=labels)"
      ],
      "metadata": {
        "id": "aYPcvHGalATY"
      },
      "execution_count": 11,
      "outputs": []
    },
    {
      "cell_type": "code",
      "source": [
        "def crear_poblacion(numero_ciudades):\n",
        "    \"\"\"Genera una lista de viajes aleatorios.\"\"\"\n",
        "    return [random.sample(range(numero_ciudades), numero_ciudades) for _ in range(numero_ciudades)]\n"
      ],
      "metadata": {
        "id": "qY5KM00PgWVQ"
      },
      "execution_count": 12,
      "outputs": []
    },
    {
      "cell_type": "markdown",
      "source": [
        "obtener la distancia total del recorrido\n"
      ],
      "metadata": {
        "id": "hQ7f6zY1gcS5"
      }
    },
    {
      "cell_type": "code",
      "source": [
        "def distancia_entera(viaje,labels):\n",
        "  suma = 0\n",
        "  for pueblo in viaje:\n",
        "    if pueblo == viaje[-1]:\n",
        "      clave = (viaje[0],pueblo) if pueblo > viaje[0] else (pueblo,viaje[0])\n",
        "      suma = suma +labels.get(clave, None)\n",
        "    else:\n",
        "      siguiente= viaje[viaje.index(pueblo)+1]\n",
        "      clave = (pueblo,siguiente ) if siguiente > pueblo else (siguiente,pueblo)\n",
        "      suma = suma +labels.get(clave, None)\n",
        "  return suma\n"
      ],
      "metadata": {
        "id": "mO3Mb15lgZ25"
      },
      "execution_count": 13,
      "outputs": []
    },
    {
      "cell_type": "markdown",
      "source": [
        "Almacenar distancia en un array"
      ],
      "metadata": {
        "id": "aYBL8-BrgiQd"
      }
    },
    {
      "cell_type": "code",
      "source": [
        "def almacenar_dist(viajes, labels):\n",
        "    \"\"\"Almacena las distancias de todos los recorridos en una lista.\"\"\"\n",
        "    return [distancia_entera(v, labels) for v in viajes]"
      ],
      "metadata": {
        "id": "cBZXe4T5gh8l"
      },
      "execution_count": 14,
      "outputs": []
    },
    {
      "cell_type": "markdown",
      "source": [
        "Cruce"
      ],
      "metadata": {
        "id": "KOZuTRnEgoSQ"
      }
    },
    {
      "cell_type": "code",
      "source": [
        "def crucePMX(padre1,padre2):\n",
        "    # generamos los puntos de corte aleatorios\n",
        "    primero = random.randint(0, len(padre2)-2)\n",
        "    segundo = random.randint(primero+1, len(padre2)-1)\n",
        "    # creamos los bloques de los padres\n",
        "    bloque_padre2 = padre2[primero:segundo]\n",
        "    # creamos los hijos\n",
        "    hijo1 = crear_hijo(padre1, padre2, bloque_padre2)\n",
        "    return hijo1\n",
        "  "
      ],
      "metadata": {
        "id": "XUKsHQ22goEV"
      },
      "execution_count": 15,
      "outputs": []
    },
    {
      "cell_type": "code",
      "source": [
        "def crear_hijo(padre1, padre2, bloque_padre):\n",
        "    # creamos el hijo\n",
        "    padre1=list(padre1)\n",
        "    hijo = [-1] * len(padre1)\n",
        "    donde=bloque_padre[0]\n",
        "    part1=padre1[:padre2.index(donde)]\n",
        "    donde = bloque_padre[-1]\n",
        "    part2=padre1[padre2.index(donde)+1:]\n",
        "    pfinal=[]\n",
        "    pinicio=[]\n",
        "    for numero in part1:\n",
        "      i = numero\n",
        "      while i in bloque_padre:\n",
        "        i = padre1[padre2.index(i)]\n",
        "      pinicio.append(i)\n",
        "    for numero in part2:\n",
        "      i = numero\n",
        "      while i in bloque_padre:\n",
        "        i = padre1[padre2.index(i)]\n",
        "      pfinal.append(i)  \n",
        "    hijo=pinicio+bloque_padre+pfinal\n",
        "    return hijo\n"
      ],
      "metadata": {
        "id": "JJznzBaugsys"
      },
      "execution_count": 16,
      "outputs": []
    },
    {
      "cell_type": "markdown",
      "source": [
        "Mutacion\n"
      ],
      "metadata": {
        "id": "XQ8gNTkakgmI"
      }
    },
    {
      "cell_type": "code",
      "source": [
        "def swap_mutation(viaje):\n",
        "    # seleccionar aleatoriamente dos posiciones distintas del individual\n",
        "  pos1, pos2 = random.sample(range(len(viaje)), 2)\n",
        "      # intercambiar los valores en esas posiciones\n",
        "  viaje[pos1], viaje[pos2] = viaje[pos2], viaje[pos1]\n",
        "  return viaje"
      ],
      "metadata": {
        "id": "EtqOLPckkh6K"
      },
      "execution_count": 17,
      "outputs": []
    },
    {
      "cell_type": "markdown",
      "source": [
        "Reemplazo"
      ],
      "metadata": {
        "id": "Tgsdy0W0kmhh"
      }
    },
    {
      "cell_type": "code",
      "source": [
        "def reemplazo_torneo(poblacion, hijo,labels):\n",
        "    # seleccionar aleatoriamente un individuo de la población\n",
        "    indice = random.randint(0, len(poblacion) - 1)\n",
        "    # comparar el individuo con el hijo\n",
        "    if distancia_entera(hijo,labels) < distancia_entera(poblacion[indice],labels):\n",
        "        poblacion[indice] = hijo\n",
        "    return poblacion\n"
      ],
      "metadata": {
        "id": "Dwucj4H4knzy"
      },
      "execution_count": 18,
      "outputs": []
    },
    {
      "cell_type": "markdown",
      "source": [
        "Seleccion"
      ],
      "metadata": {
        "id": "kYJJGRg9krP2"
      }
    },
    {
      "cell_type": "code",
      "source": [
        "def seleccion(poblacion,padre1):#una vez la seleccion torneo es hecha esto sirve para seleccionar al segundo padre\n",
        "  lista_hijos=[]\n",
        "  for padre in poblacion:\n",
        "    if padre==padre1:\n",
        "      lista_hijos.append(padre1)\n",
        "      #cruce\n",
        "    lista_hijos.append(crucePMX(padre1,padre))\n",
        "  return lista_hijos\n"
      ],
      "metadata": {
        "id": "6cQSK7ZukxvX"
      },
      "execution_count": 19,
      "outputs": []
    },
    {
      "cell_type": "code",
      "source": [
        "def seleccion_torneo(poblacion,labels):\n",
        "  distancia = almacenar_dist(poblacion,labels)\n",
        "  dic=crear_dic_viaje_distancia(poblacion,distancia)\n",
        "  i=0\n",
        "  while i == 0:\n",
        "    for k in dic.keys():\n",
        "      primer_elemento=k\n",
        "      i=1\n",
        "      break \n",
        "  return primer_elemento\n"
      ],
      "metadata": {
        "id": "jBaQ-GoMksvj"
      },
      "execution_count": 20,
      "outputs": []
    },
    {
      "cell_type": "code",
      "source": [
        "def crear_dic_viaje_distancia(viajes,distancias):#funcion que crea un diccionario con los viajes y su respectiva distancia\n",
        "  distancias_viajes = {}\n",
        "  for i, viaje in enumerate(viajes):\n",
        "    distancias_viajes[tuple(viaje)] = distancias[i]\n",
        "  return dict(sorted(distancias_viajes.items(), key=lambda x: x[1]))"
      ],
      "metadata": {
        "id": "2BKuKqNqk4gC"
      },
      "execution_count": 21,
      "outputs": []
    },
    {
      "cell_type": "markdown",
      "source": [
        "crear dicionario con los mejores rutas de los padres y de los hijo"
      ],
      "metadata": {
        "id": "Yw5Eu8y0k8HF"
      }
    },
    {
      "cell_type": "code",
      "source": [
        "def nueva_mejor_ruta(distancias_viajes_1,distancias_viajes_2):\n",
        "  nuevo_tamano = len(distancias_viajes_1)\n",
        "  n = nuevo_tamano // 2\n",
        "  # Selección de los mejores individuos del primer diccionario\n",
        "  mejores_viajes_1 = list(distancias_viajes_1.keys())[:n]\n",
        "  # Selección de los mejores individuos del segundo diccionario\n",
        "  mejores_viajes_2 = list(distancias_viajes_2.keys())[:n]\n",
        "  # Unión de las dos listas de los mejores individuos\n",
        "  mejores_viajes = set(mejores_viajes_1 + mejores_viajes_2)\n",
        "  # Si la longitud del conjunto de mejores individuos es menor que n, agregar los restantes en orden de aparición\n",
        "  if len(mejores_viajes) < n:\n",
        "      for viaje in list(distancias_viajes_1.keys())[n:]:\n",
        "          if viaje not in mejores_viajes:\n",
        "              mejores_viajes.add(viaje)\n",
        "              if len(mejores_viajes) == n:\n",
        "                  break\n",
        "      for viaje in list(distancias_viajes_2.keys())[n:]:\n",
        "          if viaje not in mejores_viajes:\n",
        "              mejores_viajes.add(viaje)\n",
        "              if len(mejores_viajes) == n*2:\n",
        "                  break\n",
        "\n",
        "  # Crear un nuevo diccionario que contenga solo los mejores individuos y sus distancias\n",
        "  mejores_distancias_viajes = {}\n",
        "  for viaje in mejores_viajes:\n",
        "      if viaje in distancias_viajes_1:\n",
        "          mejores_distancias_viajes[viaje] = distancias_viajes_1[viaje]\n",
        "      else:\n",
        "          mejores_distancias_viajes[viaje] = distancias_viajes_2[viaje]\n",
        "\n",
        "  return mejores_distancias_viajes"
      ],
      "metadata": {
        "id": "Gg6AkIznlAZw"
      },
      "execution_count": 22,
      "outputs": []
    },
    {
      "cell_type": "markdown",
      "source": [
        "Algoritmo genetico"
      ],
      "metadata": {
        "id": "Z322GnUWlvYr"
      }
    },
    {
      "cell_type": "code",
      "source": [
        "def algoritmo_genetico(numero_ciudades,probabilidad,labels):\n",
        "  #inicializamos variables\n",
        "  hijos=[]\n",
        "  hijos_dist=[]\n",
        "  padres_dist=[]\n",
        "  distancias_viajes_hijos = {}\n",
        "  distancias_viajes_padres={}\n",
        "  #primer paso: creamos el grafico de las ciudades.\n",
        "  #grafo,labels=generar_grafo(numero_ciudades)\n",
        "  #segundo paso creamos los viajes\n",
        "  viajes=crear_poblacion(numero_ciudades)\n",
        "  #establecemos el metodo de parada\n",
        "  i=0\n",
        "  while i<1000:\n",
        "    #seleccion\n",
        "    #primero seleccionaremos el mejor padre del recorrido para asi cruzarlo con el resto de viajes.\n",
        "    padre1=seleccion_torneo(viajes,labels)\n",
        "    #ahora aplicaremos el cruce con cada viaje para generar una lista de hijos\n",
        "    hijos=seleccion(viajes,padre1)\n",
        "    #mutaremos si procede alguno de los hijos\n",
        "    for i in range(len(hijos)):\n",
        "      if random.random()<probabilidad:\n",
        "        hijos[i]=swap_mutation(hijos[i])\n",
        "    for hijo in hijos:\n",
        "      hijos_dist.append(distancia_entera(hijo,labels))\n",
        "    for viaje in viajes:\n",
        "      padres_dist.append(distancia_entera(viaje,labels))    \n",
        "    #vamos a crear un diccionario para almacenar los viajes-con su distancia \n",
        "    distancias_viajes_hijos = crear_dic_viaje_distancia(hijos,hijos_dist)\n",
        "    distancias_viajes_padres= crear_dic_viaje_distancia(viajes,padres_dist)\n",
        "    #con los dos diccionarios creados toca crear uno nuevo con los mejores resultados de cada dic\n",
        "    mejores=nueva_mejor_ruta(distancias_viajes_hijos,distancias_viajes_padres)\n",
        "    #los ordenamos de mejor a peor.\n",
        "    mejores=dict(sorted(mejores.items(), key=lambda x: x[1]))\n",
        "    #ahora tendriamos que suplantar la lista viajes con los mejores viajes y la lista distancias con las mejores distancias\n",
        "    #resetamos las variables\n",
        "    hijos=[]\n",
        "    hijos_dist=[]\n",
        "    padres_dist=[]\n",
        "    distancias_viajes_hijos = {}\n",
        "    distancias_viajes_padres={}\n",
        "    for distancia in mejores.values():\n",
        "      padres_dist.append(distancia)\n",
        "    for ruta in mejores.keys():\n",
        "      viajes.append(list(ruta))\n",
        "    i=i+1\n",
        "  return viajes[0],padres_dist[0]\n",
        "\n",
        "\n",
        "\n",
        "    \n",
        "    \n",
        "\n"
      ],
      "metadata": {
        "id": "Nk3SvQE_lDAe"
      },
      "execution_count": 23,
      "outputs": []
    },
    {
      "cell_type": "markdown",
      "source": [
        "Quantico"
      ],
      "metadata": {
        "id": "NTzi26uz6VFI"
      }
    },
    {
      "cell_type": "code",
      "source": [
        "def pasar_label_matrix(grafo):\n",
        "  label=nx.get_edge_attributes(grafo, 'distancia')\n",
        "  num_ciudades=grafo.number_of_nodes()\n",
        "  matriz=np.zeros((num_ciudades,num_ciudades))\n",
        "  for i in range(matriz.shape[0]):\n",
        "    for j in range(matriz.shape[1]):\n",
        "      if i<j and i !=j:\n",
        "        matriz[i,j]=label[i,j]\n",
        "        matriz[j,i]=label[i,j]\n",
        "  return matriz.astype(int)"
      ],
      "metadata": {
        "id": "_NP9bvlT6WqW"
      },
      "execution_count": 24,
      "outputs": []
    },
    {
      "cell_type": "code",
      "source": [
        "# @title Parámetros del algoritmo\n",
        "numero_ciudades = 4  #@param {type:\"integer\"}\n",
        "probabilidad = 0.89 #@param {type:\"number\", min:0, max:1, step:\"0.01\"}\n"
      ],
      "metadata": {
        "id": "ONe3pM2PlHKG"
      },
      "execution_count": 25,
      "outputs": []
    },
    {
      "cell_type": "code",
      "source": [
        "g,labels=generar_grafo(numero_ciudades)"
      ],
      "metadata": {
        "id": "jXP4Cqlal3-K"
      },
      "execution_count": 26,
      "outputs": []
    },
    {
      "cell_type": "code",
      "source": [
        "dibujar_grafo(g)"
      ],
      "metadata": {
        "id": "Et9WCZHRmE_M",
        "outputId": "ba8bd94e-32d9-48c4-cd95-2ad55eb421d4",
        "colab": {
          "base_uri": "https://localhost:8080/",
          "height": 516
        }
      },
      "execution_count": 27,
      "outputs": [
        {
          "output_type": "display_data",
          "data": {
            "text/plain": [
              "<Figure size 640x480 with 1 Axes>"
            ],
            "image/png": "[encoded data removed]"
          },
          "metadata": {}
        }
      ]
    },
    {
      "cell_type": "code",
      "source": [
        "from qiskit_optimization.applications import Tsp"
      ],
      "metadata": {
        "id": "xD4u-TqI7Tjj"
      },
      "execution_count": 28,
      "outputs": []
    },
    {
      "cell_type": "code",
      "source": [
        "from qiskit_optimization.converters import QuadraticProgramToQubo"
      ],
      "metadata": {
        "id": "faplJ-F-7gop"
      },
      "execution_count": 29,
      "outputs": []
    },
    {
      "cell_type": "code",
      "source": [
        "from qiskit.algorithms.minimum_eigensolvers import SamplingVQE, NumPyMinimumEigensolver"
      ],
      "metadata": {
        "id": "iaC02m1y7way"
      },
      "execution_count": 30,
      "outputs": []
    },
    {
      "cell_type": "code",
      "source": [
        "from qiskit_optimization.algorithms import MinimumEigenOptimizer"
      ],
      "metadata": {
        "id": "22dPGiaS7ygG"
      },
      "execution_count": 31,
      "outputs": []
    },
    {
      "cell_type": "code",
      "source": [
        "from qiskit.utils import QuantumInstance"
      ],
      "metadata": {
        "id": "6NMKJFbtdXeh"
      },
      "execution_count": 50,
      "outputs": []
    },
    {
      "cell_type": "code",
      "source": [
        "from qiskit.algorithms import QAOA"
      ],
      "metadata": {
        "id": "GaLECoMgdaAT"
      },
      "execution_count": 51,
      "outputs": []
    },
    {
      "cell_type": "code",
      "source": [
        "from qiskit.algorithms.optimizers import COBYLA, SPSA, L_BFGS_B"
      ],
      "metadata": {
        "id": "rz80xqzXdbxn"
      },
      "execution_count": 52,
      "outputs": []
    },
    {
      "cell_type": "code",
      "source": [
        "from qiskit import Aer"
      ],
      "metadata": {
        "id": "T2ankf9-dfU6"
      },
      "execution_count": 53,
      "outputs": []
    },
    {
      "cell_type": "code",
      "source": [
        "def solve_tsp_with_qaoa(qubo):\n",
        "    backend = Aer.get_backend('qasm_simulator')\n",
        "    quantum_instance = QuantumInstance(backend, shots=1000)\n",
        "    qaoa = QAOA(optimizer=L_BFGS_B(), reps=3, quantum_instance=quantum_instance)\n",
        "    min_eigen_optimizer = MinimumEigenOptimizer(qaoa)\n",
        "    result = min_eigen_optimizer.solve(qubo)\n",
        "    return result"
      ],
      "metadata": {
        "id": "MYZJY3tTdLkB"
      },
      "execution_count": 65,
      "outputs": []
    },
    {
      "cell_type": "code",
      "source": [
        "\n",
        "\n",
        "numero_ciudades=4\n",
        "probabilidad = 0.89\n",
        "g,labels=generar_grafo(numero_ciudades)\n",
        "matrix=pasar_label_matrix(g)\n",
        "tsp = Tsp(matrix)\n",
        "qp = tsp.to_quadratic_program()\n",
        "qp2qubo = QuadraticProgramToQubo()\n",
        "qubo = qp2qubo.convert(qp)\n",
        "# Prueba diferentes optimizadores\n",
        "#optimizers = [COBYLA(), SPSA(), L_BFGS_B()]\n",
        "\n",
        "result = solve_tsp_with_qaoa(qubo)"
      ],
      "metadata": {
        "id": "EFtD-pG-dKIS"
      },
      "execution_count": 66,
      "outputs": []
    },
    {
      "cell_type": "code",
      "source": [
        "result"
      ],
      "metadata": {
        "id": "N9VAywoShAAL",
        "outputId": "95663e27-b12c-4fee-f382-1f8049a63685",
        "colab": {
          "base_uri": "https://localhost:8080/"
        }
      },
      "execution_count": 67,
      "outputs": [
        {
          "output_type": "execute_result",
          "data": {
            "text/plain": [
              "<MinimumEigenOptimizationResult: fval=23.0, x_0_0=0.0, x_0_1=1.0, x_0_2=0.0, x_0_3=0.0, x_1_0=0.0, x_1_1=0.0, x_1_2=0.0, x_1_3=1.0, x_2_0=1.0, x_2_1=0.0, x_2_2=0.0, x_2_3=0.0, x_3_0=0.0, x_3_1=0.0, x_3_2=1.0, x_3_3=0.0, status=SUCCESS>"
            ]
          },
          "metadata": {},
          "execution_count": 67
        }
      ]
    },
    {
      "cell_type": "code",
      "source": [],
      "metadata": {
        "id": "e1tZJ26dlS3h",
        "outputId": "2fe16de3-9b5f-43f8-dec2-431474f27c7d",
        "colab": {
          "base_uri": "https://localhost:8080/"
        }
      },
      "execution_count": 68,
      "outputs": [
        {
          "output_type": "execute_result",
          "data": {
            "text/plain": [
              "qiskit_optimization.algorithms.minimum_eigen_optimizer.MinimumEigenOptimizationResult"
            ]
          },
          "metadata": {},
          "execution_count": 68
        }
      ]
    },
    {
      "cell_type": "code",
      "source": [
        "#quantum\n",
        "matrix=pasar_label_matrix(g)"
      ],
      "metadata": {
        "id": "dKbSmInB6oa2"
      },
      "execution_count": 32,
      "outputs": []
    },
    {
      "cell_type": "code",
      "source": [
        "tsp = Tsp(matrix)\n"
      ],
      "metadata": {
        "id": "GeRVQ4qr6yO2"
      },
      "execution_count": 33,
      "outputs": []
    },
    {
      "cell_type": "code",
      "source": [
        "qp = tsp.to_quadratic_program()"
      ],
      "metadata": {
        "id": "TLh_vofq7Xz4"
      },
      "execution_count": 34,
      "outputs": []
    },
    {
      "cell_type": "code",
      "source": [
        "qp2qubo = QuadraticProgramToQubo()\n",
        "qubo = qp2qubo.convert(qp)\n",
        "qubitOp, offset = qubo.to_ising()"
      ],
      "metadata": {
        "id": "9QH1SHmI7lAC"
      },
      "execution_count": 35,
      "outputs": []
    },
    {
      "cell_type": "code",
      "source": [
        "print(\"Offset:\", offset)\n",
        "print(\"Ising Hamiltonian:\")\n",
        "print(str(qubitOp))"
      ],
      "metadata": {
        "id": "BFZwquBa7pgr",
        "outputId": "8615ee2a-0a47-4dbe-d52e-0f31cfa7596b",
        "colab": {
          "base_uri": "https://localhost:8080/"
        }
      },
      "execution_count": 36,
      "outputs": [
        {
          "output_type": "stream",
          "name": "stdout",
          "text": [
            "Offset: 4306.0\n",
            "Ising Hamiltonian:\n",
            "-543.5 * IIIIIIIIIIIIIIIZ\n",
            "- 543.5 * IIIIIIIIIIIIIIZI\n",
            "- 543.5 * IIIIIIIIIIIIIZII\n",
            "- 543.5 * IIIIIIIIIIIIZIII\n",
            "- 536.5 * IIIIIIIIIIIZIIII\n",
            "- 536.5 * IIIIIIIIIIZIIIII\n",
            "- 536.5 * IIIIIIIIIZIIIIII\n",
            "- 536.5 * IIIIIIIIZIIIIIII\n",
            "- 536.5 * IIIIIIIZIIIIIIII\n",
            "- 536.5 * IIIIIIZIIIIIIIII\n",
            "- 536.5 * IIIIIZIIIIIIIIII\n",
            "- 536.5 * IIIIZIIIIIIIIIII\n",
            "- 536.5 * IIIZIIIIIIIIIIII\n",
            "- 536.5 * IIZIIIIIIIIIIIII\n",
            "- 536.5 * IZIIIIIIIIIIIIII\n",
            "- 536.5 * ZIIIIIIIIIIIIIII\n",
            "+ 132.5 * IIIIIIIIIIIIIIZZ\n",
            "+ 132.5 * IIIIIIIIIIIIIZIZ\n",
            "+ 132.5 * IIIIIIIIIIIIIZZI\n",
            "+ 132.5 * IIIIIIIIIIIIZIIZ\n",
            "+ 132.5 * IIIIIIIIIIIIZIZI\n",
            "+ 132.5 * IIIIIIIIIIIIZZII\n",
            "+ 132.5 * IIIIIIIIIIIZIIIZ\n",
            "+ 2.5 * IIIIIIIIIIIZIIZI\n",
            "+ 2.5 * IIIIIIIIIIIZZIII\n",
            "+ 2.5 * IIIIIIIIIIZIIIIZ\n",
            "+ 132.5 * IIIIIIIIIIZIIIZI\n",
            "+ 2.5 * IIIIIIIIIIZIIZII\n",
            "+ 132.5 * IIIIIIIIIIZZIIII\n",
            "+ 2.5 * IIIIIIIIIZIIIIZI\n",
            "+ 132.5 * IIIIIIIIIZIIIZII\n",
            "+ 2.5 * IIIIIIIIIZIIZIII\n",
            "+ 132.5 * IIIIIIIIIZIZIIII\n",
            "+ 132.5 * IIIIIIIIIZZIIIII\n",
            "+ 2.5 * IIIIIIIIZIIIIIIZ\n",
            "+ 2.5 * IIIIIIIIZIIIIZII\n",
            "+ 132.5 * IIIIIIIIZIIIZIII\n",
            "+ 132.5 * IIIIIIIIZIIZIIII\n",
            "+ 132.5 * IIIIIIIIZIZIIIII\n",
            "+ 132.5 * IIIIIIIIZZIIIIII\n",
            "+ 132.5 * IIIIIIIZIIIIIIIZ\n",
            "+ 2.25 * IIIIIIIZIIIIIIZI\n",
            "+ 2.25 * IIIIIIIZIIIIZIII\n",
            "+ 132.5 * IIIIIIIZIIIZIIII\n",
            "+ 0.25 * IIIIIIIZIIZIIIII\n",
            "+ 0.25 * IIIIIIIZZIIIIIII\n",
            "+ 2.25 * IIIIIIZIIIIIIIIZ\n",
            "+ 132.5 * IIIIIIZIIIIIIIZI\n",
            "+ 2.25 * IIIIIIZIIIIIIZII\n",
            "+ 0.25 * IIIIIIZIIIIZIIII\n",
            "+ 132.5 * IIIIIIZIIIZIIIII\n",
            "+ 0.25 * IIIIIIZIIZIIIIII\n",
            "+ 132.5 * IIIIIIZZIIIIIIII\n",
            "+ 2.25 * IIIIIZIIIIIIIIZI\n",
            "+ 132.5 * IIIIIZIIIIIIIZII\n",
            "+ 2.25 * IIIIIZIIIIIIZIII\n",
            "+ 0.25 * IIIIIZIIIIZIIIII\n",
            "+ 132.5 * IIIIIZIIIZIIIIII\n",
            "+ 0.25 * IIIIIZIIZIIIIIII\n",
            "+ 132.5 * IIIIIZIZIIIIIIII\n",
            "+ 132.5 * IIIIIZZIIIIIIIII\n",
            "+ 2.25 * IIIIZIIIIIIIIIIZ\n",
            "+ 2.25 * IIIIZIIIIIIIIZII\n",
            "+ 132.5 * IIIIZIIIIIIIZIII\n",
            "+ 0.25 * IIIIZIIIIIIZIIII\n",
            "+ 0.25 * IIIIZIIIIZIIIIII\n",
            "+ 132.5 * IIIIZIIIZIIIIIII\n",
            "+ 132.5 * IIIIZIIZIIIIIIII\n",
            "+ 132.5 * IIIIZIZIIIIIIIII\n",
            "+ 132.5 * IIIIZZIIIIIIIIII\n",
            "+ 132.5 * IIIZIIIIIIIIIIIZ\n",
            "+ 2.0 * IIIZIIIIIIIIIIZI\n",
            "+ 2.0 * IIIZIIIIIIIIZIII\n",
            "+ 132.5 * IIIZIIIIIIIZIIII\n",
            "+ 0.5 * IIIZIIIIIIZIIIII\n",
            "+ 0.5 * IIIZIIIIZIIIIIII\n",
            "+ 132.5 * IIIZIIIZIIIIIIII\n",
            "+ 0.75 * IIIZIIZIIIIIIIII\n",
            "+ 0.75 * IIIZZIIIIIIIIIII\n",
            "+ 2.0 * IIZIIIIIIIIIIIIZ\n",
            "+ 132.5 * IIZIIIIIIIIIIIZI\n",
            "+ 2.0 * IIZIIIIIIIIIIZII\n",
            "+ 0.5 * IIZIIIIIIIIZIIII\n",
            "+ 132.5 * IIZIIIIIIIZIIIII\n",
            "+ 0.5 * IIZIIIIIIZIIIIII\n",
            "+ 0.75 * IIZIIIIZIIIIIIII\n",
            "+ 132.5 * IIZIIIZIIIIIIIII\n",
            "+ 0.75 * IIZIIZIIIIIIIIII\n",
            "+ 132.5 * IIZZIIIIIIIIIIII\n",
            "+ 2.0 * IZIIIIIIIIIIIIZI\n",
            "+ 132.5 * IZIIIIIIIIIIIZII\n",
            "+ 2.0 * IZIIIIIIIIIIZIII\n",
            "+ 0.5 * IZIIIIIIIIZIIIII\n",
            "+ 132.5 * IZIIIIIIIZIIIIII\n",
            "+ 0.5 * IZIIIIIIZIIIIIII\n",
            "+ 0.75 * IZIIIIZIIIIIIIII\n",
            "+ 132.5 * IZIIIZIIIIIIIIII\n",
            "+ 0.75 * IZIIZIIIIIIIIIII\n",
            "+ 132.5 * IZIZIIIIIIIIIIII\n",
            "+ 132.5 * IZZIIIIIIIIIIIII\n",
            "+ 2.0 * ZIIIIIIIIIIIIIIZ\n",
            "+ 2.0 * ZIIIIIIIIIIIIZII\n",
            "+ 132.5 * ZIIIIIIIIIIIZIII\n",
            "+ 0.5 * ZIIIIIIIIIIZIIII\n",
            "+ 0.5 * ZIIIIIIIIZIIIIII\n",
            "+ 132.5 * ZIIIIIIIZIIIIIII\n",
            "+ 0.75 * ZIIIIIIZIIIIIIII\n",
            "+ 0.75 * ZIIIIZIIIIIIIIII\n",
            "+ 132.5 * ZIIIZIIIIIIIIIII\n",
            "+ 132.5 * ZIIZIIIIIIIIIIII\n",
            "+ 132.5 * ZIZIIIIIIIIIIIII\n",
            "+ 132.5 * ZZIIIIIIIIIIIIII\n"
          ]
        }
      ]
    },
    {
      "cell_type": "code",
      "source": [
        "exact = MinimumEigenOptimizer(NumPyMinimumEigensolver())"
      ],
      "metadata": {
        "id": "8ZNG9Z0P726x"
      },
      "execution_count": 37,
      "outputs": []
    },
    {
      "cell_type": "code",
      "source": [
        "result = exact.solve(qubo)\n",
        "print(result.prettyprint())"
      ],
      "metadata": {
        "id": "vMLPqBVQ75Vo",
        "outputId": "08b33693-c1a8-4ee1-d580-736e626dc750",
        "colab": {
          "base_uri": "https://localhost:8080/"
        }
      },
      "execution_count": 38,
      "outputs": [
        {
          "output_type": "stream",
          "name": "stdout",
          "text": [
            "objective function value: 20.0\n",
            "variable values: x_0_0=0.0, x_0_1=1.0, x_0_2=0.0, x_0_3=0.0, x_1_0=0.0, x_1_1=0.0, x_1_2=0.0, x_1_3=1.0, x_2_0=0.0, x_2_1=0.0, x_2_2=1.0, x_2_3=0.0, x_3_0=1.0, x_3_1=0.0, x_3_2=0.0, x_3_3=0.0\n",
            "status: SUCCESS\n"
          ]
        }
      ]
    },
    {
      "cell_type": "code",
      "source": [
        "viaje,distancia=algoritmo_genetico(numero_ciudades,probabilidad,labels)"
      ],
      "metadata": {
        "id": "LgL2Pideltp7"
      },
      "execution_count": 39,
      "outputs": []
    },
    {
      "cell_type": "code",
      "source": [
        "v,d=algoritmo_genetico(numero_ciudades,probabilidad,labels)"
      ],
      "metadata": {
        "id": "vrVSWgcemULO"
      },
      "execution_count": 56,
      "outputs": []
    },
    {
      "cell_type": "code",
      "source": [
        "v"
      ],
      "metadata": {
        "id": "fK76xgzOmXJz",
        "outputId": "85130a4f-be14-4481-ffdc-3c641626b439",
        "colab": {
          "base_uri": "https://localhost:8080/"
        }
      },
      "execution_count": 57,
      "outputs": [
        {
          "output_type": "execute_result",
          "data": {
            "text/plain": [
              "[3, 2, 0, 1]"
            ]
          },
          "metadata": {},
          "execution_count": 57
        }
      ]
    },
    {
      "cell_type": "code",
      "source": [
        "d"
      ],
      "metadata": {
        "id": "S1SX_kgBmYb7",
        "outputId": "b83c63ef-6d76-4302-ee90-9263b17750be",
        "colab": {
          "base_uri": "https://localhost:8080/"
        }
      },
      "execution_count": 58,
      "outputs": [
        {
          "output_type": "execute_result",
          "data": {
            "text/plain": [
              "15"
            ]
          },
          "metadata": {},
          "execution_count": 58
        }
      ]
    },
    {
      "cell_type": "code",
      "source": [
        "viaje"
      ],
      "metadata": {
        "colab": {
          "base_uri": "https://localhost:8080/"
        },
        "id": "F4iTrU-1tGsf",
        "outputId": "d5d6c40e-11a0-474d-9663-ab240b8f5ee0"
      },
      "execution_count": 40,
      "outputs": [
        {
          "output_type": "execute_result",
          "data": {
            "text/plain": [
              "[3, 1, 0, 2]"
            ]
          },
          "metadata": {},
          "execution_count": 40
        }
      ]
    },
    {
      "cell_type": "code",
      "source": [
        "distancia"
      ],
      "metadata": {
        "colab": {
          "base_uri": "https://localhost:8080/"
        },
        "id": "VQCBsxXqtGel",
        "outputId": "8920ca4c-1047-46da-f7e1-043c9da1f5a5"
      },
      "execution_count": 41,
      "outputs": [
        {
          "output_type": "execute_result",
          "data": {
            "text/plain": [
              "20"
            ]
          },
          "metadata": {},
          "execution_count": 41
        }
      ]
    },
    {
      "cell_type": "code",
      "source": [
        "viaje"
      ],
      "metadata": {
        "colab": {
          "base_uri": "https://localhost:8080/"
        },
        "id": "vK35NVGLspkV",
        "outputId": "8a74fd30-80c2-437b-d085-cd825847abdc"
      },
      "execution_count": null,
      "outputs": [
        {
          "output_type": "execute_result",
          "data": {
            "text/plain": [
              "[1, 5, 2, 3, 4, 0]"
            ]
          },
          "metadata": {},
          "execution_count": 49
        }
      ]
    },
    {
      "cell_type": "code",
      "source": [
        "distancia"
      ],
      "metadata": {
        "colab": {
          "base_uri": "https://localhost:8080/"
        },
        "id": "BP8SEOmQtDSX",
        "outputId": "8c4ffc8d-6f78-4879-c088-3de9bdc09449"
      },
      "execution_count": null,
      "outputs": [
        {
          "output_type": "execute_result",
          "data": {
            "text/plain": [
              "18"
            ]
          },
          "metadata": {},
          "execution_count": 50
        }
      ]
    }
  ]
}
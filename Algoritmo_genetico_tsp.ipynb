{
  "nbformat": 4,
  "nbformat_minor": 0,
  "metadata": {
    "colab": {
      "provenance": [],
      "authorship_tag": "ABX9TyPpCrA1CTJb368+0GAEvKTA",
      "include_colab_link": true
    },
    "kernelspec": {
      "name": "python3",
      "display_name": "Python 3"
    },
    "language_info": {
      "name": "python"
    }
  },
  "cells": [
    {
      "cell_type": "markdown",
      "metadata": {
        "id": "view-in-github",
        "colab_type": "text"
      },
      "source": [
        "<a href=\"https://colab.research.google.com/github/aitormorais/Qiskit/blob/main/Algoritmo_genetico_tsp.ipynb\" target=\"_parent\"><img src=\"https://colab.research.google.com/assets/colab-badge.svg\" alt=\"Open In Colab\"/></a>"
      ]
    },
    {
      "cell_type": "markdown",
      "source": [
        "Para implementar una versión cuántica del algoritmo genético, puedes seguir estos pasos:\n",
        "\n",
        "Familiarízate con la computación cuántica y las bibliotecas de Python:\n",
        "Aprende sobre conceptos básicos de computación cuántica, como qubits, superposición, entrelazamiento y compuertas cuánticas. Para ello, puedes revisar recursos en línea, como el libro \"Quantum Computing for Computer Scientists\" de Noson S. Yanofsky y Mirco A. Mannucci, o el curso \"Quantum Machine Learning\" en el sitio web de Qiskit.\n",
        "\n",
        "Selecciona una biblioteca de Python para la computación cuántica:\n",
        "Existen varias bibliotecas de Python para trabajar con computadoras cuánticas, como Qiskit, Cirq, PennyLane y PyQuil. Investiga las características de cada una y elige la que mejor se adapte a tus necesidades y conocimientos.\n",
        "\n",
        "Diseña el circuito cuántico para la representación del problema:\n",
        "Representa las soluciones del problema del viajante (TSP) utilizando qubits y compuertas cuánticas. Puedes considerar el uso de \"quantum annealing\" o \"QAOA (Quantum Approximate Optimization Algorithm)\" para encontrar soluciones óptimas en un espacio de búsqueda cuántico.\n",
        "\n",
        "Adapta las funciones de cruce, mutación y selección a la versión cuántica:\n",
        "Reescribe las funciones de cruce, mutación y selección utilizando operaciones cuánticas y teniendo en cuenta las propiedades de la computación cuántica, como la superposición y el entrelazamiento.\n",
        "\n",
        "Implementa una función de evaluación cuántica:\n",
        "Crea una función de evaluación cuántica que calcule la calidad de las soluciones utilizando un enfoque cuántico. Para ello, puedes utilizar algoritmos cuánticos de optimización aproximada, como QAOA, para medir la calidad de las soluciones.\n",
        "\n",
        "Ejecuta el algoritmo en un simulador cuántico o en una computadora cuántica real:\n",
        "Ejecuta el algoritmo cuántico en un entorno simulado o en una computadora cuántica real si tienes acceso a través de la biblioteca que hayas elegido en el paso 2.\n",
        "\n",
        "Compara el rendimiento de la versión cuántica con la versión clásica:\n",
        "Analiza los resultados del algoritmo cuántico y compáralos con los del algoritmo genético clásico en términos de calidad de las soluciones y tiempo de ejecución.\n",
        "\n",
        "Ten en cuenta que la computación cuántica todavía está en una etapa temprana, y es posible que no siempre ofrezca mejoras significativas en problemas como el TSP, especialmente para instancias pequeñas. Sin embargo, explorar algoritmos cuánticos puede ser útil para comprender cómo abordar problemas de optimización en el ámbito cuántico y cómo aprovechar las características únicas de la computación cuántica."
      ],
      "metadata": {
        "id": "tQ7FW-gloJn3"
      }
    },
    {
      "cell_type": "code",
      "source": [
        "pip install qiskit"
      ],
      "metadata": {
        "id": "bK-Q6DjyomBD",
        "outputId": "f8d76090-2563-4004-b50c-35646e2fdb2e",
        "colab": {
          "base_uri": "https://localhost:8080/"
        }
      },
      "execution_count": 1,
      "outputs": [
        {
          "output_type": "stream",
          "name": "stdout",
          "text": [
            "Looking in indexes: https://pypi.org/simple, https://us-python.pkg.dev/colab-wheels/public/simple/\n",
            "Collecting qiskit\n",
            "  Downloading qiskit-0.42.1.tar.gz (14 kB)\n",
            "  Preparing metadata (setup.py) ... \u001b[?25l\u001b[?25hdone\n",
            "Collecting qiskit-terra==0.23.3\n",
            "  Downloading qiskit_terra-0.23.3-cp39-cp39-manylinux_2_17_x86_64.manylinux2014_x86_64.whl (5.1 MB)\n",
            "\u001b[2K     \u001b[90m━━━━━━━━━━━━━━━━━━━━━━━━━━━━━━━━━━━━━━━━\u001b[0m \u001b[32m5.1/5.1 MB\u001b[0m \u001b[31m26.5 MB/s\u001b[0m eta \u001b[36m0:00:00\u001b[0m\n",
            "\u001b[?25hCollecting qiskit-aer==0.12.0\n",
            "  Downloading qiskit_aer-0.12.0-cp39-cp39-manylinux_2_17_x86_64.manylinux2014_x86_64.whl (12.8 MB)\n",
            "\u001b[2K     \u001b[90m━━━━━━━━━━━━━━━━━━━━━━━━━━━━━━━━━━━━━━━━\u001b[0m \u001b[32m12.8/12.8 MB\u001b[0m \u001b[31m59.8 MB/s\u001b[0m eta \u001b[36m0:00:00\u001b[0m\n",
            "\u001b[?25hCollecting qiskit-ibmq-provider==0.20.2\n",
            "  Downloading qiskit_ibmq_provider-0.20.2-py3-none-any.whl (241 kB)\n",
            "\u001b[2K     \u001b[90m━━━━━━━━━━━━━━━━━━━━━━━━━━━━━━━━━━━━━━\u001b[0m \u001b[32m241.5/241.5 kB\u001b[0m \u001b[31m12.2 MB/s\u001b[0m eta \u001b[36m0:00:00\u001b[0m\n",
            "\u001b[?25hRequirement already satisfied: scipy>=1.0 in /usr/local/lib/python3.9/dist-packages (from qiskit-aer==0.12.0->qiskit) (1.10.1)\n",
            "Requirement already satisfied: numpy>=1.16.3 in /usr/local/lib/python3.9/dist-packages (from qiskit-aer==0.12.0->qiskit) (1.22.4)\n",
            "Requirement already satisfied: requests>=2.19 in /usr/local/lib/python3.9/dist-packages (from qiskit-ibmq-provider==0.20.2->qiskit) (2.27.1)\n",
            "Requirement already satisfied: python-dateutil>=2.8.0 in /usr/local/lib/python3.9/dist-packages (from qiskit-ibmq-provider==0.20.2->qiskit) (2.8.2)\n",
            "Requirement already satisfied: websocket-client>=1.5.1 in /usr/local/lib/python3.9/dist-packages (from qiskit-ibmq-provider==0.20.2->qiskit) (1.5.1)\n",
            "Collecting websockets>=10.0\n",
            "  Downloading websockets-11.0.1-cp39-cp39-manylinux_2_5_x86_64.manylinux1_x86_64.manylinux_2_17_x86_64.manylinux2014_x86_64.whl (129 kB)\n",
            "\u001b[2K     \u001b[90m━━━━━━━━━━━━━━━━━━━━━━━━━━━━━━━━━━━━━\u001b[0m \u001b[32m129.5/129.5 kB\u001b[0m \u001b[31m868.0 kB/s\u001b[0m eta \u001b[36m0:00:00\u001b[0m\n",
            "\u001b[?25hRequirement already satisfied: urllib3>=1.21.1 in /usr/local/lib/python3.9/dist-packages (from qiskit-ibmq-provider==0.20.2->qiskit) (1.26.15)\n",
            "Collecting requests-ntlm<=1.1.0\n",
            "  Downloading requests_ntlm-1.1.0-py2.py3-none-any.whl (5.7 kB)\n",
            "Collecting dill>=0.3\n",
            "  Downloading dill-0.3.6-py3-none-any.whl (110 kB)\n",
            "\u001b[2K     \u001b[90m━━━━━━━━━━━━━━━━━━━━━━━━━━━━━━━━━━━━━━━\u001b[0m \u001b[32m110.5/110.5 kB\u001b[0m \u001b[31m4.4 MB/s\u001b[0m eta \u001b[36m0:00:00\u001b[0m\n",
            "\u001b[?25hCollecting stevedore>=3.0.0\n",
            "  Downloading stevedore-5.0.0-py3-none-any.whl (49 kB)\n",
            "\u001b[2K     \u001b[90m━━━━━━━━━━━━━━━━━━━━━━━━━━━━━━━━━━━━━━━━\u001b[0m \u001b[32m49.6/49.6 kB\u001b[0m \u001b[31m2.1 MB/s\u001b[0m eta \u001b[36m0:00:00\u001b[0m\n",
            "\u001b[?25hCollecting rustworkx>=0.12.0\n",
            "  Downloading rustworkx-0.12.1-cp39-cp39-manylinux_2_17_x86_64.manylinux2014_x86_64.whl (1.9 MB)\n",
            "\u001b[2K     \u001b[90m━━━━━━━━━━━━━━━━━━━━━━━━━━━━━━━━━━━━━━━━\u001b[0m \u001b[32m1.9/1.9 MB\u001b[0m \u001b[31m13.6 MB/s\u001b[0m eta \u001b[36m0:00:00\u001b[0m\n",
            "\u001b[?25hRequirement already satisfied: sympy>=1.3 in /usr/local/lib/python3.9/dist-packages (from qiskit-terra==0.23.3->qiskit) (1.11.1)\n",
            "Collecting ply>=3.10\n",
            "  Downloading ply-3.11-py2.py3-none-any.whl (49 kB)\n",
            "\u001b[2K     \u001b[90m━━━━━━━━━━━━━━━━━━━━━━━━━━━━━━━━━━━━━━━━\u001b[0m \u001b[32m49.6/49.6 kB\u001b[0m \u001b[31m1.3 MB/s\u001b[0m eta \u001b[36m0:00:00\u001b[0m\n",
            "\u001b[?25hRequirement already satisfied: psutil>=5 in /usr/local/lib/python3.9/dist-packages (from qiskit-terra==0.23.3->qiskit) (5.9.4)\n",
            "Collecting symengine>=0.9\n",
            "  Downloading symengine-0.10.0-cp39-cp39-manylinux_2_12_x86_64.manylinux2010_x86_64.whl (37.5 MB)\n",
            "\u001b[2K     \u001b[90m━━━━━━━━━━━━━━━━━━━━━━━━━━━━━━━━━━━━━━━━\u001b[0m \u001b[32m37.5/37.5 MB\u001b[0m \u001b[31m9.7 MB/s\u001b[0m eta \u001b[36m0:00:00\u001b[0m\n",
            "\u001b[?25hRequirement already satisfied: six>=1.5 in /usr/local/lib/python3.9/dist-packages (from python-dateutil>=2.8.0->qiskit-ibmq-provider==0.20.2->qiskit) (1.16.0)\n",
            "Requirement already satisfied: idna<4,>=2.5 in /usr/local/lib/python3.9/dist-packages (from requests>=2.19->qiskit-ibmq-provider==0.20.2->qiskit) (3.4)\n",
            "Requirement already satisfied: charset-normalizer~=2.0.0 in /usr/local/lib/python3.9/dist-packages (from requests>=2.19->qiskit-ibmq-provider==0.20.2->qiskit) (2.0.12)\n",
            "Requirement already satisfied: certifi>=2017.4.17 in /usr/local/lib/python3.9/dist-packages (from requests>=2.19->qiskit-ibmq-provider==0.20.2->qiskit) (2022.12.7)\n",
            "Requirement already satisfied: cryptography>=1.3 in /usr/local/lib/python3.9/dist-packages (from requests-ntlm<=1.1.0->qiskit-ibmq-provider==0.20.2->qiskit) (40.0.1)\n",
            "Collecting ntlm-auth>=1.0.2\n",
            "  Downloading ntlm_auth-1.5.0-py2.py3-none-any.whl (29 kB)\n",
            "Collecting pbr!=2.1.0,>=2.0.0\n",
            "  Downloading pbr-5.11.1-py2.py3-none-any.whl (112 kB)\n",
            "\u001b[2K     \u001b[90m━━━━━━━━━━━━━━━━━━━━━━━━━━━━━━━━━━━━━━━\u001b[0m \u001b[32m112.7/112.7 kB\u001b[0m \u001b[31m3.9 MB/s\u001b[0m eta \u001b[36m0:00:00\u001b[0m\n",
            "\u001b[?25hRequirement already satisfied: mpmath>=0.19 in /usr/local/lib/python3.9/dist-packages (from sympy>=1.3->qiskit-terra==0.23.3->qiskit) (1.3.0)\n",
            "Requirement already satisfied: cffi>=1.12 in /usr/local/lib/python3.9/dist-packages (from cryptography>=1.3->requests-ntlm<=1.1.0->qiskit-ibmq-provider==0.20.2->qiskit) (1.15.1)\n",
            "Requirement already satisfied: pycparser in /usr/local/lib/python3.9/dist-packages (from cffi>=1.12->cryptography>=1.3->requests-ntlm<=1.1.0->qiskit-ibmq-provider==0.20.2->qiskit) (2.21)\n",
            "Building wheels for collected packages: qiskit\n",
            "  Building wheel for qiskit (setup.py) ... \u001b[?25l\u001b[?25hdone\n",
            "  Created wheel for qiskit: filename=qiskit-0.42.1-py3-none-any.whl size=12938 sha256=f363aa215ffd5e254fba2b619a1b8b8210fb17f3feceea7044f52f7b91c9dd9e\n",
            "  Stored in directory: /root/.cache/pip/wheels/40/64/74/29c046bda04fd60f3f6b2e244fa85b70f219e363fc3373f541\n",
            "Successfully built qiskit\n",
            "Installing collected packages: ply, websockets, symengine, rustworkx, pbr, ntlm-auth, dill, stevedore, requests-ntlm, qiskit-terra, qiskit-ibmq-provider, qiskit-aer, qiskit\n",
            "Successfully installed dill-0.3.6 ntlm-auth-1.5.0 pbr-5.11.1 ply-3.11 qiskit-0.42.1 qiskit-aer-0.12.0 qiskit-ibmq-provider-0.20.2 qiskit-terra-0.23.3 requests-ntlm-1.1.0 rustworkx-0.12.1 stevedore-5.0.0 symengine-0.10.0 websockets-11.0.1\n"
          ]
        }
      ]
    },
    {
      "cell_type": "code",
      "source": [
        "pip install qiskit-optimization"
      ],
      "metadata": {
        "id": "3f_LeRxGooUC",
        "outputId": "336d9205-2d54-4b60-eee3-c1e8073b76b9",
        "colab": {
          "base_uri": "https://localhost:8080/"
        }
      },
      "execution_count": 2,
      "outputs": [
        {
          "output_type": "stream",
          "name": "stdout",
          "text": [
            "Looking in indexes: https://pypi.org/simple, https://us-python.pkg.dev/colab-wheels/public/simple/\n",
            "Collecting qiskit-optimization\n",
            "  Downloading qiskit_optimization-0.5.0-py3-none-any.whl (156 kB)\n",
            "\u001b[2K     \u001b[90m━━━━━━━━━━━━━━━━━━━━━━━━━━━━━━━━━━━━━━━\u001b[0m \u001b[32m156.5/156.5 kB\u001b[0m \u001b[31m3.8 MB/s\u001b[0m eta \u001b[36m0:00:00\u001b[0m\n",
            "\u001b[?25hRequirement already satisfied: qiskit-terra>=0.22.4 in /usr/local/lib/python3.9/dist-packages (from qiskit-optimization) (0.23.3)\n",
            "Collecting docplex!=2.24.231,>=2.21.207\n",
            "  Downloading docplex-2.25.236.tar.gz (633 kB)\n",
            "\u001b[2K     \u001b[90m━━━━━━━━━━━━━━━━━━━━━━━━━━━━━━━━━━━━━━\u001b[0m \u001b[32m633.5/633.5 kB\u001b[0m \u001b[31m12.0 MB/s\u001b[0m eta \u001b[36m0:00:00\u001b[0m\n",
            "\u001b[?25h  Preparing metadata (setup.py) ... \u001b[?25l\u001b[?25hdone\n",
            "Requirement already satisfied: networkx>=2.6.3 in /usr/local/lib/python3.9/dist-packages (from qiskit-optimization) (3.1)\n",
            "Requirement already satisfied: scipy>=1.4 in /usr/local/lib/python3.9/dist-packages (from qiskit-optimization) (1.10.1)\n",
            "Requirement already satisfied: numpy>=1.17 in /usr/local/lib/python3.9/dist-packages (from qiskit-optimization) (1.22.4)\n",
            "Requirement already satisfied: setuptools>=40.1.0 in /usr/local/lib/python3.9/dist-packages (from qiskit-optimization) (67.6.1)\n",
            "Requirement already satisfied: six in /usr/local/lib/python3.9/dist-packages (from docplex!=2.24.231,>=2.21.207->qiskit-optimization) (1.16.0)\n",
            "Requirement already satisfied: psutil>=5 in /usr/local/lib/python3.9/dist-packages (from qiskit-terra>=0.22.4->qiskit-optimization) (5.9.4)\n",
            "Requirement already satisfied: python-dateutil>=2.8.0 in /usr/local/lib/python3.9/dist-packages (from qiskit-terra>=0.22.4->qiskit-optimization) (2.8.2)\n",
            "Requirement already satisfied: symengine>=0.9 in /usr/local/lib/python3.9/dist-packages (from qiskit-terra>=0.22.4->qiskit-optimization) (0.10.0)\n",
            "Requirement already satisfied: stevedore>=3.0.0 in /usr/local/lib/python3.9/dist-packages (from qiskit-terra>=0.22.4->qiskit-optimization) (5.0.0)\n",
            "Requirement already satisfied: ply>=3.10 in /usr/local/lib/python3.9/dist-packages (from qiskit-terra>=0.22.4->qiskit-optimization) (3.11)\n",
            "Requirement already satisfied: sympy>=1.3 in /usr/local/lib/python3.9/dist-packages (from qiskit-terra>=0.22.4->qiskit-optimization) (1.11.1)\n",
            "Requirement already satisfied: rustworkx>=0.12.0 in /usr/local/lib/python3.9/dist-packages (from qiskit-terra>=0.22.4->qiskit-optimization) (0.12.1)\n",
            "Requirement already satisfied: dill>=0.3 in /usr/local/lib/python3.9/dist-packages (from qiskit-terra>=0.22.4->qiskit-optimization) (0.3.6)\n",
            "Requirement already satisfied: pbr!=2.1.0,>=2.0.0 in /usr/local/lib/python3.9/dist-packages (from stevedore>=3.0.0->qiskit-terra>=0.22.4->qiskit-optimization) (5.11.1)\n",
            "Requirement already satisfied: mpmath>=0.19 in /usr/local/lib/python3.9/dist-packages (from sympy>=1.3->qiskit-terra>=0.22.4->qiskit-optimization) (1.3.0)\n",
            "Building wheels for collected packages: docplex\n",
            "  Building wheel for docplex (setup.py) ... \u001b[?25l\u001b[?25hdone\n",
            "  Created wheel for docplex: filename=docplex-2.25.236-py3-none-any.whl size=671365 sha256=dce35147b2490d69fb678d339cc81a691da9e8aa88a8334ea1c75e2fc50076ca\n",
            "  Stored in directory: /root/.cache/pip/wheels/02/32/20/7f3f85d090da2c3b1ec41de83f17f426a05acc5d9f5e8a1c9f\n",
            "Successfully built docplex\n",
            "Installing collected packages: docplex, qiskit-optimization\n",
            "Successfully installed docplex-2.25.236 qiskit-optimization-0.5.0\n"
          ]
        }
      ]
    },
    {
      "cell_type": "markdown",
      "source": [
        "QUANTUM"
      ],
      "metadata": {
        "id": "j59yytf4o7kA"
      }
    },
    {
      "cell_type": "code",
      "source": [
        "import numpy as np\n",
        "from qiskit_optimization import QuadraticProgram\n"
      ],
      "metadata": {
        "id": "wKXz5LicpRBW"
      },
      "execution_count": 3,
      "outputs": []
    },
    {
      "cell_type": "markdown",
      "source": [
        "La función tsp_to_qubo convierte un problema del viajante (Travelling Salesman Problem, TSP) en un problema de optimización cuadrática sin restricciones binarias (Quadratic Unconstrained Binary Optimization, QUBO) utilizando el modelo de Ising. La función toma como entrada una matriz de distancias y devuelve un objeto QuadraticProgram de Qiskit que representa el problema QUBO.\n",
        "\n",
        "A continuación, se detallan los pasos de la función tsp_to_qubo:\n",
        "\n",
        "La función toma como entrada una matriz de distancias distance_matrix que representa las distancias entre las ciudades en el problema TSP. La matriz es cuadrada y simétrica, con una dimensión igual al número de ciudades en el problema.\n",
        "\n",
        "Se crea un objeto QuadraticProgram vacío llamado qubo.\n",
        "\n",
        "Se añaden variables binarias x_i,j al problema QUBO para cada par de ciudades i y j. Estas variables indican si el viajante va de la ciudad i a la ciudad j en su recorrido.\n",
        "\n",
        "Se define la función de coste del problema QUBO, que es una función cuadrática de las variables x_i,j. La función de coste tiene en cuenta las distancias entre las ciudades y busca minimizar la distancia total del recorrido del viajante.\n",
        "\n",
        "Se añaden restricciones al problema QUBO para garantizar que se encuentre una solución válida para el problema TSP. Estas restricciones incluyen:\n",
        "\n",
        "Asegurar que cada ciudad sea visitada exactamente una vez.\n",
        "Asegurar que el viajante salga de cada ciudad exactamente una vez.\n",
        "Evitar subtours, es decir, que el viajante no repita ciudades en el recorrido.\n",
        "La función devuelve el objeto QuadraticProgram que representa el problema QUBO correspondiente al problema TSP de entrada.\n",
        "\n",
        "La función tsp_to_qubo permite convertir un problema TSP en un problema QUBO que puede ser resuelto utilizando algoritmos de optimización cuántica, como el algoritmo QAOA, en Qiskit."
      ],
      "metadata": {
        "id": "pHxPIvrqpkPP"
      }
    },
    {
      "cell_type": "code",
      "source": [],
      "metadata": {
        "id": "Sdd13K4vo_cB"
      },
      "execution_count": null,
      "outputs": []
    },
    {
      "cell_type": "code",
      "source": [],
      "metadata": {
        "id": "s_xdWcRro_QY"
      },
      "execution_count": null,
      "outputs": []
    },
    {
      "cell_type": "code",
      "source": [],
      "metadata": {
        "id": "3PaKVKwuo_IY"
      },
      "execution_count": null,
      "outputs": []
    },
    {
      "cell_type": "markdown",
      "source": [
        "FIN QUANTUM"
      ],
      "metadata": {
        "id": "EckQiLWRo9bS"
      }
    },
    {
      "cell_type": "code",
      "execution_count": 4,
      "metadata": {
        "id": "PtIdj8CQgGme"
      },
      "outputs": [],
      "source": [
        "import random\n",
        "import networkx as nx\n",
        "import matplotlib.pyplot as plt\n",
        "import itertools\n",
        "import numpy as np\n",
        "import time"
      ]
    },
    {
      "cell_type": "code",
      "source": [
        "def generar_grafo(numero_ciudades):\n",
        "    \"\"\"Crea un grafo completo con distancias aleatorias entre los nodos.\"\"\"\n",
        "    n = numero_ciudades\n",
        "    G = nx.complete_graph(n)\n",
        "    for (u, v) in G.edges():\n",
        "        G.edges[u, v]['distancia'] = random.randint(1, 10)\n",
        "    return G,nx.get_edge_attributes(G, 'distancia')"
      ],
      "metadata": {
        "id": "PZNS7J_ok99X"
      },
      "execution_count": 5,
      "outputs": []
    },
    {
      "cell_type": "code",
      "source": [
        "def dibujar_grafo(G):\n",
        "    \"\"\"Dibuja el grafo con las etiquetas de nodos y distancias.\"\"\"\n",
        "    pos = nx.circular_layout(G)\n",
        "    nx.draw(G, pos, with_labels=True)\n",
        "    labels = nx.get_edge_attributes(G, 'distancia')\n",
        "    nx.draw_networkx_edge_labels(G, pos, edge_labels=labels)"
      ],
      "metadata": {
        "id": "aYPcvHGalATY"
      },
      "execution_count": 6,
      "outputs": []
    },
    {
      "cell_type": "code",
      "source": [
        "def crear_poblacion(numero_ciudades):\n",
        "    \"\"\"Genera una lista de viajes aleatorios.\"\"\"\n",
        "    return [random.sample(range(numero_ciudades), numero_ciudades) for _ in range(numero_ciudades)]\n"
      ],
      "metadata": {
        "id": "qY5KM00PgWVQ"
      },
      "execution_count": 7,
      "outputs": []
    },
    {
      "cell_type": "markdown",
      "source": [
        "obtener la distancia total del recorrido\n"
      ],
      "metadata": {
        "id": "hQ7f6zY1gcS5"
      }
    },
    {
      "cell_type": "code",
      "source": [
        "def distancia_entera(viaje,labels):\n",
        "  suma = 0\n",
        "  for pueblo in viaje:\n",
        "    if pueblo == viaje[-1]:\n",
        "      clave = (viaje[0],pueblo) if pueblo > viaje[0] else (pueblo,viaje[0])\n",
        "      suma = suma +labels.get(clave, None)\n",
        "    else:\n",
        "      siguiente= viaje[viaje.index(pueblo)+1]\n",
        "      clave = (pueblo,siguiente ) if siguiente > pueblo else (siguiente,pueblo)\n",
        "      suma = suma +labels.get(clave, None)\n",
        "  return suma\n"
      ],
      "metadata": {
        "id": "mO3Mb15lgZ25"
      },
      "execution_count": 8,
      "outputs": []
    },
    {
      "cell_type": "markdown",
      "source": [
        "Almacenar distancia en un array"
      ],
      "metadata": {
        "id": "aYBL8-BrgiQd"
      }
    },
    {
      "cell_type": "code",
      "source": [
        "def almacenar_dist(viajes, labels):\n",
        "    \"\"\"Almacena las distancias de todos los recorridos en una lista.\"\"\"\n",
        "    return [distancia_entera(v, labels) for v in viajes]"
      ],
      "metadata": {
        "id": "cBZXe4T5gh8l"
      },
      "execution_count": 9,
      "outputs": []
    },
    {
      "cell_type": "markdown",
      "source": [
        "Cruce"
      ],
      "metadata": {
        "id": "KOZuTRnEgoSQ"
      }
    },
    {
      "cell_type": "code",
      "source": [
        "def crucePMX(padre1,padre2):\n",
        "    # generamos los puntos de corte aleatorios\n",
        "    primero = random.randint(0, len(padre2)-2)\n",
        "    segundo = random.randint(primero+1, len(padre2)-1)\n",
        "    # creamos los bloques de los padres\n",
        "    bloque_padre2 = padre2[primero:segundo]\n",
        "    # creamos los hijos\n",
        "    hijo1 = crear_hijo(padre1, padre2, bloque_padre2)\n",
        "    return hijo1\n",
        "  "
      ],
      "metadata": {
        "id": "XUKsHQ22goEV"
      },
      "execution_count": 10,
      "outputs": []
    },
    {
      "cell_type": "code",
      "source": [
        "def crear_hijo(padre1, padre2, bloque_padre):\n",
        "    # creamos el hijo\n",
        "    padre1=list(padre1)\n",
        "    hijo = [-1] * len(padre1)\n",
        "    donde=bloque_padre[0]\n",
        "    part1=padre1[:padre2.index(donde)]\n",
        "    donde = bloque_padre[-1]\n",
        "    part2=padre1[padre2.index(donde)+1:]\n",
        "    pfinal=[]\n",
        "    pinicio=[]\n",
        "    for numero in part1:\n",
        "      i = numero\n",
        "      while i in bloque_padre:\n",
        "        i = padre1[padre2.index(i)]\n",
        "      pinicio.append(i)\n",
        "    for numero in part2:\n",
        "      i = numero\n",
        "      while i in bloque_padre:\n",
        "        i = padre1[padre2.index(i)]\n",
        "      pfinal.append(i)  \n",
        "    hijo=pinicio+bloque_padre+pfinal\n",
        "    return hijo\n"
      ],
      "metadata": {
        "id": "JJznzBaugsys"
      },
      "execution_count": 11,
      "outputs": []
    },
    {
      "cell_type": "markdown",
      "source": [
        "Mutacion\n"
      ],
      "metadata": {
        "id": "XQ8gNTkakgmI"
      }
    },
    {
      "cell_type": "code",
      "source": [
        "def swap_mutation(viaje):\n",
        "    # seleccionar aleatoriamente dos posiciones distintas del individual\n",
        "  pos1, pos2 = random.sample(range(len(viaje)), 2)\n",
        "      # intercambiar los valores en esas posiciones\n",
        "  viaje[pos1], viaje[pos2] = viaje[pos2], viaje[pos1]\n",
        "  return viaje"
      ],
      "metadata": {
        "id": "EtqOLPckkh6K"
      },
      "execution_count": 12,
      "outputs": []
    },
    {
      "cell_type": "markdown",
      "source": [
        "Reemplazo"
      ],
      "metadata": {
        "id": "Tgsdy0W0kmhh"
      }
    },
    {
      "cell_type": "code",
      "source": [
        "def reemplazo_torneo(poblacion, hijo,labels):\n",
        "    # seleccionar aleatoriamente un individuo de la población\n",
        "    indice = random.randint(0, len(poblacion) - 1)\n",
        "    # comparar el individuo con el hijo\n",
        "    if distancia_entera(hijo,labels) < distancia_entera(poblacion[indice],labels):\n",
        "        poblacion[indice] = hijo\n",
        "    return poblacion\n"
      ],
      "metadata": {
        "id": "Dwucj4H4knzy"
      },
      "execution_count": 13,
      "outputs": []
    },
    {
      "cell_type": "markdown",
      "source": [
        "Seleccion"
      ],
      "metadata": {
        "id": "kYJJGRg9krP2"
      }
    },
    {
      "cell_type": "code",
      "source": [
        "def seleccion(poblacion,padre1):#una vez la seleccion torneo es hecha esto sirve para seleccionar al segundo padre\n",
        "  lista_hijos=[]\n",
        "  for padre in poblacion:\n",
        "    if padre==padre1:\n",
        "      lista_hijos.append(padre1)\n",
        "      #cruce\n",
        "    lista_hijos.append(crucePMX(padre1,padre))\n",
        "  return lista_hijos\n"
      ],
      "metadata": {
        "id": "6cQSK7ZukxvX"
      },
      "execution_count": 14,
      "outputs": []
    },
    {
      "cell_type": "code",
      "source": [
        "def seleccion_torneo(poblacion,labels):\n",
        "  distancia = almacenar_dist(poblacion,labels)\n",
        "  dic=crear_dic_viaje_distancia(poblacion,distancia)\n",
        "  i=0\n",
        "  while i == 0:\n",
        "    for k in dic.keys():\n",
        "      primer_elemento=k\n",
        "      i=1\n",
        "      break \n",
        "  return primer_elemento\n"
      ],
      "metadata": {
        "id": "jBaQ-GoMksvj"
      },
      "execution_count": 15,
      "outputs": []
    },
    {
      "cell_type": "code",
      "source": [
        "def crear_dic_viaje_distancia(viajes,distancias):#funcion que crea un diccionario con los viajes y su respectiva distancia\n",
        "  distancias_viajes = {}\n",
        "  for i, viaje in enumerate(viajes):\n",
        "    distancias_viajes[tuple(viaje)] = distancias[i]\n",
        "  return dict(sorted(distancias_viajes.items(), key=lambda x: x[1]))"
      ],
      "metadata": {
        "id": "2BKuKqNqk4gC"
      },
      "execution_count": 16,
      "outputs": []
    },
    {
      "cell_type": "markdown",
      "source": [
        "crear dicionario con los mejores rutas de los padres y de los hijo"
      ],
      "metadata": {
        "id": "Yw5Eu8y0k8HF"
      }
    },
    {
      "cell_type": "code",
      "source": [
        "def nueva_mejor_ruta(distancias_viajes_1,distancias_viajes_2):\n",
        "  nuevo_tamano = len(distancias_viajes_1)\n",
        "  n = nuevo_tamano // 2\n",
        "  # Selección de los mejores individuos del primer diccionario\n",
        "  mejores_viajes_1 = list(distancias_viajes_1.keys())[:n]\n",
        "  # Selección de los mejores individuos del segundo diccionario\n",
        "  mejores_viajes_2 = list(distancias_viajes_2.keys())[:n]\n",
        "  # Unión de las dos listas de los mejores individuos\n",
        "  mejores_viajes = set(mejores_viajes_1 + mejores_viajes_2)\n",
        "  # Si la longitud del conjunto de mejores individuos es menor que n, agregar los restantes en orden de aparición\n",
        "  if len(mejores_viajes) < n:\n",
        "      for viaje in list(distancias_viajes_1.keys())[n:]:\n",
        "          if viaje not in mejores_viajes:\n",
        "              mejores_viajes.add(viaje)\n",
        "              if len(mejores_viajes) == n:\n",
        "                  break\n",
        "      for viaje in list(distancias_viajes_2.keys())[n:]:\n",
        "          if viaje not in mejores_viajes:\n",
        "              mejores_viajes.add(viaje)\n",
        "              if len(mejores_viajes) == n*2:\n",
        "                  break\n",
        "\n",
        "  # Crear un nuevo diccionario que contenga solo los mejores individuos y sus distancias\n",
        "  mejores_distancias_viajes = {}\n",
        "  for viaje in mejores_viajes:\n",
        "      if viaje in distancias_viajes_1:\n",
        "          mejores_distancias_viajes[viaje] = distancias_viajes_1[viaje]\n",
        "      else:\n",
        "          mejores_distancias_viajes[viaje] = distancias_viajes_2[viaje]\n",
        "\n",
        "  return mejores_distancias_viajes"
      ],
      "metadata": {
        "id": "Gg6AkIznlAZw"
      },
      "execution_count": 17,
      "outputs": []
    },
    {
      "cell_type": "markdown",
      "source": [
        "Algoritmo genetico"
      ],
      "metadata": {
        "id": "Z322GnUWlvYr"
      }
    },
    {
      "cell_type": "code",
      "source": [
        "def algoritmo_genetico(numero_ciudades,probabilidad,labels):\n",
        "  #inicializamos variables\n",
        "  hijos=[]\n",
        "  hijos_dist=[]\n",
        "  padres_dist=[]\n",
        "  distancias_viajes_hijos = {}\n",
        "  distancias_viajes_padres={}\n",
        "  #primer paso: creamos el grafico de las ciudades.\n",
        "  #grafo,labels=generar_grafo(numero_ciudades)\n",
        "  #segundo paso creamos los viajes\n",
        "  viajes=crear_poblacion(numero_ciudades)\n",
        "  #establecemos el metodo de parada\n",
        "  i=0\n",
        "  while i<1000:\n",
        "    #seleccion\n",
        "    #primero seleccionaremos el mejor padre del recorrido para asi cruzarlo con el resto de viajes.\n",
        "    padre1=seleccion_torneo(viajes,labels)\n",
        "    #ahora aplicaremos el cruce con cada viaje para generar una lista de hijos\n",
        "    hijos=seleccion(viajes,padre1)\n",
        "    #mutaremos si procede alguno de los hijos\n",
        "    for i in range(len(hijos)):\n",
        "      if random.random()<probabilidad:\n",
        "        hijos[i]=swap_mutation(hijos[i])\n",
        "    for hijo in hijos:\n",
        "      hijos_dist.append(distancia_entera(hijo,labels))\n",
        "    for viaje in viajes:\n",
        "      padres_dist.append(distancia_entera(viaje,labels))    \n",
        "    #vamos a crear un diccionario para almacenar los viajes-con su distancia \n",
        "    distancias_viajes_hijos = crear_dic_viaje_distancia(hijos,hijos_dist)\n",
        "    distancias_viajes_padres= crear_dic_viaje_distancia(viajes,padres_dist)\n",
        "    #con los dos diccionarios creados toca crear uno nuevo con los mejores resultados de cada dic\n",
        "    mejores=nueva_mejor_ruta(distancias_viajes_hijos,distancias_viajes_padres)\n",
        "    #los ordenamos de mejor a peor.\n",
        "    mejores=dict(sorted(mejores.items(), key=lambda x: x[1]))\n",
        "    #ahora tendriamos que suplantar la lista viajes con los mejores viajes y la lista distancias con las mejores distancias\n",
        "    #resetamos las variables\n",
        "    hijos=[]\n",
        "    hijos_dist=[]\n",
        "    padres_dist=[]\n",
        "    distancias_viajes_hijos = {}\n",
        "    distancias_viajes_padres={}\n",
        "    for distancia in mejores.values():\n",
        "      padres_dist.append(distancia)\n",
        "    for ruta in mejores.keys():\n",
        "      viajes.append(list(ruta))\n",
        "    i=i+1\n",
        "  return viajes[0],padres_dist[0]\n",
        "\n",
        "\n",
        "\n",
        "    \n",
        "    \n",
        "\n"
      ],
      "metadata": {
        "id": "Nk3SvQE_lDAe"
      },
      "execution_count": 18,
      "outputs": []
    },
    {
      "cell_type": "markdown",
      "source": [
        "Quantico"
      ],
      "metadata": {
        "id": "NTzi26uz6VFI"
      }
    },
    {
      "cell_type": "code",
      "source": [
        "def pasar_label_matrix(grafo):\n",
        "  label=nx.get_edge_attributes(grafo, 'distancia')\n",
        "  num_ciudades=grafo.number_of_nodes()\n",
        "  matriz=np.zeros((num_ciudades,num_ciudades))\n",
        "  for i in range(matriz.shape[0]):\n",
        "    for j in range(matriz.shape[1]):\n",
        "      if i<j and i !=j:\n",
        "        matriz[i,j]=label[i,j]\n",
        "        matriz[j,i]=label[i,j]\n",
        "  return matriz.astype(int)"
      ],
      "metadata": {
        "id": "_NP9bvlT6WqW"
      },
      "execution_count": 25,
      "outputs": []
    },
    {
      "cell_type": "code",
      "source": [
        "# @title Parámetros del algoritmo\n",
        "numero_ciudades = 6  #@param {type:\"integer\"}\n",
        "probabilidad = 0.89 #@param {type:\"number\", min:0, max:1, step:\"0.01\"}\n"
      ],
      "metadata": {
        "id": "ONe3pM2PlHKG"
      },
      "execution_count": 19,
      "outputs": []
    },
    {
      "cell_type": "code",
      "source": [
        "g,labels=generar_grafo(numero_ciudades)"
      ],
      "metadata": {
        "id": "jXP4Cqlal3-K"
      },
      "execution_count": 20,
      "outputs": []
    },
    {
      "cell_type": "code",
      "source": [
        "dibujar_grafo(g)"
      ],
      "metadata": {
        "id": "Et9WCZHRmE_M",
        "outputId": "3f00daca-ae97-43cf-c543-8aaad8f98cf2",
        "colab": {
          "base_uri": "https://localhost:8080/",
          "height": 516
        }
      },
      "execution_count": 21,
      "outputs": [
        {
          "output_type": "display_data",
          "data": {
            "text/plain": [
              "<Figure size 640x480 with 1 Axes>"
            ],
            "image/png": "[encoded data removed]"
          },
          "metadata": {}
        }
      ]
    },
    {
      "cell_type": "code",
      "source": [
        "from qiskit_optimization.applications import Tsp"
      ],
      "metadata": {
        "id": "xD4u-TqI7Tjj"
      },
      "execution_count": 28,
      "outputs": []
    },
    {
      "cell_type": "code",
      "source": [
        "from qiskit_optimization.converters import QuadraticProgramToQubo"
      ],
      "metadata": {
        "id": "faplJ-F-7gop"
      },
      "execution_count": 31,
      "outputs": []
    },
    {
      "cell_type": "code",
      "source": [
        "from qiskit.algorithms.minimum_eigensolvers import SamplingVQE, NumPyMinimumEigensolver"
      ],
      "metadata": {
        "id": "iaC02m1y7way"
      },
      "execution_count": 35,
      "outputs": []
    },
    {
      "cell_type": "code",
      "source": [
        "from qiskit_optimization.algorithms import MinimumEigenOptimizer"
      ],
      "metadata": {
        "id": "22dPGiaS7ygG"
      },
      "execution_count": 36,
      "outputs": []
    },
    {
      "cell_type": "code",
      "source": [
        "#quantum\n",
        "matrix=pasar_label_matrix(g)"
      ],
      "metadata": {
        "id": "dKbSmInB6oa2"
      },
      "execution_count": 26,
      "outputs": []
    },
    {
      "cell_type": "code",
      "source": [
        "tsp = Tsp(matrix)\n"
      ],
      "metadata": {
        "id": "GeRVQ4qr6yO2"
      },
      "execution_count": 29,
      "outputs": []
    },
    {
      "cell_type": "code",
      "source": [
        "qp = tsp.to_quadratic_program()"
      ],
      "metadata": {
        "id": "TLh_vofq7Xz4"
      },
      "execution_count": 32,
      "outputs": []
    },
    {
      "cell_type": "code",
      "source": [
        "qp2qubo = QuadraticProgramToQubo()\n",
        "qubo = qp2qubo.convert(qp)\n",
        "qubitOp, offset = qubo.to_ising()"
      ],
      "metadata": {
        "id": "9QH1SHmI7lAC"
      },
      "execution_count": 33,
      "outputs": []
    },
    {
      "cell_type": "code",
      "source": [
        "print(\"Offset:\", offset)\n",
        "print(\"Ising Hamiltonian:\")\n",
        "print(str(qubitOp))"
      ],
      "metadata": {
        "id": "BFZwquBa7pgr",
        "outputId": "82f7709e-f7d6-4923-fa7a-07aa4dbee99f",
        "colab": {
          "base_uri": "https://localhost:8080/"
        }
      },
      "execution_count": 34,
      "outputs": [
        {
          "output_type": "stream",
          "name": "stdout",
          "text": [
            "Offset: 64461.0\n",
            "Ising Hamiltonian:\n",
            "-3903.0 * IIIIIIIIIIIIIIIIIIIIIIIIIIIIIIIIIIIZ\n",
            "- 3903.0 * IIIIIIIIIIIIIIIIIIIIIIIIIIIIIIIIIIZI\n",
            "- 3903.0 * IIIIIIIIIIIIIIIIIIIIIIIIIIIIIIIIIZII\n",
            "- 3903.0 * IIIIIIIIIIIIIIIIIIIIIIIIIIIIIIIIZIII\n",
            "- 3903.0 * IIIIIIIIIIIIIIIIIIIIIIIIIIIIIIIZIIII\n",
            "- 3903.0 * IIIIIIIIIIIIIIIIIIIIIIIIIIIIIIZIIIII\n",
            "- 3906.0 * IIIIIIIIIIIIIIIIIIIIIIIIIIIIIZIIIIII\n",
            "- 3906.0 * IIIIIIIIIIIIIIIIIIIIIIIIIIIIZIIIIIII\n",
            "- 3906.0 * IIIIIIIIIIIIIIIIIIIIIIIIIIIZIIIIIIII\n",
            "- 3906.0 * IIIIIIIIIIIIIIIIIIIIIIIIIIZIIIIIIIII\n",
            "- 3906.0 * IIIIIIIIIIIIIIIIIIIIIIIIIZIIIIIIIIII\n",
            "- 3906.0 * IIIIIIIIIIIIIIIIIIIIIIIIZIIIIIIIIIII\n",
            "- 3908.0 * IIIIIIIIIIIIIIIIIIIIIIIZIIIIIIIIIIII\n",
            "- 3908.0 * IIIIIIIIIIIIIIIIIIIIIIZIIIIIIIIIIIII\n",
            "- 3908.0 * IIIIIIIIIIIIIIIIIIIIIZIIIIIIIIIIIIII\n",
            "- 3908.0 * IIIIIIIIIIIIIIIIIIIIZIIIIIIIIIIIIIII\n",
            "- 3908.0 * IIIIIIIIIIIIIIIIIIIZIIIIIIIIIIIIIIII\n",
            "- 3908.0 * IIIIIIIIIIIIIIIIIIZIIIIIIIIIIIIIIIII\n",
            "- 3905.0 * IIIIIIIIIIIIIIIIIZIIIIIIIIIIIIIIIIII\n",
            "- 3905.0 * IIIIIIIIIIIIIIIIZIIIIIIIIIIIIIIIIIII\n",
            "- 3905.0 * IIIIIIIIIIIIIIIZIIIIIIIIIIIIIIIIIIII\n",
            "- 3905.0 * IIIIIIIIIIIIIIZIIIIIIIIIIIIIIIIIIIII\n",
            "- 3905.0 * IIIIIIIIIIIIIZIIIIIIIIIIIIIIIIIIIIII\n",
            "- 3905.0 * IIIIIIIIIIIIZIIIIIIIIIIIIIIIIIIIIIII\n",
            "- 3906.5 * IIIIIIIIIIIZIIIIIIIIIIIIIIIIIIIIIIII\n",
            "- 3906.5 * IIIIIIIIIIZIIIIIIIIIIIIIIIIIIIIIIIII\n",
            "- 3906.5 * IIIIIIIIIZIIIIIIIIIIIIIIIIIIIIIIIIII\n",
            "- 3906.5 * IIIIIIIIZIIIIIIIIIIIIIIIIIIIIIIIIIII\n",
            "- 3906.5 * IIIIIIIZIIIIIIIIIIIIIIIIIIIIIIIIIIII\n",
            "- 3906.5 * IIIIIIZIIIIIIIIIIIIIIIIIIIIIIIIIIIII\n",
            "- 3904.5 * IIIIIZIIIIIIIIIIIIIIIIIIIIIIIIIIIIII\n",
            "- 3904.5 * IIIIZIIIIIIIIIIIIIIIIIIIIIIIIIIIIIII\n",
            "- 3904.5 * IIIZIIIIIIIIIIIIIIIIIIIIIIIIIIIIIIII\n",
            "- 3904.5 * IIZIIIIIIIIIIIIIIIIIIIIIIIIIIIIIIIII\n",
            "- 3904.5 * IZIIIIIIIIIIIIIIIIIIIIIIIIIIIIIIIIII\n",
            "- 3904.5 * ZIIIIIIIIIIIIIIIIIIIIIIIIIIIIIIIIIII\n",
            "+ 486.5 * IIIIIIIIIIIIIIIIIIIIIIIIIIIIIIIIIIZZ\n",
            "+ 486.5 * IIIIIIIIIIIIIIIIIIIIIIIIIIIIIIIIIZIZ\n",
            "+ 486.5 * IIIIIIIIIIIIIIIIIIIIIIIIIIIIIIIIIZZI\n",
            "+ 486.5 * IIIIIIIIIIIIIIIIIIIIIIIIIIIIIIIIZIIZ\n",
            "+ 486.5 * IIIIIIIIIIIIIIIIIIIIIIIIIIIIIIIIZIZI\n",
            "+ 486.5 * IIIIIIIIIIIIIIIIIIIIIIIIIIIIIIIIZZII\n",
            "+ 486.5 * IIIIIIIIIIIIIIIIIIIIIIIIIIIIIIIZIIIZ\n",
            "+ 486.5 * IIIIIIIIIIIIIIIIIIIIIIIIIIIIIIIZIIZI\n",
            "+ 486.5 * IIIIIIIIIIIIIIIIIIIIIIIIIIIIIIIZIZII\n",
            "+ 486.5 * IIIIIIIIIIIIIIIIIIIIIIIIIIIIIIIZZIII\n",
            "+ 486.5 * IIIIIIIIIIIIIIIIIIIIIIIIIIIIIIZIIIIZ\n",
            "+ 486.5 * IIIIIIIIIIIIIIIIIIIIIIIIIIIIIIZIIIZI\n",
            "+ 486.5 * IIIIIIIIIIIIIIIIIIIIIIIIIIIIIIZIIZII\n",
            "+ 486.5 * IIIIIIIIIIIIIIIIIIIIIIIIIIIIIIZIZIII\n",
            "+ 486.5 * IIIIIIIIIIIIIIIIIIIIIIIIIIIIIIZZIIII\n",
            "+ 486.5 * IIIIIIIIIIIIIIIIIIIIIIIIIIIIIZIIIIIZ\n",
            "+ 1.75 * IIIIIIIIIIIIIIIIIIIIIIIIIIIIIZIIIIZI\n",
            "+ 1.75 * IIIIIIIIIIIIIIIIIIIIIIIIIIIIIZZIIIII\n",
            "+ 1.75 * IIIIIIIIIIIIIIIIIIIIIIIIIIIIZIIIIIIZ\n",
            "+ 486.5 * IIIIIIIIIIIIIIIIIIIIIIIIIIIIZIIIIIZI\n",
            "+ 1.75 * IIIIIIIIIIIIIIIIIIIIIIIIIIIIZIIIIZII\n",
            "+ 486.5 * IIIIIIIIIIIIIIIIIIIIIIIIIIIIZZIIIIII\n",
            "+ 1.75 * IIIIIIIIIIIIIIIIIIIIIIIIIIIZIIIIIIZI\n",
            "+ 486.5 * IIIIIIIIIIIIIIIIIIIIIIIIIIIZIIIIIZII\n",
            "+ 1.75 * IIIIIIIIIIIIIIIIIIIIIIIIIIIZIIIIZIII\n",
            "+ 486.5 * IIIIIIIIIIIIIIIIIIIIIIIIIIIZIZIIIIII\n",
            "+ 486.5 * IIIIIIIIIIIIIIIIIIIIIIIIIIIZZIIIIIII\n",
            "+ 1.75 * IIIIIIIIIIIIIIIIIIIIIIIIIIZIIIIIIZII\n",
            "+ 486.5 * IIIIIIIIIIIIIIIIIIIIIIIIIIZIIIIIZIII\n",
            "+ 1.75 * IIIIIIIIIIIIIIIIIIIIIIIIIIZIIIIZIIII\n",
            "+ 486.5 * IIIIIIIIIIIIIIIIIIIIIIIIIIZIIZIIIIII\n",
            "+ 486.5 * IIIIIIIIIIIIIIIIIIIIIIIIIIZIZIIIIIII\n",
            "+ 486.5 * IIIIIIIIIIIIIIIIIIIIIIIIIIZZIIIIIIII\n",
            "+ 1.75 * IIIIIIIIIIIIIIIIIIIIIIIIIZIIIIIIZIII\n",
            "+ 486.5 * IIIIIIIIIIIIIIIIIIIIIIIIIZIIIIIZIIII\n",
            "+ 1.75 * IIIIIIIIIIIIIIIIIIIIIIIIIZIIIIZIIIII\n",
            "+ 486.5 * IIIIIIIIIIIIIIIIIIIIIIIIIZIIIZIIIIII\n",
            "+ 486.5 * IIIIIIIIIIIIIIIIIIIIIIIIIZIIZIIIIIII\n",
            "+ 486.5 * IIIIIIIIIIIIIIIIIIIIIIIIIZIZIIIIIIII\n",
            "+ 486.5 * IIIIIIIIIIIIIIIIIIIIIIIIIZZIIIIIIIII\n",
            "+ 1.75 * IIIIIIIIIIIIIIIIIIIIIIIIZIIIIIIIIIIZ\n",
            "+ 1.75 * IIIIIIIIIIIIIIIIIIIIIIIIZIIIIIIZIIII\n",
            "+ 486.5 * IIIIIIIIIIIIIIIIIIIIIIIIZIIIIIZIIIII\n",
            "+ 486.5 * IIIIIIIIIIIIIIIIIIIIIIIIZIIIIZIIIIII\n",
            "+ 486.5 * IIIIIIIIIIIIIIIIIIIIIIIIZIIIZIIIIIII\n",
            "+ 486.5 * IIIIIIIIIIIIIIIIIIIIIIIIZIIZIIIIIIII\n",
            "+ 486.5 * IIIIIIIIIIIIIIIIIIIIIIIIZIZIIIIIIIII\n",
            "+ 486.5 * IIIIIIIIIIIIIIIIIIIIIIIIZZIIIIIIIIII\n",
            "+ 486.5 * IIIIIIIIIIIIIIIIIIIIIIIZIIIIIIIIIIIZ\n",
            "+ 0.25 * IIIIIIIIIIIIIIIIIIIIIIIZIIIIIIIIIIZI\n",
            "+ 0.25 * IIIIIIIIIIIIIIIIIIIIIIIZIIIIIIZIIIII\n",
            "+ 486.5 * IIIIIIIIIIIIIIIIIIIIIIIZIIIIIZIIIIII\n",
            "+ 1.5 * IIIIIIIIIIIIIIIIIIIIIIIZIIIIZIIIIIII\n",
            "+ 1.5 * IIIIIIIIIIIIIIIIIIIIIIIZZIIIIIIIIIII\n",
            "+ 0.25 * IIIIIIIIIIIIIIIIIIIIIIZIIIIIIIIIIIIZ\n",
            "+ 486.5 * IIIIIIIIIIIIIIIIIIIIIIZIIIIIIIIIIIZI\n",
            "+ 0.25 * IIIIIIIIIIIIIIIIIIIIIIZIIIIIIIIIIZII\n",
            "+ 1.5 * IIIIIIIIIIIIIIIIIIIIIIZIIIIIIZIIIIII\n",
            "+ 486.5 * IIIIIIIIIIIIIIIIIIIIIIZIIIIIZIIIIIII\n",
            "+ 1.5 * IIIIIIIIIIIIIIIIIIIIIIZIIIIZIIIIIIII\n",
            "+ 486.5 * IIIIIIIIIIIIIIIIIIIIIIZZIIIIIIIIIIII\n",
            "+ 0.25 * IIIIIIIIIIIIIIIIIIIIIZIIIIIIIIIIIIZI\n",
            "+ 486.5 * IIIIIIIIIIIIIIIIIIIIIZIIIIIIIIIIIZII\n",
            "+ 0.25 * IIIIIIIIIIIIIIIIIIIIIZIIIIIIIIIIZIII\n",
            "+ 1.5 * IIIIIIIIIIIIIIIIIIIIIZIIIIIIZIIIIIII\n",
            "+ 486.5 * IIIIIIIIIIIIIIIIIIIIIZIIIIIZIIIIIIII\n",
            "+ 1.5 * IIIIIIIIIIIIIIIIIIIIIZIIIIZIIIIIIIII\n",
            "+ 486.5 * IIIIIIIIIIIIIIIIIIIIIZIZIIIIIIIIIIII\n",
            "+ 486.5 * IIIIIIIIIIIIIIIIIIIIIZZIIIIIIIIIIIII\n",
            "+ 0.25 * IIIIIIIIIIIIIIIIIIIIZIIIIIIIIIIIIZII\n",
            "+ 486.5 * IIIIIIIIIIIIIIIIIIIIZIIIIIIIIIIIZIII\n",
            "+ 0.25 * IIIIIIIIIIIIIIIIIIIIZIIIIIIIIIIZIIII\n",
            "+ 1.5 * IIIIIIIIIIIIIIIIIIIIZIIIIIIZIIIIIIII\n",
            "+ 486.5 * IIIIIIIIIIIIIIIIIIIIZIIIIIZIIIIIIIII\n",
            "+ 1.5 * IIIIIIIIIIIIIIIIIIIIZIIIIZIIIIIIIIII\n",
            "+ 486.5 * IIIIIIIIIIIIIIIIIIIIZIIZIIIIIIIIIIII\n",
            "+ 486.5 * IIIIIIIIIIIIIIIIIIIIZIZIIIIIIIIIIIII\n",
            "+ 486.5 * IIIIIIIIIIIIIIIIIIIIZZIIIIIIIIIIIIII\n",
            "+ 0.25 * IIIIIIIIIIIIIIIIIIIZIIIIIIIIIIIIZIII\n",
            "+ 486.5 * IIIIIIIIIIIIIIIIIIIZIIIIIIIIIIIZIIII\n",
            "+ 0.25 * IIIIIIIIIIIIIIIIIIIZIIIIIIIIIIZIIIII\n",
            "+ 1.5 * IIIIIIIIIIIIIIIIIIIZIIIIIIZIIIIIIIII\n",
            "+ 486.5 * IIIIIIIIIIIIIIIIIIIZIIIIIZIIIIIIIIII\n",
            "+ 1.5 * IIIIIIIIIIIIIIIIIIIZIIIIZIIIIIIIIIII\n",
            "+ 486.5 * IIIIIIIIIIIIIIIIIIIZIIIZIIIIIIIIIIII\n",
            "+ 486.5 * IIIIIIIIIIIIIIIIIIIZIIZIIIIIIIIIIIII\n",
            "+ 486.5 * IIIIIIIIIIIIIIIIIIIZIZIIIIIIIIIIIIII\n",
            "+ 486.5 * IIIIIIIIIIIIIIIIIIIZZIIIIIIIIIIIIIII\n",
            "+ 0.25 * IIIIIIIIIIIIIIIIIIZIIIIIIIIIIIIIIIIZ\n",
            "+ 0.25 * IIIIIIIIIIIIIIIIIIZIIIIIIIIIIIIZIIII\n",
            "+ 486.5 * IIIIIIIIIIIIIIIIIIZIIIIIIIIIIIZIIIII\n",
            "+ 1.5 * IIIIIIIIIIIIIIIIIIZIIIIIIIIIIZIIIIII\n",
            "+ 1.5 * IIIIIIIIIIIIIIIIIIZIIIIIIZIIIIIIIIII\n",
            "+ 486.5 * IIIIIIIIIIIIIIIIIIZIIIIIZIIIIIIIIIII\n",
            "+ 486.5 * IIIIIIIIIIIIIIIIIIZIIIIZIIIIIIIIIIII\n",
            "+ 486.5 * IIIIIIIIIIIIIIIIIIZIIIZIIIIIIIIIIIII\n",
            "+ 486.5 * IIIIIIIIIIIIIIIIIIZIIZIIIIIIIIIIIIII\n",
            "+ 486.5 * IIIIIIIIIIIIIIIIIIZIZIIIIIIIIIIIIIII\n",
            "+ 486.5 * IIIIIIIIIIIIIIIIIIZZIIIIIIIIIIIIIIII\n",
            "+ 486.5 * IIIIIIIIIIIIIIIIIZIIIIIIIIIIIIIIIIIZ\n",
            "+ 2.25 * IIIIIIIIIIIIIIIIIZIIIIIIIIIIIIIIIIZI\n",
            "+ 2.25 * IIIIIIIIIIIIIIIIIZIIIIIIIIIIIIZIIIII\n",
            "+ 486.5 * IIIIIIIIIIIIIIIIIZIIIIIIIIIIIZIIIIII\n",
            "+ 0.75 * IIIIIIIIIIIIIIIIIZIIIIIIIIIIZIIIIIII\n",
            "+ 0.75 * IIIIIIIIIIIIIIIIIZIIIIIIZIIIIIIIIIII\n",
            "+ 486.5 * IIIIIIIIIIIIIIIIIZIIIIIZIIIIIIIIIIII\n",
            "+ 2.5 * IIIIIIIIIIIIIIIIIZIIIIZIIIIIIIIIIIII\n",
            "+ 2.5 * IIIIIIIIIIIIIIIIIZZIIIIIIIIIIIIIIIII\n",
            "+ 2.25 * IIIIIIIIIIIIIIIIZIIIIIIIIIIIIIIIIIIZ\n",
            "+ 486.5 * IIIIIIIIIIIIIIIIZIIIIIIIIIIIIIIIIIZI\n",
            "+ 2.25 * IIIIIIIIIIIIIIIIZIIIIIIIIIIIIIIIIZII\n",
            "+ 0.75 * IIIIIIIIIIIIIIIIZIIIIIIIIIIIIZIIIIII\n",
            "+ 486.5 * IIIIIIIIIIIIIIIIZIIIIIIIIIIIZIIIIIII\n",
            "+ 0.75 * IIIIIIIIIIIIIIIIZIIIIIIIIIIZIIIIIIII\n",
            "+ 2.5 * IIIIIIIIIIIIIIIIZIIIIIIZIIIIIIIIIIII\n",
            "+ 486.5 * IIIIIIIIIIIIIIIIZIIIIIZIIIIIIIIIIIII\n",
            "+ 2.5 * IIIIIIIIIIIIIIIIZIIIIZIIIIIIIIIIIIII\n",
            "+ 486.5 * IIIIIIIIIIIIIIIIZZIIIIIIIIIIIIIIIIII\n",
            "+ 2.25 * IIIIIIIIIIIIIIIZIIIIIIIIIIIIIIIIIIZI\n",
            "+ 486.5 * IIIIIIIIIIIIIIIZIIIIIIIIIIIIIIIIIZII\n",
            "+ 2.25 * IIIIIIIIIIIIIIIZIIIIIIIIIIIIIIIIZIII\n",
            "+ 0.75 * IIIIIIIIIIIIIIIZIIIIIIIIIIIIZIIIIIII\n",
            "+ 486.5 * IIIIIIIIIIIIIIIZIIIIIIIIIIIZIIIIIIII\n",
            "+ 0.75 * IIIIIIIIIIIIIIIZIIIIIIIIIIZIIIIIIIII\n",
            "+ 2.5 * IIIIIIIIIIIIIIIZIIIIIIZIIIIIIIIIIIII\n",
            "+ 486.5 * IIIIIIIIIIIIIIIZIIIIIZIIIIIIIIIIIIII\n",
            "+ 2.5 * IIIIIIIIIIIIIIIZIIIIZIIIIIIIIIIIIIII\n",
            "+ 486.5 * IIIIIIIIIIIIIIIZIZIIIIIIIIIIIIIIIIII\n",
            "+ 486.5 * IIIIIIIIIIIIIIIZZIIIIIIIIIIIIIIIIIII\n",
            "+ 2.25 * IIIIIIIIIIIIIIZIIIIIIIIIIIIIIIIIIZII\n",
            "+ 486.5 * IIIIIIIIIIIIIIZIIIIIIIIIIIIIIIIIZIII\n",
            "+ 2.25 * IIIIIIIIIIIIIIZIIIIIIIIIIIIIIIIZIIII\n",
            "+ 0.75 * IIIIIIIIIIIIIIZIIIIIIIIIIIIZIIIIIIII\n",
            "+ 486.5 * IIIIIIIIIIIIIIZIIIIIIIIIIIZIIIIIIIII\n",
            "+ 0.75 * IIIIIIIIIIIIIIZIIIIIIIIIIZIIIIIIIIII\n",
            "+ 2.5 * IIIIIIIIIIIIIIZIIIIIIZIIIIIIIIIIIIII\n",
            "+ 486.5 * IIIIIIIIIIIIIIZIIIIIZIIIIIIIIIIIIIII\n",
            "+ 2.5 * IIIIIIIIIIIIIIZIIIIZIIIIIIIIIIIIIIII\n",
            "+ 486.5 * IIIIIIIIIIIIIIZIIZIIIIIIIIIIIIIIIIII\n",
            "+ 486.5 * IIIIIIIIIIIIIIZIZIIIIIIIIIIIIIIIIIII\n",
            "+ 486.5 * IIIIIIIIIIIIIIZZIIIIIIIIIIIIIIIIIIII\n",
            "+ 2.25 * IIIIIIIIIIIIIZIIIIIIIIIIIIIIIIIIZIII\n",
            "+ 486.5 * IIIIIIIIIIIIIZIIIIIIIIIIIIIIIIIZIIII\n",
            "+ 2.25 * IIIIIIIIIIIIIZIIIIIIIIIIIIIIIIZIIIII\n",
            "+ 0.75 * IIIIIIIIIIIIIZIIIIIIIIIIIIZIIIIIIIII\n",
            "+ 486.5 * IIIIIIIIIIIIIZIIIIIIIIIIIZIIIIIIIIII\n",
            "+ 0.75 * IIIIIIIIIIIIIZIIIIIIIIIIZIIIIIIIIIII\n",
            "+ 2.5 * IIIIIIIIIIIIIZIIIIIIZIIIIIIIIIIIIIII\n",
            "+ 486.5 * IIIIIIIIIIIIIZIIIIIZIIIIIIIIIIIIIIII\n",
            "+ 2.5 * IIIIIIIIIIIIIZIIIIZIIIIIIIIIIIIIIIII\n",
            "+ 486.5 * IIIIIIIIIIIIIZIIIZIIIIIIIIIIIIIIIIII\n",
            "+ 486.5 * IIIIIIIIIIIIIZIIZIIIIIIIIIIIIIIIIIII\n",
            "+ 486.5 * IIIIIIIIIIIIIZIZIIIIIIIIIIIIIIIIIIII\n",
            "+ 486.5 * IIIIIIIIIIIIIZZIIIIIIIIIIIIIIIIIIIII\n",
            "+ 2.25 * IIIIIIIIIIIIZIIIIIIIIIIIIIIIIIIIIIIZ\n",
            "+ 2.25 * IIIIIIIIIIIIZIIIIIIIIIIIIIIIIIIZIIII\n",
            "+ 486.5 * IIIIIIIIIIIIZIIIIIIIIIIIIIIIIIZIIIII\n",
            "+ 0.75 * IIIIIIIIIIIIZIIIIIIIIIIIIIIIIZIIIIII\n",
            "+ 0.75 * IIIIIIIIIIIIZIIIIIIIIIIIIZIIIIIIIIII\n",
            "+ 486.5 * IIIIIIIIIIIIZIIIIIIIIIIIZIIIIIIIIIII\n",
            "+ 2.5 * IIIIIIIIIIIIZIIIIIIIIIIZIIIIIIIIIIII\n",
            "+ 2.5 * IIIIIIIIIIIIZIIIIIIZIIIIIIIIIIIIIIII\n",
            "+ 486.5 * IIIIIIIIIIIIZIIIIIZIIIIIIIIIIIIIIIII\n",
            "+ 486.5 * IIIIIIIIIIIIZIIIIZIIIIIIIIIIIIIIIIII\n",
            "+ 486.5 * IIIIIIIIIIIIZIIIZIIIIIIIIIIIIIIIIIII\n",
            "+ 486.5 * IIIIIIIIIIIIZIIZIIIIIIIIIIIIIIIIIIII\n",
            "+ 486.5 * IIIIIIIIIIIIZIZIIIIIIIIIIIIIIIIIIIII\n",
            "+ 486.5 * IIIIIIIIIIIIZZIIIIIIIIIIIIIIIIIIIIII\n",
            "+ 486.5 * IIIIIIIIIIIZIIIIIIIIIIIIIIIIIIIIIIIZ\n",
            "+ 0.5 * IIIIIIIIIIIZIIIIIIIIIIIIIIIIIIIIIIZI\n",
            "+ 0.5 * IIIIIIIIIIIZIIIIIIIIIIIIIIIIIIZIIIII\n",
            "+ 486.5 * IIIIIIIIIIIZIIIIIIIIIIIIIIIIIZIIIIII\n",
            "+ 2.25 * IIIIIIIIIIIZIIIIIIIIIIIIIIIIZIIIIIII\n",
            "+ 2.25 * IIIIIIIIIIIZIIIIIIIIIIIIZIIIIIIIIIII\n",
            "+ 486.5 * IIIIIIIIIIIZIIIIIIIIIIIZIIIIIIIIIIII\n",
            "+ 1.5 * IIIIIIIIIIIZIIIIIIIIIIZIIIIIIIIIIIII\n",
            "+ 1.5 * IIIIIIIIIIIZIIIIIIZIIIIIIIIIIIIIIIII\n",
            "+ 486.5 * IIIIIIIIIIIZIIIIIZIIIIIIIIIIIIIIIIII\n",
            "+ 0.75 * IIIIIIIIIIIZIIIIZIIIIIIIIIIIIIIIIIII\n",
            "+ 0.75 * IIIIIIIIIIIZZIIIIIIIIIIIIIIIIIIIIIII\n",
            "+ 0.5 * IIIIIIIIIIZIIIIIIIIIIIIIIIIIIIIIIIIZ\n",
            "+ 486.5 * IIIIIIIIIIZIIIIIIIIIIIIIIIIIIIIIIIZI\n",
            "+ 0.5 * IIIIIIIIIIZIIIIIIIIIIIIIIIIIIIIIIZII\n",
            "+ 2.25 * IIIIIIIIIIZIIIIIIIIIIIIIIIIIIZIIIIII\n",
            "+ 486.5 * IIIIIIIIIIZIIIIIIIIIIIIIIIIIZIIIIIII\n",
            "+ 2.25 * IIIIIIIIIIZIIIIIIIIIIIIIIIIZIIIIIIII\n",
            "+ 1.5 * IIIIIIIIIIZIIIIIIIIIIIIZIIIIIIIIIIII\n",
            "+ 486.5 * IIIIIIIIIIZIIIIIIIIIIIZIIIIIIIIIIIII\n",
            "+ 1.5 * IIIIIIIIIIZIIIIIIIIIIZIIIIIIIIIIIIII\n",
            "+ 0.75 * IIIIIIIIIIZIIIIIIZIIIIIIIIIIIIIIIIII\n",
            "+ 486.5 * IIIIIIIIIIZIIIIIZIIIIIIIIIIIIIIIIIII\n",
            "+ 0.75 * IIIIIIIIIIZIIIIZIIIIIIIIIIIIIIIIIIII\n",
            "+ 486.5 * IIIIIIIIIIZZIIIIIIIIIIIIIIIIIIIIIIII\n",
            "+ 0.5 * IIIIIIIIIZIIIIIIIIIIIIIIIIIIIIIIIIZI\n",
            "+ 486.5 * IIIIIIIIIZIIIIIIIIIIIIIIIIIIIIIIIZII\n",
            "+ 0.5 * IIIIIIIIIZIIIIIIIIIIIIIIIIIIIIIIZIII\n",
            "+ 2.25 * IIIIIIIIIZIIIIIIIIIIIIIIIIIIZIIIIIII\n",
            "+ 486.5 * IIIIIIIIIZIIIIIIIIIIIIIIIIIZIIIIIIII\n",
            "+ 2.25 * IIIIIIIIIZIIIIIIIIIIIIIIIIZIIIIIIIII\n",
            "+ 1.5 * IIIIIIIIIZIIIIIIIIIIIIZIIIIIIIIIIIII\n",
            "+ 486.5 * IIIIIIIIIZIIIIIIIIIIIZIIIIIIIIIIIIII\n",
            "+ 1.5 * IIIIIIIIIZIIIIIIIIIIZIIIIIIIIIIIIIII\n",
            "+ 0.75 * IIIIIIIIIZIIIIIIZIIIIIIIIIIIIIIIIIII\n",
            "+ 486.5 * IIIIIIIIIZIIIIIZIIIIIIIIIIIIIIIIIIII\n",
            "+ 0.75 * IIIIIIIIIZIIIIZIIIIIIIIIIIIIIIIIIIII\n",
            "+ 486.5 * IIIIIIIIIZIZIIIIIIIIIIIIIIIIIIIIIIII\n",
            "+ 486.5 * IIIIIIIIIZZIIIIIIIIIIIIIIIIIIIIIIIII\n",
            "+ 0.5 * IIIIIIIIZIIIIIIIIIIIIIIIIIIIIIIIIZII\n",
            "+ 486.5 * IIIIIIIIZIIIIIIIIIIIIIIIIIIIIIIIZIII\n",
            "+ 0.5 * IIIIIIIIZIIIIIIIIIIIIIIIIIIIIIIZIIII\n",
            "+ 2.25 * IIIIIIIIZIIIIIIIIIIIIIIIIIIZIIIIIIII\n",
            "+ 486.5 * IIIIIIIIZIIIIIIIIIIIIIIIIIZIIIIIIIII\n",
            "+ 2.25 * IIIIIIIIZIIIIIIIIIIIIIIIIZIIIIIIIIII\n",
            "+ 1.5 * IIIIIIIIZIIIIIIIIIIIIZIIIIIIIIIIIIII\n",
            "+ 486.5 * IIIIIIIIZIIIIIIIIIIIZIIIIIIIIIIIIIII\n",
            "+ 1.5 * IIIIIIIIZIIIIIIIIIIZIIIIIIIIIIIIIIII\n",
            "+ 0.75 * IIIIIIIIZIIIIIIZIIIIIIIIIIIIIIIIIIII\n",
            "+ 486.5 * IIIIIIIIZIIIIIZIIIIIIIIIIIIIIIIIIIII\n",
            "+ 0.75 * IIIIIIIIZIIIIZIIIIIIIIIIIIIIIIIIIIII\n",
            "+ 486.5 * IIIIIIIIZIIZIIIIIIIIIIIIIIIIIIIIIIII\n",
            "+ 486.5 * IIIIIIIIZIZIIIIIIIIIIIIIIIIIIIIIIIII\n",
            "+ 486.5 * IIIIIIIIZZIIIIIIIIIIIIIIIIIIIIIIIIII\n",
            "+ 0.5 * IIIIIIIZIIIIIIIIIIIIIIIIIIIIIIIIZIII\n",
            "+ 486.5 * IIIIIIIZIIIIIIIIIIIIIIIIIIIIIIIZIIII\n",
            "+ 0.5 * IIIIIIIZIIIIIIIIIIIIIIIIIIIIIIZIIIII\n",
            "+ 2.25 * IIIIIIIZIIIIIIIIIIIIIIIIIIZIIIIIIIII\n",
            "+ 486.5 * IIIIIIIZIIIIIIIIIIIIIIIIIZIIIIIIIIII\n",
            "+ 2.25 * IIIIIIIZIIIIIIIIIIIIIIIIZIIIIIIIIIII\n",
            "+ 1.5 * IIIIIIIZIIIIIIIIIIIIZIIIIIIIIIIIIIII\n",
            "+ 486.5 * IIIIIIIZIIIIIIIIIIIZIIIIIIIIIIIIIIII\n",
            "+ 1.5 * IIIIIIIZIIIIIIIIIIZIIIIIIIIIIIIIIIII\n",
            "+ 0.75 * IIIIIIIZIIIIIIZIIIIIIIIIIIIIIIIIIIII\n",
            "+ 486.5 * IIIIIIIZIIIIIZIIIIIIIIIIIIIIIIIIIIII\n",
            "+ 0.75 * IIIIIIIZIIIIZIIIIIIIIIIIIIIIIIIIIIII\n",
            "+ 486.5 * IIIIIIIZIIIZIIIIIIIIIIIIIIIIIIIIIIII\n",
            "+ 486.5 * IIIIIIIZIIZIIIIIIIIIIIIIIIIIIIIIIIII\n",
            "+ 486.5 * IIIIIIIZIZIIIIIIIIIIIIIIIIIIIIIIIIII\n",
            "+ 486.5 * IIIIIIIZZIIIIIIIIIIIIIIIIIIIIIIIIIII\n",
            "+ 0.5 * IIIIIIZIIIIIIIIIIIIIIIIIIIIIIIIIIIIZ\n",
            "+ 0.5 * IIIIIIZIIIIIIIIIIIIIIIIIIIIIIIIZIIII\n",
            "+ 486.5 * IIIIIIZIIIIIIIIIIIIIIIIIIIIIIIZIIIII\n",
            "+ 2.25 * IIIIIIZIIIIIIIIIIIIIIIIIIIIIIZIIIIII\n",
            "+ 2.25 * IIIIIIZIIIIIIIIIIIIIIIIIIZIIIIIIIIII\n",
            "+ 486.5 * IIIIIIZIIIIIIIIIIIIIIIIIZIIIIIIIIIII\n",
            "+ 1.5 * IIIIIIZIIIIIIIIIIIIIIIIZIIIIIIIIIIII\n",
            "+ 1.5 * IIIIIIZIIIIIIIIIIIIZIIIIIIIIIIIIIIII\n",
            "+ 486.5 * IIIIIIZIIIIIIIIIIIZIIIIIIIIIIIIIIIII\n",
            "+ 0.75 * IIIIIIZIIIIIIIIIIZIIIIIIIIIIIIIIIIII\n",
            "+ 0.75 * IIIIIIZIIIIIIZIIIIIIIIIIIIIIIIIIIIII\n",
            "+ 486.5 * IIIIIIZIIIIIZIIIIIIIIIIIIIIIIIIIIIII\n",
            "+ 486.5 * IIIIIIZIIIIZIIIIIIIIIIIIIIIIIIIIIIII\n",
            "+ 486.5 * IIIIIIZIIIZIIIIIIIIIIIIIIIIIIIIIIIII\n",
            "+ 486.5 * IIIIIIZIIZIIIIIIIIIIIIIIIIIIIIIIIIII\n",
            "+ 486.5 * IIIIIIZIZIIIIIIIIIIIIIIIIIIIIIIIIIII\n",
            "+ 486.5 * IIIIIIZZIIIIIIIIIIIIIIIIIIIIIIIIIIII\n",
            "+ 486.5 * IIIIIZIIIIIIIIIIIIIIIIIIIIIIIIIIIIIZ\n",
            "+ 0.75 * IIIIIZIIIIIIIIIIIIIIIIIIIIIIIIIIIIZI\n",
            "+ 0.75 * IIIIIZIIIIIIIIIIIIIIIIIIIIIIIIZIIIII\n",
            "+ 486.5 * IIIIIZIIIIIIIIIIIIIIIIIIIIIIIZIIIIII\n",
            "+ 0.75 * IIIIIZIIIIIIIIIIIIIIIIIIIIIIZIIIIIII\n",
            "+ 0.75 * IIIIIZIIIIIIIIIIIIIIIIIIZIIIIIIIIIII\n",
            "+ 486.5 * IIIIIZIIIIIIIIIIIIIIIIIZIIIIIIIIIIII\n",
            "+ 2.25 * IIIIIZIIIIIIIIIIIIIIIIZIIIIIIIIIIIII\n",
            "+ 2.25 * IIIIIZIIIIIIIIIIIIZIIIIIIIIIIIIIIIII\n",
            "+ 486.5 * IIIIIZIIIIIIIIIIIZIIIIIIIIIIIIIIIIII\n",
            "+ 0.25 * IIIIIZIIIIIIIIIIZIIIIIIIIIIIIIIIIIII\n",
            "+ 0.25 * IIIIIZIIIIIIZIIIIIIIIIIIIIIIIIIIIIII\n",
            "+ 486.5 * IIIIIZIIIIIZIIIIIIIIIIIIIIIIIIIIIIII\n",
            "+ 2.25 * IIIIIZIIIIZIIIIIIIIIIIIIIIIIIIIIIIII\n",
            "+ 2.25 * IIIIIZZIIIIIIIIIIIIIIIIIIIIIIIIIIIII\n",
            "+ 0.75 * IIIIZIIIIIIIIIIIIIIIIIIIIIIIIIIIIIIZ\n",
            "+ 486.5 * IIIIZIIIIIIIIIIIIIIIIIIIIIIIIIIIIIZI\n",
            "+ 0.75 * IIIIZIIIIIIIIIIIIIIIIIIIIIIIIIIIIZII\n",
            "+ 0.75 * IIIIZIIIIIIIIIIIIIIIIIIIIIIIIZIIIIII\n",
            "+ 486.5 * IIIIZIIIIIIIIIIIIIIIIIIIIIIIZIIIIIII\n",
            "+ 0.75 * IIIIZIIIIIIIIIIIIIIIIIIIIIIZIIIIIIII\n",
            "+ 2.25 * IIIIZIIIIIIIIIIIIIIIIIIZIIIIIIIIIIII\n",
            "+ 486.5 * IIIIZIIIIIIIIIIIIIIIIIZIIIIIIIIIIIII\n",
            "+ 2.25 * IIIIZIIIIIIIIIIIIIIIIZIIIIIIIIIIIIII\n",
            "+ 0.25 * IIIIZIIIIIIIIIIIIZIIIIIIIIIIIIIIIIII\n",
            "+ 486.5 * IIIIZIIIIIIIIIIIZIIIIIIIIIIIIIIIIIII\n",
            "+ 0.25 * IIIIZIIIIIIIIIIZIIIIIIIIIIIIIIIIIIII\n",
            "+ 2.25 * IIIIZIIIIIIZIIIIIIIIIIIIIIIIIIIIIIII\n",
            "+ 486.5 * IIIIZIIIIIZIIIIIIIIIIIIIIIIIIIIIIIII\n",
            "+ 2.25 * IIIIZIIIIZIIIIIIIIIIIIIIIIIIIIIIIIII\n",
            "+ 486.5 * IIIIZZIIIIIIIIIIIIIIIIIIIIIIIIIIIIII\n",
            "+ 0.75 * IIIZIIIIIIIIIIIIIIIIIIIIIIIIIIIIIIZI\n",
            "+ 486.5 * IIIZIIIIIIIIIIIIIIIIIIIIIIIIIIIIIZII\n",
            "+ 0.75 * IIIZIIIIIIIIIIIIIIIIIIIIIIIIIIIIZIII\n",
            "+ 0.75 * IIIZIIIIIIIIIIIIIIIIIIIIIIIIZIIIIIII\n",
            "+ 486.5 * IIIZIIIIIIIIIIIIIIIIIIIIIIIZIIIIIIII\n",
            "+ 0.75 * IIIZIIIIIIIIIIIIIIIIIIIIIIZIIIIIIIII\n",
            "+ 2.25 * IIIZIIIIIIIIIIIIIIIIIIZIIIIIIIIIIIII\n",
            "+ 486.5 * IIIZIIIIIIIIIIIIIIIIIZIIIIIIIIIIIIII\n",
            "+ 2.25 * IIIZIIIIIIIIIIIIIIIIZIIIIIIIIIIIIIII\n",
            "+ 0.25 * IIIZIIIIIIIIIIIIZIIIIIIIIIIIIIIIIIII\n",
            "+ 486.5 * IIIZIIIIIIIIIIIZIIIIIIIIIIIIIIIIIIII\n",
            "+ 0.25 * IIIZIIIIIIIIIIZIIIIIIIIIIIIIIIIIIIII\n",
            "+ 2.25 * IIIZIIIIIIZIIIIIIIIIIIIIIIIIIIIIIIII\n",
            "+ 486.5 * IIIZIIIIIZIIIIIIIIIIIIIIIIIIIIIIIIII\n",
            "+ 2.25 * IIIZIIIIZIIIIIIIIIIIIIIIIIIIIIIIIIII\n",
            "+ 486.5 * IIIZIZIIIIIIIIIIIIIIIIIIIIIIIIIIIIII\n",
            "+ 486.5 * IIIZZIIIIIIIIIIIIIIIIIIIIIIIIIIIIIII\n",
            "+ 0.75 * IIZIIIIIIIIIIIIIIIIIIIIIIIIIIIIIIZII\n",
            "+ 486.5 * IIZIIIIIIIIIIIIIIIIIIIIIIIIIIIIIZIII\n",
            "+ 0.75 * IIZIIIIIIIIIIIIIIIIIIIIIIIIIIIIZIIII\n",
            "+ 0.75 * IIZIIIIIIIIIIIIIIIIIIIIIIIIZIIIIIIII\n",
            "+ 486.5 * IIZIIIIIIIIIIIIIIIIIIIIIIIZIIIIIIIII\n",
            "+ 0.75 * IIZIIIIIIIIIIIIIIIIIIIIIIZIIIIIIIIII\n",
            "+ 2.25 * IIZIIIIIIIIIIIIIIIIIIZIIIIIIIIIIIIII\n",
            "+ 486.5 * IIZIIIIIIIIIIIIIIIIIZIIIIIIIIIIIIIII\n",
            "+ 2.25 * IIZIIIIIIIIIIIIIIIIZIIIIIIIIIIIIIIII\n",
            "+ 0.25 * IIZIIIIIIIIIIIIZIIIIIIIIIIIIIIIIIIII\n",
            "+ 486.5 * IIZIIIIIIIIIIIZIIIIIIIIIIIIIIIIIIIII\n",
            "+ 0.25 * IIZIIIIIIIIIIZIIIIIIIIIIIIIIIIIIIIII\n",
            "+ 2.25 * IIZIIIIIIZIIIIIIIIIIIIIIIIIIIIIIIIII\n",
            "+ 486.5 * IIZIIIIIZIIIIIIIIIIIIIIIIIIIIIIIIIII\n",
            "+ 2.25 * IIZIIIIZIIIIIIIIIIIIIIIIIIIIIIIIIIII\n",
            "+ 486.5 * IIZIIZIIIIIIIIIIIIIIIIIIIIIIIIIIIIII\n",
            "+ 486.5 * IIZIZIIIIIIIIIIIIIIIIIIIIIIIIIIIIIII\n",
            "+ 486.5 * IIZZIIIIIIIIIIIIIIIIIIIIIIIIIIIIIIII\n",
            "+ 0.75 * IZIIIIIIIIIIIIIIIIIIIIIIIIIIIIIIZIII\n",
            "+ 486.5 * IZIIIIIIIIIIIIIIIIIIIIIIIIIIIIIZIIII\n",
            "+ 0.75 * IZIIIIIIIIIIIIIIIIIIIIIIIIIIIIZIIIII\n",
            "+ 0.75 * IZIIIIIIIIIIIIIIIIIIIIIIIIZIIIIIIIII\n",
            "+ 486.5 * IZIIIIIIIIIIIIIIIIIIIIIIIZIIIIIIIIII\n",
            "+ 0.75 * IZIIIIIIIIIIIIIIIIIIIIIIZIIIIIIIIIII\n",
            "+ 2.25 * IZIIIIIIIIIIIIIIIIIIZIIIIIIIIIIIIIII\n",
            "+ 486.5 * IZIIIIIIIIIIIIIIIIIZIIIIIIIIIIIIIIII\n",
            "+ 2.25 * IZIIIIIIIIIIIIIIIIZIIIIIIIIIIIIIIIII\n",
            "+ 0.25 * IZIIIIIIIIIIIIZIIIIIIIIIIIIIIIIIIIII\n",
            "+ 486.5 * IZIIIIIIIIIIIZIIIIIIIIIIIIIIIIIIIIII\n",
            "+ 0.25 * IZIIIIIIIIIIZIIIIIIIIIIIIIIIIIIIIIII\n",
            "+ 2.25 * IZIIIIIIZIIIIIIIIIIIIIIIIIIIIIIIIIII\n",
            "+ 486.5 * IZIIIIIZIIIIIIIIIIIIIIIIIIIIIIIIIIII\n",
            "+ 2.25 * IZIIIIZIIIIIIIIIIIIIIIIIIIIIIIIIIIII\n",
            "+ 486.5 * IZIIIZIIIIIIIIIIIIIIIIIIIIIIIIIIIIII\n",
            "+ 486.5 * IZIIZIIIIIIIIIIIIIIIIIIIIIIIIIIIIIII\n",
            "+ 486.5 * IZIZIIIIIIIIIIIIIIIIIIIIIIIIIIIIIIII\n",
            "+ 486.5 * IZZIIIIIIIIIIIIIIIIIIIIIIIIIIIIIIIII\n",
            "+ 0.75 * ZIIIIIIIIIIIIIIIIIIIIIIIIIIIIIIIIIIZ\n",
            "+ 0.75 * ZIIIIIIIIIIIIIIIIIIIIIIIIIIIIIIZIIII\n",
            "+ 486.5 * ZIIIIIIIIIIIIIIIIIIIIIIIIIIIIIZIIIII\n",
            "+ 0.75 * ZIIIIIIIIIIIIIIIIIIIIIIIIIIIIZIIIIII\n",
            "+ 0.75 * ZIIIIIIIIIIIIIIIIIIIIIIIIZIIIIIIIIII\n",
            "+ 486.5 * ZIIIIIIIIIIIIIIIIIIIIIIIZIIIIIIIIIII\n",
            "+ 2.25 * ZIIIIIIIIIIIIIIIIIIIIIIZIIIIIIIIIIII\n",
            "+ 2.25 * ZIIIIIIIIIIIIIIIIIIZIIIIIIIIIIIIIIII\n",
            "+ 486.5 * ZIIIIIIIIIIIIIIIIIZIIIIIIIIIIIIIIIII\n",
            "+ 0.25 * ZIIIIIIIIIIIIIIIIZIIIIIIIIIIIIIIIIII\n",
            "+ 0.25 * ZIIIIIIIIIIIIZIIIIIIIIIIIIIIIIIIIIII\n",
            "+ 486.5 * ZIIIIIIIIIIIZIIIIIIIIIIIIIIIIIIIIIII\n",
            "+ 2.25 * ZIIIIIIIIIIZIIIIIIIIIIIIIIIIIIIIIIII\n",
            "+ 2.25 * ZIIIIIIZIIIIIIIIIIIIIIIIIIIIIIIIIIII\n",
            "+ 486.5 * ZIIIIIZIIIIIIIIIIIIIIIIIIIIIIIIIIIII\n",
            "+ 486.5 * ZIIIIZIIIIIIIIIIIIIIIIIIIIIIIIIIIIII\n",
            "+ 486.5 * ZIIIZIIIIIIIIIIIIIIIIIIIIIIIIIIIIIII\n",
            "+ 486.5 * ZIIZIIIIIIIIIIIIIIIIIIIIIIIIIIIIIIII\n",
            "+ 486.5 * ZIZIIIIIIIIIIIIIIIIIIIIIIIIIIIIIIIII\n",
            "+ 486.5 * ZZIIIIIIIIIIIIIIIIIIIIIIIIIIIIIIIIII\n"
          ]
        }
      ]
    },
    {
      "cell_type": "code",
      "source": [
        "exact = MinimumEigenOptimizer(NumPyMinimumEigensolver())"
      ],
      "metadata": {
        "id": "8ZNG9Z0P726x"
      },
      "execution_count": 37,
      "outputs": []
    },
    {
      "cell_type": "code",
      "source": [
        "result = exact.solve(qubo)\n",
        "print(result.prettyprint())"
      ],
      "metadata": {
        "id": "vMLPqBVQ75Vo"
      },
      "execution_count": null,
      "outputs": []
    },
    {
      "cell_type": "code",
      "source": [
        "viaje,distancia=algoritmo_genetico(numero_ciudades,probabilidad,labels)"
      ],
      "metadata": {
        "id": "LgL2Pideltp7"
      },
      "execution_count": null,
      "outputs": []
    },
    {
      "cell_type": "code",
      "source": [
        "v,d=algoritmo_genetico(numero_ciudades,probabilidad,labels)"
      ],
      "metadata": {
        "id": "vrVSWgcemULO"
      },
      "execution_count": null,
      "outputs": []
    },
    {
      "cell_type": "code",
      "source": [
        "v"
      ],
      "metadata": {
        "id": "fK76xgzOmXJz",
        "outputId": "bb241742-2b4e-404e-f8e6-93adaddf3d2a",
        "colab": {
          "base_uri": "https://localhost:8080/"
        }
      },
      "execution_count": null,
      "outputs": [
        {
          "output_type": "execute_result",
          "data": {
            "text/plain": [
              "[0, 3, 2, 1, 5, 4]"
            ]
          },
          "metadata": {},
          "execution_count": 85
        }
      ]
    },
    {
      "cell_type": "code",
      "source": [
        "d"
      ],
      "metadata": {
        "id": "S1SX_kgBmYb7",
        "outputId": "a91eb08f-fdf2-48a0-e790-a1d0d4a06e70",
        "colab": {
          "base_uri": "https://localhost:8080/"
        }
      },
      "execution_count": null,
      "outputs": [
        {
          "output_type": "execute_result",
          "data": {
            "text/plain": [
              "17"
            ]
          },
          "metadata": {},
          "execution_count": 86
        }
      ]
    },
    {
      "cell_type": "code",
      "source": [
        "viaje"
      ],
      "metadata": {
        "colab": {
          "base_uri": "https://localhost:8080/"
        },
        "id": "F4iTrU-1tGsf",
        "outputId": "8d238d42-a156-485a-ccba-0554f13dcbe5"
      },
      "execution_count": null,
      "outputs": [
        {
          "output_type": "execute_result",
          "data": {
            "text/plain": [
              "[1, 0, 2, 4, 5, 3]"
            ]
          },
          "metadata": {},
          "execution_count": 95
        }
      ]
    },
    {
      "cell_type": "code",
      "source": [
        "distancia"
      ],
      "metadata": {
        "colab": {
          "base_uri": "https://localhost:8080/"
        },
        "id": "VQCBsxXqtGel",
        "outputId": "42cb08b1-7cb9-4c9d-83ab-8db7a17e4f9b"
      },
      "execution_count": null,
      "outputs": [
        {
          "output_type": "execute_result",
          "data": {
            "text/plain": [
              "17"
            ]
          },
          "metadata": {},
          "execution_count": 96
        }
      ]
    },
    {
      "cell_type": "code",
      "source": [
        "viaje"
      ],
      "metadata": {
        "colab": {
          "base_uri": "https://localhost:8080/"
        },
        "id": "vK35NVGLspkV",
        "outputId": "8a74fd30-80c2-437b-d085-cd825847abdc"
      },
      "execution_count": null,
      "outputs": [
        {
          "output_type": "execute_result",
          "data": {
            "text/plain": [
              "[1, 5, 2, 3, 4, 0]"
            ]
          },
          "metadata": {},
          "execution_count": 49
        }
      ]
    },
    {
      "cell_type": "code",
      "source": [
        "distancia"
      ],
      "metadata": {
        "colab": {
          "base_uri": "https://localhost:8080/"
        },
        "id": "BP8SEOmQtDSX",
        "outputId": "8c4ffc8d-6f78-4879-c088-3de9bdc09449"
      },
      "execution_count": null,
      "outputs": [
        {
          "output_type": "execute_result",
          "data": {
            "text/plain": [
              "18"
            ]
          },
          "metadata": {},
          "execution_count": 50
        }
      ]
    }
  ]
}
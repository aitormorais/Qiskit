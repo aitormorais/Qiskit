{
  "nbformat": 4,
  "nbformat_minor": 0,
  "metadata": {
    "colab": {
      "provenance": [],
      "gpuType": "T4",
      "include_colab_link": true
    },
    "kernelspec": {
      "name": "python3",
      "display_name": "Python 3"
    },
    "language_info": {
      "name": "python"
    },
    "accelerator": "GPU",
    "gpuClass": "standard"
  },
  "cells": [
    {
      "cell_type": "markdown",
      "metadata": {
        "id": "view-in-github",
        "colab_type": "text"
      },
      "source": [
        "<a href=\"https://colab.research.google.com/github/aitormorais/Qiskit/blob/main/qbit.ipynb\" target=\"_parent\"><img src=\"https://colab.research.google.com/assets/colab-badge.svg\" alt=\"Open In Colab\"/></a>"
      ]
    },
    {
      "cell_type": "code",
      "execution_count": 1,
      "metadata": {
        "id": "s_WEXJn4Ikkn"
      },
      "outputs": [],
      "source": [
        "import matplotlib.pyplot as plt\n",
        "import numpy as np\n",
        "import networkx as nx\n",
        "import random"
      ]
    },
    {
      "cell_type": "code",
      "source": [
        "!pip install qiskit"
      ],
      "metadata": {
        "colab": {
          "base_uri": "https://localhost:8080/"
        },
        "id": "kwMBPuphYQYn",
        "outputId": "5ef2ee2c-0895-4ce5-9700-dbef6d42d948"
      },
      "execution_count": 2,
      "outputs": [
        {
          "output_type": "stream",
          "name": "stdout",
          "text": [
            "Looking in indexes: https://pypi.org/simple, https://us-python.pkg.dev/colab-wheels/public/simple/\n",
            "Collecting qiskit\n",
            "  Downloading qiskit-0.43.0.tar.gz (10.0 kB)\n",
            "  Installing build dependencies ... \u001b[?25l\u001b[?25hdone\n",
            "  Getting requirements to build wheel ... \u001b[?25l\u001b[?25hdone\n",
            "  Installing backend dependencies ... \u001b[?25l\u001b[?25hdone\n",
            "  Preparing metadata (pyproject.toml) ... \u001b[?25l\u001b[?25hdone\n",
            "Collecting qiskit-terra==0.24.0 (from qiskit)\n",
            "  Downloading qiskit_terra-0.24.0-cp310-cp310-manylinux_2_17_x86_64.manylinux2014_x86_64.whl (5.9 MB)\n",
            "\u001b[2K     \u001b[90m━━━━━━━━━━━━━━━━━━━━━━━━━━━━━━━━━━━━━━━━\u001b[0m \u001b[32m5.9/5.9 MB\u001b[0m \u001b[31m83.6 MB/s\u001b[0m eta \u001b[36m0:00:00\u001b[0m\n",
            "\u001b[?25hCollecting qiskit-aer==0.12.0 (from qiskit)\n",
            "  Downloading qiskit_aer-0.12.0-cp310-cp310-manylinux_2_17_x86_64.manylinux2014_x86_64.whl (12.8 MB)\n",
            "\u001b[2K     \u001b[90m━━━━━━━━━━━━━━━━━━━━━━━━━━━━━━━━━━━━━━━━\u001b[0m \u001b[32m12.8/12.8 MB\u001b[0m \u001b[31m74.9 MB/s\u001b[0m eta \u001b[36m0:00:00\u001b[0m\n",
            "\u001b[?25hCollecting qiskit-ibmq-provider==0.20.2 (from qiskit)\n",
            "  Downloading qiskit_ibmq_provider-0.20.2-py3-none-any.whl (241 kB)\n",
            "\u001b[2K     \u001b[90m━━━━━━━━━━━━━━━━━━━━━━━━━━━━━━━━━━━━━━\u001b[0m \u001b[32m241.5/241.5 kB\u001b[0m \u001b[31m25.6 MB/s\u001b[0m eta \u001b[36m0:00:00\u001b[0m\n",
            "\u001b[?25hRequirement already satisfied: numpy>=1.16.3 in /usr/local/lib/python3.10/dist-packages (from qiskit-aer==0.12.0->qiskit) (1.22.4)\n",
            "Requirement already satisfied: scipy>=1.0 in /usr/local/lib/python3.10/dist-packages (from qiskit-aer==0.12.0->qiskit) (1.10.1)\n",
            "Requirement already satisfied: requests>=2.19 in /usr/local/lib/python3.10/dist-packages (from qiskit-ibmq-provider==0.20.2->qiskit) (2.27.1)\n",
            "Collecting requests-ntlm<=1.1.0 (from qiskit-ibmq-provider==0.20.2->qiskit)\n",
            "  Downloading requests_ntlm-1.1.0-py2.py3-none-any.whl (5.7 kB)\n",
            "Requirement already satisfied: urllib3>=1.21.1 in /usr/local/lib/python3.10/dist-packages (from qiskit-ibmq-provider==0.20.2->qiskit) (1.26.15)\n",
            "Requirement already satisfied: python-dateutil>=2.8.0 in /usr/local/lib/python3.10/dist-packages (from qiskit-ibmq-provider==0.20.2->qiskit) (2.8.2)\n",
            "Requirement already satisfied: websocket-client>=1.5.1 in /usr/local/lib/python3.10/dist-packages (from qiskit-ibmq-provider==0.20.2->qiskit) (1.5.1)\n",
            "Collecting websockets>=10.0 (from qiskit-ibmq-provider==0.20.2->qiskit)\n",
            "  Downloading websockets-11.0.3-cp310-cp310-manylinux_2_5_x86_64.manylinux1_x86_64.manylinux_2_17_x86_64.manylinux2014_x86_64.whl (129 kB)\n",
            "\u001b[2K     \u001b[90m━━━━━━━━━━━━━━━━━━━━━━━━━━━━━━━━━━━━━━\u001b[0m \u001b[32m129.9/129.9 kB\u001b[0m \u001b[31m16.2 MB/s\u001b[0m eta \u001b[36m0:00:00\u001b[0m\n",
            "\u001b[?25hCollecting rustworkx>=0.12.0 (from qiskit-terra==0.24.0->qiskit)\n",
            "  Downloading rustworkx-0.12.1-cp310-cp310-manylinux_2_17_x86_64.manylinux2014_x86_64.whl (1.9 MB)\n",
            "\u001b[2K     \u001b[90m━━━━━━━━━━━━━━━━━━━━━━━━━━━━━━━━━━━━━━━━\u001b[0m \u001b[32m1.9/1.9 MB\u001b[0m \u001b[31m94.9 MB/s\u001b[0m eta \u001b[36m0:00:00\u001b[0m\n",
            "\u001b[?25hCollecting ply>=3.10 (from qiskit-terra==0.24.0->qiskit)\n",
            "  Downloading ply-3.11-py2.py3-none-any.whl (49 kB)\n",
            "\u001b[2K     \u001b[90m━━━━━━━━━━━━━━━━━━━━━━━━━━━━━━━━━━━━━━━━\u001b[0m \u001b[32m49.6/49.6 kB\u001b[0m \u001b[31m6.8 MB/s\u001b[0m eta \u001b[36m0:00:00\u001b[0m\n",
            "\u001b[?25hRequirement already satisfied: psutil>=5 in /usr/local/lib/python3.10/dist-packages (from qiskit-terra==0.24.0->qiskit) (5.9.5)\n",
            "Requirement already satisfied: sympy>=1.3 in /usr/local/lib/python3.10/dist-packages (from qiskit-terra==0.24.0->qiskit) (1.11.1)\n",
            "Collecting dill>=0.3 (from qiskit-terra==0.24.0->qiskit)\n",
            "  Downloading dill-0.3.6-py3-none-any.whl (110 kB)\n",
            "\u001b[2K     \u001b[90m━━━━━━━━━━━━━━━━━━━━━━━━━━━━━━━━━━━━━━\u001b[0m \u001b[32m110.5/110.5 kB\u001b[0m \u001b[31m14.9 MB/s\u001b[0m eta \u001b[36m0:00:00\u001b[0m\n",
            "\u001b[?25hCollecting stevedore>=3.0.0 (from qiskit-terra==0.24.0->qiskit)\n",
            "  Downloading stevedore-5.1.0-py3-none-any.whl (49 kB)\n",
            "\u001b[2K     \u001b[90m━━━━━━━━━━━━━━━━━━━━━━━━━━━━━━━━━━━━━━━━\u001b[0m \u001b[32m49.6/49.6 kB\u001b[0m \u001b[31m6.7 MB/s\u001b[0m eta \u001b[36m0:00:00\u001b[0m\n",
            "\u001b[?25hCollecting symengine<0.10,>=0.9 (from qiskit-terra==0.24.0->qiskit)\n",
            "  Downloading symengine-0.9.2-cp310-cp310-manylinux2010_x86_64.whl (37.5 MB)\n",
            "\u001b[2K     \u001b[90m━━━━━━━━━━━━━━━━━━━━━━━━━━━━━━━━━━━━━━━━\u001b[0m \u001b[32m37.5/37.5 MB\u001b[0m \u001b[31m22.6 MB/s\u001b[0m eta \u001b[36m0:00:00\u001b[0m\n",
            "\u001b[?25hRequirement already satisfied: six>=1.5 in /usr/local/lib/python3.10/dist-packages (from python-dateutil>=2.8.0->qiskit-ibmq-provider==0.20.2->qiskit) (1.16.0)\n",
            "Requirement already satisfied: certifi>=2017.4.17 in /usr/local/lib/python3.10/dist-packages (from requests>=2.19->qiskit-ibmq-provider==0.20.2->qiskit) (2022.12.7)\n",
            "Requirement already satisfied: charset-normalizer~=2.0.0 in /usr/local/lib/python3.10/dist-packages (from requests>=2.19->qiskit-ibmq-provider==0.20.2->qiskit) (2.0.12)\n",
            "Requirement already satisfied: idna<4,>=2.5 in /usr/local/lib/python3.10/dist-packages (from requests>=2.19->qiskit-ibmq-provider==0.20.2->qiskit) (3.4)\n",
            "Collecting ntlm-auth>=1.0.2 (from requests-ntlm<=1.1.0->qiskit-ibmq-provider==0.20.2->qiskit)\n",
            "  Downloading ntlm_auth-1.5.0-py2.py3-none-any.whl (29 kB)\n",
            "Requirement already satisfied: cryptography>=1.3 in /usr/local/lib/python3.10/dist-packages (from requests-ntlm<=1.1.0->qiskit-ibmq-provider==0.20.2->qiskit) (40.0.2)\n",
            "Collecting pbr!=2.1.0,>=2.0.0 (from stevedore>=3.0.0->qiskit-terra==0.24.0->qiskit)\n",
            "  Downloading pbr-5.11.1-py2.py3-none-any.whl (112 kB)\n",
            "\u001b[2K     \u001b[90m━━━━━━━━━━━━━━━━━━━━━━━━━━━━━━━━━━━━━━\u001b[0m \u001b[32m112.7/112.7 kB\u001b[0m \u001b[31m15.8 MB/s\u001b[0m eta \u001b[36m0:00:00\u001b[0m\n",
            "\u001b[?25hRequirement already satisfied: mpmath>=0.19 in /usr/local/lib/python3.10/dist-packages (from sympy>=1.3->qiskit-terra==0.24.0->qiskit) (1.3.0)\n",
            "Requirement already satisfied: cffi>=1.12 in /usr/local/lib/python3.10/dist-packages (from cryptography>=1.3->requests-ntlm<=1.1.0->qiskit-ibmq-provider==0.20.2->qiskit) (1.15.1)\n",
            "Requirement already satisfied: pycparser in /usr/local/lib/python3.10/dist-packages (from cffi>=1.12->cryptography>=1.3->requests-ntlm<=1.1.0->qiskit-ibmq-provider==0.20.2->qiskit) (2.21)\n",
            "Building wheels for collected packages: qiskit\n",
            "  Building wheel for qiskit (pyproject.toml) ... \u001b[?25l\u001b[?25hdone\n",
            "  Created wheel for qiskit: filename=qiskit-0.43.0-py3-none-any.whl size=7996 sha256=73a4f990d98e8b34857e38782af37f8a548e11c50f50c4e540c731edce8a649f\n",
            "  Stored in directory: /root/.cache/pip/wheels/11/fe/bc/59531707126e693bad48c61c0b86f3870b49f8f7ad49c18209\n",
            "Successfully built qiskit\n",
            "Installing collected packages: ply, websockets, symengine, rustworkx, pbr, ntlm-auth, dill, stevedore, requests-ntlm, qiskit-terra, qiskit-ibmq-provider, qiskit-aer, qiskit\n",
            "Successfully installed dill-0.3.6 ntlm-auth-1.5.0 pbr-5.11.1 ply-3.11 qiskit-0.43.0 qiskit-aer-0.12.0 qiskit-ibmq-provider-0.20.2 qiskit-terra-0.24.0 requests-ntlm-1.1.0 rustworkx-0.12.1 stevedore-5.1.0 symengine-0.9.2 websockets-11.0.3\n"
          ]
        }
      ]
    },
    {
      "cell_type": "code",
      "source": [
        "def generar_grafo(numero_ciudades):\n",
        "    \"\"\"\n",
        "    Genera un grafo completo con un número dado de ciudades como nodos y asigna distancias aleatorias a cada par de nodos comprendidas entre el 1 y el 10.\n",
        "    \n",
        "    Parámetros\n",
        "    ----------\n",
        "    numero_ciudades : int\n",
        "        El número de ciudades (nodos) para incluir en el grafo.\n",
        "        \n",
        "    Devoluciones\n",
        "    ------------\n",
        "    G : networkx.classes.graph.Graph\n",
        "        Un objeto de grafo completo de NetworkX con 'numero_ciudades' nodos y distancias aleatorias asignadas a cada par de nodos.\n",
        "        \n",
        "    distancias : dict\n",
        "        Un diccionario de NetworkX que mapea cada par de nodos a la 'distancia' entre ellos. Las claves del diccionario son tuplas de dos elementos que representan los pares de nodos, y los valores son las distancias aleatorias asignadas.\n",
        "        \n",
        "    Ejemplo\n",
        "    -------\n",
        "    >>> G, distancias = generar_grafo(5)\n",
        "    >>> print(G.edges(data=True))\n",
        "    [(0, 1, {'distancia': 3}), (0, 2, {'distancia': 7}), (0, 3, {'distancia': 2}), (0, 4, {'distancia': 6}), \n",
        "    (1, 2, {'distancia': 10}), (1, 3, {'distancia': 1}), (1, 4, {'distancia': 8}), (2, 3, {'distancia': 4}), \n",
        "    (2, 4, {'distancia': 5}), (3, 4, {'distancia': 9})]\n",
        "    >>> print(distancias)\n",
        "    {(0, 1): 3, (0, 2): 7, (0, 3): 2, (0, 4): 6, (1, 2): 10, (1, 3): 1, (1, 4): 8, (2, 3): 4, (2, 4): 5, (3, 4): 9}\n",
        "    \"\"\"\n",
        "    # Crear un grafo completo con 'numero_ciudades' nodos\n",
        "    G = nx.complete_graph(numero_ciudades)\n",
        "    # Asignar una distancia aleatoria (entre 1 y 10) a cada par de nodos\n",
        "    for (u, v) in G.edges():\n",
        "        G.edges[u, v]['distancia'] = 1\n",
        "    # Obtener un diccionario de las distancias entre cada par de nodos\n",
        "    distancias = nx.get_edge_attributes(G, 'peso')\n",
        "    return G, distancias\n"
      ],
      "metadata": {
        "id": "SD6ZfmTMI2Xp"
      },
      "execution_count": 54,
      "outputs": []
    },
    {
      "cell_type": "code",
      "source": [
        "import networkx as nx\n",
        "import numpy as np\n",
        "\n",
        "def generate_hamiltonian_graph(num_nodes):\n",
        "    # Crea un nuevo grafo no dirigido\n",
        "    G = nx.Graph()\n",
        "\n",
        "    # Agrega los nodos al grafo\n",
        "    G.add_nodes_from(range(num_nodes))\n",
        "\n",
        "    # Genera un camino Hamiltoniano\n",
        "    for i in range(num_nodes - 1):\n",
        "        G.add_edge(i, i + 1, weight=1.0)\n",
        "    G.add_edge(num_nodes - 1, 0, weight=1.0)  # Cierra el ciclo para hacerlo Hamiltoniano\n",
        "\n",
        "    # Agrega más aristas de manera aleatoria\n",
        "    for i in range(num_nodes):\n",
        "        for j in range(i + 2, num_nodes):\n",
        "            if np.random.random() > 0.5:  # Añade la arista con una probabilidad del 50%\n",
        "                G.add_edge(i, j, weight=1.0)\n",
        "\n",
        "    return G\n"
      ],
      "metadata": {
        "id": "exlgeIytLG4N"
      },
      "execution_count": 56,
      "outputs": []
    },
    {
      "cell_type": "code",
      "source": [
        "grafo = generate_hamiltonian_graph(6)"
      ],
      "metadata": {
        "id": "FL-CtDusI6JD"
      },
      "execution_count": 57,
      "outputs": []
    },
    {
      "cell_type": "code",
      "source": [
        "def draw_graph(G, colors, pos):\n",
        "    default_axes = plt.axes(frameon=True)\n",
        "    nx.draw_networkx(G, node_color=colors, node_size=600, alpha=0.8, ax=default_axes, pos=pos)\n",
        "    edge_labels = nx.get_edge_attributes(G, \"peso\")\n",
        "    nx.draw_networkx_edge_labels(G, pos=pos, edge_labels=edge_labels)"
      ],
      "metadata": {
        "id": "KaikiiqCJHuU"
      },
      "execution_count": 58,
      "outputs": []
    },
    {
      "cell_type": "code",
      "source": [
        "colors = [\"r\" for node in grafo.nodes()]\n",
        "pos = nx.spring_layout(grafo)"
      ],
      "metadata": {
        "id": "qOqCyNzJJKGM"
      },
      "execution_count": 59,
      "outputs": []
    },
    {
      "cell_type": "code",
      "source": [
        "draw_graph(grafo, colors, pos)"
      ],
      "metadata": {
        "colab": {
          "base_uri": "https://localhost:8080/",
          "height": 406
        },
        "id": "5FRJ1lZTJRCL",
        "outputId": "f9ff699f-7a00-4a41-f510-9d757420359a"
      },
      "execution_count": 60,
      "outputs": [
        {
          "output_type": "display_data",
          "data": {
            "text/plain": [
              "<Figure size 640x480 with 1 Axes>"
            ],
            "image/png": "[encoded data removed]"
          },
          "metadata": {}
        }
      ]
    },
    {
      "cell_type": "code",
      "source": [
        "G = grafo\n",
        "n = 6"
      ],
      "metadata": {
        "id": "3lhsUMbTJeSc"
      },
      "execution_count": 61,
      "outputs": []
    },
    {
      "cell_type": "code",
      "source": [
        "# Computing the weight matrix from the random graph\n",
        "w = np.zeros([n, n])\n",
        "for i in range(n):\n",
        "    for j in range(n):\n",
        "        temp = G.get_edge_data(i, j, default=0)\n",
        "        if temp != 0:\n",
        "            w[i, j] = temp[\"weight\"]\n",
        "print(w)"
      ],
      "metadata": {
        "colab": {
          "base_uri": "https://localhost:8080/"
        },
        "id": "PN7Ks154JZVm",
        "outputId": "e811f536-7b76-499f-c54c-0d56970340f1"
      },
      "execution_count": 62,
      "outputs": [
        {
          "output_type": "stream",
          "name": "stdout",
          "text": [
            "[[0. 1. 0. 1. 0. 1.]\n",
            " [1. 0. 1. 0. 0. 1.]\n",
            " [0. 1. 0. 1. 1. 0.]\n",
            " [1. 0. 1. 0. 1. 1.]\n",
            " [0. 0. 1. 1. 0. 1.]\n",
            " [1. 1. 0. 1. 1. 0.]]\n"
          ]
        }
      ]
    },
    {
      "cell_type": "code",
      "source": [
        "best_cost_brute = 0\n",
        "cost_dict = {}  # Diccionario para almacenar los casos y sus costos\n",
        "\n",
        "for b in range(2**n):\n",
        "    x = [int(t) for t in reversed(list(bin(b)[2:].zfill(n)))]\n",
        "    cost = 0\n",
        "    for i in range(n):\n",
        "        for j in range(n):\n",
        "            cost = cost + w[i, j] * x[i] * (1 - x[j])\n",
        "    if best_cost_brute < cost:\n",
        "        best_cost_brute = cost\n",
        "        xbest_brute = x\n",
        "    print(\"case = \" + str(tuple(x)) + \" cost = \" + str(cost))\n",
        "    \n",
        "    # Almacenar el caso y el costo en el diccionario\n",
        "    cost_dict[tuple(x)] = cost\n",
        "\n",
        "colors = [\"r\" if xbest_brute[i] == 0 else \"c\" for i in range(n)]\n",
        "draw_graph(G, colors, pos)\n",
        "print(\"\\nBest solution = \" + str(xbest_brute) + \" cost = \" + str(best_cost_brute))\n",
        "\n",
        "# Imprimir el diccionario de costos\n",
        "for case, cost in cost_dict.items():\n",
        "    print(f\"Case: {case}, Cost: {cost}\")\n"
      ],
      "metadata": {
        "colab": {
          "base_uri": "https://localhost:8080/",
          "height": 1000
        },
        "id": "a-bSFNsiJuL3",
        "outputId": "acc55226-5c14-4290-af9a-2c8960e73893"
      },
      "execution_count": 63,
      "outputs": [
        {
          "output_type": "stream",
          "name": "stdout",
          "text": [
            "case = (0, 0, 0, 0, 0, 0) cost = 0.0\n",
            "case = (1, 0, 0, 0, 0, 0) cost = 3.0\n",
            "case = (0, 1, 0, 0, 0, 0) cost = 3.0\n",
            "case = (1, 1, 0, 0, 0, 0) cost = 4.0\n",
            "case = (0, 0, 1, 0, 0, 0) cost = 3.0\n",
            "case = (1, 0, 1, 0, 0, 0) cost = 6.0\n",
            "case = (0, 1, 1, 0, 0, 0) cost = 4.0\n",
            "case = (1, 1, 1, 0, 0, 0) cost = 5.0\n",
            "case = (0, 0, 0, 1, 0, 0) cost = 4.0\n",
            "case = (1, 0, 0, 1, 0, 0) cost = 5.0\n",
            "case = (0, 1, 0, 1, 0, 0) cost = 7.0\n",
            "case = (1, 1, 0, 1, 0, 0) cost = 6.0\n",
            "case = (0, 0, 1, 1, 0, 0) cost = 5.0\n",
            "case = (1, 0, 1, 1, 0, 0) cost = 6.0\n",
            "case = (0, 1, 1, 1, 0, 0) cost = 6.0\n",
            "case = (1, 1, 1, 1, 0, 0) cost = 5.0\n",
            "case = (0, 0, 0, 0, 1, 0) cost = 3.0\n",
            "case = (1, 0, 0, 0, 1, 0) cost = 6.0\n",
            "case = (0, 1, 0, 0, 1, 0) cost = 6.0\n",
            "case = (1, 1, 0, 0, 1, 0) cost = 7.0\n",
            "case = (0, 0, 1, 0, 1, 0) cost = 4.0\n",
            "case = (1, 0, 1, 0, 1, 0) cost = 7.0\n",
            "case = (0, 1, 1, 0, 1, 0) cost = 5.0\n",
            "case = (1, 1, 1, 0, 1, 0) cost = 6.0\n",
            "case = (0, 0, 0, 1, 1, 0) cost = 5.0\n",
            "case = (1, 0, 0, 1, 1, 0) cost = 6.0\n",
            "case = (0, 1, 0, 1, 1, 0) cost = 8.0\n",
            "case = (1, 1, 0, 1, 1, 0) cost = 7.0\n",
            "case = (0, 0, 1, 1, 1, 0) cost = 4.0\n",
            "case = (1, 0, 1, 1, 1, 0) cost = 5.0\n",
            "case = (0, 1, 1, 1, 1, 0) cost = 5.0\n",
            "case = (1, 1, 1, 1, 1, 0) cost = 4.0\n",
            "case = (0, 0, 0, 0, 0, 1) cost = 4.0\n",
            "case = (1, 0, 0, 0, 0, 1) cost = 5.0\n",
            "case = (0, 1, 0, 0, 0, 1) cost = 5.0\n",
            "case = (1, 1, 0, 0, 0, 1) cost = 4.0\n",
            "case = (0, 0, 1, 0, 0, 1) cost = 7.0\n",
            "case = (1, 0, 1, 0, 0, 1) cost = 8.0\n",
            "case = (0, 1, 1, 0, 0, 1) cost = 6.0\n",
            "case = (1, 1, 1, 0, 0, 1) cost = 5.0\n",
            "case = (0, 0, 0, 1, 0, 1) cost = 6.0\n",
            "case = (1, 0, 0, 1, 0, 1) cost = 5.0\n",
            "case = (0, 1, 0, 1, 0, 1) cost = 7.0\n",
            "case = (1, 1, 0, 1, 0, 1) cost = 4.0\n",
            "case = (0, 0, 1, 1, 0, 1) cost = 7.0\n",
            "case = (1, 0, 1, 1, 0, 1) cost = 6.0\n",
            "case = (0, 1, 1, 1, 0, 1) cost = 6.0\n",
            "case = (1, 1, 1, 1, 0, 1) cost = 3.0\n",
            "case = (0, 0, 0, 0, 1, 1) cost = 5.0\n",
            "case = (1, 0, 0, 0, 1, 1) cost = 6.0\n",
            "case = (0, 1, 0, 0, 1, 1) cost = 6.0\n",
            "case = (1, 1, 0, 0, 1, 1) cost = 5.0\n",
            "case = (0, 0, 1, 0, 1, 1) cost = 6.0\n",
            "case = (1, 0, 1, 0, 1, 1) cost = 7.0\n",
            "case = (0, 1, 1, 0, 1, 1) cost = 5.0\n",
            "case = (1, 1, 1, 0, 1, 1) cost = 4.0\n",
            "case = (0, 0, 0, 1, 1, 1) cost = 5.0\n",
            "case = (1, 0, 0, 1, 1, 1) cost = 4.0\n",
            "case = (0, 1, 0, 1, 1, 1) cost = 6.0\n",
            "case = (1, 1, 0, 1, 1, 1) cost = 3.0\n",
            "case = (0, 0, 1, 1, 1, 1) cost = 4.0\n",
            "case = (1, 0, 1, 1, 1, 1) cost = 3.0\n",
            "case = (0, 1, 1, 1, 1, 1) cost = 3.0\n",
            "case = (1, 1, 1, 1, 1, 1) cost = 0.0\n",
            "\n",
            "Best solution = [0, 1, 0, 1, 1, 0] cost = 8.0\n",
            "Case: (0, 0, 0, 0, 0, 0), Cost: 0.0\n",
            "Case: (1, 0, 0, 0, 0, 0), Cost: 3.0\n",
            "Case: (0, 1, 0, 0, 0, 0), Cost: 3.0\n",
            "Case: (1, 1, 0, 0, 0, 0), Cost: 4.0\n",
            "Case: (0, 0, 1, 0, 0, 0), Cost: 3.0\n",
            "Case: (1, 0, 1, 0, 0, 0), Cost: 6.0\n",
            "Case: (0, 1, 1, 0, 0, 0), Cost: 4.0\n",
            "Case: (1, 1, 1, 0, 0, 0), Cost: 5.0\n",
            "Case: (0, 0, 0, 1, 0, 0), Cost: 4.0\n",
            "Case: (1, 0, 0, 1, 0, 0), Cost: 5.0\n",
            "Case: (0, 1, 0, 1, 0, 0), Cost: 7.0\n",
            "Case: (1, 1, 0, 1, 0, 0), Cost: 6.0\n",
            "Case: (0, 0, 1, 1, 0, 0), Cost: 5.0\n",
            "Case: (1, 0, 1, 1, 0, 0), Cost: 6.0\n",
            "Case: (0, 1, 1, 1, 0, 0), Cost: 6.0\n",
            "Case: (1, 1, 1, 1, 0, 0), Cost: 5.0\n",
            "Case: (0, 0, 0, 0, 1, 0), Cost: 3.0\n",
            "Case: (1, 0, 0, 0, 1, 0), Cost: 6.0\n",
            "Case: (0, 1, 0, 0, 1, 0), Cost: 6.0\n",
            "Case: (1, 1, 0, 0, 1, 0), Cost: 7.0\n",
            "Case: (0, 0, 1, 0, 1, 0), Cost: 4.0\n",
            "Case: (1, 0, 1, 0, 1, 0), Cost: 7.0\n",
            "Case: (0, 1, 1, 0, 1, 0), Cost: 5.0\n",
            "Case: (1, 1, 1, 0, 1, 0), Cost: 6.0\n",
            "Case: (0, 0, 0, 1, 1, 0), Cost: 5.0\n",
            "Case: (1, 0, 0, 1, 1, 0), Cost: 6.0\n",
            "Case: (0, 1, 0, 1, 1, 0), Cost: 8.0\n",
            "Case: (1, 1, 0, 1, 1, 0), Cost: 7.0\n",
            "Case: (0, 0, 1, 1, 1, 0), Cost: 4.0\n",
            "Case: (1, 0, 1, 1, 1, 0), Cost: 5.0\n",
            "Case: (0, 1, 1, 1, 1, 0), Cost: 5.0\n",
            "Case: (1, 1, 1, 1, 1, 0), Cost: 4.0\n",
            "Case: (0, 0, 0, 0, 0, 1), Cost: 4.0\n",
            "Case: (1, 0, 0, 0, 0, 1), Cost: 5.0\n",
            "Case: (0, 1, 0, 0, 0, 1), Cost: 5.0\n",
            "Case: (1, 1, 0, 0, 0, 1), Cost: 4.0\n",
            "Case: (0, 0, 1, 0, 0, 1), Cost: 7.0\n",
            "Case: (1, 0, 1, 0, 0, 1), Cost: 8.0\n",
            "Case: (0, 1, 1, 0, 0, 1), Cost: 6.0\n",
            "Case: (1, 1, 1, 0, 0, 1), Cost: 5.0\n",
            "Case: (0, 0, 0, 1, 0, 1), Cost: 6.0\n",
            "Case: (1, 0, 0, 1, 0, 1), Cost: 5.0\n",
            "Case: (0, 1, 0, 1, 0, 1), Cost: 7.0\n",
            "Case: (1, 1, 0, 1, 0, 1), Cost: 4.0\n",
            "Case: (0, 0, 1, 1, 0, 1), Cost: 7.0\n",
            "Case: (1, 0, 1, 1, 0, 1), Cost: 6.0\n",
            "Case: (0, 1, 1, 1, 0, 1), Cost: 6.0\n",
            "Case: (1, 1, 1, 1, 0, 1), Cost: 3.0\n",
            "Case: (0, 0, 0, 0, 1, 1), Cost: 5.0\n",
            "Case: (1, 0, 0, 0, 1, 1), Cost: 6.0\n",
            "Case: (0, 1, 0, 0, 1, 1), Cost: 6.0\n",
            "Case: (1, 1, 0, 0, 1, 1), Cost: 5.0\n",
            "Case: (0, 0, 1, 0, 1, 1), Cost: 6.0\n",
            "Case: (1, 0, 1, 0, 1, 1), Cost: 7.0\n",
            "Case: (0, 1, 1, 0, 1, 1), Cost: 5.0\n",
            "Case: (1, 1, 1, 0, 1, 1), Cost: 4.0\n",
            "Case: (0, 0, 0, 1, 1, 1), Cost: 5.0\n",
            "Case: (1, 0, 0, 1, 1, 1), Cost: 4.0\n",
            "Case: (0, 1, 0, 1, 1, 1), Cost: 6.0\n",
            "Case: (1, 1, 0, 1, 1, 1), Cost: 3.0\n",
            "Case: (0, 0, 1, 1, 1, 1), Cost: 4.0\n",
            "Case: (1, 0, 1, 1, 1, 1), Cost: 3.0\n",
            "Case: (0, 1, 1, 1, 1, 1), Cost: 3.0\n",
            "Case: (1, 1, 1, 1, 1, 1), Cost: 0.0\n"
          ]
        },
        {
          "output_type": "display_data",
          "data": {
            "text/plain": [
              "<Figure size 640x480 with 1 Axes>"
            ],
            "image/png": "[encoded data removed]"
          },
          "metadata": {}
        }
      ]
    },
    {
      "cell_type": "code",
      "source": [
        "cost_dict[(1, 1, 0, 1, 0, 0)]"
      ],
      "metadata": {
        "id": "gQvnIZNRQR6R",
        "outputId": "3f926a38-4107-4b9d-d2f7-798a494d370e",
        "colab": {
          "base_uri": "https://localhost:8080/"
        }
      },
      "execution_count": 124,
      "outputs": [
        {
          "output_type": "execute_result",
          "data": {
            "text/plain": [
              "6.0"
            ]
          },
          "metadata": {},
          "execution_count": 124
        }
      ]
    },
    {
      "cell_type": "code",
      "source": [
        "def string_to_tuple(s):\n",
        "    return tuple(int(char) for char in s)\n"
      ],
      "metadata": {
        "id": "xTmGzql2QsRh"
      },
      "execution_count": 125,
      "outputs": []
    },
    {
      "cell_type": "code",
      "source": [
        "cost_dict[string_to_tuple('110100')]"
      ],
      "metadata": {
        "id": "8DzzJS2xQtz5",
        "outputId": "771884d6-166f-41ac-b767-e0ea4ff21bdc",
        "colab": {
          "base_uri": "https://localhost:8080/"
        }
      },
      "execution_count": 126,
      "outputs": [
        {
          "output_type": "execute_result",
          "data": {
            "text/plain": [
              "6.0"
            ]
          },
          "metadata": {},
          "execution_count": 126
        }
      ]
    },
    {
      "cell_type": "code",
      "source": [
        "G.number_of_edges()"
      ],
      "metadata": {
        "colab": {
          "base_uri": "https://localhost:8080/"
        },
        "id": "YVWjs4IQOL9Y",
        "outputId": "a7bfed5c-6860-4c69-ee38-76ba7cb6404c"
      },
      "execution_count": null,
      "outputs": [
        {
          "output_type": "execute_result",
          "data": {
            "text/plain": [
              "10"
            ]
          },
          "metadata": {},
          "execution_count": 73
        }
      ]
    },
    {
      "cell_type": "code",
      "source": [
        "def oraculo(dic_todo,tupla1,tupla2):\n",
        "  if dic_todo[tupla1] >= dic_todo[tupla2]:\n",
        "    return 1\n",
        "  else:\n",
        "    return 0\n"
      ],
      "metadata": {
        "id": "oOD-NdlcQM5S"
      },
      "execution_count": null,
      "outputs": []
    },
    {
      "cell_type": "markdown",
      "source": [
        "Qiskit\n"
      ],
      "metadata": {
        "id": "MMJ7xAsdYOUO"
      }
    },
    {
      "cell_type": "code",
      "source": [
        "import qiskit"
      ],
      "metadata": {
        "id": "lE4ATO7aYf3d"
      },
      "execution_count": 8,
      "outputs": []
    },
    {
      "cell_type": "code",
      "source": [
        "from qiskit import QuantumRegister, QuantumCircuit,Aer, execute,ClassicalRegister"
      ],
      "metadata": {
        "id": "HNClSMMxYrj1"
      },
      "execution_count": 9,
      "outputs": []
    },
    {
      "cell_type": "code",
      "source": [
        "qr = QuantumRegister(6,name = \"qr0\")\n",
        "qr1 = QuantumRegister(6,name = \"qr1\")\n",
        "qr2 = QuantumRegister(6,name = \"qr2\")\n",
        "qr3 = QuantumRegister(6,name = \"qr3\")\n",
        "ancilla = QuantumRegister(1,name = \"ancilla\")"
      ],
      "metadata": {
        "id": "BGzThk7QYtuN"
      },
      "execution_count": null,
      "outputs": []
    },
    {
      "cell_type": "code",
      "source": [
        "qc = QuantumCircuit(qr,qr1,qr2,qr3,ancilla)"
      ],
      "metadata": {
        "id": "1rVjiTmkZO0Q"
      },
      "execution_count": null,
      "outputs": []
    },
    {
      "cell_type": "code",
      "source": [
        "from qiskit import QuantumCircuit, execute, Aer\n",
        "\n",
        "def get_random_number(qc,qubit,reg):\n",
        "    \n",
        "\n",
        "    # Apply the Hadamard gate on the qubit to put it into superposition.\n",
        "    # This allows us to get a 50/50 probability of measuring the qubit in state |0> or |1>.\n",
        "    qc.h(qubit[0])\n",
        "\n",
        "    # Measure the qubit into the classical register\n",
        "    qc.measure(qubit[0],reg[0])\n",
        "    with qc.if_test((reg, 1)):\n",
        "        qc.x(qubit[0])\n",
        "\n",
        "    backend_sim = AerSimulator()\n",
        "\n",
        "    # run the circuit\n",
        "    reset_sim_job = backend_sim.run(qc,shots = 1)\n",
        "    # get the results\n",
        "    reset_sim_result = reset_sim_job.result()\n",
        "    # retrieve the bitstring counts\n",
        "    counts = reset_sim_result.get_counts(qc)\n",
        "    return int(list(counts.keys())[0])\n",
        "\n",
        "    \n",
        "\n",
        "    return lanzar_circ_dinamico(qc)\n"
      ],
      "metadata": {
        "id": "RplRUfLWf1iC"
      },
      "execution_count": 70,
      "outputs": []
    },
    {
      "cell_type": "code",
      "source": [
        "qbit = QuantumRegister(1)\n",
        "creg = ClassicalRegister(1)\n",
        "qc = QuantumCircuit(qbit,creg)"
      ],
      "metadata": {
        "id": "DR9ZkEIOkpNN"
      },
      "execution_count": null,
      "outputs": []
    },
    {
      "cell_type": "code",
      "source": [
        "get_random_number(qc,qbit,creg)"
      ],
      "metadata": {
        "colab": {
          "base_uri": "https://localhost:8080/"
        },
        "id": "gRd0ujNVkqJl",
        "outputId": "9fd56539-659d-425e-c235-565e65edb0dc"
      },
      "execution_count": null,
      "outputs": [
        {
          "output_type": "execute_result",
          "data": {
            "text/plain": [
              "1"
            ]
          },
          "metadata": {},
          "execution_count": 35
        }
      ]
    },
    {
      "cell_type": "code",
      "source": [
        "qc.draw()"
      ],
      "metadata": {
        "colab": {
          "base_uri": "https://localhost:8080/",
          "height": 94
        },
        "id": "ElduTQyQlbp5",
        "outputId": "63c5e78b-3148-4ac6-8863-359140ee8af3"
      },
      "execution_count": null,
      "outputs": [
        {
          "output_type": "execute_result",
          "data": {
            "text/plain": [
              "     ┌───┐┌─┐┌──────────┐\n",
              "q71: ┤ H ├┤M├┤0         ├\n",
              "     └───┘└╥┘│  If_else │\n",
              " c4: ══════╩═╡0         ╞\n",
              "             └──────────┘"
            ],
            "text/html": [
              "<pre style=\"word-wrap: normal;white-space: pre;background: #fff0;line-height: 1.1;font-family: &quot;Courier New&quot;,Courier,monospace\">     ┌───┐┌─┐┌──────────┐\n",
              "q71: ┤ H ├┤M├┤0         ├\n",
              "     └───┘└╥┘│  If_else │\n",
              " c4: ══════╩═╡0         ╞\n",
              "             └──────────┘</pre>"
            ]
          },
          "metadata": {},
          "execution_count": 36
        }
      ]
    },
    {
      "cell_type": "code",
      "source": [
        "def lanzar_circ_dinamico(qc,registro):\n",
        "  # initialize the simulator\n",
        "  backend_sim = AerSimulator()\n",
        "\n",
        "  # run the circuit\n",
        "  reset_sim_job = backend_sim.run(qc,backend_sim,shots = 1)\n",
        "  # get the results\n",
        "  reset_sim_result = reset_sim_job.result()\n",
        "  # retrieve the bitstring counts\n",
        "  counts = reset_sim_result.get_counts(qc)\n",
        "  return int(list(counts.keys())[0])"
      ],
      "metadata": {
        "id": "1Zy3FhRfft1A"
      },
      "execution_count": null,
      "outputs": []
    },
    {
      "cell_type": "code",
      "source": [],
      "metadata": {
        "id": "H98_xh59ckio"
      },
      "execution_count": null,
      "outputs": []
    },
    {
      "cell_type": "code",
      "source": [],
      "metadata": {
        "colab": {
          "base_uri": "https://localhost:8080/",
          "height": 166
        },
        "id": "cWRsjdnn680S",
        "outputId": "fa593aea-4696-49d5-8421-a68686010290"
      },
      "execution_count": null,
      "outputs": [
        {
          "output_type": "error",
          "ename": "TypeError",
          "evalue": "ignored",
          "traceback": [
            "\u001b[0;31m---------------------------------------------------------------------------\u001b[0m",
            "\u001b[0;31mTypeError\u001b[0m                                 Traceback (most recent call last)",
            "\u001b[0;32m<ipython-input-179-f7109c5b5408>\u001b[0m in \u001b[0;36m<cell line: 1>\u001b[0;34m()\u001b[0m\n\u001b[0;32m----> 1\u001b[0;31m \u001b[0mqc\u001b[0m\u001b[0;34m[\u001b[0m\u001b[0mqr\u001b[0m\u001b[0;34m[\u001b[0m\u001b[0;36m0\u001b[0m\u001b[0;34m]\u001b[0m\u001b[0;34m]\u001b[0m\u001b[0;34m=\u001b[0m \u001b[0mm\u001b[0m\u001b[0;34m[\u001b[0m\u001b[0;36m0\u001b[0m\u001b[0;34m]\u001b[0m\u001b[0;34m\u001b[0m\u001b[0;34m\u001b[0m\u001b[0m\n\u001b[0m",
            "\u001b[0;31mTypeError\u001b[0m: 'QuantumCircuit' object does not support item assignment"
          ]
        }
      ]
    },
    {
      "cell_type": "code",
      "source": [
        "qc.remove_register(m)"
      ],
      "metadata": {
        "colab": {
          "base_uri": "https://localhost:8080/",
          "height": 166
        },
        "id": "B4TnZKz36OSN",
        "outputId": "cbce5fb6-38b0-4dc2-ea09-02e48dcbaf66"
      },
      "execution_count": null,
      "outputs": [
        {
          "output_type": "error",
          "ename": "AttributeError",
          "evalue": "ignored",
          "traceback": [
            "\u001b[0;31m---------------------------------------------------------------------------\u001b[0m",
            "\u001b[0;31mAttributeError\u001b[0m                            Traceback (most recent call last)",
            "\u001b[0;32m<ipython-input-172-7f2324fa2959>\u001b[0m in \u001b[0;36m<cell line: 1>\u001b[0;34m()\u001b[0m\n\u001b[0;32m----> 1\u001b[0;31m \u001b[0mqc\u001b[0m\u001b[0;34m.\u001b[0m\u001b[0mremove_register\u001b[0m\u001b[0;34m(\u001b[0m\u001b[0mm\u001b[0m\u001b[0;34m)\u001b[0m\u001b[0;34m\u001b[0m\u001b[0;34m\u001b[0m\u001b[0m\n\u001b[0m",
            "\u001b[0;31mAttributeError\u001b[0m: 'QuantumCircuit' object has no attribute 'remove_register'"
          ]
        }
      ]
    },
    {
      "cell_type": "code",
      "source": [
        "for i in range(len(qr)):\n",
        "  print(i)"
      ],
      "metadata": {
        "colab": {
          "base_uri": "https://localhost:8080/"
        },
        "id": "IgdhXN6WepH2",
        "outputId": "0cda0525-8b29-4267-d25a-0b3172cab7c9"
      },
      "execution_count": null,
      "outputs": [
        {
          "output_type": "stream",
          "name": "stdout",
          "text": [
            "0\n",
            "1\n",
            "2\n",
            "3\n",
            "4\n",
            "5\n"
          ]
        }
      ]
    },
    {
      "cell_type": "code",
      "source": [
        "qc.h(range(qc.num_qubits))"
      ],
      "metadata": {
        "colab": {
          "base_uri": "https://localhost:8080/"
        },
        "id": "HTU2wlKOZTfK",
        "outputId": "146437bd-1de3-4031-cb10-1c541753374c"
      },
      "execution_count": null,
      "outputs": [
        {
          "output_type": "execute_result",
          "data": {
            "text/plain": [
              "<qiskit.circuit.instructionset.InstructionSet at 0x7ffae3d13160>"
            ]
          },
          "metadata": {},
          "execution_count": 90
        }
      ]
    },
    {
      "cell_type": "code",
      "source": [
        "def mutate_bit_random(qr,qc,probabilidad):\n",
        "  \"\"\"mutar bit random\"\"\"\n",
        "  #mutar un qbit aleatorio\n",
        "  if np.random.random() > probabilidad:\n",
        "    qc.x(qr[np.random.randint(0,len(qr))])\n",
        "  \n"
      ],
      "metadata": {
        "id": "f-19lw7ba92T"
      },
      "execution_count": 68,
      "outputs": []
    },
    {
      "cell_type": "code",
      "source": [
        "def mutate_bit(qr,qc,bit):\n",
        "  \"\"\"dado un bit a mutar un qr y qc muta ese bit\"\"\"\n",
        "  qc.x(qr[bit])\n",
        "\n",
        "def mutate_multi_bit(qr,qc,probabilidad):#prob >0 and prob <1 a mas grande prob menos oportunidades de mutar\n",
        "  for i in range(len(qr)):\n",
        "     if np.random.random() > probabilidad:\n",
        "      mutate_bit(qr,qc,i)\n",
        "\n",
        "def mutate_bit_random(qr,qc,probabilidad):\n",
        "  \"\"\"mutar bit random\"\"\"\n",
        "  #mutar un qbit aleatorio\n",
        "  if np.random.random() > probabilidad:\n",
        "    qc.x(qr[np.random.randint(0,len(qr))])\n",
        "\n",
        "def mutate_exchange(qr,qc,probabilidad):\n",
        "   if np.random.random() > probabilidad:\n",
        "    numero0 = np.random.randint(0,len(qr))\n",
        "    numero1  = np.random.randint(0,len(qr))\n",
        "    if numero0 != numero1:\n",
        "      qc.swap(qr[numero0], qr[numero1])\n",
        "\n",
        "\n",
        "\n"
      ],
      "metadata": {
        "id": "RukxBI28fldk"
      },
      "execution_count": 131,
      "outputs": []
    },
    {
      "cell_type": "code",
      "source": [
        "def mutate_exchange(qr,qc,probabilidad):\n",
        "   if np.random.random() > probabilidad:\n",
        "    numero0 = np.random.randint(0,len(qr))\n",
        "    numero1  = np.random.randint(0,len(qr))\n",
        "    if numero0 != numero1:\n",
        "      qc.swap(qr[numero0], qr[numero1])\n",
        "\n",
        "\n"
      ],
      "metadata": {
        "id": "mTq9_YUvuXrn"
      },
      "execution_count": null,
      "outputs": []
    },
    {
      "cell_type": "code",
      "source": [
        "np.random.randint(0,6)"
      ],
      "metadata": {
        "colab": {
          "base_uri": "https://localhost:8080/"
        },
        "id": "3CAYoSQB1tqs",
        "outputId": "641aaf59-b816-464f-fb9b-16c61fcc40d4"
      },
      "execution_count": null,
      "outputs": [
        {
          "output_type": "execute_result",
          "data": {
            "text/plain": [
              "0"
            ]
          },
          "metadata": {},
          "execution_count": 162
        }
      ]
    },
    {
      "cell_type": "code",
      "source": [
        "qr[2]"
      ],
      "metadata": {
        "colab": {
          "base_uri": "https://localhost:8080/"
        },
        "id": "fgvqmhjR4chZ",
        "outputId": "cb607ad8-bea4-4976-98cc-b40cc4953387"
      },
      "execution_count": null,
      "outputs": [
        {
          "output_type": "execute_result",
          "data": {
            "text/plain": [
              "Qubit(QuantumRegister(6, 'qr0'), 2)"
            ]
          },
          "metadata": {},
          "execution_count": 168
        }
      ]
    },
    {
      "cell_type": "code",
      "source": [
        "def puntos(qr):\n",
        "  numero = np.random.randint(1,len(qr)-1) \n",
        "  num = np.random.randint(1,len(qr)-1)\n",
        "  while numero == num:\n",
        "    num = np.random.randint(1,len(qr)-1)\n",
        "  if num > numero:\n",
        "    return numero,num\n",
        "  else:\n",
        "    return num,numero\n"
      ],
      "metadata": {
        "id": "kH1oIBuh1xHX"
      },
      "execution_count": null,
      "outputs": []
    },
    {
      "cell_type": "code",
      "source": [
        "def pmx_cross(qr0,qr1,qc):\n",
        "  hijo = QuantumRegister(6)\n",
        "  \n",
        "\n",
        "\n",
        "\n"
      ],
      "metadata": {
        "id": "g2HjrxWcw82P"
      },
      "execution_count": null,
      "outputs": []
    },
    {
      "cell_type": "code",
      "source": [
        "qc.h(range(qc.num_qubits))"
      ],
      "metadata": {
        "colab": {
          "base_uri": "https://localhost:8080/"
        },
        "id": "E1eTp-K-wH-J",
        "outputId": "69fcb662-2ca3-4721-ae09-76d0f5aa49b9"
      },
      "execution_count": null,
      "outputs": [
        {
          "output_type": "execute_result",
          "data": {
            "text/plain": [
              "<qiskit.circuit.instructionset.InstructionSet at 0x7ffae3a628c0>"
            ]
          },
          "metadata": {},
          "execution_count": 148
        }
      ]
    },
    {
      "cell_type": "code",
      "source": [
        "\n",
        "\n",
        "def get_random_number():\n",
        "    # Create a Quantum Circuit with 1 qubit (also known as a quantum bit).\n",
        "    qc = QuantumCircuit(1,1)\n",
        "\n",
        "    # Apply the Hadamard gate on the qubit to put it into superposition.\n",
        "    # This allows us to get a 50/50 probability of measuring the qubit in state |0> or |1>.\n",
        "    qc.h(0)\n",
        "\n",
        "    # Measure the qubit into the classical register\n",
        "    qc.measure(0,0)\n",
        "\n",
        "    # Execute the quantum circuit on a quantum simulator and get the result.\n",
        "    result = execute(qc, Aer.get_backend('qasm_simulator'), shots=1).result()\n",
        "    counts = result.get_counts(qc)\n",
        "\n",
        "    # Get a random number 0 or 1\n",
        "    random_number = int(list(counts.keys())[0])\n",
        "\n",
        "    return random_number\n"
      ],
      "metadata": {
        "id": "CLT4OPS0fVJD"
      },
      "execution_count": 67,
      "outputs": []
    },
    {
      "cell_type": "code",
      "source": [
        "mutate_bit_random(qr,qc,0)"
      ],
      "metadata": {
        "id": "_fXHaDTrx3e4"
      },
      "execution_count": null,
      "outputs": []
    },
    {
      "cell_type": "code",
      "source": [
        "def cruce(qc,qr,qr1):\n",
        "\n",
        "  qc.cx(0, 1) # Para |10⟩ => |11⟩\n",
        "  qc.x(0)\n",
        "  qc.x(1) # Prepara los qubits para la siguiente operación\n",
        "  qc.ccx(0, 1, 2) # Marca |00⟩ en el ancilla\n",
        "  qc.x(1) # Aplica NOT en q[1] si el ancilla está en |1⟩\n",
        "  qc.x(0)\n",
        "  qc.cx(2, 1)\n",
        "  qc.x(1)\n",
        "  qc.x(2) # Devuelve los qubits y el ancilla a sus estados originales\n",
        "\n",
        "  qc.barrier()\n",
        "\n",
        "  # Restablece el qubit ancilla\n",
        "  qc.ccx(0, 2, 1)\n",
        "  qc.ccx(0, 1, 2)\n",
        "  qc.ccx(0, 2, 1)\n",
        "  qc.reset(2)\n",
        "\n"
      ],
      "metadata": {
        "id": "91Mrqp59Y-TW"
      },
      "execution_count": null,
      "outputs": []
    },
    {
      "cell_type": "code",
      "source": [
        "qc.draw()"
      ],
      "metadata": {
        "id": "ooIKbZ4PyFEA"
      },
      "execution_count": null,
      "outputs": []
    },
    {
      "cell_type": "code",
      "source": [
        "qb= QuantumRegister(2)\n",
        "cr = ClassicalRegister(2)"
      ],
      "metadata": {
        "id": "YFtS9hcDqPL0"
      },
      "execution_count": null,
      "outputs": []
    },
    {
      "cell_type": "code",
      "source": [
        "qc = QuantumCircuit(qb,cr)"
      ],
      "metadata": {
        "id": "SuhB1MXqqKzk"
      },
      "execution_count": null,
      "outputs": []
    },
    {
      "cell_type": "code",
      "source": [
        "qc.x(0)\n",
        "qc.x(1)"
      ],
      "metadata": {
        "colab": {
          "base_uri": "https://localhost:8080/"
        },
        "id": "869hK0q1qa6d",
        "outputId": "4f6d28d7-88cf-41ce-9757-2a657f896f0b"
      },
      "execution_count": null,
      "outputs": [
        {
          "output_type": "execute_result",
          "data": {
            "text/plain": [
              "<qiskit.circuit.instructionset.InstructionSet at 0x7f74a9e7ad40>"
            ]
          },
          "metadata": {},
          "execution_count": 22
        }
      ]
    },
    {
      "cell_type": "code",
      "source": [
        "qr = QuantumRegister(2)\n",
        "cr = ClassicalRegister(2)\n",
        "qc = QuantumCircuit(qr,cr)\n",
        "#qc.x(1)\n",
        "qc.draw()"
      ],
      "metadata": {
        "id": "8bLuA2ox53OC",
        "outputId": "8f2badc8-3c5b-43f5-90c3-23f631e77e4f",
        "colab": {
          "base_uri": "https://localhost:8080/",
          "height": 125
        }
      },
      "execution_count": 41,
      "outputs": [
        {
          "output_type": "execute_result",
          "data": {
            "text/plain": [
              "       \n",
              "q12_0: \n",
              "       \n",
              "q12_1: \n",
              "       \n",
              " c9: 2/\n",
              "       "
            ],
            "text/html": [
              "<pre style=\"word-wrap: normal;white-space: pre;background: #fff0;line-height: 1.1;font-family: &quot;Courier New&quot;,Courier,monospace\">       \n",
              "q12_0: \n",
              "       \n",
              "q12_1: \n",
              "       \n",
              " c9: 2/\n",
              "       </pre>"
            ]
          },
          "metadata": {},
          "execution_count": 41
        }
      ]
    },
    {
      "cell_type": "code",
      "source": [
        "escribir(qc,qr,'10')"
      ],
      "metadata": {
        "id": "CU6MdMHX6auK",
        "outputId": "c2793737-cbca-4c3f-ba38-760841609c46",
        "colab": {
          "base_uri": "https://localhost:8080/"
        }
      },
      "execution_count": 42,
      "outputs": [
        {
          "output_type": "stream",
          "name": "stdout",
          "text": [
            "i: 0\n",
            "bit: 0\n",
            "i: 1\n",
            "bit: 1\n"
          ]
        }
      ]
    },
    {
      "cell_type": "code",
      "source": [
        "qc.draw()"
      ],
      "metadata": {
        "id": "EJALtR9u6g6i",
        "outputId": "b44dc950-10d4-4394-896c-fa4a9a3dd97b",
        "colab": {
          "base_uri": "https://localhost:8080/",
          "height": 156
        }
      },
      "execution_count": 45,
      "outputs": [
        {
          "output_type": "execute_result",
          "data": {
            "text/plain": [
              "              ░ ┌─┐   \n",
              " q12_0: ──────░─┤M├───\n",
              "        ┌───┐ ░ └╥┘┌─┐\n",
              " q12_1: ┤ X ├─░──╫─┤M├\n",
              "        └───┘ ░  ║ └╥┘\n",
              "  c9: 2/═════════╬══╬═\n",
              "                 ║  ║ \n",
              "meas: 2/═════════╩══╩═\n",
              "                 0  1 "
            ],
            "text/html": [
              "<pre style=\"word-wrap: normal;white-space: pre;background: #fff0;line-height: 1.1;font-family: &quot;Courier New&quot;,Courier,monospace\">              ░ ┌─┐   \n",
              " q12_0: ──────░─┤M├───\n",
              "        ┌───┐ ░ └╥┘┌─┐\n",
              " q12_1: ┤ X ├─░──╫─┤M├\n",
              "        └───┘ ░  ║ └╥┘\n",
              "  c9: 2/═════════╬══╬═\n",
              "                 ║  ║ \n",
              "meas: 2/═════════╩══╩═\n",
              "                 0  1 </pre>"
            ]
          },
          "metadata": {},
          "execution_count": 45
        }
      ]
    },
    {
      "cell_type": "code",
      "source": [
        "qc.measure_all()"
      ],
      "metadata": {
        "id": "PWJ3ODXM8FGv"
      },
      "execution_count": 44,
      "outputs": []
    },
    {
      "cell_type": "code",
      "source": [
        "simulator = Aer.get_backend('qasm_simulator')\n",
        "job = execute(qc, simulator, shots=1)\n",
        "result = job.result()\n",
        "counts = result.get_counts(qc)"
      ],
      "metadata": {
        "id": "8AT5JHVS8H55"
      },
      "execution_count": 46,
      "outputs": []
    },
    {
      "cell_type": "code",
      "source": [
        "counts"
      ],
      "metadata": {
        "id": "M88kgzhh8Rly",
        "outputId": "7a34057a-f335-42ce-ab16-928eb7ff49a5",
        "colab": {
          "base_uri": "https://localhost:8080/"
        }
      },
      "execution_count": 47,
      "outputs": [
        {
          "output_type": "execute_result",
          "data": {
            "text/plain": [
              "{'10 00': 1}"
            ]
          },
          "metadata": {},
          "execution_count": 47
        }
      ]
    },
    {
      "cell_type": "code",
      "source": [
        "def escribir(qc,qreg, bin_string):\n",
        "\n",
        "    \"\"\"funcion que sirve tanto para escribir como para 'resetear' un registro, si quieres escribir sin tener que poner tu manualmente las puertas not en bin_string pon el numero que quieras.\n",
        "    Si por el contrario quieres resetear tu resultado de un registro cuantico bin_string tiene que ser el contenido actual del registro cuantico\n",
        "\n",
        "    \"\"\"\n",
        "    # Creamos un QuantumCircuit usando el QuantumRegister\n",
        "    #qc = QuantumCircuit(qreg)\n",
        "    \n",
        "    # Verificamos si el tamaño del QuantumRegister es suficiente para el string binario\n",
        "    if qreg.size < len(bin_string):\n",
        "        raise ValueError(\"El QuantumRegister no es suficientemente grande para el string binario\")\n",
        "\n",
        "    # Recuerda que Qiskit usa notación little-endian, por lo que necesitamos invertir el string\n",
        "    bin_string = bin_string[::-1]\n",
        "    \n",
        "    # Aplicamos la puerta X (NOT) a los qubits correspondientes\n",
        "    for i, bit in enumerate(bin_string):\n",
        "      if bit == '1':\n",
        "          qc.x(i)"
      ],
      "metadata": {
        "id": "gLsq49AN8ypl"
      },
      "execution_count": 48,
      "outputs": []
    },
    {
      "cell_type": "code",
      "source": [
        "qreg = QuantumRegister(3, 'q')\n",
        "bin_string = '101'\n",
        "creg = ClassicalRegister(3,'c')\n",
        "qc = QuantumCircuit(qreg,creg)\n",
        "qc.x(0)\n",
        "qc.x(2)\n",
        "resetear(qc,qreg,bin_string)\n",
        "# Ahora puedes verificar el estado del circuito.\n",
        "from qiskit import Aer, execute\n",
        "simulator = Aer.get_backend('statevector_simulator')\n",
        "result = execute(qc, simulator).result()\n",
        "statevector = result.get_statevector()\n",
        "print(statevector)"
      ],
      "metadata": {
        "id": "vGfxmqxU86-g",
        "outputId": "ed668a91-7df7-4074-807c-0fd856fe08f0",
        "colab": {
          "base_uri": "https://localhost:8080/"
        }
      },
      "execution_count": null,
      "outputs": [
        {
          "output_type": "stream",
          "name": "stdout",
          "text": [
            "Statevector([1.+0.j, 0.+0.j, 0.+0.j, 0.+0.j, 0.+0.j, 0.+0.j, 0.+0.j,\n",
            "             0.+0.j],\n",
            "            dims=(2, 2, 2))\n"
          ]
        }
      ]
    },
    {
      "cell_type": "code",
      "source": [
        "qc.draw()"
      ],
      "metadata": {
        "id": "yW-ylycd9BIH",
        "outputId": "a23573f7-a41c-4cfb-c369-efc71925a6d5",
        "colab": {
          "base_uri": "https://localhost:8080/",
          "height": 156
        }
      },
      "execution_count": null,
      "outputs": [
        {
          "output_type": "execute_result",
          "data": {
            "text/plain": [
              "     ┌───┐┌───┐\n",
              "q_0: ┤ X ├┤ X ├\n",
              "     └───┘└───┘\n",
              "q_1: ──────────\n",
              "     ┌───┐┌───┐\n",
              "q_2: ┤ X ├┤ X ├\n",
              "     └───┘└───┘\n",
              "c: 3/══════════\n",
              "               "
            ],
            "text/html": [
              "<pre style=\"word-wrap: normal;white-space: pre;background: #fff0;line-height: 1.1;font-family: &quot;Courier New&quot;,Courier,monospace\">     ┌───┐┌───┐\n",
              "q_0: ┤ X ├┤ X ├\n",
              "     └───┘└───┘\n",
              "q_1: ──────────\n",
              "     ┌───┐┌───┐\n",
              "q_2: ┤ X ├┤ X ├\n",
              "     └───┘└───┘\n",
              "c: 3/══════════\n",
              "               </pre>"
            ]
          },
          "metadata": {},
          "execution_count": 39
        }
      ]
    },
    {
      "cell_type": "code",
      "source": [
        "bin_string = int_bit(3,2)\n",
        "resetear(qc,qreg, bin_string)\n"
      ],
      "metadata": {
        "id": "hTdFJIMq7MXd"
      },
      "execution_count": null,
      "outputs": []
    },
    {
      "cell_type": "code",
      "source": [
        "qc.draw()"
      ],
      "metadata": {
        "id": "J5_RHQ9M7nKE",
        "outputId": "ea1322f7-be53-4b00-b0b9-a62e536a40f8",
        "colab": {
          "base_uri": "https://localhost:8080/",
          "height": 125
        }
      },
      "execution_count": null,
      "outputs": [
        {
          "output_type": "execute_result",
          "data": {
            "text/plain": [
              "      ┌───┐┌───┐┌───┐\n",
              "q0_0: ┤ X ├┤ X ├┤ X ├\n",
              "      ├───┤├───┤├───┤\n",
              "q0_1: ┤ X ├┤ X ├┤ X ├\n",
              "      └───┘└───┘└───┘\n",
              "c0: 2/═══════════════\n",
              "                     "
            ],
            "text/html": [
              "<pre style=\"word-wrap: normal;white-space: pre;background: #fff0;line-height: 1.1;font-family: &quot;Courier New&quot;,Courier,monospace\">      ┌───┐┌───┐┌───┐\n",
              "q0_0: ┤ X ├┤ X ├┤ X ├\n",
              "      ├───┤├───┤├───┤\n",
              "q0_1: ┤ X ├┤ X ├┤ X ├\n",
              "      └───┘└───┘└───┘\n",
              "c0: 2/═══════════════\n",
              "                     </pre>"
            ]
          },
          "metadata": {},
          "execution_count": 29
        }
      ]
    },
    {
      "cell_type": "code",
      "source": [
        "import heapq\n",
        "\n",
        "# Supongamos que este es tu diccionario\n",
        "diccionario = {'clave1': 10, 'clave2': 20, 'clave3': 30, 'clave4': 25}\n",
        "print(type(diccionario))\n",
        "# Usamos nlargest para obtener los 2 valores más altos\n",
        "valores_altos = heapq.nlargest(2, diccionario.values())\n",
        "\n",
        "print(valores_altos)\n"
      ],
      "metadata": {
        "id": "HBsLm6vZ3wpH",
        "outputId": "ca0bf875-fcff-4963-a98d-d580a1a64369",
        "colab": {
          "base_uri": "https://localhost:8080/"
        }
      },
      "execution_count": 3,
      "outputs": [
        {
          "output_type": "stream",
          "name": "stdout",
          "text": [
            "<class 'dict'>\n",
            "[30, 25]\n"
          ]
        }
      ]
    },
    {
      "cell_type": "code",
      "source": [
        "diccionario['clave1']"
      ],
      "metadata": {
        "id": "jqusZUnIwxzp",
        "outputId": "7c7f0265-45d6-408a-d306-8203d336e880",
        "colab": {
          "base_uri": "https://localhost:8080/"
        }
      },
      "execution_count": 6,
      "outputs": [
        {
          "output_type": "execute_result",
          "data": {
            "text/plain": [
              "20"
            ]
          },
          "metadata": {},
          "execution_count": 6
        }
      ]
    },
    {
      "cell_type": "code",
      "source": [
        "diccionario['clave1'] = diccionario['clave2']"
      ],
      "metadata": {
        "id": "9GZOTnRZwrrC"
      },
      "execution_count": 5,
      "outputs": []
    },
    {
      "cell_type": "code",
      "source": [
        "# Ordenamos el diccionario basándonos en los valores en orden descendiente\n",
        "items_ordenados = sorted(diccionario.items(), key=lambda item: item[1], reverse=True)\n",
        "\n",
        "# Tomamos los dos primeros elementos (pares clave-valor)\n",
        "dos_mas_altos = items_ordenados[:2]\n",
        "\n",
        "#print(type(dos_mas_altos[0][0]))\n",
        "print(type(items_ordenados))\n"
      ],
      "metadata": {
        "id": "oIz11MCP3zCb",
        "outputId": "f3ea9f4f-dd04-4df6-f38d-2c30cd49fc9c",
        "colab": {
          "base_uri": "https://localhost:8080/"
        }
      },
      "execution_count": null,
      "outputs": [
        {
          "output_type": "stream",
          "name": "stdout",
          "text": [
            "<class 'list'>\n"
          ]
        }
      ]
    },
    {
      "cell_type": "code",
      "source": [
        "def create_qc(number_quantum_reg,qubits,number_classic_reg,bits):\n",
        "  \"\"\"facilita el crear circuitos cuanticos si quieres poner ancillas aconesjo hacerlo manualmente partiendo desde aqui\"\"\"\n",
        "  \n",
        "  # Create quantum registers\n",
        "  qregs = [QuantumRegister(qubits, name=f'q{i}') for i in range(number_quantum_reg)]\n",
        "  ancilla = QuantumRegister(1, name='ancilla')\n",
        "\n",
        "  # Create classical registers\n",
        "  cregs = [ClassicalRegister(bits, name=f'c{i}') for i in range(number_classic_reg)]\n",
        "  cr_ancilla = ClassicalRegister(1, name='cr_ancilla')\n",
        "\n",
        "  # Create a quantum circuit\n",
        "  return QuantumCircuit(*qregs, ancilla, *cregs, cr_ancilla)\n"
      ],
      "metadata": {
        "id": "zR6D5zMvA7-b"
      },
      "execution_count": 52,
      "outputs": []
    },
    {
      "cell_type": "code",
      "source": [
        "c = create_qc(4,6,2,6)"
      ],
      "metadata": {
        "id": "JXIWRPsPMLYH"
      },
      "execution_count": 115,
      "outputs": []
    },
    {
      "cell_type": "code",
      "source": [
        "for n in range(2,4):\n",
        "  print(n)\n",
        "  for i in range(c.qregs[n].size):\n",
        "    c.h(c.qregs[n][i])\n"
      ],
      "metadata": {
        "id": "oLAtWiDxMUMo",
        "outputId": "f47c8592-c0a2-40a3-d185-02d825d0b74c",
        "colab": {
          "base_uri": "https://localhost:8080/"
        }
      },
      "execution_count": 116,
      "outputs": [
        {
          "output_type": "stream",
          "name": "stdout",
          "text": [
            "2\n",
            "3\n"
          ]
        }
      ]
    },
    {
      "cell_type": "code",
      "source": [
        "c.draw()"
      ],
      "metadata": {
        "id": "mhOi3DMpMnqZ",
        "outputId": "e9a0ade8-81c1-4157-c471-0bc79afb708e",
        "colab": {
          "base_uri": "https://localhost:8080/",
          "height": 894
        }
      },
      "execution_count": 118,
      "outputs": [
        {
          "output_type": "execute_result",
          "data": {
            "text/plain": [
              "                                                       \n",
              "        q0_0: ─────────────────────────────────────────\n",
              "                                                       \n",
              "        q0_1: ─────────────────────────────────────────\n",
              "                                                       \n",
              "        q0_2: ─────────────────────────────────────────\n",
              "                                                       \n",
              "        q0_3: ─────────────────────────────────────────\n",
              "                                                       \n",
              "        q0_4: ─────────────────────────────────────────\n",
              "                                                       \n",
              "        q0_5: ─────────────────────────────────────────\n",
              "                                                       \n",
              "        q1_0: ─────────────────────────────────────────\n",
              "                                                       \n",
              "        q1_1: ─────────────────────────────────────────\n",
              "                                                       \n",
              "        q1_2: ─────────────────────────────────────────\n",
              "                                                       \n",
              "        q1_3: ─────────────────────────────────────────\n",
              "                                                       \n",
              "        q1_4: ─────────────────────────────────────────\n",
              "                                                       \n",
              "        q1_5: ─────────────────────────────────────────\n",
              "              ┌───┐┌─┐                                 \n",
              "        q2_0: ┤ H ├┤M├─────────────────────────────────\n",
              "              ├───┤└╥┘   ┌─┐                           \n",
              "        q2_1: ┤ H ├─╫────┤M├───────────────────────────\n",
              "              ├───┤ ║    └╥┘   ┌─┐                     \n",
              "        q2_2: ┤ H ├─╫─────╫────┤M├─────────────────────\n",
              "              ├───┤ ║     ║    └╥┘   ┌─┐               \n",
              "        q2_3: ┤ H ├─╫─────╫─────╫────┤M├───────────────\n",
              "              ├───┤ ║     ║     ║    └╥┘   ┌─┐         \n",
              "        q2_4: ┤ H ├─╫─────╫─────╫─────╫────┤M├─────────\n",
              "              ├───┤ ║     ║     ║     ║    └╥┘   ┌─┐   \n",
              "        q2_5: ┤ H ├─╫─────╫─────╫─────╫─────╫────┤M├───\n",
              "              ├───┤ ║ ┌─┐ ║     ║     ║     ║    └╥┘   \n",
              "        q3_0: ┤ H ├─╫─┤M├─╫─────╫─────╫─────╫─────╫────\n",
              "              ├───┤ ║ └╥┘ ║ ┌─┐ ║     ║     ║     ║    \n",
              "        q3_1: ┤ H ├─╫──╫──╫─┤M├─╫─────╫─────╫─────╫────\n",
              "              ├───┤ ║  ║  ║ └╥┘ ║ ┌─┐ ║     ║     ║    \n",
              "        q3_2: ┤ H ├─╫──╫──╫──╫──╫─┤M├─╫─────╫─────╫────\n",
              "              ├───┤ ║  ║  ║  ║  ║ └╥┘ ║ ┌─┐ ║     ║    \n",
              "        q3_3: ┤ H ├─╫──╫──╫──╫──╫──╫──╫─┤M├─╫─────╫────\n",
              "              ├───┤ ║  ║  ║  ║  ║  ║  ║ └╥┘ ║ ┌─┐ ║    \n",
              "        q3_4: ┤ H ├─╫──╫──╫──╫──╫──╫──╫──╫──╫─┤M├─╫────\n",
              "              ├───┤ ║  ║  ║  ║  ║  ║  ║  ║  ║ └╥┘ ║ ┌─┐\n",
              "        q3_5: ┤ H ├─╫──╫──╫──╫──╫──╫──╫──╫──╫──╫──╫─┤M├\n",
              "              └───┘ ║  ║  ║  ║  ║  ║  ║  ║  ║  ║  ║ └╥┘\n",
              "     ancilla: ──────╫──╫──╫──╫──╫──╫──╫──╫──╫──╫──╫──╫─\n",
              "                    ║  ║  ║  ║  ║  ║  ║  ║  ║  ║  ║  ║ \n",
              "        c0: 6/══════╩══╬══╩══╬══╩══╬══╩══╬══╩══╬══╩══╬═\n",
              "                    0  ║  1  ║  2  ║  3  ║  4  ║  5  ║ \n",
              "        c1: 6/═════════╩═════╩═════╩═════╩═════╩═════╩═\n",
              "                       0     1     2     3     4     5 \n",
              "cr_ancilla: 1/═════════════════════════════════════════\n",
              "                                                       "
            ],
            "text/html": [
              "<pre style=\"word-wrap: normal;white-space: pre;background: #fff0;line-height: 1.1;font-family: &quot;Courier New&quot;,Courier,monospace\">                                                       \n",
              "        q0_0: ─────────────────────────────────────────\n",
              "                                                       \n",
              "        q0_1: ─────────────────────────────────────────\n",
              "                                                       \n",
              "        q0_2: ─────────────────────────────────────────\n",
              "                                                       \n",
              "        q0_3: ─────────────────────────────────────────\n",
              "                                                       \n",
              "        q0_4: ─────────────────────────────────────────\n",
              "                                                       \n",
              "        q0_5: ─────────────────────────────────────────\n",
              "                                                       \n",
              "        q1_0: ─────────────────────────────────────────\n",
              "                                                       \n",
              "        q1_1: ─────────────────────────────────────────\n",
              "                                                       \n",
              "        q1_2: ─────────────────────────────────────────\n",
              "                                                       \n",
              "        q1_3: ─────────────────────────────────────────\n",
              "                                                       \n",
              "        q1_4: ─────────────────────────────────────────\n",
              "                                                       \n",
              "        q1_5: ─────────────────────────────────────────\n",
              "              ┌───┐┌─┐                                 \n",
              "        q2_0: ┤ H ├┤M├─────────────────────────────────\n",
              "              ├───┤└╥┘   ┌─┐                           \n",
              "        q2_1: ┤ H ├─╫────┤M├───────────────────────────\n",
              "              ├───┤ ║    └╥┘   ┌─┐                     \n",
              "        q2_2: ┤ H ├─╫─────╫────┤M├─────────────────────\n",
              "              ├───┤ ║     ║    └╥┘   ┌─┐               \n",
              "        q2_3: ┤ H ├─╫─────╫─────╫────┤M├───────────────\n",
              "              ├───┤ ║     ║     ║    └╥┘   ┌─┐         \n",
              "        q2_4: ┤ H ├─╫─────╫─────╫─────╫────┤M├─────────\n",
              "              ├───┤ ║     ║     ║     ║    └╥┘   ┌─┐   \n",
              "        q2_5: ┤ H ├─╫─────╫─────╫─────╫─────╫────┤M├───\n",
              "              ├───┤ ║ ┌─┐ ║     ║     ║     ║    └╥┘   \n",
              "        q3_0: ┤ H ├─╫─┤M├─╫─────╫─────╫─────╫─────╫────\n",
              "              ├───┤ ║ └╥┘ ║ ┌─┐ ║     ║     ║     ║    \n",
              "        q3_1: ┤ H ├─╫──╫──╫─┤M├─╫─────╫─────╫─────╫────\n",
              "              ├───┤ ║  ║  ║ └╥┘ ║ ┌─┐ ║     ║     ║    \n",
              "        q3_2: ┤ H ├─╫──╫──╫──╫──╫─┤M├─╫─────╫─────╫────\n",
              "              ├───┤ ║  ║  ║  ║  ║ └╥┘ ║ ┌─┐ ║     ║    \n",
              "        q3_3: ┤ H ├─╫──╫──╫──╫──╫──╫──╫─┤M├─╫─────╫────\n",
              "              ├───┤ ║  ║  ║  ║  ║  ║  ║ └╥┘ ║ ┌─┐ ║    \n",
              "        q3_4: ┤ H ├─╫──╫──╫──╫──╫──╫──╫──╫──╫─┤M├─╫────\n",
              "              ├───┤ ║  ║  ║  ║  ║  ║  ║  ║  ║ └╥┘ ║ ┌─┐\n",
              "        q3_5: ┤ H ├─╫──╫──╫──╫──╫──╫──╫──╫──╫──╫──╫─┤M├\n",
              "              └───┘ ║  ║  ║  ║  ║  ║  ║  ║  ║  ║  ║ └╥┘\n",
              "     ancilla: ──────╫──╫──╫──╫──╫──╫──╫──╫──╫──╫──╫──╫─\n",
              "                    ║  ║  ║  ║  ║  ║  ║  ║  ║  ║  ║  ║ \n",
              "        c0: 6/══════╩══╬══╩══╬══╩══╬══╩══╬══╩══╬══╩══╬═\n",
              "                    0  ║  1  ║  2  ║  3  ║  4  ║  5  ║ \n",
              "        c1: 6/═════════╩═════╩═════╩═════╩═════╩═════╩═\n",
              "                       0     1     2     3     4     5 \n",
              "cr_ancilla: 1/═════════════════════════════════════════\n",
              "                                                       </pre>"
            ]
          },
          "metadata": {},
          "execution_count": 118
        }
      ]
    },
    {
      "cell_type": "code",
      "source": [
        "for i in range(6):\n",
        "  c.measure(c.qregs[2][i],c.cregs[0][i])\n",
        "  c.measure(c.qregs[3][i],c.cregs[1][i])"
      ],
      "metadata": {
        "id": "8ymJcQsiMrAR"
      },
      "execution_count": 117,
      "outputs": []
    },
    {
      "cell_type": "code",
      "source": [
        " #initialize the simulator\n",
        "backend_sim = AerSimulator()\n",
        "\n",
        "# run the circuit\n",
        "reset_sim_job = backend_sim.run(c,shots = 1)\n",
        "# get the results\n",
        "reset_sim_result = reset_sim_job.result()\n",
        "# retrieve the bitstring counts\n",
        "reset_sim_counts = reset_sim_result.get_counts()\n",
        "\n",
        "print(f\"Counts: {reset_sim_counts}\")"
      ],
      "metadata": {
        "id": "xn3wbwrMM4Y-",
        "outputId": "3e478842-e9f6-4858-c2f8-655a3b590dd1",
        "colab": {
          "base_uri": "https://localhost:8080/"
        }
      },
      "execution_count": 119,
      "outputs": [
        {
          "output_type": "stream",
          "name": "stdout",
          "text": [
            "Counts: {'0 100001 101010': 1}\n"
          ]
        }
      ]
    },
    {
      "cell_type": "code",
      "source": [
        "def lanzar_dinamico(circuito):\n",
        "  backend_sim = AerSimulator()\n",
        "\n",
        "  # run the circuit\n",
        "  reset_sim_job = backend_sim.run(circuito,shots = 1)\n",
        "  # get the results\n",
        "  reset_sim_result = reset_sim_job.result()\n",
        "  # retrieve the bitstring counts\n",
        "  return reset_sim_result.get_counts()\n"
      ],
      "metadata": {
        "id": "zCI7FjCeRrcy"
      },
      "execution_count": 128,
      "outputs": []
    },
    {
      "cell_type": "code",
      "source": [
        "# assuming reset_sim_counts is a dictionary\n",
        "for key in reset_sim_counts.keys():\n",
        "    bitstring = key.split(' ')[1]#cr[1]\n",
        "    bitstring = key.split(' ')[2]#cr[0]  # split the string by spaces and get the second element\n",
        "    #print(f\"Counts: {type(bitstring)}\")\n"
      ],
      "metadata": {
        "id": "Pv7zr6NdP6mZ",
        "outputId": "f70e2ae6-73af-44f4-b4b6-cb11d7a7cf02",
        "colab": {
          "base_uri": "https://localhost:8080/"
        }
      },
      "execution_count": 123,
      "outputs": [
        {
          "output_type": "stream",
          "name": "stdout",
          "text": [
            "Counts: <class 'str'>\n"
          ]
        }
      ]
    },
    {
      "cell_type": "code",
      "source": [
        "def valores_hijos(resultados):\n",
        "  \"suponiendo que solo tenemos dos creg\"\n",
        "  for key in resultados.keys():\n",
        "    return key.split(' ')[2],key.split(' ')[1]\n",
        "    #hijo1 = key.split(' ')[1]#cr[1]\n",
        "    #hijo0 = key.split(' ')[2]#cr[0]  # split the string by spaces and get the second element"
      ],
      "metadata": {
        "id": "2lq-5XXxRL4Z"
      },
      "execution_count": 127,
      "outputs": []
    },
    {
      "cell_type": "code",
      "source": [
        "# assuming reset_sim_counts is a dictionary\n",
        "for key in resultados.keys():\n",
        "    bitstring = key[-6:]  # get the last three characters\n",
        "    print(f\"Counts: {bitstring}\")\n"
      ],
      "metadata": {
        "id": "PGA_YeA6NgSU",
        "outputId": "fddd162e-fa65-496d-9698-b7cd4f68542a",
        "colab": {
          "base_uri": "https://localhost:8080/"
        }
      },
      "execution_count": 120,
      "outputs": [
        {
          "output_type": "stream",
          "name": "stdout",
          "text": [
            "Counts: 101010\n"
          ]
        }
      ]
    },
    {
      "cell_type": "code",
      "source": [
        "def tuple_to_string(t):\n",
        "    return ''.join(str(num) for num in t)\n"
      ],
      "metadata": {
        "id": "i0dQo7kCTN89"
      },
      "execution_count": 129,
      "outputs": []
    },
    {
      "cell_type": "code",
      "source": [
        "def mutate_bit(qr,qc,bit):\n",
        "  \"\"\"dado un bit a mutar un qr y qc muta ese bit\"\"\"\n",
        "  qc.x(qr[bit])\n",
        "\n",
        "def mutate_multi_bit(qr,qc,probabilidad):#prob >0 and prob <1 a mas grande prob menos oportunidades de mutar\n",
        "  for i in range(len(qr)):\n",
        "     if np.random.random() > probabilidad:\n",
        "      mutate_bit(qr,qc,i)\n",
        "\n",
        "def mutate_bit_random(qr,qc,probabilidad):\n",
        "  \"\"\"mutar bit random\"\"\"\n",
        "  #mutar un qbit aleatorio\n",
        "  if np.random.random() > probabilidad:\n",
        "    qc.x(qr[np.random.randint(0,len(qr))])\n",
        "\n",
        "def mutate_exchange(qr,qc,probabilidad):\n",
        "   if np.random.random() > probabilidad:\n",
        "    numero0 = np.random.randint(0,len(qr))\n",
        "    numero1  = np.random.randint(0,len(qr))\n",
        "    if numero0 != numero1:\n",
        "      qc.swap(qr[numero0], qr[numero1])"
      ],
      "metadata": {
        "id": "BSzY9VB7VCM3"
      },
      "execution_count": 133,
      "outputs": []
    },
    {
      "cell_type": "code",
      "source": [
        "def qga(number_quantum_reg,qubits,number_classic_reg,bits,cost_dict,probabilidad):\n",
        "  \"algoritmo genetico cuantico\"\n",
        "  qc = create_qc(number_quantum_reg,qubits,number_classic_reg,bits)\n",
        "  generation = 0 \n",
        "  #case = (0, 0, 0, 1, 1, 0) cost = 5.0 emepzaremos con este reg como padre y el segundo reg en superposicion\n",
        "  inicial = (0, 0, 0, 1, 1, 0)\n",
        "  for i in range(qc.qregs[1].size):\n",
        "    qc.h(qc.qregs[1][i])\n",
        "  crear_hijo(base,hasta,qubits,qc.qregs[0],qc.qregs[1],qc.qregs[2],qc,qc.ancilla,qc.cr_ancilla)#usando al padre\n",
        "  crear_hijo(base,hasta,qubits,qc.qregs[1],qc.qregs[0],qc.qregs[3],qc,qc.ancilla,qc.cr_ancilla)#usando al padre\n",
        "  while generation <10:\n",
        "    for i in range(qubits):\n",
        "\n",
        "      qc.measure(qc.qregs[2][i],qc.cregs[0][i])\n",
        "\n",
        "      qc.measure(qc.qregs[3][i],qc.cregs[1][i])\n",
        "\n",
        "      hijo0,hijo1 = valores_hijos(lanzar_dinamico(qc))\n",
        "      if cost_dict[inicial] < cost_dict[hijo0] or cost_dict[inicial] < cost_dict[hijo1]:\n",
        "        escribir(qc,qc.qregs[0],tuple_to_string(inicial))#borramos la info del padre\n",
        "         \n",
        "        if cost_dict[inicial] < cost_dict[hijo0]:\n",
        "\n",
        "          escribir(qc,qc.qregs[0],tuple_to_string(hijo0))\n",
        "          inicial = hijo0\n",
        "\n",
        "        if cost_dict[inicial] < cost_dict[hijo1]:\n",
        "          escribir(qc,qc.qregs[0],tuple_to_string(hijo1))\n",
        "          inicial = hijo0\n",
        "      else:\n",
        "        cual = np.random.randint(0, 4)#aleatorio cual de las 4 mutaciones\n",
        "        functions = {\n",
        "            0: lambda: mutate_bit(qr, qc, np.random.randint(0, len(qr))),\n",
        "            1: lambda: mutate_multi_bit(qr, qc, 0.5),\n",
        "            2: lambda: mutate_bit_random(qr, qc, 0.5),\n",
        "            3: lambda: mutate_exchange(qr, qc, 0.5)\n",
        "        }\n",
        "\n",
        "\n",
        "\n",
        "\n",
        "\n",
        "\n",
        "\n",
        "\n",
        "\n",
        "\n",
        "    generation+=1\n",
        "\n",
        "  #ahora tenemos que evaluar a los hijos, en caso de que sean mejores que los padres sobrescribrir\n",
        "  # en caso contrario aplicar mutacion a los hijos y volver a evaluar, si nada acabar iteracion\n",
        "\n",
        "\n"
      ],
      "metadata": {
        "id": "93r9-xKzBk9T"
      },
      "execution_count": 134,
      "outputs": []
    },
    {
      "cell_type": "code",
      "source": [
        "def int_bit(numero, longitud):\n",
        "    # Comprobamos si el número es demasiado grande para la cantidad de bits especificada.\n",
        "    if numero > 2 ** longitud:\n",
        "        raise ValueError(f\"El número {numero} es demasiado grande para representarse con {longitud} bits\")\n",
        "\n",
        "    # Convertimos el número a binario con 'bin()', y lo convertimos a string con 'str()'.\n",
        "    # La función 'bin()' retorna un string que comienza con '0b' para indicar que es un número binario,\n",
        "    # así que utilizamos el slicing '[2:]' para eliminar estos caracteres.\n",
        "    binary_str = str(bin(numero))[2:]\n",
        "\n",
        "    # Ahora rellenamos con ceros a la izquierda hasta tener la longitud deseada usando 'zfill()'.\n",
        "    return binary_str.zfill(longitud)\n",
        "\n",
        "\n"
      ],
      "metadata": {
        "id": "erPfqogG58q1"
      },
      "execution_count": null,
      "outputs": []
    },
    {
      "cell_type": "code",
      "source": [
        "def evaluar_resultados(qc,hijo1,hijo2,cr_hijo1,cr_hijo2,i,dic_qga,padre,madre,dic_mirar):\n",
        "  \"\"\"funcion que se encarga de 'obtener' los resultados\"\"\"\n",
        "  binario = format(i,'06b')\n",
        "  \n",
        "  if dic_qga[binario]>dic_qga[padre]or dic_qga[binario]>dic_qga[madre]:\n",
        "    if dic_qga[binario]>dic_qga[padre]:\n",
        "      \n",
        "      for qubit in padre:\n",
        "        qc.reset(qubit)\n",
        "\n",
        "      del dic_qga[padre]\n",
        "      dic_qga[binario] = dic_mirar[binario]#funcio por implementar que buscara el valor en la lista\n",
        "    if dic_qga[binario]>dic_qga[madre]:#faltaria asegurarse de no duplicar el padre y madre\n",
        "      dic_qga[binario] = dic_mirar[binario]\n",
        "      del dic_qga[madre]\n",
        "\n",
        "\n",
        "\n"
      ],
      "metadata": {
        "id": "xPVP8cdUzheG"
      },
      "execution_count": null,
      "outputs": []
    },
    {
      "cell_type": "code",
      "source": [
        "def get_keys_with_highest_values(d, n):\n",
        "    sorted_items = sorted(d.items(), key=lambda item: item[1], reverse=True)\n",
        "    top_n_items = sorted_items[:n]\n",
        "    top_n_keys = [item[0] for item in top_n_items]\n",
        "    return top_n_keys\n"
      ],
      "metadata": {
        "id": "iMrUhIdQ2SqW"
      },
      "execution_count": 50,
      "outputs": []
    },
    {
      "cell_type": "code",
      "source": [
        "d = {'a': 1, 'b': 5, 'c': 3, 'd': 4, 'e': 2}\n",
        "n = 3\n",
        "print(get_keys_with_highest_values(d, n))  # prints ['b', 'd', 'c']\n"
      ],
      "metadata": {
        "id": "hk8uScrBAAQF",
        "outputId": "7f2a8fe6-a7c8-48bd-eedd-e95cd1f32722",
        "colab": {
          "base_uri": "https://localhost:8080/"
        }
      },
      "execution_count": 51,
      "outputs": [
        {
          "output_type": "stream",
          "name": "stdout",
          "text": [
            "['b', 'd', 'c']\n"
          ]
        }
      ]
    },
    {
      "cell_type": "code",
      "source": [
        "numero = 10\n",
        "binario = format(numero, '06b')\n",
        "print(type(binario))\n"
      ],
      "metadata": {
        "colab": {
          "base_uri": "https://localhost:8080/"
        },
        "id": "1FY499LFzYg4",
        "outputId": "f188d0c4-c9bb-4672-cba3-d85372392d5b"
      },
      "execution_count": null,
      "outputs": [
        {
          "output_type": "stream",
          "name": "stdout",
          "text": [
            "<class 'str'>\n"
          ]
        }
      ]
    },
    {
      "cell_type": "code",
      "source": [
        "qc.measure_all()"
      ],
      "metadata": {
        "id": "Jtx9pmymqiHr"
      },
      "execution_count": null,
      "outputs": []
    },
    {
      "cell_type": "code",
      "source": [
        "with qc.if_test((cr, 1)):\n",
        "  qc.x(qb[0])\n",
        "qc.measure_all()\n"
      ],
      "metadata": {
        "id": "CAaMRJtwq4Yv"
      },
      "execution_count": null,
      "outputs": []
    },
    {
      "cell_type": "code",
      "source": [
        "reset_sim_job = backend_sim.run(qc,shots = 10)\n",
        "    # get the results\n",
        "reset_sim_result = reset_sim_job.result()\n",
        "    # retrieve the bitstring counts\n",
        "counts = reset_sim_result.get_counts(qc)\n",
        "#print(list(counts.keys())[0][0:2])\n",
        "print(list(counts.keys())[0])\n",
        "#int(list(counts.keys())[0])"
      ],
      "metadata": {
        "colab": {
          "base_uri": "https://localhost:8080/"
        },
        "id": "Z4E5k5-yqt_8",
        "outputId": "6c59d55e-4231-4367-9832-78a08f2d269e"
      },
      "execution_count": null,
      "outputs": [
        {
          "output_type": "stream",
          "name": "stdout",
          "text": [
            "11 11 00\n"
          ]
        }
      ]
    },
    {
      "cell_type": "code",
      "source": [
        "qc.draw()"
      ],
      "metadata": {
        "id": "bAWa3BYWrYkf"
      },
      "execution_count": null,
      "outputs": []
    },
    {
      "cell_type": "code",
      "source": [
        "from qiskit import QuantumCircuit\n",
        "\n",
        "# Inicialización\n",
        "qc = QuantumCircuit(3)\n",
        "\n",
        "# Prueba: Cambia |10⟩ a |11⟩\n",
        "qc.x(0) # primer qubit a |1⟩\n",
        "# el segundo qubit está en |0⟩\n",
        "\n",
        "# Implementación del circuito\n",
        "qc.cx(0, 1) # Para |10⟩ => |11⟩\n",
        "qc.x(0)\n",
        "qc.x(1) # Prepara los qubits para la siguiente operación\n",
        "qc.ccx(0, 1, 2) # Marca |00⟩ en el ancilla\n",
        "qc.x(1) # Aplica NOT en q[1] si el ancilla está en |1⟩\n",
        "qc.cx(2, 1)\n",
        "qc.x(0)\n",
        "qc.x(1)\n",
        "qc.x(2) # Devuelve los qubits y el ancilla a sus estados originales\n",
        "\n",
        "qc.barrier()\n",
        "\n",
        "# Restablece el qubit ancilla\n",
        "qc.ccx(0, 2, 1)\n",
        "qc.ccx(0, 1, 2)\n",
        "qc.ccx(0, 2, 1)\n",
        "\n",
        "print(qc)\n"
      ],
      "metadata": {
        "colab": {
          "base_uri": "https://localhost:8080/"
        },
        "id": "06wOdcGlarhu",
        "outputId": "12f47b10-b24b-4cbc-b104-f76f3e838062"
      },
      "execution_count": null,
      "outputs": [
        {
          "output_type": "stream",
          "name": "stdout",
          "text": [
            "     ┌───┐     ┌───┐     ┌───┐           ░                \n",
            "q_0: ┤ X ├──■──┤ X ├──■──┤ X ├───────────░───■────■────■──\n",
            "     └───┘┌─┴─┐├───┤  │  ├───┤┌───┐┌───┐ ░ ┌─┴─┐  │  ┌─┴─┐\n",
            "q_1: ─────┤ X ├┤ X ├──■──┤ X ├┤ X ├┤ X ├─░─┤ X ├──■──┤ X ├\n",
            "          └───┘└───┘┌─┴─┐└───┘└─┬─┘├───┤ ░ └─┬─┘┌─┴─┐└─┬─┘\n",
            "q_2: ───────────────┤ X ├───────■──┤ X ├─░───■──┤ X ├──■──\n",
            "                    └───┘          └───┘ ░      └───┘     \n"
          ]
        }
      ]
    },
    {
      "cell_type": "markdown",
      "source": [
        "ANCILLAS\n",
        "\n",
        "OPENQASM 2.0;\n",
        "include \"qelib1.inc\";\n",
        "qreg q[4];\n",
        "//x q[0];\n",
        "//x q[1];\n",
        "cx q[0], q[1];\n",
        "ccx q[0], q[1], q[3];\n",
        "ccx q[3], q[2], q[1];\n",
        "ccx q[1], q[3], q[0];\n",
        "ccx q[1], q[2], q[3];\n",
        "cx q[1], q[2];\n",
        "cx q[0], q[1];\n",
        "cx q[1], q[2];\n",
        "cx q[1], q[3];\n",
        "ccx q[3], q[2], q[0];\n",
        "cx q[1], q[2];\n",
        "cx q[1], q[3];"
      ],
      "metadata": {
        "id": "cSnfCpHLb8KV"
      }
    },
    {
      "cell_type": "code",
      "source": [
        "from qiskit import QuantumRegister, QuantumCircuit, Aer, execute, ClassicalRegister"
      ],
      "metadata": {
        "id": "Rb70g4Kponja"
      },
      "execution_count": 79,
      "outputs": []
    },
    {
      "cell_type": "code",
      "source": [
        "q = QuantumCircuit(2)\n",
        "c = ClassicalRegister(2)\n",
        "qc = QuantumCircuit(q,c)"
      ],
      "metadata": {
        "id": "LvzIEl-uoOxv"
      },
      "execution_count": null,
      "outputs": []
    },
    {
      "cell_type": "code",
      "source": [
        "def padre_hijo(circuit,qreg_padre,qreg_hijo,qreg_ancilla,cr_ancilla,base,hasta):\n",
        "    for i in range(base, hasta):\n",
        "      circuit.cx(qreg_padre[i], qreg_hijo[i])\n",
        "      circuit.x(qreg_padre[i])\n",
        "      circuit.x(qreg_hijo[i])\n",
        "      circuit.ccx(qreg_padre[i], qreg_hijo[i], qreg_ancilla[0])\n",
        "      circuit.x(qreg_padre[i])\n",
        "      circuit.x(qreg_hijo[i])\n",
        "      circuit.cx(qreg_ancilla[0], qreg_hijo[i])\n",
        "      circuit.x(qreg_hijo[i])\n",
        "      circuit.x(qreg_ancilla[0])\n",
        "      circuit.ccx(qreg_padre[i], qreg_ancilla[0], qreg_hijo[i])\n",
        "      circuit.ccx(qreg_padre[i], qreg_hijo[i], qreg_ancilla[0])\n",
        "      circuit.ccx(qreg_padre[i], qreg_ancilla[0], qreg_hijo[i])\n",
        "      circuit.measure(qreg_ancilla[0], cr_ancilla[0])\n",
        "      with circuit.if_test((cr_ancilla[0],1)):\n",
        "        circuit.x(qreg_ancilla[0])\n",
        "\n",
        "\n",
        "\n",
        "\n",
        "       "
      ],
      "metadata": {
        "id": "EyzTcEpvcIw7"
      },
      "execution_count": 71,
      "outputs": []
    },
    {
      "cell_type": "code",
      "source": [
        "def crear_hijo(base,hasta,maximo,qreg_padre,qreg_madre,qreg_hijo,circuit,qreg_ancilla,cr_ancilla):\n",
        "  #inicio aleatorio padre o madre\n",
        "  if get_random_number(qc,qc.ancilla,qc.cr_ancilla) == 0:#padre editar para que el circuito original incluya un genrador de numeros\n",
        "    padre_hijo(circuit,qreg_padre,qreg_hijo,qreg_ancilla,cr_ancilla,0,base)\n",
        "  else:\n",
        "    padre_hijo(circuit,qreg_madre,qreg_hijo,qreg_ancilla,cr_ancilla,0,base)\n",
        "\n",
        "  padre_hijo(circuit,qreg_padre,qreg_hijo,qreg_ancilla,cr_ancilla,base,hasta)#medio\n",
        "  #padre_hijo(circuito, padre, hijo,0,hasta+1,ancilla)\n",
        "\n",
        "  #padre_hijo(qc, padre, hijo, ancilla,base+1,hasta+1)\n",
        "  padre_hijo(circuit,qreg_madre,qreg_hijo,qreg_ancilla,cr_ancilla,hasta,len(qreg_padre))#fin\n",
        "  #padre_hijo(circuito, madre, hijo,hasta+1,maximo,ancilla)"
      ],
      "metadata": {
        "id": "OHNXWNaWkp2C"
      },
      "execution_count": 72,
      "outputs": []
    },
    {
      "cell_type": "code",
      "source": [
        "qr1 = QuantumRegister(6)\n",
        "qr2 = QuantumRegister(6)\n",
        "qr3 = QuantumRegister(6)\n",
        "qr4 = QuantumRegister(6)\n",
        "cr_hijo =ClassicalRegister(6)\n",
        "ancilla = QuantumRegister(1)\n",
        "cr = ClassicalRegister(1)\n",
        "qc = QuantumCircuit(qr1,qr2,qr3,qr4,ancilla,cr,cr_hijo)\n",
        "qc.x(1)\n",
        "qc.x(2)\n",
        "qc.h(3)\n",
        "base = 1 \n",
        "hasta = 5\n",
        "qc.draw()\n",
        "#mover_ancillas(qr,qc)\n",
        "#qc.measure(qr[0], cr[0])\n"
      ],
      "metadata": {
        "colab": {
          "base_uri": "https://localhost:8080/",
          "height": 863
        },
        "id": "xVA2guHkT4kd",
        "outputId": "cfbea587-9f57-4b1d-f062-b8c90e16d67a"
      },
      "execution_count": null,
      "outputs": [
        {
          "output_type": "execute_result",
          "data": {
            "text/plain": [
              "           \n",
              "q0_0: ─────\n",
              "      ┌───┐\n",
              "q0_1: ┤ X ├\n",
              "      ├───┤\n",
              "q0_2: ┤ X ├\n",
              "      ├───┤\n",
              "q0_3: ┤ H ├\n",
              "      └───┘\n",
              "q0_4: ─────\n",
              "           \n",
              "q0_5: ─────\n",
              "           \n",
              "q1_0: ─────\n",
              "           \n",
              "q1_1: ─────\n",
              "           \n",
              "q1_2: ─────\n",
              "           \n",
              "q1_3: ─────\n",
              "           \n",
              "q1_4: ─────\n",
              "           \n",
              "q1_5: ─────\n",
              "           \n",
              "q2_0: ─────\n",
              "           \n",
              "q2_1: ─────\n",
              "           \n",
              "q2_2: ─────\n",
              "           \n",
              "q2_3: ─────\n",
              "           \n",
              "q2_4: ─────\n",
              "           \n",
              "q2_5: ─────\n",
              "           \n",
              "q3_0: ─────\n",
              "           \n",
              "q3_1: ─────\n",
              "           \n",
              "q3_2: ─────\n",
              "           \n",
              "q3_3: ─────\n",
              "           \n",
              "q3_4: ─────\n",
              "           \n",
              "q3_5: ─────\n",
              "           \n",
              "  q4: ─────\n",
              "           \n",
              "c1: 1/═════\n",
              "           \n",
              "c0: 6/═════\n",
              "           "
            ],
            "text/html": [
              "<pre style=\"word-wrap: normal;white-space: pre;background: #fff0;line-height: 1.1;font-family: &quot;Courier New&quot;,Courier,monospace\">           \n",
              "q0_0: ─────\n",
              "      ┌───┐\n",
              "q0_1: ┤ X ├\n",
              "      ├───┤\n",
              "q0_2: ┤ X ├\n",
              "      ├───┤\n",
              "q0_3: ┤ H ├\n",
              "      └───┘\n",
              "q0_4: ─────\n",
              "           \n",
              "q0_5: ─────\n",
              "           \n",
              "q1_0: ─────\n",
              "           \n",
              "q1_1: ─────\n",
              "           \n",
              "q1_2: ─────\n",
              "           \n",
              "q1_3: ─────\n",
              "           \n",
              "q1_4: ─────\n",
              "           \n",
              "q1_5: ─────\n",
              "           \n",
              "q2_0: ─────\n",
              "           \n",
              "q2_1: ─────\n",
              "           \n",
              "q2_2: ─────\n",
              "           \n",
              "q2_3: ─────\n",
              "           \n",
              "q2_4: ─────\n",
              "           \n",
              "q2_5: ─────\n",
              "           \n",
              "q3_0: ─────\n",
              "           \n",
              "q3_1: ─────\n",
              "           \n",
              "q3_2: ─────\n",
              "           \n",
              "q3_3: ─────\n",
              "           \n",
              "q3_4: ─────\n",
              "           \n",
              "q3_5: ─────\n",
              "           \n",
              "  q4: ─────\n",
              "           \n",
              "c1: 1/═════\n",
              "           \n",
              "c0: 6/═════\n",
              "           </pre>"
            ]
          },
          "metadata": {},
          "execution_count": 8
        }
      ]
    },
    {
      "cell_type": "code",
      "source": [
        "crear_hijo(base,hasta,len(qc),qr1,qr2,qr3,qc,ancilla,cr)"
      ],
      "metadata": {
        "id": "1hKWGvBcEVkL"
      },
      "execution_count": null,
      "outputs": []
    },
    {
      "cell_type": "code",
      "source": [
        "for i in range(len(qr3)):\n",
        "  qc.measure(qr3[i],cr_hijo[i])"
      ],
      "metadata": {
        "id": "CbhdfzzIF1Ax"
      },
      "execution_count": null,
      "outputs": []
    },
    {
      "cell_type": "code",
      "source": [
        "from qiskit_aer import AerSimulator"
      ],
      "metadata": {
        "id": "l9u6Q4V0Doqw"
      },
      "execution_count": 81,
      "outputs": []
    },
    {
      "cell_type": "code",
      "source": [
        "\n",
        "\n",
        "# initialize the simulator\n",
        "backend_sim = AerSimulator()\n",
        "\n",
        "# run the circuit\n",
        "reset_sim_job = backend_sim.run(qc,backend_sim,shots = 1)\n",
        "# get the results\n",
        "reset_sim_result = reset_sim_job.result()\n",
        "# retrieve the bitstring counts\n",
        "reset_sim_counts = reset_sim_result.get_counts()\n",
        "\n",
        "print(f\"Counts: {reset_sim_counts}\")"
      ],
      "metadata": {
        "id": "4hLSS8LQDnbZ",
        "outputId": "888cfa53-6e81-483c-c0d1-5c03859d4d10",
        "colab": {
          "base_uri": "https://localhost:8080/"
        }
      },
      "execution_count": null,
      "outputs": [
        {
          "output_type": "stream",
          "name": "stdout",
          "text": [
            "Counts: {'001110 0': 511, '000110 0': 513}\n"
          ]
        }
      ]
    },
    {
      "cell_type": "code",
      "source": [
        "simulator = Aer.get_backend('qasm_simulator')\n",
        "job = execute(qc, simulator, shots=1000000)\n",
        "result = job.result()\n",
        "counts = result.get_counts(qc)"
      ],
      "metadata": {
        "id": "NnrfVeI5U4gI"
      },
      "execution_count": null,
      "outputs": []
    },
    {
      "cell_type": "code",
      "source": [
        "counts"
      ],
      "metadata": {
        "colab": {
          "base_uri": "https://localhost:8080/"
        },
        "id": "yOkgRFodU6SA",
        "outputId": "2ab5faf4-61f0-4df4-8fdc-2dc2a8b96153"
      },
      "execution_count": null,
      "outputs": [
        {
          "output_type": "execute_result",
          "data": {
            "text/plain": [
              "{'0': 1000000}"
            ]
          },
          "metadata": {},
          "execution_count": 165
        }
      ]
    },
    {
      "cell_type": "code",
      "source": [
        "qc.draw()"
      ],
      "metadata": {
        "colab": {
          "base_uri": "https://localhost:8080/",
          "height": 186
        },
        "id": "Zq4CsBSkUf7v",
        "outputId": "d4c18eed-bed7-4202-d249-da2d6abc41d8"
      },
      "execution_count": null,
      "outputs": [
        {
          "output_type": "execute_result",
          "data": {
            "text/plain": [
              "        ┌───┐               ┌───┐     ┌─┐\n",
              "q154_0: ┤ H ├──■────■───────┤ X ├─────┤M├\n",
              "        ├───┤┌─┴─┐  │       └─┬─┘     └╥┘\n",
              "q154_1: ┤ H ├┤ X ├──■────■────■────■───╫─\n",
              "        ├───┤└───┘┌─┴─┐  │    │    │   ║ \n",
              "q154_2: ┤ H ├─────┤ X ├──■────┼────■───╫─\n",
              "        ├───┤     └───┘┌─┴─┐  │  ┌─┴─┐ ║ \n",
              "q154_3: ┤ H ├──────────┤ X ├──■──┤ X ├─╫─\n",
              "        └───┘          └───┘     └───┘ ║ \n",
              "  c6: 1/═══════════════════════════════╩═\n",
              "                                       0 "
            ],
            "text/html": [
              "<pre style=\"word-wrap: normal;white-space: pre;background: #fff0;line-height: 1.1;font-family: &quot;Courier New&quot;,Courier,monospace\">        ┌───┐               ┌───┐     ┌─┐\n",
              "q154_0: ┤ H ├──■────■───────┤ X ├─────┤M├\n",
              "        ├───┤┌─┴─┐  │       └─┬─┘     └╥┘\n",
              "q154_1: ┤ H ├┤ X ├──■────■────■────■───╫─\n",
              "        ├───┤└───┘┌─┴─┐  │    │    │   ║ \n",
              "q154_2: ┤ H ├─────┤ X ├──■────┼────■───╫─\n",
              "        ├───┤     └───┘┌─┴─┐  │  ┌─┴─┐ ║ \n",
              "q154_3: ┤ H ├──────────┤ X ├──■──┤ X ├─╫─\n",
              "        └───┘          └───┘     └───┘ ║ \n",
              "  c6: 1/═══════════════════════════════╩═\n",
              "                                       0 </pre>"
            ]
          },
          "metadata": {},
          "execution_count": 155
        }
      ]
    },
    {
      "cell_type": "code",
      "source": [
        "# Crear los registros cuánticos\n",
        "qr = QuantumRegister(6, name = \"qr0\")\n",
        "qr1 = QuantumRegister(6, name = \"qr1\")\n",
        "qr2 = QuantumRegister(6, name = \"qr2\")\n",
        "qr3 = QuantumRegister(6, name = \"qr3\")\n",
        "ancilla = QuantumRegister(4, name = \"ancilla\")\n",
        "\n",
        "# Crear los registros clásicos correspondientes\n",
        "cr = ClassicalRegister(6, name = \"cr0\")\n",
        "cr1 = ClassicalRegister(6, name = \"cr1\")\n",
        "cr2 = ClassicalRegister(6, name = \"cr2\")\n",
        "cr3 = ClassicalRegister(6, name = \"cr3\")\n",
        "\n",
        "\n",
        "# Crear el circuito cuántico\n",
        "qc = QuantumCircuit(qr, qr1, qr2, qr3,ancilla, cr, cr1, cr2, cr3)\n",
        "\n",
        "state_qr = '111111'\n",
        "for i in range(6):\n",
        "    if state_qr[i] == '1':\n",
        "        qc.x(qr[5-i])  # Aquí 5-i se utiliza debido a la convención de ordenamiento de qubits de Qiskit.\n",
        "\n",
        "\n",
        "# Inicializar qr1 a |001101⟩\n",
        "state_qr1 = '001100'\n",
        "for i in range(6):\n",
        "    if state_qr1[i] == '1':\n",
        "        qc.x(qr1[5-i]) \n",
        "\n",
        "# Aplicar la puerta de Hadamard a todos los qubits de qr2 y qr3\n",
        "\"\"\"for i in range(6):\n",
        "  qc.h(qr2[i])\n",
        "  qc.h(qr3[i])\"\"\"\n",
        "\n",
        "#ancilla = QuantumRegister(1,name = \"ancilla\")\n",
        "\n",
        "# Crear el circuito cuántico\n",
        "\n",
        "base, hasta = puntos(qr3)\n",
        "\n",
        "print(\"base: \",base)\n",
        "print(\"hasta:\", hasta)\n",
        "# Aplicar las operaciones\n",
        "#\"\"\"\n",
        "crear_hijo(base,hasta,len(qr),qr,qr1,qr2,qc,ancilla)\n",
        "#ancilla = QuantumRegister(1, name = \"ancilla\")\n",
        "mover_ancillas(ancilla,qc)\n",
        "crear_hijo(base,hasta,len(qr),qr1,qr,qr3,qc,ancilla)#\"\"\"\n",
        "\n",
        "for i in range(6):\n",
        "  qc.measure(qr[i], cr[i])\n",
        "  qc.measure(qr1[i], cr1[i])\n",
        "  qc.measure(qr2[i], cr2[i])\n",
        "  qc.measure(qr3[i], cr3[i])\n",
        "\n",
        "#padre_hijo(qc, qr1, qr2, ancilla,hasta+1,6)\n",
        "\n",
        "# Imprimir el circuito\n",
        "#print(qc)\n"
      ],
      "metadata": {
        "id": "p1I-Xup_cGMb"
      },
      "execution_count": null,
      "outputs": []
    },
    {
      "cell_type": "code",
      "source": [],
      "metadata": {
        "colab": {
          "base_uri": "https://localhost:8080/"
        },
        "id": "tIvdIl9t1IYv",
        "outputId": "422abf5c-ea60-4964-c73d-1247e6e3f2f6"
      },
      "execution_count": null,
      "outputs": [
        {
          "output_type": "execute_result",
          "data": {
            "text/plain": [
              "<qiskit.circuit.instructionset.InstructionSet at 0x7f3e88eca3b0>"
            ]
          },
          "metadata": {},
          "execution_count": 3
        }
      ]
    },
    {
      "cell_type": "code",
      "source": [
        "backend = Aer.get_backend(\"qasm_simulator\")\n",
        "trabajo = execute(qc,backend,shots = 1024)\n",
        "resultado = trabajo.result()\n",
        "contar_estados = resultado.get_counts(qc)"
      ],
      "metadata": {
        "id": "SF3tcxHvfdDH"
      },
      "execution_count": null,
      "outputs": []
    },
    {
      "cell_type": "code",
      "source": [
        "\n",
        "simulator = Aer.get_backend('qasm_simulator')\n",
        "job = execute(qc, simulator, shots=4)\n",
        "result = job.result()\n",
        "counts = result.get_counts(qc)\n"
      ],
      "metadata": {
        "id": "_qHjr5dupyr3"
      },
      "execution_count": null,
      "outputs": []
    },
    {
      "cell_type": "code",
      "source": [
        "counts"
      ],
      "metadata": {
        "colab": {
          "base_uri": "https://localhost:8080/"
        },
        "id": "Kio78KreJ2el",
        "outputId": "2aae69bf-2297-445a-e28b-6aafe8e18afb"
      },
      "execution_count": null,
      "outputs": [
        {
          "output_type": "execute_result",
          "data": {
            "text/plain": [
              "{'010011 100000 110011 000000': 4}"
            ]
          },
          "metadata": {},
          "execution_count": 171
        }
      ]
    },
    {
      "cell_type": "code",
      "source": [
        "\n",
        "# Separar las cuentas de los cuatro registros\n",
        "counts_qr = {key[20:]: counts[key] for key in counts.keys()}\n",
        "counts_qr1 = {key[14:20]: counts[key] for key in counts.keys()}\n",
        "counts_qr2 = {key[7:14]: counts[key] for key in counts.keys()}\n",
        "counts_qr3 = {key[:7]: counts[key] for key in counts.keys()}\n",
        "\n",
        "# Imprimir las cuentas\n",
        "print(\"Counts for qr: \", counts_qr)#azul claro\n",
        "print(\"Counts for qr1: \", counts_qr1)#morado\n",
        "print(\"Counts for qr2: \", counts_qr2)\n",
        "print(\"Counts for qr3: \", counts_qr3)\n",
        "\n",
        "# Dibujar los histogramas de las cuentas\n",
        "plot_histogram([counts_qr, counts_qr1, counts_qr2, counts_qr3], legend=['qr', 'qr1', 'qr2', 'qr3'])"
      ],
      "metadata": {
        "colab": {
          "base_uri": "https://localhost:8080/",
          "height": 582
        },
        "id": "lI_UB4sjp3MF",
        "outputId": "6a059c1a-8985-423c-d6c4-cd68479a0167"
      },
      "execution_count": null,
      "outputs": [
        {
          "output_type": "stream",
          "name": "stdout",
          "text": [
            "Counts for qr:  {' 100000': 4}\n",
            "Counts for qr1:  {'101100': 4}\n",
            "Counts for qr2:  {'100000 ': 4}\n",
            "Counts for qr3:  {'000000 ': 4}\n"
          ]
        },
        {
          "output_type": "execute_result",
          "data": {
            "text/plain": [
              "<Figure size 700x500 with 1 Axes>"
            ],
            "image/png": "[encoded data removed]"
          },
          "metadata": {},
          "execution_count": 101
        }
      ]
    },
    {
      "cell_type": "code",
      "source": [
        "padre_hijo(qc, qr1, qr2, ancilla,hasta+1,6)"
      ],
      "metadata": {
        "colab": {
          "base_uri": "https://localhost:8080/"
        },
        "id": "BYsymPishvNg",
        "outputId": "195b7527-c8ce-4030-cfd0-6f256671678f"
      },
      "execution_count": null,
      "outputs": [
        {
          "output_type": "stream",
          "name": "stdout",
          "text": [
            "5\n"
          ]
        }
      ]
    },
    {
      "cell_type": "code",
      "source": [
        "qc.draw()"
      ],
      "metadata": {
        "id": "PyFrS4gLhw71"
      },
      "execution_count": null,
      "outputs": []
    },
    {
      "cell_type": "code",
      "source": [
        "from qiskit import QuantumCircuit\n",
        "\n",
        "# Inicialización\n",
        "qc = QuantumCircuit(3)\n",
        "\n",
        "# Prueba: Cambia |10⟩ a |11⟩\n",
        "qc.x(0) # primer qubit a |1⟩\n",
        "# el segundo qubit está en |0⟩\n",
        "\n",
        "# Implementación del circuito\n",
        "qc.cx(0, 1) # Para |10⟩ => |11⟩\n",
        "qc.x(0)\n",
        "qc.x(1) # Prepara los qubits para la siguiente operación\n",
        "qc.ccx(0, 1, 2) # Marca |00⟩ en el ancilla\n",
        "qc.x(1) # Aplica NOT en q[1] si el ancilla está en |1⟩\n",
        "qc.x(0)\n",
        "qc.cx(2, 1)\n",
        "qc.x(1)\n",
        "qc.x(2) # Devuelve los qubits y el ancilla a sus estados originales\n",
        "\n",
        "qc.barrier()\n",
        "\n",
        "# Restablece el qubit ancilla\n",
        "qc.ccx(0, 2, 1)\n",
        "qc.ccx(0, 1, 2)\n",
        "qc.ccx(0, 2, 1)\n",
        "qc.reset(2)\n",
        "\n",
        "print(qc)\n"
      ],
      "metadata": {
        "colab": {
          "base_uri": "https://localhost:8080/"
        },
        "id": "bfEA_VCSYAhU",
        "outputId": "b8a39c00-8bf1-43a2-ac82-0541a214882e"
      },
      "execution_count": null,
      "outputs": [
        {
          "output_type": "stream",
          "name": "stdout",
          "text": [
            "     ┌───┐     ┌───┐     ┌───┐           ░                     \n",
            "q_0: ┤ X ├──■──┤ X ├──■──┤ X ├───────────░───■────■────■───────\n",
            "     └───┘┌─┴─┐├───┤  │  ├───┤┌───┐┌───┐ ░ ┌─┴─┐  │  ┌─┴─┐     \n",
            "q_1: ─────┤ X ├┤ X ├──■──┤ X ├┤ X ├┤ X ├─░─┤ X ├──■──┤ X ├─────\n",
            "          └───┘└───┘┌─┴─┐└───┘└─┬─┘├───┤ ░ └─┬─┘┌─┴─┐└─┬─┘     \n",
            "q_2: ───────────────┤ X ├───────■──┤ X ├─░───■──┤ X ├──■───|0>─\n",
            "                    └───┘          └───┘ ░      └───┘          \n"
          ]
        }
      ]
    }
  ]
}
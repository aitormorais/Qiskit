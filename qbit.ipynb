{
  "nbformat": 4,
  "nbformat_minor": 0,
  "metadata": {
    "colab": {
      "provenance": [],
      "gpuType": "T4",
      "include_colab_link": true
    },
    "kernelspec": {
      "name": "python3",
      "display_name": "Python 3"
    },
    "language_info": {
      "name": "python"
    },
    "accelerator": "GPU",
    "gpuClass": "standard"
  },
  "cells": [
    {
      "cell_type": "markdown",
      "metadata": {
        "id": "view-in-github",
        "colab_type": "text"
      },
      "source": [
        "<a href=\"https://colab.research.google.com/github/aitormorais/Qiskit/blob/main/qbit.ipynb\" target=\"_parent\"><img src=\"https://colab.research.google.com/assets/colab-badge.svg\" alt=\"Open In Colab\"/></a>"
      ]
    },
    {
      "cell_type": "code",
      "source": [
        "!pip install qiskit"
      ],
      "metadata": {
        "colab": {
          "base_uri": "https://localhost:8080/"
        },
        "id": "kwMBPuphYQYn",
        "outputId": "337c51b6-429e-4606-e5a3-5fcbd635d427"
      },
      "execution_count": 1,
      "outputs": [
        {
          "output_type": "stream",
          "name": "stdout",
          "text": [
            "Looking in indexes: https://pypi.org/simple, https://us-python.pkg.dev/colab-wheels/public/simple/\n",
            "Collecting qiskit\n",
            "  Downloading qiskit-0.43.0.tar.gz (10.0 kB)\n",
            "  Installing build dependencies ... \u001b[?25l\u001b[?25hdone\n",
            "  Getting requirements to build wheel ... \u001b[?25l\u001b[?25hdone\n",
            "  Installing backend dependencies ... \u001b[?25l\u001b[?25hdone\n",
            "  Preparing metadata (pyproject.toml) ... \u001b[?25l\u001b[?25hdone\n",
            "Collecting qiskit-terra==0.24.0 (from qiskit)\n",
            "  Downloading qiskit_terra-0.24.0-cp310-cp310-manylinux_2_17_x86_64.manylinux2014_x86_64.whl (5.9 MB)\n",
            "\u001b[2K     \u001b[90m━━━━━━━━━━━━━━━━━━━━━━━━━━━━━━━━━━━━━━━━\u001b[0m \u001b[32m5.9/5.9 MB\u001b[0m \u001b[31m32.7 MB/s\u001b[0m eta \u001b[36m0:00:00\u001b[0m\n",
            "\u001b[?25hCollecting qiskit-aer==0.12.0 (from qiskit)\n",
            "  Downloading qiskit_aer-0.12.0-cp310-cp310-manylinux_2_17_x86_64.manylinux2014_x86_64.whl (12.8 MB)\n",
            "\u001b[2K     \u001b[90m━━━━━━━━━━━━━━━━━━━━━━━━━━━━━━━━━━━━━━━━\u001b[0m \u001b[32m12.8/12.8 MB\u001b[0m \u001b[31m81.1 MB/s\u001b[0m eta \u001b[36m0:00:00\u001b[0m\n",
            "\u001b[?25hCollecting qiskit-ibmq-provider==0.20.2 (from qiskit)\n",
            "  Downloading qiskit_ibmq_provider-0.20.2-py3-none-any.whl (241 kB)\n",
            "\u001b[2K     \u001b[90m━━━━━━━━━━━━━━━━━━━━━━━━━━━━━━━━━━━━━━\u001b[0m \u001b[32m241.5/241.5 kB\u001b[0m \u001b[31m25.3 MB/s\u001b[0m eta \u001b[36m0:00:00\u001b[0m\n",
            "\u001b[?25hRequirement already satisfied: numpy>=1.16.3 in /usr/local/lib/python3.10/dist-packages (from qiskit-aer==0.12.0->qiskit) (1.22.4)\n",
            "Requirement already satisfied: scipy>=1.0 in /usr/local/lib/python3.10/dist-packages (from qiskit-aer==0.12.0->qiskit) (1.10.1)\n",
            "Requirement already satisfied: requests>=2.19 in /usr/local/lib/python3.10/dist-packages (from qiskit-ibmq-provider==0.20.2->qiskit) (2.27.1)\n",
            "Collecting requests-ntlm<=1.1.0 (from qiskit-ibmq-provider==0.20.2->qiskit)\n",
            "  Downloading requests_ntlm-1.1.0-py2.py3-none-any.whl (5.7 kB)\n",
            "Requirement already satisfied: urllib3>=1.21.1 in /usr/local/lib/python3.10/dist-packages (from qiskit-ibmq-provider==0.20.2->qiskit) (1.26.15)\n",
            "Requirement already satisfied: python-dateutil>=2.8.0 in /usr/local/lib/python3.10/dist-packages (from qiskit-ibmq-provider==0.20.2->qiskit) (2.8.2)\n",
            "Requirement already satisfied: websocket-client>=1.5.1 in /usr/local/lib/python3.10/dist-packages (from qiskit-ibmq-provider==0.20.2->qiskit) (1.5.1)\n",
            "Collecting websockets>=10.0 (from qiskit-ibmq-provider==0.20.2->qiskit)\n",
            "  Downloading websockets-11.0.3-cp310-cp310-manylinux_2_5_x86_64.manylinux1_x86_64.manylinux_2_17_x86_64.manylinux2014_x86_64.whl (129 kB)\n",
            "\u001b[2K     \u001b[90m━━━━━━━━━━━━━━━━━━━━━━━━━━━━━━━━━━━━━━\u001b[0m \u001b[32m129.9/129.9 kB\u001b[0m \u001b[31m14.2 MB/s\u001b[0m eta \u001b[36m0:00:00\u001b[0m\n",
            "\u001b[?25hCollecting rustworkx>=0.12.0 (from qiskit-terra==0.24.0->qiskit)\n",
            "  Downloading rustworkx-0.12.1-cp310-cp310-manylinux_2_17_x86_64.manylinux2014_x86_64.whl (1.9 MB)\n",
            "\u001b[2K     \u001b[90m━━━━━━━━━━━━━━━━━━━━━━━━━━━━━━━━━━━━━━━━\u001b[0m \u001b[32m1.9/1.9 MB\u001b[0m \u001b[31m32.3 MB/s\u001b[0m eta \u001b[36m0:00:00\u001b[0m\n",
            "\u001b[?25hCollecting ply>=3.10 (from qiskit-terra==0.24.0->qiskit)\n",
            "  Downloading ply-3.11-py2.py3-none-any.whl (49 kB)\n",
            "\u001b[2K     \u001b[90m━━━━━━━━━━━━━━━━━━━━━━━━━━━━━━━━━━━━━━━━\u001b[0m \u001b[32m49.6/49.6 kB\u001b[0m \u001b[31m5.4 MB/s\u001b[0m eta \u001b[36m0:00:00\u001b[0m\n",
            "\u001b[?25hRequirement already satisfied: psutil>=5 in /usr/local/lib/python3.10/dist-packages (from qiskit-terra==0.24.0->qiskit) (5.9.5)\n",
            "Requirement already satisfied: sympy>=1.3 in /usr/local/lib/python3.10/dist-packages (from qiskit-terra==0.24.0->qiskit) (1.11.1)\n",
            "Collecting dill>=0.3 (from qiskit-terra==0.24.0->qiskit)\n",
            "  Downloading dill-0.3.6-py3-none-any.whl (110 kB)\n",
            "\u001b[2K     \u001b[90m━━━━━━━━━━━━━━━━━━━━━━━━━━━━━━━━━━━━━━\u001b[0m \u001b[32m110.5/110.5 kB\u001b[0m \u001b[31m12.6 MB/s\u001b[0m eta \u001b[36m0:00:00\u001b[0m\n",
            "\u001b[?25hCollecting stevedore>=3.0.0 (from qiskit-terra==0.24.0->qiskit)\n",
            "  Downloading stevedore-5.1.0-py3-none-any.whl (49 kB)\n",
            "\u001b[2K     \u001b[90m━━━━━━━━━━━━━━━━━━━━━━━━━━━━━━━━━━━━━━━━\u001b[0m \u001b[32m49.6/49.6 kB\u001b[0m \u001b[31m5.6 MB/s\u001b[0m eta \u001b[36m0:00:00\u001b[0m\n",
            "\u001b[?25hCollecting symengine<0.10,>=0.9 (from qiskit-terra==0.24.0->qiskit)\n",
            "  Downloading symengine-0.9.2-cp310-cp310-manylinux2010_x86_64.whl (37.5 MB)\n",
            "\u001b[2K     \u001b[90m━━━━━━━━━━━━━━━━━━━━━━━━━━━━━━━━━━━━━━━━\u001b[0m \u001b[32m37.5/37.5 MB\u001b[0m \u001b[31m13.9 MB/s\u001b[0m eta \u001b[36m0:00:00\u001b[0m\n",
            "\u001b[?25hRequirement already satisfied: six>=1.5 in /usr/local/lib/python3.10/dist-packages (from python-dateutil>=2.8.0->qiskit-ibmq-provider==0.20.2->qiskit) (1.16.0)\n",
            "Requirement already satisfied: certifi>=2017.4.17 in /usr/local/lib/python3.10/dist-packages (from requests>=2.19->qiskit-ibmq-provider==0.20.2->qiskit) (2022.12.7)\n",
            "Requirement already satisfied: charset-normalizer~=2.0.0 in /usr/local/lib/python3.10/dist-packages (from requests>=2.19->qiskit-ibmq-provider==0.20.2->qiskit) (2.0.12)\n",
            "Requirement already satisfied: idna<4,>=2.5 in /usr/local/lib/python3.10/dist-packages (from requests>=2.19->qiskit-ibmq-provider==0.20.2->qiskit) (3.4)\n",
            "Collecting ntlm-auth>=1.0.2 (from requests-ntlm<=1.1.0->qiskit-ibmq-provider==0.20.2->qiskit)\n",
            "  Downloading ntlm_auth-1.5.0-py2.py3-none-any.whl (29 kB)\n",
            "Requirement already satisfied: cryptography>=1.3 in /usr/local/lib/python3.10/dist-packages (from requests-ntlm<=1.1.0->qiskit-ibmq-provider==0.20.2->qiskit) (40.0.2)\n",
            "Collecting pbr!=2.1.0,>=2.0.0 (from stevedore>=3.0.0->qiskit-terra==0.24.0->qiskit)\n",
            "  Downloading pbr-5.11.1-py2.py3-none-any.whl (112 kB)\n",
            "\u001b[2K     \u001b[90m━━━━━━━━━━━━━━━━━━━━━━━━━━━━━━━━━━━━━━\u001b[0m \u001b[32m112.7/112.7 kB\u001b[0m \u001b[31m13.1 MB/s\u001b[0m eta \u001b[36m0:00:00\u001b[0m\n",
            "\u001b[?25hRequirement already satisfied: mpmath>=0.19 in /usr/local/lib/python3.10/dist-packages (from sympy>=1.3->qiskit-terra==0.24.0->qiskit) (1.3.0)\n",
            "Requirement already satisfied: cffi>=1.12 in /usr/local/lib/python3.10/dist-packages (from cryptography>=1.3->requests-ntlm<=1.1.0->qiskit-ibmq-provider==0.20.2->qiskit) (1.15.1)\n",
            "Requirement already satisfied: pycparser in /usr/local/lib/python3.10/dist-packages (from cffi>=1.12->cryptography>=1.3->requests-ntlm<=1.1.0->qiskit-ibmq-provider==0.20.2->qiskit) (2.21)\n",
            "Building wheels for collected packages: qiskit\n",
            "  Building wheel for qiskit (pyproject.toml) ... \u001b[?25l\u001b[?25hdone\n",
            "  Created wheel for qiskit: filename=qiskit-0.43.0-py3-none-any.whl size=7996 sha256=685c1dbe7ceeab856801d3a3f64a5060c6484f9cff928068671d975732b7ef84\n",
            "  Stored in directory: /root/.cache/pip/wheels/11/fe/bc/59531707126e693bad48c61c0b86f3870b49f8f7ad49c18209\n",
            "Successfully built qiskit\n",
            "Installing collected packages: ply, websockets, symengine, rustworkx, pbr, ntlm-auth, dill, stevedore, requests-ntlm, qiskit-terra, qiskit-ibmq-provider, qiskit-aer, qiskit\n",
            "Successfully installed dill-0.3.6 ntlm-auth-1.5.0 pbr-5.11.1 ply-3.11 qiskit-0.43.0 qiskit-aer-0.12.0 qiskit-ibmq-provider-0.20.2 qiskit-terra-0.24.0 requests-ntlm-1.1.0 rustworkx-0.12.1 stevedore-5.1.0 symengine-0.9.2 websockets-11.0.3\n"
          ]
        }
      ]
    },
    {
      "cell_type": "code",
      "execution_count": 2,
      "metadata": {
        "id": "s_WEXJn4Ikkn"
      },
      "outputs": [],
      "source": [
        "import matplotlib.pyplot as plt\n",
        "import numpy as np\n",
        "import networkx as nx\n",
        "import random\n",
        "import qiskit"
      ]
    },
    {
      "cell_type": "code",
      "source": [
        "from qiskit_aer import AerSimulator"
      ],
      "metadata": {
        "id": "l9u6Q4V0Doqw"
      },
      "execution_count": 3,
      "outputs": []
    },
    {
      "cell_type": "code",
      "source": [
        "from qiskit import QuantumRegister, QuantumCircuit,Aer, execute,ClassicalRegister"
      ],
      "metadata": {
        "id": "HNClSMMxYrj1"
      },
      "execution_count": 4,
      "outputs": []
    },
    {
      "cell_type": "code",
      "source": [
        "def generate_hamiltonian_graph(num_nodes):\n",
        "    \"\"\"\n",
        "    Genera un grafo Hamiltoniano no dirigido con un número dado de nodos y aristas adicionales aleatorias.\n",
        "\n",
        "    Un grafo Hamiltoniano es un grafo que tiene un ciclo Hamiltoniano (un ciclo que visita cada nodo una vez).\n",
        "    Esta función primero crea un ciclo que conecta todos los nodos, y luego agrega aristas adicionales de manera aleatoria.\n",
        "\n",
        "    Parámetros\n",
        "    ----------\n",
        "    num_nodes : int\n",
        "        El número de nodos para incluir en el grafo.\n",
        "\n",
        "    Devoluciones\n",
        "    ------------\n",
        "    G : networkx.classes.graph.Graph\n",
        "        Un objeto de grafo no dirigido de NetworkX con 'num_nodes' nodos, un ciclo Hamiltoniano,\n",
        "        y aristas adicionales que se añaden aleatoriamente.\n",
        "\n",
        "    Ejemplo\n",
        "    -------\n",
        "    >>> G = generate_hamiltonian_graph(5)\n",
        "    >>> print(G.edges(data=True))\n",
        "    [(0, 1, {'weight': 1.0}), (0, 4, {'weight': 1.0}), (1, 2, {'weight': 1.0}), \n",
        "    (2, 3, {'weight': 1.0}), (3, 4, {'weight': 1.0})]\n",
        "    \"\"\"\n",
        "    # Crea un nuevo grafo no dirigido\n",
        "    G = nx.Graph()\n",
        "\n",
        "    # Agrega los nodos al grafo\n",
        "    G.add_nodes_from(range(num_nodes))\n",
        "\n",
        "    # Genera un camino Hamiltoniano\n",
        "    for i in range(num_nodes - 1):\n",
        "        G.add_edge(i, i + 1, weight=1.0)\n",
        "    G.add_edge(num_nodes - 1, 0, weight=1.0)  # Cierra el ciclo para hacerlo Hamiltoniano\n",
        "\n",
        "    # Agrega más aristas de manera aleatoria\n",
        "    for i in range(num_nodes):\n",
        "        for j in range(i + 2, num_nodes):\n",
        "            if np.random.random() > 0.5:  # Añade la arista con una probabilidad del 50%\n",
        "                G.add_edge(i, j, weight=1.0)\n",
        "\n",
        "    return G\n"
      ],
      "metadata": {
        "id": "DG8C0q1K_Jcw"
      },
      "execution_count": 5,
      "outputs": []
    },
    {
      "cell_type": "code",
      "source": [
        "def compute_cost(n, w, G):\n",
        "    \"\"\"\n",
        "    Calcula el costo de cada posible configuración de un sistema dado representado por un grafo y retorna el costo máximo y su configuración correspondiente.\n",
        "\n",
        "    Parámetros\n",
        "    ----------\n",
        "    n : int\n",
        "        El número de nodos en el grafo.\n",
        "    w : numpy.ndarray\n",
        "        Matriz de pesos de las aristas en el grafo.\n",
        "    G : networkx.classes.graph.Graph\n",
        "        Un objeto de grafo de NetworkX.\n",
        "    pos : dict\n",
        "        Un diccionario que mapea cada nodo a su posición en el grafo.\n",
        "\n",
        "    Devoluciones\n",
        "    -----------\n",
        "    cost_dict : dict\n",
        "        Un diccionario que mapea cada posible configuración del sistema a su costo asociado.\n",
        "    best_cost_brute : int\n",
        "        El costo máximo encontrado entre todas las configuraciones posibles.\n",
        "\n",
        "    Ejemplo\n",
        "    -------\n",
        "    >>> cost_dict, best_cost_brute = compute_cost(n, w, G, pos)\n",
        "    >>> print(best_cost_brute)\n",
        "    15\n",
        "    >>> print(cost_dict)\n",
        "    {(0, 0, 0): 0, (0, 0, 1): 5, ..., (1, 1, 1): 15}\n",
        "    \"\"\"\n",
        "    best_cost_brute = 0\n",
        "    cost_dict = {}  # Diccionario para almacenar los casos y sus costos\n",
        "\n",
        "    for b in range(2**n):\n",
        "        x = [int(t) for t in reversed(list(bin(b)[2:].zfill(n)))]\n",
        "        cost = 0\n",
        "        for i in range(n):\n",
        "            for j in range(n):\n",
        "                cost = cost + w[i, j] * x[i] * (1 - x[j])\n",
        "        if best_cost_brute < cost:\n",
        "            best_cost_brute = cost\n",
        "            xbest_brute = x\n",
        "        \n",
        "        # Almacena el caso y el costo en el diccionario\n",
        "        cost_dict[tuple(x)] = cost\n",
        "\n",
        "    colors = [\"r\" if xbest_brute[i] == 0 else \"c\" for i in range(n)]\n",
        "    #draw_graph(G, colors, pos)\n",
        "\n",
        "    return cost_dict, best_cost_brute\n"
      ],
      "metadata": {
        "id": "WBi2B9vF_tNZ"
      },
      "execution_count": 10,
      "outputs": []
    },
    {
      "cell_type": "code",
      "source": [
        "def compute_weight_matrix(G, n):\n",
        "    \"\"\"\n",
        "    Calcula la matriz de pesos a partir de un grafo dado.\n",
        "\n",
        "    Parámetros\n",
        "    ----------\n",
        "    G : networkx.classes.graph.Graph\n",
        "        Un objeto de grafo de NetworkX.\n",
        "    n : int\n",
        "        El número de nodos en el grafo.\n",
        "\n",
        "    Devoluciones\n",
        "    -----------\n",
        "    w : numpy.ndarray\n",
        "        Una matriz de 'n' por 'n' que representa los pesos de las aristas en el grafo. \n",
        "        Cada elemento w[i, j] es el peso de la arista entre los nodos i y j.\n",
        "\n",
        "    Ejemplo\n",
        "    -------\n",
        "    >>> w = compute_weight_matrix(G, 5)\n",
        "    >>> print(w)\n",
        "    [[0. 1. 1. 1. 1.]\n",
        "     [1. 0. 1. 1. 1.]\n",
        "     [1. 1. 0. 1. 1.]\n",
        "     [1. 1. 1. 0. 1.]\n",
        "     [1. 1. 1. 1. 0.]]\n",
        "    \"\"\"\n",
        "    # Calculando la matriz de pesos a partir del grafo aleatorio\n",
        "    w = np.zeros([n, n])\n",
        "    for i in range(n):\n",
        "        for j in range(n):\n",
        "            temp = G.get_edge_data(i, j, default=0)\n",
        "            if temp != 0:\n",
        "                w[i, j] = temp[\"weight\"]\n",
        "    return w\n"
      ],
      "metadata": {
        "id": "ssY3pecA9orJ"
      },
      "execution_count": 7,
      "outputs": []
    },
    {
      "cell_type": "code",
      "source": [
        "def draw_graph(G, colors, pos):\n",
        "    \"\"\"\n",
        "    Dibuja un grafo de NetworkX con nodos de colores y etiquetas de aristas.\n",
        "\n",
        "    Parámetros\n",
        "    ----------\n",
        "    G : networkx.classes.graph.Graph\n",
        "        Un objeto de grafo de NetworkX.\n",
        "    colors : list\n",
        "        Una lista de colores para los nodos. Cada nodo se dibuja con el color correspondiente de la lista.\n",
        "    pos : dict\n",
        "        Un diccionario que mapea cada nodo a su posición en el grafo.\n",
        "\n",
        "    Ejemplo\n",
        "    -------\n",
        "    >>> draw_graph(G, ['red', 'red', 'cyan', 'cyan', 'cyan'], pos)\n",
        "    \"\"\"\n",
        "    default_axes = plt.axes(frameon=True)\n",
        "    nx.draw_networkx(G, node_color=colors, node_size=600, alpha=0.8, ax=default_axes, pos=pos)\n",
        "    edge_labels = nx.get_edge_attributes(G, \"peso\")\n",
        "    nx.draw_networkx_edge_labels(G, pos=pos, edge_labels=edge_labels)\n"
      ],
      "metadata": {
        "id": "KaikiiqCJHuU"
      },
      "execution_count": null,
      "outputs": []
    },
    {
      "cell_type": "code",
      "source": [
        "def string_to_tuple(s):\n",
        "    \"\"\"\n",
        "    Convierte una cadena de texto en una tupla, interpretando cada carácter como un número entero.\n",
        "\n",
        "    Parámetros\n",
        "    ----------\n",
        "    s : str\n",
        "        La cadena de texto a convertir. Se espera que cada carácter de la cadena sea un dígito decimal.\n",
        "\n",
        "    Devoluciones\n",
        "    -----------\n",
        "    tuple\n",
        "        Una tupla de enteros correspondiente a los caracteres de la cadena.\n",
        "\n",
        "    Ejemplo\n",
        "    -------\n",
        "    >>> t = string_to_tuple(\"1234\")\n",
        "    >>> print(t)\n",
        "    (1, 2, 3, 4)\n",
        "    \"\"\"\n",
        "    return tuple(int(char) for char in s)\n",
        "\n"
      ],
      "metadata": {
        "id": "xTmGzql2QsRh"
      },
      "execution_count": 25,
      "outputs": []
    },
    {
      "cell_type": "markdown",
      "source": [],
      "metadata": {
        "id": "qgu09zhg-kJ8"
      }
    },
    {
      "cell_type": "markdown",
      "source": [
        "Qiskit\n"
      ],
      "metadata": {
        "id": "MMJ7xAsdYOUO"
      }
    },
    {
      "cell_type": "code",
      "source": [
        "def get_random_number(qc, qubit, reg):\n",
        "    \"\"\"\n",
        "    Genera un número aleatorio (0 o 1) utilizando un circuito cuántico.\n",
        "\n",
        "    Parámetros\n",
        "    ----------\n",
        "    qc : qiskit.circuit.quantumcircuit.QuantumCircuit\n",
        "        El circuito cuántico en el que se realizará la operación.\n",
        "    qubit : qiskit.circuit.quantumregister.QuantumRegister\n",
        "        El registro cuántico que contiene los qubits en los que se realizará la operación.\n",
        "    reg : qiskit.circuit.classicalregister.ClassicalRegister\n",
        "        El registro clásico que se utilizará para la medición.\n",
        "\n",
        "    Devoluciones\n",
        "    -----------\n",
        "    first_digit : int\n",
        "        Un número aleatorio (0 o 1) generado a partir de la medida del estado del qubit.\n",
        "\n",
        "    Ejemplo\n",
        "    -------\n",
        "    >>> qc = QuantumCircuit(1, 1)\n",
        "    >>> qubit = QuantumRegister(1)\n",
        "    >>> reg = ClassicalRegister(1)\n",
        "    >>> random_number = get_random_number(qc, qubit, reg)\n",
        "    >>> print(random_number)\n",
        "    0\n",
        "    \"\"\"\n",
        "    qc.h(qubit[0])\n",
        "    qc.measure(qubit[0], reg[0])\n",
        "    \n",
        "    with qc.if_test((reg, 1)):\n",
        "        qc.x(qubit[0])\n",
        "\n",
        "    backend_sim = AerSimulator()\n",
        "    reset_sim_job = backend_sim.run(qc, shots = 1)\n",
        "    reset_sim_result = reset_sim_job.result()\n",
        "    counts = reset_sim_result.get_counts(qc)\n",
        "\n",
        "    key = list(counts.keys())[0]\n",
        "    first_digit = int(key[0])  # Convierte el primer carácter de la clave a un entero\n",
        "    return first_digit\n"
      ],
      "metadata": {
        "id": "7nGxxEUpFc2Z"
      },
      "execution_count": 24,
      "outputs": []
    },
    {
      "cell_type": "code",
      "source": [
        "\"\"\"def lanzar_circ_dinamico(qc,registro):\n",
        "  # initialize the simulator\n",
        "  backend_sim = AerSimulator()\n",
        "\n",
        "  # run the circuit\n",
        "  reset_sim_job = backend_sim.run(qc,backend_sim,shots = 1)\n",
        "  # get the results\n",
        "  reset_sim_result = reset_sim_job.result()\n",
        "  # retrieve the bitstring counts\n",
        "  counts = reset_sim_result.get_counts(qc)\n",
        "  print(type(int(list(counts.keys())[0])))\n",
        "  print(\"esto?\",int(list(counts.keys())[0]))\n",
        "  return int(list(counts.keys())[0])\"\"\""
      ],
      "metadata": {
        "id": "1Zy3FhRfft1A"
      },
      "execution_count": 23,
      "outputs": []
    },
    {
      "cell_type": "code",
      "source": [
        "def mutate_bit_random(qr,qc,probabilidad):\n",
        "  \"\"\"mutar bit random\"\"\"\n",
        "  #mutar un qbit aleatorio\n",
        "  if np.random.random() > probabilidad:\n",
        "    qc.x(qr[np.random.randint(0,len(qr))])\n",
        "  \n"
      ],
      "metadata": {
        "id": "f-19lw7ba92T"
      },
      "execution_count": 22,
      "outputs": []
    },
    {
      "cell_type": "code",
      "source": [
        "def mutate_bit(qr,qc,bit):\n",
        "  \"\"\"dado un bit a mutar un qr y qc muta ese bit\"\"\"\n",
        "  qc.x(qr[bit])\n",
        "\n",
        "def mutate_multi_bit(qr,qc,probabilidad):#prob >0 and prob <1 a mas grande prob menos oportunidades de mutar\n",
        "  for i in range(len(qr)):\n",
        "     if np.random.random() > probabilidad:\n",
        "      mutate_bit(qr,qc,i)\n",
        "\n",
        "def mutate_bit_random(qr,qc,probabilidad):\n",
        "  \"\"\"mutar bit random\"\"\"\n",
        "  #mutar un qbit aleatorio\n",
        "  if np.random.random() > probabilidad:\n",
        "    qc.x(qr[np.random.randint(0,len(qr))])\n",
        "\n",
        "def mutate_exchange(qr,qc,probabilidad):\n",
        "   if np.random.random() > probabilidad:\n",
        "    numero0 = np.random.randint(0,len(qr))\n",
        "    numero1  = np.random.randint(0,len(qr))\n",
        "    if numero0 != numero1:\n",
        "      qc.swap(qr[numero0], qr[numero1])\n",
        "\n",
        "\n",
        "\n"
      ],
      "metadata": {
        "id": "RukxBI28fldk"
      },
      "execution_count": 21,
      "outputs": []
    },
    {
      "cell_type": "code",
      "source": [
        "def mutate_exchange(qr,qc,probabilidad):\n",
        "   if np.random.random() > probabilidad:\n",
        "    numero0 = np.random.randint(0,len(qr))\n",
        "    numero1  = np.random.randint(0,len(qr))\n",
        "    if numero0 != numero1:\n",
        "      qc.swap(qr[numero0], qr[numero1])\n",
        "\n",
        "\n"
      ],
      "metadata": {
        "id": "mTq9_YUvuXrn"
      },
      "execution_count": 20,
      "outputs": []
    },
    {
      "cell_type": "code",
      "source": [
        "def puntos(qr):\n",
        "  numero = np.random.randint(1,len(qr)-1) \n",
        "  num = np.random.randint(1,len(qr)-1)\n",
        "  while numero == num:\n",
        "    num = np.random.randint(1,len(qr)-1)\n",
        "  if num > numero:\n",
        "    return numero,num\n",
        "  else:\n",
        "    return num,numero\n"
      ],
      "metadata": {
        "id": "kH1oIBuh1xHX"
      },
      "execution_count": 19,
      "outputs": []
    },
    {
      "cell_type": "code",
      "source": [
        "def escribir(qc,qreg, bin_string):\n",
        "\n",
        "    \"\"\"funcion que sirve tanto para escribir como para 'resetear' un registro, si quieres escribir sin tener que poner tu manualmente las puertas not en bin_string pon el numero que quieras.\n",
        "    Si por el contrario quieres resetear tu resultado de un registro cuantico bin_string tiene que ser el contenido actual del registro cuantico\n",
        "\n",
        "    \"\"\"\n",
        "    # Creamos un QuantumCircuit usando el QuantumRegister\n",
        "    #qc = QuantumCircuit(qreg)\n",
        "    \n",
        "    # Verificamos si el tamaño del QuantumRegister es suficiente para el string binario\n",
        "    if qreg.size < len(bin_string):\n",
        "        raise ValueError(\"El QuantumRegister no es suficientemente grande para el string binario\")\n",
        "\n",
        "    # Recuerda que Qiskit usa notación little-endian, por lo que necesitamos invertir el string\n",
        "    bin_string = bin_string[::-1]\n",
        "    \n",
        "    # Aplicamos la puerta X (NOT) a los qubits correspondientes\n",
        "    for i, bit in enumerate(bin_string):\n",
        "      if bit == '1':\n",
        "          qc.x(i)"
      ],
      "metadata": {
        "id": "gLsq49AN8ypl"
      },
      "execution_count": 18,
      "outputs": []
    },
    {
      "cell_type": "code",
      "source": [
        "def create_qc(number_quantum_reg,qubits,number_classic_reg,bits):\n",
        "  \"\"\"facilita el crear circuitos cuanticos si quieres poner ancillas aconesjo hacerlo manualmente partiendo desde aqui\"\"\"\n",
        "  \n",
        "  # Create quantum registers\n",
        "  qregs = [QuantumRegister(qubits, name=f'q{i}') for i in range(number_quantum_reg)]\n",
        "  ancilla = QuantumRegister(1, name='ancilla')\n",
        "\n",
        "  # Create classical registers\n",
        "  cregs = [ClassicalRegister(bits, name=f'c{i}') for i in range(number_classic_reg)]\n",
        "  cr_ancilla = ClassicalRegister(1, name='cr_ancilla')\n",
        "\n",
        "  # Create a quantum circuit\n",
        "  return QuantumCircuit(*qregs, ancilla, *cregs, cr_ancilla)\n"
      ],
      "metadata": {
        "id": "zR6D5zMvA7-b"
      },
      "execution_count": 17,
      "outputs": []
    },
    {
      "cell_type": "code",
      "source": [
        "def lanzar_dinamico(circuito):\n",
        "  backend_sim = AerSimulator()\n",
        "\n",
        "  # run the circuit\n",
        "  reset_sim_job = backend_sim.run(circuito,shots = 1)\n",
        "  # get the results\n",
        "  reset_sim_result = reset_sim_job.result()\n",
        "  # retrieve the bitstring counts\n",
        "  \n",
        "  return reset_sim_result.get_counts()\n"
      ],
      "metadata": {
        "id": "zCI7FjCeRrcy"
      },
      "execution_count": 16,
      "outputs": []
    },
    {
      "cell_type": "code",
      "source": [
        "def valores_hijos(resultados):\n",
        "  \"suponiendo que solo tenemos dos creg\"\n",
        "  for key in resultados.keys():\n",
        "    return string_to_tuple(key.split(' ')[2]),string_to_tuple(key.split(' ')[1])\n",
        "    #hijo1 = key.split(' ')[1]#cr[1]\n",
        "    #hijo0 = key.split(' ')[2]#cr[0]  # split the string by spaces and get the second element"
      ],
      "metadata": {
        "id": "2lq-5XXxRL4Z"
      },
      "execution_count": 15,
      "outputs": []
    },
    {
      "cell_type": "code",
      "source": [
        "def tuple_to_string(t):\n",
        "    return ''.join(str(num) for num in t)\n"
      ],
      "metadata": {
        "id": "i0dQo7kCTN89"
      },
      "execution_count": 14,
      "outputs": []
    },
    {
      "cell_type": "code",
      "source": [
        "def mutate_bit(qr,qc,bit):\n",
        "  \"\"\"dado un bit a mutar un qr y qc muta ese bit\"\"\"\n",
        "  qc.x(qr[bit])\n",
        "\n",
        "def mutate_multi_bit(qr,qc,probabilidad):#prob >0 and prob <1 a mas grande prob menos oportunidades de mutar\n",
        "  for i in range(len(qr)):\n",
        "     if np.random.random() > probabilidad:\n",
        "      mutate_bit(qr,qc,i)\n",
        "\n",
        "def mutate_bit_random(qr,qc,probabilidad):\n",
        "  \"\"\"mutar bit random\"\"\"\n",
        "  #mutar un qbit aleatorio\n",
        "  if np.random.random() > probabilidad:\n",
        "    qc.x(qr[np.random.randint(0,len(qr))])\n",
        "\n",
        "def mutate_exchange(qr,qc,probabilidad):\n",
        "   if np.random.random() > probabilidad:\n",
        "    numero0 = np.random.randint(0,len(qr))\n",
        "    numero1  = np.random.randint(0,len(qr))\n",
        "    if numero0 != numero1:\n",
        "      qc.swap(qr[numero0], qr[numero1])"
      ],
      "metadata": {
        "id": "BSzY9VB7VCM3"
      },
      "execution_count": 13,
      "outputs": []
    },
    {
      "cell_type": "code",
      "source": [],
      "metadata": {
        "id": "yyg2SZYfqW8r"
      },
      "execution_count": null,
      "outputs": []
    },
    {
      "cell_type": "code",
      "source": [
        "def crear_hijo(base,hasta,maximo,qreg_padre,qreg_madre,qreg_hijo,qc,qreg_ancilla,cr_ancilla):\n",
        "  #inicio aleatorio padre o madre\n",
        "  if get_random_number(qc,qreg_ancilla,cr_ancilla) == 0:#padre editar para que el circuito original incluya un genrador de numeros\n",
        "    padre_hijo(qc,qreg_padre,qreg_hijo,qreg_ancilla,cr_ancilla,0,base)\n",
        "  else:\n",
        "    padre_hijo(qc,qreg_madre,qreg_hijo,qreg_ancilla,cr_ancilla,0,base)\n",
        "\n",
        "  padre_hijo(qc,qreg_padre,qreg_hijo,qreg_ancilla,cr_ancilla,base,hasta)#medio\n",
        "  #padre_hijo(circuito, padre, hijo,0,hasta+1,ancilla)\n",
        "\n",
        "  #padre_hijo(qc, padre, hijo, ancilla,base+1,hasta+1)\n",
        "  padre_hijo(qc,qreg_madre,qreg_hijo,qreg_ancilla,cr_ancilla,hasta,len(qreg_padre))#fin\n",
        "  #padre_hijo(circuito, madre, hijo,hasta+1,maximo,ancilla)"
      ],
      "metadata": {
        "id": "OHNXWNaWkp2C"
      },
      "execution_count": 11,
      "outputs": []
    },
    {
      "cell_type": "code",
      "source": [
        "def padre_hijo(circuit,qreg_padre,qreg_hijo,qreg_ancilla,cr_ancilla,base,hasta):\n",
        "    for i in range(base, hasta):\n",
        "      circuit.cx(qreg_padre[i], qreg_hijo[i])\n",
        "      circuit.x(qreg_padre[i])\n",
        "      circuit.x(qreg_hijo[i])\n",
        "      circuit.ccx(qreg_padre[i], qreg_hijo[i], qreg_ancilla[0])\n",
        "      circuit.x(qreg_padre[i])\n",
        "      circuit.x(qreg_hijo[i])\n",
        "      circuit.cx(qreg_ancilla[0], qreg_hijo[i])\n",
        "      circuit.x(qreg_hijo[i])\n",
        "      circuit.x(qreg_ancilla[0])\n",
        "      circuit.ccx(qreg_padre[i], qreg_ancilla[0], qreg_hijo[i])\n",
        "      circuit.ccx(qreg_padre[i], qreg_hijo[i], qreg_ancilla[0])\n",
        "      circuit.ccx(qreg_padre[i], qreg_ancilla[0], qreg_hijo[i])\n",
        "      circuit.measure(qreg_ancilla[0], cr_ancilla[0])\n",
        "      with circuit.if_test((cr_ancilla[0],1)):\n",
        "        circuit.x(qreg_ancilla[0])\n",
        "\n",
        "\n",
        "\n",
        "\n",
        "       "
      ],
      "metadata": {
        "id": "EyzTcEpvcIw7"
      },
      "execution_count": 12,
      "outputs": []
    },
    {
      "cell_type": "code",
      "source": [
        "def qga(number_quantum_reg,qubits,number_classic_reg,bits,cost_dict,probabilidad,mejor):\n",
        "  \"algoritmo genetico cuantico\"\n",
        "  #qc = create_qc(number_quantum_reg,qubits,number_classic_reg,bits)\n",
        "  # Create quantum registers\n",
        "  qregs = [QuantumRegister(qubits, name=f'q{i}') for i in range(number_quantum_reg)]\n",
        "  ancilla = QuantumRegister(1, name='ancilla')\n",
        "\n",
        "  # Create classical registers\n",
        "  cregs = [ClassicalRegister(bits, name=f'c{i}') for i in range(number_classic_reg)]\n",
        "  cr_ancilla = ClassicalRegister(1, name='cr_ancilla')\n",
        "  qc = QuantumCircuit(*qregs, ancilla, *cregs, cr_ancilla)\n",
        "  generation = 0 \n",
        "  best = False\n",
        "  result = ''\n",
        "  #case = (0, 1, 0, 0, 0, 1) cost = 5.0 emepzaremos con este reg como padre y el segundo reg en superposicion\n",
        "  inicial = (0, 1, 0, 0, 0, 1)\n",
        "  for i in range(qc.qregs[1].size):\n",
        "    qc.h(qc.qregs[1][i])\n",
        "  #crear_hijo(base,hasta,qubits,qc.qregs[0],qc.qregs[1],qc.qregs[2],qc,qc.ancilla,qc.cr_ancilla)#usando al padre\n",
        "  #crear_hijo(base,hasta,qubits,qc.qregs[1],qc.qregs[0],qc.qregs[3],qc,qc.ancilla,qc.cr_ancilla)#usando a la madre\n",
        "  while generation <10 or best == True:\n",
        "    crear_hijo(*puntos(qc.qregs[0]),qubits,qc.qregs[0],qc.qregs[1],qc.qregs[2],qc,ancilla,cr_ancilla)#usando al padre qc.qregs[-2]  # -2 since ancilla is the second last element added to qregs\n",
        "    crear_hijo(*puntos(qc.qregs[0]),qubits,qc.qregs[1],qc.qregs[0],qc.qregs[3],qc,ancilla,cr_ancilla)#usando a la madre\n",
        "    for i in range(qubits):\n",
        "\n",
        "      qc.measure(qc.qregs[2][i],qc.cregs[0][i])\n",
        "\n",
        "      qc.measure(qc.qregs[3][i],qc.cregs[1][i])\n",
        "\n",
        "    hijo0,hijo1 = valores_hijos(lanzar_dinamico(qc))\n",
        "    print(\"recien_crea2 hijo0: \",hijo0)\n",
        "    print(\"recien_crea2: \",hijo1)\n",
        "    if cost_dict[inicial] < cost_dict[hijo0] or cost_dict[inicial] < cost_dict[hijo1] or hijo0 == mejor or hijo1 == mejor:\n",
        "      if hijo0 == mejor:\n",
        "        result = hijo0\n",
        "        best = True \n",
        "      if hijo1 == mejor:\n",
        "        result = hijo1\n",
        "        best = True \n",
        "      escribir(qc,qc.qregs[0],tuple_to_string(inicial))#borramos la info del padre\n",
        "        \n",
        "      if cost_dict[inicial] < cost_dict[hijo0]:\n",
        "\n",
        "        escribir(qc,qc.qregs[0],tuple_to_string(hijo0))\n",
        "        inicial = hijo0\n",
        "        result = hijo0\n",
        "\n",
        "      if cost_dict[inicial] < cost_dict[hijo1]:\n",
        "        escribir(qc,qc.qregs[0],tuple_to_string(hijo1))\n",
        "        inicial = hijo1\n",
        "        result = hijo1\n",
        "      print(\"hijo0: \",hijo0)\n",
        "      print(\"hijo1: \",hijo1)\n",
        "    \n",
        "    else:\n",
        "      print(\"muta2\")\n",
        "      cual = np.random.randint(0, 4)#aleatorio cual de las 4 mutaciones\n",
        "      functions = {\n",
        "          0: lambda: mutate_bit(qc.qregs[0], qc, np.random.randint(0, len(qc.qregs[0]))),\n",
        "          1: lambda: mutate_multi_bit(qc.qregs[0], qc, probabilidad),\n",
        "          2: lambda: mutate_bit_random(qc.qregs[0], qc, probabilidad),\n",
        "          3: lambda: mutate_exchange(qc.qregs[0], qc, probabilidad)\n",
        "      }\n",
        "      functions[cual]()\n",
        "      print(\"hijo0: \",hijo0)\n",
        "      print(\"hijo1: \",hijo1)\n",
        "    \n",
        "    print(\"inicial: \",inicial)\n",
        "    print(\"hijo0: \",hijo0)\n",
        "    print(\"hijo1: \",hijo1)\n",
        "    generation+=1\n",
        "    print(generation)\n",
        "  return result\n",
        "\n",
        "\n",
        "\n",
        "\n"
      ],
      "metadata": {
        "id": "93r9-xKzBk9T"
      },
      "execution_count": null,
      "outputs": []
    },
    {
      "cell_type": "markdown",
      "source": [
        "EJECUTAR AQUI PARA LANZAR EL QGA SOLO HA SIDO PROBADO PARA 6 NODOS POR GRAFO"
      ],
      "metadata": {
        "id": "7QHQLX-XTIwK"
      }
    },
    {
      "cell_type": "code",
      "source": [
        "n = 6 #numero de nodos"
      ],
      "metadata": {
        "id": "517acaMLSnGW"
      },
      "execution_count": 28,
      "outputs": []
    },
    {
      "cell_type": "code",
      "source": [
        "grafo = generate_hamiltonian_graph(n)"
      ],
      "metadata": {
        "id": "FL-CtDusI6JD"
      },
      "execution_count": 30,
      "outputs": []
    },
    {
      "cell_type": "code",
      "source": [
        "w = compute_weight_matrix(grafo,n)"
      ],
      "metadata": {
        "id": "6LmKVNMzSiVY"
      },
      "execution_count": 32,
      "outputs": []
    },
    {
      "cell_type": "code",
      "source": [
        "cost_dict, best_cost_brute = compute_cost(n, w, grafo )"
      ],
      "metadata": {
        "id": "Zx1boy4J8tZh"
      },
      "execution_count": 33,
      "outputs": []
    },
    {
      "cell_type": "code",
      "source": [
        "result = qga(4,6,2,6,cost_dict,0.6,9)"
      ],
      "metadata": {
        "colab": {
          "base_uri": "https://localhost:8080/"
        },
        "id": "Iq0TBhsjqg4y",
        "outputId": "8e554e4d-2a42-4d35-c17c-06791e37b6d7"
      },
      "execution_count": null,
      "outputs": [
        {
          "output_type": "stream",
          "name": "stdout",
          "text": [
            "recien_crea2 hijo0:  (0, 0, 0, 0, 0, 0)\n",
            "recien_crea2:  (0, 0, 1, 1, 0, 0)\n",
            "muta2\n",
            "hijo0:  (0, 0, 0, 0, 0, 0)\n",
            "hijo1:  (0, 0, 1, 1, 0, 0)\n",
            "inicial:  (0, 1, 0, 0, 0, 1)\n",
            "hijo0:  (0, 0, 0, 0, 0, 0)\n",
            "hijo1:  (0, 0, 1, 1, 0, 0)\n",
            "1\n"
          ]
        }
      ]
    },
    {
      "cell_type": "code",
      "source": [
        "def int_bit(numero, longitud):\n",
        "    # Comprobamos si el número es demasiado grande para la cantidad de bits especificada.\n",
        "    if numero > 2 ** longitud:\n",
        "        raise ValueError(f\"El número {numero} es demasiado grande para representarse con {longitud} bits\")\n",
        "\n",
        "    # Convertimos el número a binario con 'bin()', y lo convertimos a string con 'str()'.\n",
        "    # La función 'bin()' retorna un string que comienza con '0b' para indicar que es un número binario,\n",
        "    # así que utilizamos el slicing '[2:]' para eliminar estos caracteres.\n",
        "    binary_str = str(bin(numero))[2:]\n",
        "\n",
        "    # Ahora rellenamos con ceros a la izquierda hasta tener la longitud deseada usando 'zfill()'.\n",
        "    return binary_str.zfill(longitud)\n",
        "\n",
        "\n"
      ],
      "metadata": {
        "id": "erPfqogG58q1"
      },
      "execution_count": null,
      "outputs": []
    },
    {
      "cell_type": "code",
      "source": [
        "def evaluar_resultados(qc,hijo1,hijo2,cr_hijo1,cr_hijo2,i,dic_qga,padre,madre,dic_mirar):\n",
        "  \"\"\"funcion que se encarga de 'obtener' los resultados\"\"\"\n",
        "  binario = format(i,'06b')\n",
        "  \n",
        "  if dic_qga[binario]>dic_qga[padre]or dic_qga[binario]>dic_qga[madre]:\n",
        "    if dic_qga[binario]>dic_qga[padre]:\n",
        "      \n",
        "      for qubit in padre:\n",
        "        qc.reset(qubit)\n",
        "\n",
        "      del dic_qga[padre]\n",
        "      dic_qga[binario] = dic_mirar[binario]#funcio por implementar que buscara el valor en la lista\n",
        "    if dic_qga[binario]>dic_qga[madre]:#faltaria asegurarse de no duplicar el padre y madre\n",
        "      dic_qga[binario] = dic_mirar[binario]\n",
        "      del dic_qga[madre]\n",
        "\n",
        "\n",
        "\n"
      ],
      "metadata": {
        "id": "xPVP8cdUzheG"
      },
      "execution_count": null,
      "outputs": []
    },
    {
      "cell_type": "code",
      "source": [
        "def get_keys_with_highest_values(d, n):\n",
        "    sorted_items = sorted(d.items(), key=lambda item: item[1], reverse=True)\n",
        "    top_n_items = sorted_items[:n]\n",
        "    top_n_keys = [item[0] for item in top_n_items]\n",
        "    return top_n_keys\n"
      ],
      "metadata": {
        "id": "iMrUhIdQ2SqW"
      },
      "execution_count": null,
      "outputs": []
    },
    {
      "cell_type": "markdown",
      "source": [
        "ANCILLAS\n",
        "\n",
        "OPENQASM 2.0;\n",
        "include \"qelib1.inc\";\n",
        "qreg q[4];\n",
        "//x q[0];\n",
        "//x q[1];\n",
        "cx q[0], q[1];\n",
        "ccx q[0], q[1], q[3];\n",
        "ccx q[3], q[2], q[1];\n",
        "ccx q[1], q[3], q[0];\n",
        "ccx q[1], q[2], q[3];\n",
        "cx q[1], q[2];\n",
        "cx q[0], q[1];\n",
        "cx q[1], q[2];\n",
        "cx q[1], q[3];\n",
        "ccx q[3], q[2], q[0];\n",
        "cx q[1], q[2];\n",
        "cx q[1], q[3];"
      ],
      "metadata": {
        "id": "cSnfCpHLb8KV"
      }
    },
    {
      "cell_type": "code",
      "source": [
        "from qiskit import QuantumRegister, QuantumCircuit, Aer, execute, ClassicalRegister"
      ],
      "metadata": {
        "id": "Rb70g4Kponja"
      },
      "execution_count": null,
      "outputs": []
    },
    {
      "cell_type": "code",
      "source": [
        "crear_hijo(base,hasta,len(qc),qr1,qr2,qr3,qc,ancilla,cr)"
      ],
      "metadata": {
        "id": "1hKWGvBcEVkL"
      },
      "execution_count": null,
      "outputs": []
    },
    {
      "cell_type": "code",
      "source": [
        "for i in range(len(qr3)):\n",
        "  qc.measure(qr3[i],cr_hijo[i])"
      ],
      "metadata": {
        "id": "CbhdfzzIF1Ax"
      },
      "execution_count": null,
      "outputs": []
    }
  ]
}
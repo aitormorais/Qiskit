{
  "nbformat": 4,
  "nbformat_minor": 0,
  "metadata": {
    "colab": {
      "provenance": [],
      "gpuType": "T4",
      "include_colab_link": true
    },
    "kernelspec": {
      "name": "python3",
      "display_name": "Python 3"
    },
    "language_info": {
      "name": "python"
    },
    "accelerator": "GPU",
    "gpuClass": "standard"
  },
  "cells": [
    {
      "cell_type": "markdown",
      "metadata": {
        "id": "view-in-github",
        "colab_type": "text"
      },
      "source": [
        "<a href=\"https://colab.research.google.com/github/aitormorais/Qiskit/blob/main/qbit.ipynb\" target=\"_parent\"><img src=\"https://colab.research.google.com/assets/colab-badge.svg\" alt=\"Open In Colab\"/></a>"
      ]
    },
    {
      "cell_type": "code",
      "source": [
        "!pip install qiskit"
      ],
      "metadata": {
        "colab": {
          "base_uri": "https://localhost:8080/"
        },
        "id": "kwMBPuphYQYn",
        "outputId": "91f81557-442e-4733-da1b-be0a71597881"
      },
      "execution_count": null,
      "outputs": [
        {
          "output_type": "stream",
          "name": "stdout",
          "text": [
            "Looking in indexes: https://pypi.org/simple, https://us-python.pkg.dev/colab-wheels/public/simple/\n",
            "Collecting qiskit\n",
            "  Downloading qiskit-0.43.1.tar.gz (9.6 kB)\n",
            "  Installing build dependencies ... \u001b[?25l\u001b[?25hdone\n",
            "  Getting requirements to build wheel ... \u001b[?25l\u001b[?25hdone\n",
            "  Installing backend dependencies ... \u001b[?25l\u001b[?25hdone\n",
            "  Preparing metadata (pyproject.toml) ... \u001b[?25l\u001b[?25hdone\n",
            "Collecting qiskit-terra==0.24.1 (from qiskit)\n",
            "  Downloading qiskit_terra-0.24.1-cp310-cp310-manylinux_2_17_x86_64.manylinux2014_x86_64.whl (5.9 MB)\n",
            "\u001b[2K     \u001b[90m━━━━━━━━━━━━━━━━━━━━━━━━━━━━━━━━━━━━━━━━\u001b[0m \u001b[32m5.9/5.9 MB\u001b[0m \u001b[31m33.9 MB/s\u001b[0m eta \u001b[36m0:00:00\u001b[0m\n",
            "\u001b[?25hCollecting qiskit-aer==0.12.0 (from qiskit)\n",
            "  Downloading qiskit_aer-0.12.0-cp310-cp310-manylinux_2_17_x86_64.manylinux2014_x86_64.whl (12.8 MB)\n",
            "\u001b[2K     \u001b[90m━━━━━━━━━━━━━━━━━━━━━━━━━━━━━━━━━━━━━━━━\u001b[0m \u001b[32m12.8/12.8 MB\u001b[0m \u001b[31m68.8 MB/s\u001b[0m eta \u001b[36m0:00:00\u001b[0m\n",
            "\u001b[?25hCollecting qiskit-ibmq-provider==0.20.2 (from qiskit)\n",
            "  Downloading qiskit_ibmq_provider-0.20.2-py3-none-any.whl (241 kB)\n",
            "\u001b[2K     \u001b[90m━━━━━━━━━━━━━━━━━━━━━━━━━━━━━━━━━━━━━━\u001b[0m \u001b[32m241.5/241.5 kB\u001b[0m \u001b[31m25.2 MB/s\u001b[0m eta \u001b[36m0:00:00\u001b[0m\n",
            "\u001b[?25hRequirement already satisfied: numpy>=1.16.3 in /usr/local/lib/python3.10/dist-packages (from qiskit-aer==0.12.0->qiskit) (1.22.4)\n",
            "Requirement already satisfied: scipy>=1.0 in /usr/local/lib/python3.10/dist-packages (from qiskit-aer==0.12.0->qiskit) (1.10.1)\n",
            "Requirement already satisfied: requests>=2.19 in /usr/local/lib/python3.10/dist-packages (from qiskit-ibmq-provider==0.20.2->qiskit) (2.27.1)\n",
            "Collecting requests-ntlm<=1.1.0 (from qiskit-ibmq-provider==0.20.2->qiskit)\n",
            "  Downloading requests_ntlm-1.1.0-py2.py3-none-any.whl (5.7 kB)\n",
            "Requirement already satisfied: urllib3>=1.21.1 in /usr/local/lib/python3.10/dist-packages (from qiskit-ibmq-provider==0.20.2->qiskit) (1.26.15)\n",
            "Requirement already satisfied: python-dateutil>=2.8.0 in /usr/local/lib/python3.10/dist-packages (from qiskit-ibmq-provider==0.20.2->qiskit) (2.8.2)\n",
            "Requirement already satisfied: websocket-client>=1.5.1 in /usr/local/lib/python3.10/dist-packages (from qiskit-ibmq-provider==0.20.2->qiskit) (1.5.1)\n",
            "Collecting websockets>=10.0 (from qiskit-ibmq-provider==0.20.2->qiskit)\n",
            "  Downloading websockets-11.0.3-cp310-cp310-manylinux_2_5_x86_64.manylinux1_x86_64.manylinux_2_17_x86_64.manylinux2014_x86_64.whl (129 kB)\n",
            "\u001b[2K     \u001b[90m━━━━━━━━━━━━━━━━━━━━━━━━━━━━━━━━━━━━━━\u001b[0m \u001b[32m129.9/129.9 kB\u001b[0m \u001b[31m11.3 MB/s\u001b[0m eta \u001b[36m0:00:00\u001b[0m\n",
            "\u001b[?25hCollecting rustworkx>=0.12.0 (from qiskit-terra==0.24.1->qiskit)\n",
            "  Downloading rustworkx-0.12.1-cp310-cp310-manylinux_2_17_x86_64.manylinux2014_x86_64.whl (1.9 MB)\n",
            "\u001b[2K     \u001b[90m━━━━━━━━━━━━━━━━━━━━━━━━━━━━━━━━━━━━━━━━\u001b[0m \u001b[32m1.9/1.9 MB\u001b[0m \u001b[31m94.8 MB/s\u001b[0m eta \u001b[36m0:00:00\u001b[0m\n",
            "\u001b[?25hCollecting ply>=3.10 (from qiskit-terra==0.24.1->qiskit)\n",
            "  Downloading ply-3.11-py2.py3-none-any.whl (49 kB)\n",
            "\u001b[2K     \u001b[90m━━━━━━━━━━━━━━━━━━━━━━━━━━━━━━━━━━━━━━━━\u001b[0m \u001b[32m49.6/49.6 kB\u001b[0m \u001b[31m7.0 MB/s\u001b[0m eta \u001b[36m0:00:00\u001b[0m\n",
            "\u001b[?25hRequirement already satisfied: psutil>=5 in /usr/local/lib/python3.10/dist-packages (from qiskit-terra==0.24.1->qiskit) (5.9.5)\n",
            "Requirement already satisfied: sympy>=1.3 in /usr/local/lib/python3.10/dist-packages (from qiskit-terra==0.24.1->qiskit) (1.11.1)\n",
            "Collecting dill>=0.3 (from qiskit-terra==0.24.1->qiskit)\n",
            "  Downloading dill-0.3.6-py3-none-any.whl (110 kB)\n",
            "\u001b[2K     \u001b[90m━━━━━━━━━━━━━━━━━━━━━━━━━━━━━━━━━━━━━━\u001b[0m \u001b[32m110.5/110.5 kB\u001b[0m \u001b[31m16.4 MB/s\u001b[0m eta \u001b[36m0:00:00\u001b[0m\n",
            "\u001b[?25hCollecting stevedore>=3.0.0 (from qiskit-terra==0.24.1->qiskit)\n",
            "  Downloading stevedore-5.1.0-py3-none-any.whl (49 kB)\n",
            "\u001b[2K     \u001b[90m━━━━━━━━━━━━━━━━━━━━━━━━━━━━━━━━━━━━━━━━\u001b[0m \u001b[32m49.6/49.6 kB\u001b[0m \u001b[31m6.9 MB/s\u001b[0m eta \u001b[36m0:00:00\u001b[0m\n",
            "\u001b[?25hCollecting symengine<0.10,>=0.9 (from qiskit-terra==0.24.1->qiskit)\n",
            "  Downloading symengine-0.9.2-cp310-cp310-manylinux2010_x86_64.whl (37.5 MB)\n",
            "\u001b[2K     \u001b[90m━━━━━━━━━━━━━━━━━━━━━━━━━━━━━━━━━━━━━━━━\u001b[0m \u001b[32m37.5/37.5 MB\u001b[0m \u001b[31m19.9 MB/s\u001b[0m eta \u001b[36m0:00:00\u001b[0m\n",
            "\u001b[?25hRequirement already satisfied: six>=1.5 in /usr/local/lib/python3.10/dist-packages (from python-dateutil>=2.8.0->qiskit-ibmq-provider==0.20.2->qiskit) (1.16.0)\n",
            "Requirement already satisfied: certifi>=2017.4.17 in /usr/local/lib/python3.10/dist-packages (from requests>=2.19->qiskit-ibmq-provider==0.20.2->qiskit) (2022.12.7)\n",
            "Requirement already satisfied: charset-normalizer~=2.0.0 in /usr/local/lib/python3.10/dist-packages (from requests>=2.19->qiskit-ibmq-provider==0.20.2->qiskit) (2.0.12)\n",
            "Requirement already satisfied: idna<4,>=2.5 in /usr/local/lib/python3.10/dist-packages (from requests>=2.19->qiskit-ibmq-provider==0.20.2->qiskit) (3.4)\n",
            "Collecting ntlm-auth>=1.0.2 (from requests-ntlm<=1.1.0->qiskit-ibmq-provider==0.20.2->qiskit)\n",
            "  Downloading ntlm_auth-1.5.0-py2.py3-none-any.whl (29 kB)\n",
            "Requirement already satisfied: cryptography>=1.3 in /usr/local/lib/python3.10/dist-packages (from requests-ntlm<=1.1.0->qiskit-ibmq-provider==0.20.2->qiskit) (40.0.2)\n",
            "Collecting pbr!=2.1.0,>=2.0.0 (from stevedore>=3.0.0->qiskit-terra==0.24.1->qiskit)\n",
            "  Downloading pbr-5.11.1-py2.py3-none-any.whl (112 kB)\n",
            "\u001b[2K     \u001b[90m━━━━━━━━━━━━━━━━━━━━━━━━━━━━━━━━━━━━━━\u001b[0m \u001b[32m112.7/112.7 kB\u001b[0m \u001b[31m14.8 MB/s\u001b[0m eta \u001b[36m0:00:00\u001b[0m\n",
            "\u001b[?25hRequirement already satisfied: mpmath>=0.19 in /usr/local/lib/python3.10/dist-packages (from sympy>=1.3->qiskit-terra==0.24.1->qiskit) (1.3.0)\n",
            "Requirement already satisfied: cffi>=1.12 in /usr/local/lib/python3.10/dist-packages (from cryptography>=1.3->requests-ntlm<=1.1.0->qiskit-ibmq-provider==0.20.2->qiskit) (1.15.1)\n",
            "Requirement already satisfied: pycparser in /usr/local/lib/python3.10/dist-packages (from cffi>=1.12->cryptography>=1.3->requests-ntlm<=1.1.0->qiskit-ibmq-provider==0.20.2->qiskit) (2.21)\n",
            "Building wheels for collected packages: qiskit\n",
            "  Building wheel for qiskit (pyproject.toml) ... \u001b[?25l\u001b[?25hdone\n",
            "  Created wheel for qiskit: filename=qiskit-0.43.1-py3-none-any.whl size=8029 sha256=9e95e2da0f9e98bf44e8f7111f82408c5b1d02db036bb1eda08e6acc0dda5ed3\n",
            "  Stored in directory: /root/.cache/pip/wheels/f1/f6/ad/0f2527d2cc0028cd682619f1b50a24476fd3592e0c63f87282\n",
            "Successfully built qiskit\n",
            "Installing collected packages: ply, websockets, symengine, rustworkx, pbr, ntlm-auth, dill, stevedore, requests-ntlm, qiskit-terra, qiskit-ibmq-provider, qiskit-aer, qiskit\n",
            "Successfully installed dill-0.3.6 ntlm-auth-1.5.0 pbr-5.11.1 ply-3.11 qiskit-0.43.1 qiskit-aer-0.12.0 qiskit-ibmq-provider-0.20.2 qiskit-terra-0.24.1 requests-ntlm-1.1.0 rustworkx-0.12.1 stevedore-5.1.0 symengine-0.9.2 websockets-11.0.3\n"
          ]
        }
      ]
    },
    {
      "cell_type": "code",
      "source": [
        "# Importing standard Qiskit libraries\n",
        "from qiskit import QuantumCircuit, transpile\n",
        "from qiskit.tools.jupyter import *\n",
        "from qiskit.visualization import *\n",
        "#from ibm_quantum_widgets import *\n",
        "from qiskit_aer import AerSimulator\n",
        "\n",
        "# qiskit-ibmq-provider has been deprecated.\n",
        "# Please see the Migration Guides in https://ibm.biz/provider_migration_guide for more detail.\n",
        "#from qiskit_ibm_runtime import QiskitRuntimeService, Sampler, Estimator, Session, Options\n",
        "\n",
        "# Loading your IBM Quantum account(s)\n",
        "#service = QiskitRuntimeService(channel=\"ibm_quantum\")\n",
        "\n",
        "# Invoke a primitive inside a session. For more details see https://qiskit.org/documentation/partners/qiskit_ibm_runtime/tutorials.html\n",
        "# with Session(backend=service.backend(\"ibmq_qasm_simulator\")):\n",
        "#     result = Sampler().run(circuits).result()"
      ],
      "metadata": {
        "id": "fLvHH5dryg1W",
        "outputId": "7fd91ad3-966e-4a99-d5c2-b1523a82478e",
        "colab": {
          "base_uri": "https://localhost:8080/",
          "height": 246
        }
      },
      "execution_count": null,
      "outputs": [
        {
          "output_type": "error",
          "ename": "NameError",
          "evalue": "ignored",
          "traceback": [
            "\u001b[0;31m---------------------------------------------------------------------------\u001b[0m",
            "\u001b[0;31mNameError\u001b[0m                                 Traceback (most recent call last)",
            "\u001b[0;32m<ipython-input-5-f9bfd2be6500>\u001b[0m in \u001b[0;36m<cell line: 13>\u001b[0;34m()\u001b[0m\n\u001b[1;32m     11\u001b[0m \u001b[0;34m\u001b[0m\u001b[0m\n\u001b[1;32m     12\u001b[0m \u001b[0;31m# Loading your IBM Quantum account(s)\u001b[0m\u001b[0;34m\u001b[0m\u001b[0;34m\u001b[0m\u001b[0m\n\u001b[0;32m---> 13\u001b[0;31m \u001b[0mservice\u001b[0m \u001b[0;34m=\u001b[0m \u001b[0mQiskitRuntimeService\u001b[0m\u001b[0;34m(\u001b[0m\u001b[0mchannel\u001b[0m\u001b[0;34m=\u001b[0m\u001b[0;34m\"ibm_quantum\"\u001b[0m\u001b[0;34m)\u001b[0m\u001b[0;34m\u001b[0m\u001b[0;34m\u001b[0m\u001b[0m\n\u001b[0m\u001b[1;32m     14\u001b[0m \u001b[0;34m\u001b[0m\u001b[0m\n\u001b[1;32m     15\u001b[0m \u001b[0;31m# Invoke a primitive inside a session. For more details see https://qiskit.org/documentation/partners/qiskit_ibm_runtime/tutorials.html\u001b[0m\u001b[0;34m\u001b[0m\u001b[0;34m\u001b[0m\u001b[0m\n",
            "\u001b[0;31mNameError\u001b[0m: name 'QiskitRuntimeService' is not defined"
          ]
        }
      ]
    },
    {
      "cell_type": "code",
      "source": [
        "import matplotlib.pyplot as plt\n",
        "import numpy as np\n",
        "import networkx as nx\n",
        "import random"
      ],
      "metadata": {
        "id": "HA1kYYaxyl0v"
      },
      "execution_count": null,
      "outputs": []
    },
    {
      "cell_type": "code",
      "source": [
        "from qiskit_aer import AerSimulator\n",
        "from qiskit import QuantumRegister, QuantumCircuit,Aer, execute,ClassicalRegister"
      ],
      "metadata": {
        "id": "y-Bvk4iTynP_"
      },
      "execution_count": null,
      "outputs": []
    },
    {
      "cell_type": "code",
      "source": [
        "def generate_hamiltonian_graph(num_nodes):\n",
        "    \"\"\"\n",
        "    Genera un grafo Hamiltoniano no dirigido con un número dado de nodos y aristas adicionales aleatorias.\n",
        "\n",
        "    Un grafo Hamiltoniano es un grafo que tiene un ciclo Hamiltoniano (un ciclo que visita cada nodo una vez).\n",
        "    Esta función primero crea un ciclo que conecta todos los nodos, y luego agrega aristas adicionales de manera aleatoria.\n",
        "\n",
        "    Parámetros\n",
        "    ----------\n",
        "    num_nodes : int\n",
        "        El número de nodos para incluir en el grafo.\n",
        "\n",
        "    Devoluciones\n",
        "    ------------\n",
        "    G : networkx.classes.graph.Graph\n",
        "        Un objeto de grafo no dirigido de NetworkX con 'num_nodes' nodos, un ciclo Hamiltoniano,\n",
        "        y aristas adicionales que se añaden aleatoriamente.\n",
        "\n",
        "    Ejemplo\n",
        "    -------\n",
        "    >>> G = generate_hamiltonian_graph(5)\n",
        "    >>> print(G.edges(data=True))\n",
        "    [(0, 1, {'weight': 1.0}), (0, 4, {'weight': 1.0}), (1, 2, {'weight': 1.0}), \n",
        "    (2, 3, {'weight': 1.0}), (3, 4, {'weight': 1.0})]\n",
        "    \"\"\"\n",
        "    # Crea un nuevo grafo no dirigido\n",
        "    G = nx.Graph()\n",
        "\n",
        "    # Agrega los nodos al grafo\n",
        "    G.add_nodes_from(range(num_nodes))\n",
        "\n",
        "    # Genera un camino Hamiltoniano\n",
        "    for i in range(num_nodes - 1):\n",
        "        G.add_edge(i, i + 1, weight=1.0)\n",
        "    G.add_edge(num_nodes - 1, 0, weight=1.0)  # Cierra el ciclo para hacerlo Hamiltoniano\n",
        "\n",
        "    # Agrega más aristas de manera aleatoria\n",
        "    for i in range(num_nodes):\n",
        "        for j in range(i + 2, num_nodes):\n",
        "            if np.random.random() > 0.5:  # Añade la arista con una probabilidad del 50%\n",
        "                G.add_edge(i, j, weight=1.0)\n",
        "\n",
        "    return G\n"
      ],
      "metadata": {
        "id": "DG8C0q1K_Jcw"
      },
      "execution_count": null,
      "outputs": []
    },
    {
      "cell_type": "code",
      "source": [
        "def compute_cost(n, w, G):\n",
        "    \"\"\"\n",
        "    Calcula el costo de cada posible configuración de un sistema dado representado por un grafo y retorna el costo máximo y su configuración correspondiente.\n",
        "\n",
        "    Parámetros\n",
        "    ----------\n",
        "    n : int\n",
        "        El número de nodos en el grafo.\n",
        "    w : numpy.ndarray\n",
        "        Matriz de pesos de las aristas en el grafo.\n",
        "    G : networkx.classes.graph.Graph\n",
        "        Un objeto de grafo de NetworkX.\n",
        "    pos : dict\n",
        "        Un diccionario que mapea cada nodo a su posición en el grafo.\n",
        "\n",
        "    Devoluciones\n",
        "    -----------\n",
        "    cost_dict : dict\n",
        "        Un diccionario que mapea cada posible configuración del sistema a su costo asociado.\n",
        "    best_cost_brute : int\n",
        "        El costo máximo encontrado entre todas las configuraciones posibles.\n",
        "\n",
        "    Ejemplo\n",
        "    -------\n",
        "    >>> cost_dict, best_cost_brute = compute_cost(n, w, G, pos)\n",
        "    >>> print(best_cost_brute)\n",
        "    15\n",
        "    >>> print(cost_dict)\n",
        "    {(0, 0, 0): 0, (0, 0, 1): 5, ..., (1, 1, 1): 15}\n",
        "    \"\"\"\n",
        "    best_cost_brute = 0\n",
        "    cost_dict = {}  # Diccionario para almacenar los casos y sus costos\n",
        "\n",
        "    for b in range(2**n):\n",
        "        x = [int(t) for t in reversed(list(bin(b)[2:].zfill(n)))]\n",
        "        cost = 0\n",
        "        for i in range(n):\n",
        "            for j in range(n):\n",
        "                cost = cost + w[i, j] * x[i] * (1 - x[j])\n",
        "        if best_cost_brute < cost:\n",
        "            best_cost_brute = cost\n",
        "            xbest_brute = x\n",
        "        \n",
        "        # Almacena el caso y el costo en el diccionario\n",
        "        cost_dict[tuple(x)] = cost\n",
        "\n",
        "    colors = [\"r\" if xbest_brute[i] == 0 else \"c\" for i in range(n)]\n",
        "    #draw_graph(G, colors, pos)\n",
        "\n",
        "    return cost_dict, best_cost_brute\n"
      ],
      "metadata": {
        "id": "WBi2B9vF_tNZ"
      },
      "execution_count": null,
      "outputs": []
    },
    {
      "cell_type": "code",
      "source": [
        "def compute_weight_matrix(G, n):\n",
        "    \"\"\"\n",
        "    Calcula la matriz de pesos a partir de un grafo dado.\n",
        "\n",
        "    Parámetros\n",
        "    ----------\n",
        "    G : networkx.classes.graph.Graph\n",
        "        Un objeto de grafo de NetworkX.\n",
        "    n : int\n",
        "        El número de nodos en el grafo.\n",
        "\n",
        "    Devoluciones\n",
        "    -----------\n",
        "    w : numpy.ndarray\n",
        "        Una matriz de 'n' por 'n' que representa los pesos de las aristas en el grafo. \n",
        "        Cada elemento w[i, j] es el peso de la arista entre los nodos i y j.\n",
        "\n",
        "    Ejemplo\n",
        "    -------\n",
        "    >>> w = compute_weight_matrix(G, 5)\n",
        "    >>> print(w)\n",
        "    [[0. 1. 1. 1. 1.]\n",
        "     [1. 0. 1. 1. 1.]\n",
        "     [1. 1. 0. 1. 1.]\n",
        "     [1. 1. 1. 0. 1.]\n",
        "     [1. 1. 1. 1. 0.]]\n",
        "    \"\"\"\n",
        "    # Calculando la matriz de pesos a partir del grafo aleatorio\n",
        "    w = np.zeros([n, n])\n",
        "    for i in range(n):\n",
        "        for j in range(n):\n",
        "            temp = G.get_edge_data(i, j, default=0)\n",
        "            if temp != 0:\n",
        "                w[i, j] = temp[\"weight\"]\n",
        "    return w\n"
      ],
      "metadata": {
        "id": "ssY3pecA9orJ"
      },
      "execution_count": null,
      "outputs": []
    },
    {
      "cell_type": "code",
      "source": [
        "def draw_graph(G, colors, pos):\n",
        "    \"\"\"\n",
        "    Dibuja un grafo de NetworkX con nodos de colores y etiquetas de aristas.\n",
        "\n",
        "    Parámetros\n",
        "    ----------\n",
        "    G : networkx.classes.graph.Graph\n",
        "        Un objeto de grafo de NetworkX.\n",
        "    colors : list\n",
        "        Una lista de colores para los nodos. Cada nodo se dibuja con el color correspondiente de la lista.\n",
        "    pos : dict\n",
        "        Un diccionario que mapea cada nodo a su posición en el grafo.\n",
        "\n",
        "    Ejemplo\n",
        "    -------\n",
        "    >>> draw_graph(G, ['red', 'red', 'cyan', 'cyan', 'cyan'], pos)\n",
        "    \"\"\"\n",
        "    default_axes = plt.axes(frameon=True)\n",
        "    nx.draw_networkx(G, node_color=colors, node_size=600, alpha=0.8, ax=default_axes, pos=pos)\n",
        "    edge_labels = nx.get_edge_attributes(G, \"peso\")\n",
        "    nx.draw_networkx_edge_labels(G, pos=pos, edge_labels=edge_labels)\n"
      ],
      "metadata": {
        "id": "KaikiiqCJHuU"
      },
      "execution_count": null,
      "outputs": []
    },
    {
      "cell_type": "code",
      "source": [
        "def string_to_tuple(s):\n",
        "    \"\"\"\n",
        "    Convierte una cadena de texto en una tupla, interpretando cada carácter como un número entero.\n",
        "\n",
        "    Parámetros\n",
        "    ----------\n",
        "    s : str\n",
        "        La cadena de texto a convertir. Se espera que cada carácter de la cadena sea un dígito decimal.\n",
        "\n",
        "    Devoluciones\n",
        "    -----------\n",
        "    tuple\n",
        "        Una tupla de enteros correspondiente a los caracteres de la cadena.\n",
        "\n",
        "    Ejemplo\n",
        "    -------\n",
        "    >>> t = string_to_tuple(\"1234\")\n",
        "    >>> print(t)\n",
        "    (1, 2, 3, 4)\n",
        "    \"\"\"\n",
        "    return tuple(int(char) for char in s)\n",
        "\n"
      ],
      "metadata": {
        "id": "xTmGzql2QsRh"
      },
      "execution_count": null,
      "outputs": []
    },
    {
      "cell_type": "markdown",
      "source": [],
      "metadata": {
        "id": "qgu09zhg-kJ8"
      }
    },
    {
      "cell_type": "markdown",
      "source": [
        "Qiskit\n"
      ],
      "metadata": {
        "id": "MMJ7xAsdYOUO"
      }
    },
    {
      "cell_type": "code",
      "source": [
        "def get_random_number(qc, qubit, reg):\n",
        "    \"\"\"\n",
        "    Genera un número aleatorio (0 o 1) utilizando un circuito cuántico.\n",
        "\n",
        "    Parámetros\n",
        "    ----------\n",
        "    qc : qiskit.circuit.quantumcircuit.QuantumCircuit\n",
        "        El circuito cuántico en el que se realizará la operación.\n",
        "    qubit : qiskit.circuit.quantumregister.QuantumRegister\n",
        "        El registro cuántico que contiene los qubits en los que se realizará la operación.\n",
        "    reg : qiskit.circuit.classicalregister.ClassicalRegister\n",
        "        El registro clásico que se utilizará para la medición.\n",
        "\n",
        "    Devoluciones\n",
        "    -----------\n",
        "    first_digit : int\n",
        "        Un número aleatorio (0 o 1) generado a partir de la medida del estado del qubit.\n",
        "\n",
        "    Ejemplo\n",
        "    -------\n",
        "    >>> qc = QuantumCircuit(1, 1)\n",
        "    >>> qubit = QuantumRegister(1)\n",
        "    >>> reg = ClassicalRegister(1)\n",
        "    >>> random_number = get_random_number(qc, qubit, reg)\n",
        "    >>> print(random_number)\n",
        "    0\n",
        "    \"\"\"\n",
        "    qc.h(qubit[0])\n",
        "    qc.measure(qubit[0], reg[0])\n",
        "    \n",
        "    with qc.if_test((reg, 1)):\n",
        "        qc.x(qubit[0])\n",
        "\n",
        "    backend_sim = AerSimulator()\n",
        "    reset_sim_job = backend_sim.run(qc, shots = 1)\n",
        "    reset_sim_result = reset_sim_job.result()\n",
        "    counts = reset_sim_result.get_counts(qc)\n",
        "\n",
        "    key = list(counts.keys())[0]\n",
        "    first_digit = int(key[0])  # Convierte el primer carácter de la clave a un entero\n",
        "    return first_digit\n"
      ],
      "metadata": {
        "id": "7nGxxEUpFc2Z"
      },
      "execution_count": null,
      "outputs": []
    },
    {
      "cell_type": "code",
      "source": [
        "def mutate_bit(qr, qc, bit):\n",
        "    \"\"\"\n",
        "    Aplica una operación NOT (X) a un bit específico de un registro cuántico.\n",
        "    \n",
        "    Parámetros\n",
        "    ----------\n",
        "    qr : QuantumRegister\n",
        "        El registro cuántico en el que se realizará la mutación.\n",
        "    qc : QuantumCircuit\n",
        "        El circuito cuántico que contiene el registro.\n",
        "    bit : int\n",
        "        El índice del bit que se va a mutar.\n",
        "        \n",
        "    Devoluciones\n",
        "    ------------\n",
        "    No devuelve nada; la función modifica el circuito cuántico directamente.\n",
        "    \"\"\"\n",
        "    qc.x(qr[bit])\n",
        "\n",
        "\n",
        "def mutate_multi_bit(qr, qc, probabilidad):\n",
        "    \"\"\"\n",
        "    Aplica una operación NOT (X) a cada bit en un registro cuántico con cierta probabilidad.\n",
        "    \n",
        "    Parámetros\n",
        "    ----------\n",
        "    qr : QuantumRegister\n",
        "        El registro cuántico en el que se realizarán las mutaciones.\n",
        "    qc : QuantumCircuit\n",
        "        El circuito cuántico que contiene el registro.\n",
        "    probabilidad : float\n",
        "        La probabilidad de que cada bit sea mutado.\n",
        "        \n",
        "    Devoluciones\n",
        "    ------------\n",
        "    No devuelve nada; la función modifica el circuito cuántico directamente.\n",
        "    \"\"\"\n",
        "    for i in range(len(qr)):\n",
        "        if np.random.random() > probabilidad:\n",
        "            mutate_bit(qr, qc, i)\n",
        "\n",
        "\n",
        "def mutate_bit_random(qr, qc, probabilidad):#prob >0 and prob <1 a mas grande prob menos oportunidades de mutar\n",
        "    \"\"\"\n",
        "    Aplica una operación NOT (X) a un bit aleatorio en un registro cuántico con cierta probabilidad.\n",
        "    \n",
        "    Parámetros\n",
        "    ----------\n",
        "    qr : QuantumRegister\n",
        "        El registro cuántico en el que se realizará la mutación.\n",
        "    qc : QuantumCircuit\n",
        "        El circuito cuántico que contiene el registro.\n",
        "    probabilidad : float\n",
        "        La probabilidad de que el bit sea mutado.\n",
        "        \n",
        "    Devoluciones\n",
        "    ------------\n",
        "    No devuelve nada; la función modifica el circuito cuántico directamente.\n",
        "    \"\"\"\n",
        "    if np.random.random() > probabilidad:\n",
        "        qc.x(qr[np.random.randint(0, len(qr))])\n",
        "\n",
        "\n",
        "def mutate_exchange(qr, qc, probabilidad):\n",
        "    \"\"\"\n",
        "    Intercambia dos bits aleatorios en un registro cuántico con cierta probabilidad.\n",
        "    \n",
        "    Parámetros\n",
        "    ----------\n",
        "    qr : QuantumRegister\n",
        "        El registro cuántico en el que se realizará el intercambio.\n",
        "    qc : QuantumCircuit\n",
        "        El circuito cuántico que contiene el registro.\n",
        "    probabilidad : float\n",
        "        La probabilidad de que se realice el intercambio.\n",
        "        \n",
        "    Devoluciones\n",
        "    ------------\n",
        "    No devuelve nada; la función modifica el circuito cuántico directamente.\n",
        "    \"\"\"\n",
        "    if np.random.random() > probabilidad:\n",
        "        numero0 = np.random.randint(0, len(qr))\n",
        "        numero1 = np.random.randint(0, len(qr))\n",
        "        if numero0 != numero1:\n",
        "            qc.swap(qr[numero0], qr[numero1])\n",
        "\n",
        "\n",
        "\n",
        "\n"
      ],
      "metadata": {
        "id": "RukxBI28fldk"
      },
      "execution_count": null,
      "outputs": []
    },
    {
      "cell_type": "code",
      "source": [
        "def mutate_exchange(qr,qc,probabilidad):\n",
        "   if np.random.random() > probabilidad:\n",
        "    numero0 = np.random.randint(0,len(qr))\n",
        "    numero1  = np.random.randint(0,len(qr))\n",
        "    if numero0 != numero1:\n",
        "      qc.swap(qr[numero0], qr[numero1])\n",
        "\n",
        "\n"
      ],
      "metadata": {
        "id": "mTq9_YUvuXrn"
      },
      "execution_count": null,
      "outputs": []
    },
    {
      "cell_type": "code",
      "source": [
        "def puntos(qr):\n",
        "    \"\"\"\n",
        "    Genera dos números enteros aleatorios diferentes dentro del rango del tamaño del registro cuántico.\n",
        "\n",
        "    Parámetros\n",
        "    ----------\n",
        "    qr : QuantumRegister\n",
        "        El registro cuántico que se utiliza para determinar el rango de los números generados.\n",
        "\n",
        "    Devoluciones\n",
        "    ------------\n",
        "    tuple\n",
        "        Una tupla de dos enteros. El primer elemento de la tupla es siempre menor que el segundo.\n",
        "\n",
        "    Ejemplo\n",
        "    -------\n",
        "    >>> qr = QuantumRegister(5)\n",
        "    >>> p = puntos(qr)\n",
        "    >>> print(p)\n",
        "    (2, 4)  # Los valores exactos pueden variar debido a la generación aleatoria\n",
        "    \"\"\"\n",
        "    numero = np.random.randint(1, len(qr) - 1) \n",
        "    num = np.random.randint(1, len(qr) - 1)\n",
        "    while numero == num:\n",
        "        num = np.random.randint(1, len(qr) - 1)\n",
        "    if num > numero:\n",
        "        return numero, num\n",
        "    else:\n",
        "        return num, numero\n",
        "\n"
      ],
      "metadata": {
        "id": "kH1oIBuh1xHX"
      },
      "execution_count": null,
      "outputs": []
    },
    {
      "cell_type": "code",
      "source": [
        "def escribir(qc, qreg, bin_string):\n",
        "    \"\"\"\n",
        "    Escribe o 'resetea' un registro cuántico, basándose en una cadena de texto binaria.\n",
        "\n",
        "    Parámetros\n",
        "    ----------\n",
        "    qc : QuantumCircuit\n",
        "        El circuito cuántico que contiene el registro.\n",
        "    qreg : QuantumRegister\n",
        "        El registro cuántico que se va a escribir o resetear.\n",
        "    bin_string : str\n",
        "        La cadena de texto binaria que se utilizará para escribir o resetear el registro. Si se quiere escribir un\n",
        "        número específico, esta cadena debe representar el número en binario. Si se quiere resetear el registro, esta\n",
        "        cadena debe ser la representación binaria actual del estado del registro cuántico.\n",
        "\n",
        "    Devoluciones\n",
        "    ------------\n",
        "    No devuelve nada; la función modifica el circuito cuántico directamente.\n",
        "\n",
        "    Lanza\n",
        "    -----\n",
        "    ValueError\n",
        "        Si el tamaño del QuantumRegister no es suficientemente grande para el string binario.\n",
        "\n",
        "    Ejemplo\n",
        "    -------\n",
        "    >>> qr = QuantumRegister(5)\n",
        "    >>> qc = QuantumCircuit(qr)\n",
        "    >>> escribir(qc, qr, '10101')\n",
        "    \"\"\"\n",
        "    if qreg.size < len(bin_string):\n",
        "        raise ValueError(\"El QuantumRegister no es suficientemente grande para el string binario\")\n",
        "\n",
        "    bin_string = bin_string[::-1]\n",
        "\n",
        "    for i, bit in enumerate(bin_string):\n",
        "        if bit == '1':\n",
        "            qc.x(i)\n"
      ],
      "metadata": {
        "id": "gLsq49AN8ypl"
      },
      "execution_count": null,
      "outputs": []
    },
    {
      "cell_type": "code",
      "source": [
        "def create_qc(number_quantum_reg,qubits,number_classic_reg,bits):\n",
        "  \"\"\"facilita el crear circuitos cuanticos si quieres poner ancillas aconesjo hacerlo manualmente partiendo desde aqui\"\"\"\n",
        "  \n",
        "  # Create quantum registers\n",
        "  qregs = [QuantumRegister(qubits, name=f'q{i}') for i in range(number_quantum_reg)]\n",
        "  ancilla = QuantumRegister(1, name='ancilla')\n",
        "\n",
        "  # Create classical registers\n",
        "  cregs = [ClassicalRegister(bits, name=f'c{i}') for i in range(number_classic_reg)]\n",
        "  cr_ancilla = ClassicalRegister(1, name='cr_ancilla')\n",
        "\n",
        "  # Create a quantum circuit\n",
        "  return QuantumCircuit(*qregs, ancilla, *cregs, cr_ancilla)\n"
      ],
      "metadata": {
        "id": "zR6D5zMvA7-b"
      },
      "execution_count": null,
      "outputs": []
    },
    {
      "cell_type": "code",
      "source": [
        "def lanzar_dinamico(circuito, backend):\n",
        "    \"\"\"\n",
        "    Ejecuta un circuito cuántico en un backend específico y devuelve los conteos de resultados.\n",
        "\n",
        "    Parámetros\n",
        "    ----------\n",
        "    circuito : QuantumCircuit\n",
        "        El circuito cuántico que se va a ejecutar.\n",
        "    backend : Backend\n",
        "        El backend de Qiskit en el que se ejecutará el circuito.\n",
        "\n",
        "    Devoluciones\n",
        "    ------------\n",
        "    dict\n",
        "        Un diccionario que contiene los conteos de resultados de la ejecución del circuito. Las claves son las \n",
        "        cadenas de texto binarias que representan los resultados, y los valores son los números de veces que cada \n",
        "        resultado ocurrió.\n",
        "\n",
        "    Ejemplo\n",
        "    -------\n",
        "    >>> qc = QuantumCircuit(1)\n",
        "    >>> qc.h(0)\n",
        "    >>> backend = Aer.get_backend('qasm_simulator')\n",
        "    >>> counts = lanzar_dinamico(qc, backend)\n",
        "    >>> print(counts)\n",
        "    {'0': 512, '1': 512}\n",
        "    \"\"\"\n",
        "    backend_sim = backend\n",
        "    tp_circuit = transpile(circuito, backend=backend, optimization_level=0)\n",
        "    reset_sim_job = backend_sim.run(tp_circuit, shots=1, dynamic=True)\n",
        "    reset_sim_result = reset_sim_job.result()\n",
        "    return reset_sim_result.get_counts()\n"
      ],
      "metadata": {
        "id": "zCI7FjCeRrcy"
      },
      "execution_count": null,
      "outputs": []
    },
    {
      "cell_type": "code",
      "source": [
        "def valores_hijos(resultados):#se supone que solo tenemos dos creg, es decir dos hijos\n",
        "    \"\"\"\n",
        "    Extrae dos cadenas de texto binarias de los resultados de una ejecución de un circuito cuántico.\n",
        "\n",
        "    Parámetros\n",
        "    ----------\n",
        "    resultados : dict\n",
        "        El diccionario que contiene los conteos de resultados de la ejecución del circuito. Se espera que las claves\n",
        "        sean cadenas de texto binarias separadas por espacios.\n",
        "\n",
        "    Devoluciones\n",
        "    ------------\n",
        "    tuple\n",
        "        Una tupla de dos tuplas de enteros. Cada tupla de enteros corresponde a los dígitos de una de las cadenas de \n",
        "        texto binarias.\n",
        "\n",
        "    Ejemplo\n",
        "    -------\n",
        "    >>> resultados = {'1 101 011': 1}\n",
        "    >>> valores = valores_hijos(resultados)\n",
        "    >>> print(valores)\n",
        "    ((0, 1, 1), (1, 0, 1))\n",
        "    \"\"\"\n",
        "    for key in resultados.keys():\n",
        "        return string_to_tuple(key.split(' ')[2]), string_to_tuple(key.split(' ')[1])"
      ],
      "metadata": {
        "id": "2lq-5XXxRL4Z"
      },
      "execution_count": null,
      "outputs": []
    },
    {
      "cell_type": "code",
      "source": [
        "def tuple_to_string(t):\n",
        "    \"\"\"\n",
        "    Convierte una tupla de enteros en una cadena de texto, interpretando cada número entero como un carácter.\n",
        "\n",
        "    Parámetros\n",
        "    ----------\n",
        "    t : tuple\n",
        "        La tupla de enteros a convertir. Se espera que cada elemento de la tupla sea un número entero.\n",
        "\n",
        "    Devoluciones\n",
        "    ------------\n",
        "    str\n",
        "        Una cadena de texto correspondiente a los números de la tupla.\n",
        "\n",
        "    Ejemplo\n",
        "    -------\n",
        "    >>> s = tuple_to_string((1, 2, 3, 4))\n",
        "    >>> print(s)\n",
        "    '1234'\n",
        "    \"\"\"\n",
        "    return ''.join(str(num) for num in t)\n"
      ],
      "metadata": {
        "id": "i0dQo7kCTN89"
      },
      "execution_count": null,
      "outputs": []
    },
    {
      "cell_type": "code",
      "source": [
        "def crear_hijo(base, hasta, maximo, qreg_padre, qreg_madre, qreg_hijo, qc, qreg_ancilla, cr_ancilla):\n",
        "    \"\"\"\n",
        "    Crea un nuevo registro cuántico hijo a partir de dos registros cuánticos padres utilizando el algoritmo genético.\n",
        "\n",
        "    Parámetros\n",
        "    ----------\n",
        "    base : int\n",
        "        El índice en el que comienza la sección intermedia del hijo.\n",
        "    hasta : int\n",
        "        El índice en el que termina la sección intermedia del hijo.\n",
        "    maximo : int\n",
        "        El tamaño total del registro cuántico.\n",
        "    qreg_padre : QuantumRegister\n",
        "        El registro cuántico del primer progenitor.\n",
        "    qreg_madre : QuantumRegister\n",
        "        El registro cuántico del segundo progenitor.\n",
        "    qreg_hijo : QuantumRegister\n",
        "        El registro cuántico del hijo que se va a crear.\n",
        "    qc : QuantumCircuit\n",
        "        El circuito cuántico en el que se realizarán las operaciones.\n",
        "    qreg_ancilla : QuantumRegister\n",
        "        El registro cuántico de ancilla utilizado para las operaciones.\n",
        "    cr_ancilla : ClassicalRegister\n",
        "        El registro clásico de ancilla utilizado para las operaciones.\n",
        "\n",
        "    Devoluciones\n",
        "    ------------\n",
        "    No devuelve nada; la función modifica el QuantumCircuit directamente.\n",
        "\n",
        "    Ejemplo\n",
        "    -------\n",
        "    >>> qr_padre = QuantumRegister(5, 'padre')\n",
        "    >>> qr_madre = QuantumRegister(5, 'madre')\n",
        "    >>> qr_hijo = QuantumRegister(5, 'hijo')\n",
        "    >>> qc = QuantumCircuit(qr_padre, qr_madre, qr_hijo)\n",
        "    >>> qr_ancilla = QuantumRegister(1, 'ancilla')\n",
        "    >>> cr_ancilla = ClassicalRegister(1, 'cr_ancilla')\n",
        "    >>> qc.add_register(qr_ancilla, cr_ancilla)\n",
        "    >>> base = 1\n",
        "    >>> hasta = 3\n",
        "    >>> maximo = 5\n",
        "    >>> crear_hijo(base, hasta, maximo, qr_padre, qr_madre, qr_hijo, qc, qr_ancilla, cr_ancilla)\n",
        "    \"\"\"\n",
        "    if get_random_number(qc, qreg_ancilla, cr_ancilla) == 0:#se genera un numero aleatorio que indicara si se usa al padre o a la madre\n",
        "        padre_hijo(qc, qreg_padre, qreg_hijo, qreg_ancilla, cr_ancilla, 0, base)\n",
        "    else:\n",
        "        padre_hijo(qc, qreg_madre, qreg_hijo, qreg_ancilla, cr_ancilla, 0, base)\n",
        "\n",
        "    padre_hijo(qc, qreg_padre, qreg_hijo, qreg_ancilla, cr_ancilla, base, hasta)#medio\n",
        "    padre_hijo(qc, qreg_madre, qreg_hijo, qreg_ancilla, cr_ancilla, hasta, maximo)#fin\n"
      ],
      "metadata": {
        "id": "OHNXWNaWkp2C"
      },
      "execution_count": null,
      "outputs": []
    },
    {
      "cell_type": "code",
      "source": [
        "def padre_hijo(circuit, qreg_padre, qreg_hijo, qreg_ancilla, cr_ancilla, base, hasta):\n",
        "    \"\"\"\n",
        "    Realiza el cruce entre el registro cuántico de un progenitor y el registro cuántico de un hijo.\n",
        "\n",
        "    Parámetros\n",
        "    ----------\n",
        "    circuit : QuantumCircuit\n",
        "        El circuito cuántico en el que se realizarán las operaciones.\n",
        "    qreg_padre : QuantumRegister\n",
        "        El registro cuántico del progenitor.\n",
        "    qreg_hijo : QuantumRegister\n",
        "        El registro cuántico del hijo.\n",
        "    qreg_ancilla : QuantumRegister\n",
        "        El registro cuántico de ancilla utilizado para las operaciones.\n",
        "    cr_ancilla : ClassicalRegister\n",
        "        El registro clásico de ancilla utilizado para las operaciones.\n",
        "    base : int\n",
        "        El índice en el que comienza la sección a cruzar.\n",
        "    hasta : int\n",
        "        El índice en el que termina la sección a cruzar.\n",
        "\n",
        "    Devoluciones\n",
        "    ------------\n",
        "    No devuelve nada; la función modifica el QuantumCircuit directamente.\n",
        "\n",
        "    Ejemplo\n",
        "    -------\n",
        "    >>> qr_padre = QuantumRegister(5, 'padre')\n",
        "    >>> qr_hijo = QuantumRegister(5, 'hijo')\n",
        "    >>> qc = QuantumCircuit(qr_padre, qr_hijo)\n",
        "    >>> qr_ancilla = QuantumRegister(1, 'ancilla')\n",
        "    >>> cr_ancilla = ClassicalRegister(1, 'cr_ancilla')\n",
        "    >>> qc.add_register(qr_ancilla, cr_ancilla)\n",
        "    >>> base = 1\n",
        "    >>> hasta = 3\n",
        "    >>> padre_hijo(qc, qr_padre, qr_hijo, qr_ancilla, cr_ancilla, base, hasta)\n",
        "    \"\"\"\n",
        "    for i in range(base, hasta):\n",
        "        circuit.cx(qreg_padre[i], qreg_hijo[i])\n",
        "        circuit.x(qreg_padre[i])\n",
        "        circuit.x(qreg_hijo[i])\n",
        "        circuit.ccx(qreg_padre[i], qreg_hijo[i], qreg_ancilla[0])\n",
        "        circuit.x(qreg_padre[i])\n",
        "        circuit.x(qreg_hijo[i])\n",
        "        circuit.cx(qreg_ancilla[0], qreg_hijo[i])\n",
        "        circuit.x(qreg_hijo[i])\n",
        "        circuit.x(qreg_ancilla[0])\n",
        "        circuit.ccx(qreg_padre[i], qreg_ancilla[0], qreg_hijo[i])\n",
        "        circuit.ccx(qreg_padre[i], qreg_hijo[i], qreg_ancilla[0])\n",
        "        circuit.ccx(qreg_padre[i], qreg_ancilla[0], qreg_hijo[i])\n",
        "        circuit.measure(qreg_ancilla[0], cr_ancilla[0])\n",
        "        with circuit.if_test((cr_ancilla[0], 1)):\n",
        "            circuit.x(qreg_ancilla[0])\n"
      ],
      "metadata": {
        "id": "EyzTcEpvcIw7"
      },
      "execution_count": null,
      "outputs": []
    },
    {
      "cell_type": "code",
      "source": [
        "def qga(number_quantum_reg,qubits,number_classic_reg,bits,cost_dict,probabilidad,mejor,backend,inicial):\n",
        "\n",
        "    \"\"\"\n",
        "    qga(number_quantum_reg, qubits, number_classic_reg, bits, cost_dict, probabilidad, mejor, backend)\n",
        "\n",
        "    Algoritmo genético cuántico que realiza una búsqueda de soluciones en un espacio cuántico.\n",
        "\n",
        "    Parámetros:\n",
        "    ------------\n",
        "    number_quantum_reg: int\n",
        "        Número de registros cuánticos a utilizar en el circuito.\n",
        "\n",
        "    qubits: int\n",
        "        Número de qubits en cada registro cuántico.\n",
        "\n",
        "    number_classic_reg: int\n",
        "        Número de registros clásicos a utilizar en el circuito.\n",
        "\n",
        "    bits: int\n",
        "        Número de bits en cada registro clásico.\n",
        "\n",
        "    cost_dict: dict\n",
        "        Un diccionario con los costos asociados a cada posible solución.\n",
        "\n",
        "    probabilidad: float\n",
        "        Probabilidad utilizada para las operaciones de mutación.\n",
        "\n",
        "    mejor: tuple\n",
        "        La mejor solución conocida hasta el momento.\n",
        "\n",
        "    backend: Provider\n",
        "        El backend en el que se ejecutará el circuito.\n",
        "    \n",
        "    inicial: tuple\n",
        "        La solución inicial desde donde el algoritmo comenzará la búsqueda.\n",
        "\n",
        "    Devuelve:\n",
        "    ----------\n",
        "    result: tuple\n",
        "        La mejor solución encontrada por el algoritmo.\n",
        "\n",
        "    Ejemplo:\n",
        "    ---------\n",
        "    >>> number_quantum_reg = 4\n",
        "    >>> qubits = 6\n",
        "    >>> number_classic_reg = 2\n",
        "    >>> bits = 6\n",
        "    >>> cost_dict = {(0, 1, 0, 0, 0, 1): 5.0, ...}\n",
        "    >>> probabilidad = 0.1\n",
        "    >>> mejor = (1, 0, 1, 1, 0, 0)\n",
        "    >>> backend = Aer.get_backend('qasm_simulator')\n",
        "    >>> qga(number_quantum_reg, qubits, number_classic_reg, bits, cost_dict, probabilidad, mejor, backend)\n",
        "    (1, 0, 1, 1, 0, 0)\n",
        "    \"\"\"\n",
        "\n",
        "\n",
        "    #qc = create_qc(number_quantum_reg,qubits,number_classic_reg,bits)\n",
        "    # Create quantum registers\n",
        "    qregs = [QuantumRegister(qubits, name=f'q{i}') for i in range(number_quantum_reg)]\n",
        "    ancilla = QuantumRegister(1, name='ancilla')\n",
        "\n",
        "    # Create classical registers\n",
        "    cregs = [ClassicalRegister(bits, name=f'c{i}') for i in range(number_classic_reg)]\n",
        "    cr_ancilla = ClassicalRegister(1, name='cr_ancilla')\n",
        "    qc = QuantumCircuit(*qregs, ancilla, *cregs, cr_ancilla)\n",
        "    generation = 0 \n",
        "    best = False\n",
        "    #result = ''\n",
        "    #case = (0, 1, 0, 0, 0, 1) cost = 5.0 emepzaremos con este reg como padre y el segundo reg en superposicion\n",
        "    #inicial = (0, 1, 0, 0, 0, 1)\n",
        "    result=inicial\n",
        "    escribir(qc,qc.qregs[0],tuple_to_string(inicial))\n",
        "    for i in range(qc.qregs[1].size):\n",
        "        qc.h(qc.qregs[1][i])\n",
        "    #crear_hijo(base,hasta,qubits,qc.qregs[0],qc.qregs[1],qc.qregs[2],qc,qc.ancilla,qc.cr_ancilla)#usando al padre\n",
        "    #crear_hijo(base,hasta,qubits,qc.qregs[1],qc.qregs[0],qc.qregs[3],qc,qc.ancilla,qc.cr_ancilla)#usando a la madre\n",
        "    while generation <10:\n",
        "        print(\"Generation: \",generation)\n",
        "        crear_hijo(*puntos(qc.qregs[0]),qubits,qc.qregs[0],qc.qregs[1],qc.qregs[2],qc,ancilla,cr_ancilla)#usando al padre qc.qregs[-2]  # -2 since ancilla is the second last element added to qregs\n",
        "        crear_hijo(*puntos(qc.qregs[0]),qubits,qc.qregs[1],qc.qregs[0],qc.qregs[3],qc,ancilla,cr_ancilla)#usando a la madre\n",
        "        for i in range(qubits):\n",
        "            qc.measure(qc.qregs[2][i],qc.cregs[0][i])\n",
        "            qc.measure(qc.qregs[3][i],qc.cregs[1][i])\n",
        "        hijo0,hijo1 = valores_hijos(lanzar_dinamico(qc,backend))\n",
        "        print(\"recien_crea2 hijo0: \",hijo0,\"costo: \",cost_dict[hijo0])\n",
        "        print(\"recien_crea2 hijo1: \",hijo1,\"costo: \",cost_dict[hijo1])\n",
        "        if cost_dict[hijo0] < cost_dict[hijo1] and cost_dict[inicial] < cost_dict[hijo1]:\n",
        "            escribir(qc,qc.qregs[0],tuple_to_string(hijo1))#borramos la info del padre\n",
        "            inicial = hijo1\n",
        "            result = hijo1\n",
        "            \n",
        "        if cost_dict[hijo0] > cost_dict[hijo1] and cost_dict[inicial] < cost_dict[hijo0]:\n",
        "            escribir(qc,qc.qregs[0],tuple_to_string(hijo0))#borramos la info del padre\n",
        "            inicial = hijo0\n",
        "            result = hijo0\n",
        "            \n",
        "        if  cost_dict[hijo0] == mejor:\n",
        "            result = hijo0\n",
        "            print(\"fin!!\")\n",
        "            best = True\n",
        "            break\n",
        "            \n",
        "            #best = True\n",
        "            \n",
        "        if  cost_dict[hijo1] == mejor:\n",
        "            result = hijo1\n",
        "            print(\"fin!!\")\n",
        "            best = True\n",
        "            break\n",
        "\n",
        "\n",
        "        \n",
        "        cual = np.random.randint(0, 4)#aleatorio cual de las 4 mutaciones\n",
        "        functions = {\n",
        "            0: lambda: mutate_bit(qc.qregs[0], qc, np.random.randint(0, len(qc.qregs[0]))),\n",
        "            1: lambda: mutate_multi_bit(qc.qregs[0], qc, probabilidad),\n",
        "            2: lambda: mutate_bit_random(qc.qregs[0], qc, probabilidad),\n",
        "            3: lambda: mutate_exchange(qc.qregs[0], qc, probabilidad)\n",
        "        }\n",
        "        functions[cual]()\n",
        "        if cost_dict[hijo0]>cost_dict[hijo1] and cost_dict[hijo0]> cost_dict[inicial]:\n",
        "            if cost_dict[hijo0] == mejor:\n",
        "                best = True\n",
        "                break\n",
        "            escribir(qc,qc.qregs[0],tuple_to_string(hijo0))#borramos la info del padre\n",
        "            inicial = hijo0\n",
        "            result = hijo0\n",
        "        \n",
        "        if cost_dict[hijo0]<cost_dict[hijo1] and cost_dict[hijo1]> cost_dict[inicial]:\n",
        "            if cost_dict[hijo1] == mejor:\n",
        "                best = True\n",
        "                break\n",
        "            \n",
        "            escribir(qc,qc.qregs[0],tuple_to_string(hijo1))#borramos la info del padre\n",
        "            inicial = hijo1\n",
        "            result = hijo1\n",
        "        print(\"mutaciones_hijo0: \",hijo0,\"costo: \",cost_dict[hijo0])\n",
        "        print(\"mutaciones_hijo1: \",hijo1,\"costo: \",cost_dict[hijo1])\n",
        "\n",
        "        print(\"padre: \",inicial)\n",
        "        print(\"hijo0: \",hijo0)\n",
        "        print(\"hijo1: \",hijo1)\n",
        "        generation+=1\n",
        "        print(generation)\n",
        "    return result,best"
      ],
      "metadata": {
        "id": "93r9-xKzBk9T"
      },
      "execution_count": 1,
      "outputs": []
    },
    {
      "cell_type": "markdown",
      "source": [
        "EJECUTAR AQUI PARA LANZAR EL QGA SOLO HA SIDO PROBADO PARA 6 NODOS POR GRAFO"
      ],
      "metadata": {
        "id": "7QHQLX-XTIwK"
      }
    },
    {
      "cell_type": "code",
      "source": [
        "n = 6 #numero de nodos\n",
        "grafo = generate_hamiltonian_graph(n)"
      ],
      "metadata": {
        "id": "KbulsGV7yRuO"
      },
      "execution_count": null,
      "outputs": []
    },
    {
      "cell_type": "code",
      "source": [
        "w = compute_weight_matrix(grafo,n)"
      ],
      "metadata": {
        "id": "YC5HpbqwyRnl"
      },
      "execution_count": null,
      "outputs": []
    },
    {
      "cell_type": "code",
      "source": [
        "cost_dict, best_cost_brute = compute_cost(n, w, grafo )"
      ],
      "metadata": {
        "id": "3bFtMq7LyRgu"
      },
      "execution_count": null,
      "outputs": []
    },
    {
      "cell_type": "code",
      "source": [
        "\n",
        "for clave, valor in cost_dict.items():\n",
        "    print(clave, valor)\n"
      ],
      "metadata": {
        "id": "vC8-KQP0yRaU",
        "outputId": "23c2178d-1df9-4a91-d76e-cac2c9b7a396",
        "colab": {
          "base_uri": "https://localhost:8080/"
        }
      },
      "execution_count": null,
      "outputs": [
        {
          "output_type": "stream",
          "name": "stdout",
          "text": [
            "(0, 0, 0, 0, 0, 0) 0.0\n",
            "(1, 0, 0, 0, 0, 0) 4.0\n",
            "(0, 1, 0, 0, 0, 0) 2.0\n",
            "(1, 1, 0, 0, 0, 0) 4.0\n",
            "(0, 0, 1, 0, 0, 0) 4.0\n",
            "(1, 0, 1, 0, 0, 0) 6.0\n",
            "(0, 1, 1, 0, 0, 0) 4.0\n",
            "(1, 1, 1, 0, 0, 0) 4.0\n",
            "(0, 0, 0, 1, 0, 0) 4.0\n",
            "(1, 0, 0, 1, 0, 0) 6.0\n",
            "(0, 1, 0, 1, 0, 0) 6.0\n",
            "(1, 1, 0, 1, 0, 0) 6.0\n",
            "(0, 0, 1, 1, 0, 0) 6.0\n",
            "(1, 0, 1, 1, 0, 0) 6.0\n",
            "(0, 1, 1, 1, 0, 0) 6.0\n",
            "(1, 1, 1, 1, 0, 0) 4.0\n",
            "(0, 0, 0, 0, 1, 0) 3.0\n",
            "(1, 0, 0, 0, 1, 0) 7.0\n",
            "(0, 1, 0, 0, 1, 0) 5.0\n",
            "(1, 1, 0, 0, 1, 0) 7.0\n",
            "(0, 0, 1, 0, 1, 0) 5.0\n",
            "(1, 0, 1, 0, 1, 0) 7.0\n",
            "(0, 1, 1, 0, 1, 0) 5.0\n",
            "(1, 1, 1, 0, 1, 0) 5.0\n",
            "(0, 0, 0, 1, 1, 0) 5.0\n",
            "(1, 0, 0, 1, 1, 0) 7.0\n",
            "(0, 1, 0, 1, 1, 0) 7.0\n",
            "(1, 1, 0, 1, 1, 0) 7.0\n",
            "(0, 0, 1, 1, 1, 0) 5.0\n",
            "(1, 0, 1, 1, 1, 0) 5.0\n",
            "(0, 1, 1, 1, 1, 0) 5.0\n",
            "(1, 1, 1, 1, 1, 0) 3.0\n",
            "(0, 0, 0, 0, 0, 1) 3.0\n",
            "(1, 0, 0, 0, 0, 1) 5.0\n",
            "(0, 1, 0, 0, 0, 1) 5.0\n",
            "(1, 1, 0, 0, 0, 1) 5.0\n",
            "(0, 0, 1, 0, 0, 1) 7.0\n",
            "(1, 0, 1, 0, 0, 1) 7.0\n",
            "(0, 1, 1, 0, 0, 1) 7.0\n",
            "(1, 1, 1, 0, 0, 1) 5.0\n",
            "(0, 0, 0, 1, 0, 1) 5.0\n",
            "(1, 0, 0, 1, 0, 1) 5.0\n",
            "(0, 1, 0, 1, 0, 1) 7.0\n",
            "(1, 1, 0, 1, 0, 1) 5.0\n",
            "(0, 0, 1, 1, 0, 1) 7.0\n",
            "(1, 0, 1, 1, 0, 1) 5.0\n",
            "(0, 1, 1, 1, 0, 1) 7.0\n",
            "(1, 1, 1, 1, 0, 1) 3.0\n",
            "(0, 0, 0, 0, 1, 1) 4.0\n",
            "(1, 0, 0, 0, 1, 1) 6.0\n",
            "(0, 1, 0, 0, 1, 1) 6.0\n",
            "(1, 1, 0, 0, 1, 1) 6.0\n",
            "(0, 0, 1, 0, 1, 1) 6.0\n",
            "(1, 0, 1, 0, 1, 1) 6.0\n",
            "(0, 1, 1, 0, 1, 1) 6.0\n",
            "(1, 1, 1, 0, 1, 1) 4.0\n",
            "(0, 0, 0, 1, 1, 1) 4.0\n",
            "(1, 0, 0, 1, 1, 1) 4.0\n",
            "(0, 1, 0, 1, 1, 1) 6.0\n",
            "(1, 1, 0, 1, 1, 1) 4.0\n",
            "(0, 0, 1, 1, 1, 1) 4.0\n",
            "(1, 0, 1, 1, 1, 1) 2.0\n",
            "(0, 1, 1, 1, 1, 1) 4.0\n",
            "(1, 1, 1, 1, 1, 1) 0.0\n"
          ]
        }
      ]
    },
    {
      "cell_type": "code",
      "source": [
        "suma = 0\n",
        "for valor in cost_dict.values():\n",
        "    suma = suma+valor\n",
        "print(np.ceil(suma/len(cost_dict)))"
      ],
      "metadata": {
        "id": "SInGtFki7OWx"
      },
      "execution_count": null,
      "outputs": []
    },
    {
      "cell_type": "code",
      "source": [
        "best_cost_brute"
      ],
      "metadata": {
        "id": "eJ_aVoXa7QC7"
      },
      "execution_count": null,
      "outputs": []
    },
    {
      "cell_type": "code",
      "source": [
        "cost_dict[(1, 0, 1, 1, 0, 1)]"
      ],
      "metadata": {
        "id": "mq9JVX8B7Rq6"
      },
      "execution_count": null,
      "outputs": []
    },
    {
      "cell_type": "code",
      "source": [
        "from qiskit import IBMQ"
      ],
      "metadata": {
        "id": "hZZ2Bk217TKT"
      },
      "execution_count": null,
      "outputs": []
    },
    {
      "cell_type": "code",
      "source": [
        "#provider = IBMQ.get_provider(hub='ibm-q', group='open', project='main')\n",
        "#backend = provider.get_backend('ibm_sherbrooke')\n",
        "backend = AerSimulator()"
      ],
      "metadata": {
        "id": "kSI64Rrq7UoT"
      },
      "execution_count": null,
      "outputs": []
    },
    {
      "cell_type": "code",
      "source": [
        "result = qga(4,6,2,6,cost_dict,0.6,best_cost_brute,backend,(0, 0, 0, 1, 1, 1))"
      ],
      "metadata": {
        "id": "DsKJ69IO7Wkp"
      },
      "execution_count": null,
      "outputs": []
    },
    {
      "cell_type": "markdown",
      "source": [
        "acabo de añadir el parametro inicial para que sea mas facil de usar"
      ],
      "metadata": {
        "id": "l8YCEkwyz4Lb"
      }
    },
    {
      "cell_type": "code",
      "source": [
        "result = qga(4,6,2,6,cost_dict,0.6,9,(1, 1, 0, 0, 0, 1))"
      ],
      "metadata": {
        "id": "8U-UQT6HyXu0"
      },
      "execution_count": null,
      "outputs": []
    },
    {
      "cell_type": "markdown",
      "source": [
        "AQUI BORRAR ABAJO\n"
      ],
      "metadata": {
        "id": "etlar4voyPx8"
      }
    },
    {
      "cell_type": "code",
      "source": [
        "def int_bit(numero, longitud):\n",
        "    # Comprobamos si el número es demasiado grande para la cantidad de bits especificada.\n",
        "    if numero > 2 ** longitud:\n",
        "        raise ValueError(f\"El número {numero} es demasiado grande para representarse con {longitud} bits\")\n",
        "\n",
        "    # Convertimos el número a binario con 'bin()', y lo convertimos a string con 'str()'.\n",
        "    # La función 'bin()' retorna un string que comienza con '0b' para indicar que es un número binario,\n",
        "    # así que utilizamos el slicing '[2:]' para eliminar estos caracteres.\n",
        "    binary_str = str(bin(numero))[2:]\n",
        "\n",
        "    # Ahora rellenamos con ceros a la izquierda hasta tener la longitud deseada usando 'zfill()'.\n",
        "    return binary_str.zfill(longitud)\n",
        "\n",
        "\n"
      ],
      "metadata": {
        "id": "erPfqogG58q1"
      },
      "execution_count": null,
      "outputs": []
    },
    {
      "cell_type": "code",
      "source": [
        "def evaluar_resultados(qc,hijo1,hijo2,cr_hijo1,cr_hijo2,i,dic_qga,padre,madre,dic_mirar):\n",
        "  \"\"\"funcion que se encarga de 'obtener' los resultados\"\"\"\n",
        "  binario = format(i,'06b')\n",
        "  \n",
        "  if dic_qga[binario]>dic_qga[padre]or dic_qga[binario]>dic_qga[madre]:\n",
        "    if dic_qga[binario]>dic_qga[padre]:\n",
        "      \n",
        "      for qubit in padre:\n",
        "        qc.reset(qubit)\n",
        "\n",
        "      del dic_qga[padre]\n",
        "      dic_qga[binario] = dic_mirar[binario]#funcio por implementar que buscara el valor en la lista\n",
        "    if dic_qga[binario]>dic_qga[madre]:#faltaria asegurarse de no duplicar el padre y madre\n",
        "      dic_qga[binario] = dic_mirar[binario]\n",
        "      del dic_qga[madre]\n",
        "\n",
        "\n",
        "\n"
      ],
      "metadata": {
        "id": "xPVP8cdUzheG"
      },
      "execution_count": null,
      "outputs": []
    },
    {
      "cell_type": "code",
      "source": [
        "def get_keys_with_highest_values(d, n):\n",
        "    sorted_items = sorted(d.items(), key=lambda item: item[1], reverse=True)\n",
        "    top_n_items = sorted_items[:n]\n",
        "    top_n_keys = [item[0] for item in top_n_items]\n",
        "    return top_n_keys\n"
      ],
      "metadata": {
        "id": "iMrUhIdQ2SqW"
      },
      "execution_count": null,
      "outputs": []
    },
    {
      "cell_type": "markdown",
      "source": [
        "ANCILLAS\n",
        "\n",
        "OPENQASM 2.0;\n",
        "include \"qelib1.inc\";\n",
        "qreg q[4];\n",
        "//x q[0];\n",
        "//x q[1];\n",
        "cx q[0], q[1];\n",
        "ccx q[0], q[1], q[3];\n",
        "ccx q[3], q[2], q[1];\n",
        "ccx q[1], q[3], q[0];\n",
        "ccx q[1], q[2], q[3];\n",
        "cx q[1], q[2];\n",
        "cx q[0], q[1];\n",
        "cx q[1], q[2];\n",
        "cx q[1], q[3];\n",
        "ccx q[3], q[2], q[0];\n",
        "cx q[1], q[2];\n",
        "cx q[1], q[3];"
      ],
      "metadata": {
        "id": "cSnfCpHLb8KV"
      }
    },
    {
      "cell_type": "code",
      "source": [
        "from qiskit import QuantumRegister, QuantumCircuit, Aer, execute, ClassicalRegister"
      ],
      "metadata": {
        "id": "Rb70g4Kponja"
      },
      "execution_count": null,
      "outputs": []
    },
    {
      "cell_type": "code",
      "source": [
        "crear_hijo(base,hasta,len(qc),qr1,qr2,qr3,qc,ancilla,cr)"
      ],
      "metadata": {
        "id": "1hKWGvBcEVkL"
      },
      "execution_count": null,
      "outputs": []
    },
    {
      "cell_type": "code",
      "source": [
        "for i in range(len(qr3)):\n",
        "  qc.measure(qr3[i],cr_hijo[i])"
      ],
      "metadata": {
        "id": "CbhdfzzIF1Ax"
      },
      "execution_count": null,
      "outputs": []
    }
  ]
}
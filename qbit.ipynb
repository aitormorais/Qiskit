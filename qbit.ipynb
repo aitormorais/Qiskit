{
  "nbformat": 4,
  "nbformat_minor": 0,
  "metadata": {
    "colab": {
      "provenance": [],
      "gpuType": "T4",
      "include_colab_link": true
    },
    "kernelspec": {
      "name": "python3",
      "display_name": "Python 3"
    },
    "language_info": {
      "name": "python"
    },
    "accelerator": "GPU",
    "gpuClass": "standard"
  },
  "cells": [
    {
      "cell_type": "markdown",
      "metadata": {
        "id": "view-in-github",
        "colab_type": "text"
      },
      "source": [
        "<a href=\"https://colab.research.google.com/github/aitormorais/Qiskit/blob/main/qbit.ipynb\" target=\"_parent\"><img src=\"https://colab.research.google.com/assets/colab-badge.svg\" alt=\"Open In Colab\"/></a>"
      ]
    },
    {
      "cell_type": "code",
      "execution_count": 1,
      "metadata": {
        "id": "s_WEXJn4Ikkn"
      },
      "outputs": [],
      "source": [
        "import matplotlib.pyplot as plt\n",
        "import numpy as np\n",
        "import networkx as nx\n",
        "import random"
      ]
    },
    {
      "cell_type": "code",
      "source": [
        "def generar_grafo(numero_ciudades):\n",
        "    \"\"\"\n",
        "    Genera un grafo completo con un número dado de ciudades como nodos y asigna distancias aleatorias a cada par de nodos comprendidas entre el 1 y el 10.\n",
        "    \n",
        "    Parámetros\n",
        "    ----------\n",
        "    numero_ciudades : int\n",
        "        El número de ciudades (nodos) para incluir en el grafo.\n",
        "        \n",
        "    Devoluciones\n",
        "    ------------\n",
        "    G : networkx.classes.graph.Graph\n",
        "        Un objeto de grafo completo de NetworkX con 'numero_ciudades' nodos y distancias aleatorias asignadas a cada par de nodos.\n",
        "        \n",
        "    distancias : dict\n",
        "        Un diccionario de NetworkX que mapea cada par de nodos a la 'distancia' entre ellos. Las claves del diccionario son tuplas de dos elementos que representan los pares de nodos, y los valores son las distancias aleatorias asignadas.\n",
        "        \n",
        "    Ejemplo\n",
        "    -------\n",
        "    >>> G, distancias = generar_grafo(5)\n",
        "    >>> print(G.edges(data=True))\n",
        "    [(0, 1, {'distancia': 3}), (0, 2, {'distancia': 7}), (0, 3, {'distancia': 2}), (0, 4, {'distancia': 6}), \n",
        "    (1, 2, {'distancia': 10}), (1, 3, {'distancia': 1}), (1, 4, {'distancia': 8}), (2, 3, {'distancia': 4}), \n",
        "    (2, 4, {'distancia': 5}), (3, 4, {'distancia': 9})]\n",
        "    >>> print(distancias)\n",
        "    {(0, 1): 3, (0, 2): 7, (0, 3): 2, (0, 4): 6, (1, 2): 10, (1, 3): 1, (1, 4): 8, (2, 3): 4, (2, 4): 5, (3, 4): 9}\n",
        "    \"\"\"\n",
        "    # Crear un grafo completo con 'numero_ciudades' nodos\n",
        "    G = nx.complete_graph(numero_ciudades)\n",
        "    # Asignar una distancia aleatoria (entre 1 y 10) a cada par de nodos\n",
        "    for (u, v) in G.edges():\n",
        "        G.edges[u, v]['distancia'] = 1\n",
        "    # Obtener un diccionario de las distancias entre cada par de nodos\n",
        "    distancias = nx.get_edge_attributes(G, 'peso')\n",
        "    return G, distancias\n"
      ],
      "metadata": {
        "id": "SD6ZfmTMI2Xp"
      },
      "execution_count": null,
      "outputs": []
    },
    {
      "cell_type": "code",
      "source": [
        "import networkx as nx\n",
        "import numpy as np\n",
        "\n",
        "def generate_hamiltonian_graph(num_nodes):\n",
        "    # Crea un nuevo grafo no dirigido\n",
        "    G = nx.Graph()\n",
        "\n",
        "    # Agrega los nodos al grafo\n",
        "    G.add_nodes_from(range(num_nodes))\n",
        "\n",
        "    # Genera un camino Hamiltoniano\n",
        "    for i in range(num_nodes - 1):\n",
        "        G.add_edge(i, i + 1, weight=1.0)\n",
        "    G.add_edge(num_nodes - 1, 0, weight=1.0)  # Cierra el ciclo para hacerlo Hamiltoniano\n",
        "\n",
        "    # Agrega más aristas de manera aleatoria\n",
        "    for i in range(num_nodes):\n",
        "        for j in range(i + 2, num_nodes):\n",
        "            if np.random.random() > 0.5:  # Añade la arista con una probabilidad del 50%\n",
        "                G.add_edge(i, j, weight=1.0)\n",
        "\n",
        "    return G\n"
      ],
      "metadata": {
        "id": "exlgeIytLG4N"
      },
      "execution_count": null,
      "outputs": []
    },
    {
      "cell_type": "code",
      "source": [
        "grafo = generate_hamiltonian_graph(6)"
      ],
      "metadata": {
        "id": "FL-CtDusI6JD"
      },
      "execution_count": null,
      "outputs": []
    },
    {
      "cell_type": "code",
      "source": [
        "def draw_graph(G, colors, pos):\n",
        "    default_axes = plt.axes(frameon=True)\n",
        "    nx.draw_networkx(G, node_color=colors, node_size=600, alpha=0.8, ax=default_axes, pos=pos)\n",
        "    edge_labels = nx.get_edge_attributes(G, \"peso\")\n",
        "    nx.draw_networkx_edge_labels(G, pos=pos, edge_labels=edge_labels)"
      ],
      "metadata": {
        "id": "KaikiiqCJHuU"
      },
      "execution_count": null,
      "outputs": []
    },
    {
      "cell_type": "code",
      "source": [
        "colors = [\"r\" for node in grafo.nodes()]\n",
        "pos = nx.spring_layout(grafo)"
      ],
      "metadata": {
        "id": "qOqCyNzJJKGM"
      },
      "execution_count": null,
      "outputs": []
    },
    {
      "cell_type": "code",
      "source": [
        "draw_graph(grafo, colors, pos)"
      ],
      "metadata": {
        "colab": {
          "base_uri": "https://localhost:8080/",
          "height": 406
        },
        "id": "5FRJ1lZTJRCL",
        "outputId": "ef881362-be74-4d9f-df34-3f8ba036d6e6"
      },
      "execution_count": null,
      "outputs": [
        {
          "output_type": "display_data",
          "data": {
            "text/plain": [
              "<Figure size 640x480 with 1 Axes>"
            ],
            "image/png": "[encoded data removed]"
          },
          "metadata": {}
        }
      ]
    },
    {
      "cell_type": "code",
      "source": [
        "G = grafo\n",
        "n = 6"
      ],
      "metadata": {
        "id": "3lhsUMbTJeSc"
      },
      "execution_count": null,
      "outputs": []
    },
    {
      "cell_type": "code",
      "source": [
        "# Computing the weight matrix from the random graph\n",
        "w = np.zeros([n, n])\n",
        "for i in range(n):\n",
        "    for j in range(n):\n",
        "        temp = G.get_edge_data(i, j, default=0)\n",
        "        if temp != 0:\n",
        "            w[i, j] = temp[\"weight\"]\n",
        "print(w)"
      ],
      "metadata": {
        "colab": {
          "base_uri": "https://localhost:8080/"
        },
        "id": "PN7Ks154JZVm",
        "outputId": "8ce4b2f4-1176-4624-a2c0-4d55294ee442"
      },
      "execution_count": null,
      "outputs": [
        {
          "output_type": "stream",
          "name": "stdout",
          "text": [
            "[[0. 1. 0. 1. 0. 1.]\n",
            " [1. 0. 1. 1. 1. 0.]\n",
            " [0. 1. 0. 1. 0. 0.]\n",
            " [1. 1. 1. 0. 1. 1.]\n",
            " [0. 1. 0. 1. 0. 1.]\n",
            " [1. 0. 0. 1. 1. 0.]]\n"
          ]
        }
      ]
    },
    {
      "cell_type": "code",
      "source": [
        "best_cost_brute = 0\n",
        "cost_dict = {}  # Diccionario para almacenar los casos y sus costos\n",
        "\n",
        "for b in range(2**n):\n",
        "    x = [int(t) for t in reversed(list(bin(b)[2:].zfill(n)))]\n",
        "    cost = 0\n",
        "    for i in range(n):\n",
        "        for j in range(n):\n",
        "            cost = cost + w[i, j] * x[i] * (1 - x[j])\n",
        "    if best_cost_brute < cost:\n",
        "        best_cost_brute = cost\n",
        "        xbest_brute = x\n",
        "    print(\"case = \" + str(tuple(x)) + \" cost = \" + str(cost))\n",
        "    \n",
        "    # Almacenar el caso y el costo en el diccionario\n",
        "    cost_dict[tuple(x)] = cost\n",
        "\n",
        "colors = [\"r\" if xbest_brute[i] == 0 else \"c\" for i in range(n)]\n",
        "draw_graph(G, colors, pos)\n",
        "print(\"\\nBest solution = \" + str(xbest_brute) + \" cost = \" + str(best_cost_brute))\n",
        "\n",
        "# Imprimir el diccionario de costos\n",
        "for case, cost in cost_dict.items():\n",
        "    print(f\"Case: {case}, Cost: {cost}\")\n"
      ],
      "metadata": {
        "colab": {
          "base_uri": "https://localhost:8080/",
          "height": 1000
        },
        "id": "a-bSFNsiJuL3",
        "outputId": "8ce4b0d1-439e-423b-fa4c-874b5e70efcc"
      },
      "execution_count": null,
      "outputs": [
        {
          "output_type": "stream",
          "name": "stdout",
          "text": [
            "case = (0, 0, 0, 0, 0, 0) cost = 0.0\n",
            "case = (1, 0, 0, 0, 0, 0) cost = 3.0\n",
            "case = (0, 1, 0, 0, 0, 0) cost = 4.0\n",
            "case = (1, 1, 0, 0, 0, 0) cost = 5.0\n",
            "case = (0, 0, 1, 0, 0, 0) cost = 2.0\n",
            "case = (1, 0, 1, 0, 0, 0) cost = 5.0\n",
            "case = (0, 1, 1, 0, 0, 0) cost = 4.0\n",
            "case = (1, 1, 1, 0, 0, 0) cost = 5.0\n",
            "case = (0, 0, 0, 1, 0, 0) cost = 5.0\n",
            "case = (1, 0, 0, 1, 0, 0) cost = 6.0\n",
            "case = (0, 1, 0, 1, 0, 0) cost = 7.0\n",
            "case = (1, 1, 0, 1, 0, 0) cost = 6.0\n",
            "case = (0, 0, 1, 1, 0, 0) cost = 5.0\n",
            "case = (1, 0, 1, 1, 0, 0) cost = 6.0\n",
            "case = (0, 1, 1, 1, 0, 0) cost = 5.0\n",
            "case = (1, 1, 1, 1, 0, 0) cost = 4.0\n",
            "case = (0, 0, 0, 0, 1, 0) cost = 3.0\n",
            "case = (1, 0, 0, 0, 1, 0) cost = 6.0\n",
            "case = (0, 1, 0, 0, 1, 0) cost = 5.0\n",
            "case = (1, 1, 0, 0, 1, 0) cost = 6.0\n",
            "case = (0, 0, 1, 0, 1, 0) cost = 5.0\n",
            "case = (1, 0, 1, 0, 1, 0) cost = 8.0\n",
            "case = (0, 1, 1, 0, 1, 0) cost = 5.0\n",
            "case = (1, 1, 1, 0, 1, 0) cost = 6.0\n",
            "case = (0, 0, 0, 1, 1, 0) cost = 6.0\n",
            "case = (1, 0, 0, 1, 1, 0) cost = 7.0\n",
            "case = (0, 1, 0, 1, 1, 0) cost = 6.0\n",
            "case = (1, 1, 0, 1, 1, 0) cost = 5.0\n",
            "case = (0, 0, 1, 1, 1, 0) cost = 6.0\n",
            "case = (1, 0, 1, 1, 1, 0) cost = 7.0\n",
            "case = (0, 1, 1, 1, 1, 0) cost = 4.0\n",
            "case = (1, 1, 1, 1, 1, 0) cost = 3.0\n",
            "case = (0, 0, 0, 0, 0, 1) cost = 3.0\n",
            "case = (1, 0, 0, 0, 0, 1) cost = 4.0\n",
            "case = (0, 1, 0, 0, 0, 1) cost = 7.0\n",
            "case = (1, 1, 0, 0, 0, 1) cost = 6.0\n",
            "case = (0, 0, 1, 0, 0, 1) cost = 5.0\n",
            "case = (1, 0, 1, 0, 0, 1) cost = 6.0\n",
            "case = (0, 1, 1, 0, 0, 1) cost = 7.0\n",
            "case = (1, 1, 1, 0, 0, 1) cost = 6.0\n",
            "case = (0, 0, 0, 1, 0, 1) cost = 6.0\n",
            "case = (1, 0, 0, 1, 0, 1) cost = 5.0\n",
            "case = (0, 1, 0, 1, 0, 1) cost = 8.0\n",
            "case = (1, 1, 0, 1, 0, 1) cost = 5.0\n",
            "case = (0, 0, 1, 1, 0, 1) cost = 6.0\n",
            "case = (1, 0, 1, 1, 0, 1) cost = 5.0\n",
            "case = (0, 1, 1, 1, 0, 1) cost = 6.0\n",
            "case = (1, 1, 1, 1, 0, 1) cost = 3.0\n",
            "case = (0, 0, 0, 0, 1, 1) cost = 4.0\n",
            "case = (1, 0, 0, 0, 1, 1) cost = 5.0\n",
            "case = (0, 1, 0, 0, 1, 1) cost = 6.0\n",
            "case = (1, 1, 0, 0, 1, 1) cost = 5.0\n",
            "case = (0, 0, 1, 0, 1, 1) cost = 6.0\n",
            "case = (1, 0, 1, 0, 1, 1) cost = 7.0\n",
            "case = (0, 1, 1, 0, 1, 1) cost = 6.0\n",
            "case = (1, 1, 1, 0, 1, 1) cost = 5.0\n",
            "case = (0, 0, 0, 1, 1, 1) cost = 5.0\n",
            "case = (1, 0, 0, 1, 1, 1) cost = 4.0\n",
            "case = (0, 1, 0, 1, 1, 1) cost = 5.0\n",
            "case = (1, 1, 0, 1, 1, 1) cost = 2.0\n",
            "case = (0, 0, 1, 1, 1, 1) cost = 5.0\n",
            "case = (1, 0, 1, 1, 1, 1) cost = 4.0\n",
            "case = (0, 1, 1, 1, 1, 1) cost = 3.0\n",
            "case = (1, 1, 1, 1, 1, 1) cost = 0.0\n",
            "\n",
            "Best solution = [1, 0, 1, 0, 1, 0] cost = 8.0\n",
            "Case: (0, 0, 0, 0, 0, 0), Cost: 0.0\n",
            "Case: (1, 0, 0, 0, 0, 0), Cost: 3.0\n",
            "Case: (0, 1, 0, 0, 0, 0), Cost: 4.0\n",
            "Case: (1, 1, 0, 0, 0, 0), Cost: 5.0\n",
            "Case: (0, 0, 1, 0, 0, 0), Cost: 2.0\n",
            "Case: (1, 0, 1, 0, 0, 0), Cost: 5.0\n",
            "Case: (0, 1, 1, 0, 0, 0), Cost: 4.0\n",
            "Case: (1, 1, 1, 0, 0, 0), Cost: 5.0\n",
            "Case: (0, 0, 0, 1, 0, 0), Cost: 5.0\n",
            "Case: (1, 0, 0, 1, 0, 0), Cost: 6.0\n",
            "Case: (0, 1, 0, 1, 0, 0), Cost: 7.0\n",
            "Case: (1, 1, 0, 1, 0, 0), Cost: 6.0\n",
            "Case: (0, 0, 1, 1, 0, 0), Cost: 5.0\n",
            "Case: (1, 0, 1, 1, 0, 0), Cost: 6.0\n",
            "Case: (0, 1, 1, 1, 0, 0), Cost: 5.0\n",
            "Case: (1, 1, 1, 1, 0, 0), Cost: 4.0\n",
            "Case: (0, 0, 0, 0, 1, 0), Cost: 3.0\n",
            "Case: (1, 0, 0, 0, 1, 0), Cost: 6.0\n",
            "Case: (0, 1, 0, 0, 1, 0), Cost: 5.0\n",
            "Case: (1, 1, 0, 0, 1, 0), Cost: 6.0\n",
            "Case: (0, 0, 1, 0, 1, 0), Cost: 5.0\n",
            "Case: (1, 0, 1, 0, 1, 0), Cost: 8.0\n",
            "Case: (0, 1, 1, 0, 1, 0), Cost: 5.0\n",
            "Case: (1, 1, 1, 0, 1, 0), Cost: 6.0\n",
            "Case: (0, 0, 0, 1, 1, 0), Cost: 6.0\n",
            "Case: (1, 0, 0, 1, 1, 0), Cost: 7.0\n",
            "Case: (0, 1, 0, 1, 1, 0), Cost: 6.0\n",
            "Case: (1, 1, 0, 1, 1, 0), Cost: 5.0\n",
            "Case: (0, 0, 1, 1, 1, 0), Cost: 6.0\n",
            "Case: (1, 0, 1, 1, 1, 0), Cost: 7.0\n",
            "Case: (0, 1, 1, 1, 1, 0), Cost: 4.0\n",
            "Case: (1, 1, 1, 1, 1, 0), Cost: 3.0\n",
            "Case: (0, 0, 0, 0, 0, 1), Cost: 3.0\n",
            "Case: (1, 0, 0, 0, 0, 1), Cost: 4.0\n",
            "Case: (0, 1, 0, 0, 0, 1), Cost: 7.0\n",
            "Case: (1, 1, 0, 0, 0, 1), Cost: 6.0\n",
            "Case: (0, 0, 1, 0, 0, 1), Cost: 5.0\n",
            "Case: (1, 0, 1, 0, 0, 1), Cost: 6.0\n",
            "Case: (0, 1, 1, 0, 0, 1), Cost: 7.0\n",
            "Case: (1, 1, 1, 0, 0, 1), Cost: 6.0\n",
            "Case: (0, 0, 0, 1, 0, 1), Cost: 6.0\n",
            "Case: (1, 0, 0, 1, 0, 1), Cost: 5.0\n",
            "Case: (0, 1, 0, 1, 0, 1), Cost: 8.0\n",
            "Case: (1, 1, 0, 1, 0, 1), Cost: 5.0\n",
            "Case: (0, 0, 1, 1, 0, 1), Cost: 6.0\n",
            "Case: (1, 0, 1, 1, 0, 1), Cost: 5.0\n",
            "Case: (0, 1, 1, 1, 0, 1), Cost: 6.0\n",
            "Case: (1, 1, 1, 1, 0, 1), Cost: 3.0\n",
            "Case: (0, 0, 0, 0, 1, 1), Cost: 4.0\n",
            "Case: (1, 0, 0, 0, 1, 1), Cost: 5.0\n",
            "Case: (0, 1, 0, 0, 1, 1), Cost: 6.0\n",
            "Case: (1, 1, 0, 0, 1, 1), Cost: 5.0\n",
            "Case: (0, 0, 1, 0, 1, 1), Cost: 6.0\n",
            "Case: (1, 0, 1, 0, 1, 1), Cost: 7.0\n",
            "Case: (0, 1, 1, 0, 1, 1), Cost: 6.0\n",
            "Case: (1, 1, 1, 0, 1, 1), Cost: 5.0\n",
            "Case: (0, 0, 0, 1, 1, 1), Cost: 5.0\n",
            "Case: (1, 0, 0, 1, 1, 1), Cost: 4.0\n",
            "Case: (0, 1, 0, 1, 1, 1), Cost: 5.0\n",
            "Case: (1, 1, 0, 1, 1, 1), Cost: 2.0\n",
            "Case: (0, 0, 1, 1, 1, 1), Cost: 5.0\n",
            "Case: (1, 0, 1, 1, 1, 1), Cost: 4.0\n",
            "Case: (0, 1, 1, 1, 1, 1), Cost: 3.0\n",
            "Case: (1, 1, 1, 1, 1, 1), Cost: 0.0\n"
          ]
        },
        {
          "output_type": "display_data",
          "data": {
            "text/plain": [
              "<Figure size 640x480 with 1 Axes>"
            ],
            "image/png": "[encoded data removed]"
          },
          "metadata": {}
        }
      ]
    },
    {
      "cell_type": "code",
      "source": [
        "G.number_of_edges()"
      ],
      "metadata": {
        "colab": {
          "base_uri": "https://localhost:8080/"
        },
        "id": "YVWjs4IQOL9Y",
        "outputId": "a7bfed5c-6860-4c69-ee38-76ba7cb6404c"
      },
      "execution_count": null,
      "outputs": [
        {
          "output_type": "execute_result",
          "data": {
            "text/plain": [
              "10"
            ]
          },
          "metadata": {},
          "execution_count": 73
        }
      ]
    },
    {
      "cell_type": "code",
      "source": [
        "def oraculo(dic_todo,tupla1,tupla2):\n",
        "  if dic_todo[tupla1] >= dic_todo[tupla2]:\n",
        "    return 1\n",
        "  else:\n",
        "    return 0\n"
      ],
      "metadata": {
        "id": "oOD-NdlcQM5S"
      },
      "execution_count": null,
      "outputs": []
    },
    {
      "cell_type": "markdown",
      "source": [
        "Qiskit\n"
      ],
      "metadata": {
        "id": "MMJ7xAsdYOUO"
      }
    },
    {
      "cell_type": "code",
      "source": [
        "!pip install qiskit"
      ],
      "metadata": {
        "colab": {
          "base_uri": "https://localhost:8080/"
        },
        "id": "kwMBPuphYQYn",
        "outputId": "32f8e0ad-ac7a-4b68-f997-3ee05bb50e9f"
      },
      "execution_count": 2,
      "outputs": [
        {
          "output_type": "stream",
          "name": "stdout",
          "text": [
            "Looking in indexes: https://pypi.org/simple, https://us-python.pkg.dev/colab-wheels/public/simple/\n",
            "Collecting qiskit\n",
            "  Downloading qiskit-0.43.0.tar.gz (10.0 kB)\n",
            "  Installing build dependencies ... \u001b[?25l\u001b[?25hdone\n",
            "  Getting requirements to build wheel ... \u001b[?25l\u001b[?25hdone\n",
            "  Installing backend dependencies ... \u001b[?25l\u001b[?25hdone\n",
            "  Preparing metadata (pyproject.toml) ... \u001b[?25l\u001b[?25hdone\n",
            "Collecting qiskit-terra==0.24.0 (from qiskit)\n",
            "  Downloading qiskit_terra-0.24.0-cp310-cp310-manylinux_2_17_x86_64.manylinux2014_x86_64.whl (5.9 MB)\n",
            "\u001b[2K     \u001b[90m━━━━━━━━━━━━━━━━━━━━━━━━━━━━━━━━━━━━━━━━\u001b[0m \u001b[32m5.9/5.9 MB\u001b[0m \u001b[31m59.0 MB/s\u001b[0m eta \u001b[36m0:00:00\u001b[0m\n",
            "\u001b[?25hCollecting qiskit-aer==0.12.0 (from qiskit)\n",
            "  Downloading qiskit_aer-0.12.0-cp310-cp310-manylinux_2_17_x86_64.manylinux2014_x86_64.whl (12.8 MB)\n",
            "\u001b[2K     \u001b[90m━━━━━━━━━━━━━━━━━━━━━━━━━━━━━━━━━━━━━━━━\u001b[0m \u001b[32m12.8/12.8 MB\u001b[0m \u001b[31m69.2 MB/s\u001b[0m eta \u001b[36m0:00:00\u001b[0m\n",
            "\u001b[?25hCollecting qiskit-ibmq-provider==0.20.2 (from qiskit)\n",
            "  Downloading qiskit_ibmq_provider-0.20.2-py3-none-any.whl (241 kB)\n",
            "\u001b[2K     \u001b[90m━━━━━━━━━━━━━━━━━━━━━━━━━━━━━━━━━━━━━━\u001b[0m \u001b[32m241.5/241.5 kB\u001b[0m \u001b[31m26.6 MB/s\u001b[0m eta \u001b[36m0:00:00\u001b[0m\n",
            "\u001b[?25hRequirement already satisfied: numpy>=1.16.3 in /usr/local/lib/python3.10/dist-packages (from qiskit-aer==0.12.0->qiskit) (1.22.4)\n",
            "Requirement already satisfied: scipy>=1.0 in /usr/local/lib/python3.10/dist-packages (from qiskit-aer==0.12.0->qiskit) (1.10.1)\n",
            "Requirement already satisfied: requests>=2.19 in /usr/local/lib/python3.10/dist-packages (from qiskit-ibmq-provider==0.20.2->qiskit) (2.27.1)\n",
            "Collecting requests-ntlm<=1.1.0 (from qiskit-ibmq-provider==0.20.2->qiskit)\n",
            "  Downloading requests_ntlm-1.1.0-py2.py3-none-any.whl (5.7 kB)\n",
            "Requirement already satisfied: urllib3>=1.21.1 in /usr/local/lib/python3.10/dist-packages (from qiskit-ibmq-provider==0.20.2->qiskit) (1.26.15)\n",
            "Requirement already satisfied: python-dateutil>=2.8.0 in /usr/local/lib/python3.10/dist-packages (from qiskit-ibmq-provider==0.20.2->qiskit) (2.8.2)\n",
            "Requirement already satisfied: websocket-client>=1.5.1 in /usr/local/lib/python3.10/dist-packages (from qiskit-ibmq-provider==0.20.2->qiskit) (1.5.1)\n",
            "Collecting websockets>=10.0 (from qiskit-ibmq-provider==0.20.2->qiskit)\n",
            "  Downloading websockets-11.0.3-cp310-cp310-manylinux_2_5_x86_64.manylinux1_x86_64.manylinux_2_17_x86_64.manylinux2014_x86_64.whl (129 kB)\n",
            "\u001b[2K     \u001b[90m━━━━━━━━━━━━━━━━━━━━━━━━━━━━━━━━━━━━━━\u001b[0m \u001b[32m129.9/129.9 kB\u001b[0m \u001b[31m15.7 MB/s\u001b[0m eta \u001b[36m0:00:00\u001b[0m\n",
            "\u001b[?25hCollecting rustworkx>=0.12.0 (from qiskit-terra==0.24.0->qiskit)\n",
            "  Downloading rustworkx-0.12.1-cp310-cp310-manylinux_2_17_x86_64.manylinux2014_x86_64.whl (1.9 MB)\n",
            "\u001b[2K     \u001b[90m━━━━━━━━━━━━━━━━━━━━━━━━━━━━━━━━━━━━━━━━\u001b[0m \u001b[32m1.9/1.9 MB\u001b[0m \u001b[31m95.3 MB/s\u001b[0m eta \u001b[36m0:00:00\u001b[0m\n",
            "\u001b[?25hCollecting ply>=3.10 (from qiskit-terra==0.24.0->qiskit)\n",
            "  Downloading ply-3.11-py2.py3-none-any.whl (49 kB)\n",
            "\u001b[2K     \u001b[90m━━━━━━━━━━━━━━━━━━━━━━━━━━━━━━━━━━━━━━━━\u001b[0m \u001b[32m49.6/49.6 kB\u001b[0m \u001b[31m6.9 MB/s\u001b[0m eta \u001b[36m0:00:00\u001b[0m\n",
            "\u001b[?25hRequirement already satisfied: psutil>=5 in /usr/local/lib/python3.10/dist-packages (from qiskit-terra==0.24.0->qiskit) (5.9.5)\n",
            "Requirement already satisfied: sympy>=1.3 in /usr/local/lib/python3.10/dist-packages (from qiskit-terra==0.24.0->qiskit) (1.11.1)\n",
            "Collecting dill>=0.3 (from qiskit-terra==0.24.0->qiskit)\n",
            "  Downloading dill-0.3.6-py3-none-any.whl (110 kB)\n",
            "\u001b[2K     \u001b[90m━━━━━━━━━━━━━━━━━━━━━━━━━━━━━━━━━━━━━━\u001b[0m \u001b[32m110.5/110.5 kB\u001b[0m \u001b[31m12.5 MB/s\u001b[0m eta \u001b[36m0:00:00\u001b[0m\n",
            "\u001b[?25hCollecting stevedore>=3.0.0 (from qiskit-terra==0.24.0->qiskit)\n",
            "  Downloading stevedore-5.1.0-py3-none-any.whl (49 kB)\n",
            "\u001b[2K     \u001b[90m━━━━━━━━━━━━━━━━━━━━━━━━━━━━━━━━━━━━━━━━\u001b[0m \u001b[32m49.6/49.6 kB\u001b[0m \u001b[31m6.7 MB/s\u001b[0m eta \u001b[36m0:00:00\u001b[0m\n",
            "\u001b[?25hCollecting symengine<0.10,>=0.9 (from qiskit-terra==0.24.0->qiskit)\n",
            "  Downloading symengine-0.9.2-cp310-cp310-manylinux2010_x86_64.whl (37.5 MB)\n",
            "\u001b[2K     \u001b[90m━━━━━━━━━━━━━━━━━━━━━━━━━━━━━━━━━━━━━━━━\u001b[0m \u001b[32m37.5/37.5 MB\u001b[0m \u001b[31m23.3 MB/s\u001b[0m eta \u001b[36m0:00:00\u001b[0m\n",
            "\u001b[?25hRequirement already satisfied: six>=1.5 in /usr/local/lib/python3.10/dist-packages (from python-dateutil>=2.8.0->qiskit-ibmq-provider==0.20.2->qiskit) (1.16.0)\n",
            "Requirement already satisfied: certifi>=2017.4.17 in /usr/local/lib/python3.10/dist-packages (from requests>=2.19->qiskit-ibmq-provider==0.20.2->qiskit) (2022.12.7)\n",
            "Requirement already satisfied: charset-normalizer~=2.0.0 in /usr/local/lib/python3.10/dist-packages (from requests>=2.19->qiskit-ibmq-provider==0.20.2->qiskit) (2.0.12)\n",
            "Requirement already satisfied: idna<4,>=2.5 in /usr/local/lib/python3.10/dist-packages (from requests>=2.19->qiskit-ibmq-provider==0.20.2->qiskit) (3.4)\n",
            "Collecting ntlm-auth>=1.0.2 (from requests-ntlm<=1.1.0->qiskit-ibmq-provider==0.20.2->qiskit)\n",
            "  Downloading ntlm_auth-1.5.0-py2.py3-none-any.whl (29 kB)\n",
            "Requirement already satisfied: cryptography>=1.3 in /usr/local/lib/python3.10/dist-packages (from requests-ntlm<=1.1.0->qiskit-ibmq-provider==0.20.2->qiskit) (40.0.2)\n",
            "Collecting pbr!=2.1.0,>=2.0.0 (from stevedore>=3.0.0->qiskit-terra==0.24.0->qiskit)\n",
            "  Downloading pbr-5.11.1-py2.py3-none-any.whl (112 kB)\n",
            "\u001b[2K     \u001b[90m━━━━━━━━━━━━━━━━━━━━━━━━━━━━━━━━━━━━━━\u001b[0m \u001b[32m112.7/112.7 kB\u001b[0m \u001b[31m13.7 MB/s\u001b[0m eta \u001b[36m0:00:00\u001b[0m\n",
            "\u001b[?25hRequirement already satisfied: mpmath>=0.19 in /usr/local/lib/python3.10/dist-packages (from sympy>=1.3->qiskit-terra==0.24.0->qiskit) (1.3.0)\n",
            "Requirement already satisfied: cffi>=1.12 in /usr/local/lib/python3.10/dist-packages (from cryptography>=1.3->requests-ntlm<=1.1.0->qiskit-ibmq-provider==0.20.2->qiskit) (1.15.1)\n",
            "Requirement already satisfied: pycparser in /usr/local/lib/python3.10/dist-packages (from cffi>=1.12->cryptography>=1.3->requests-ntlm<=1.1.0->qiskit-ibmq-provider==0.20.2->qiskit) (2.21)\n",
            "Building wheels for collected packages: qiskit\n",
            "  Building wheel for qiskit (pyproject.toml) ... \u001b[?25l\u001b[?25hdone\n",
            "  Created wheel for qiskit: filename=qiskit-0.43.0-py3-none-any.whl size=7996 sha256=4fbc5fed8f1be82f9fbe1ff9e6c8d162ffa685264eabd52d46b2e594bbe13f92\n",
            "  Stored in directory: /root/.cache/pip/wheels/11/fe/bc/59531707126e693bad48c61c0b86f3870b49f8f7ad49c18209\n",
            "Successfully built qiskit\n",
            "Installing collected packages: ply, websockets, symengine, rustworkx, pbr, ntlm-auth, dill, stevedore, requests-ntlm, qiskit-terra, qiskit-ibmq-provider, qiskit-aer, qiskit\n",
            "Successfully installed dill-0.3.6 ntlm-auth-1.5.0 pbr-5.11.1 ply-3.11 qiskit-0.43.0 qiskit-aer-0.12.0 qiskit-ibmq-provider-0.20.2 qiskit-terra-0.24.0 requests-ntlm-1.1.0 rustworkx-0.12.1 stevedore-5.1.0 symengine-0.9.2 websockets-11.0.3\n"
          ]
        }
      ]
    },
    {
      "cell_type": "code",
      "source": [
        "import qiskit"
      ],
      "metadata": {
        "id": "lE4ATO7aYf3d"
      },
      "execution_count": null,
      "outputs": []
    },
    {
      "cell_type": "code",
      "source": [
        "from qiskit import QuantumRegister, QuantumCircuit,Aer, execute"
      ],
      "metadata": {
        "id": "HNClSMMxYrj1"
      },
      "execution_count": null,
      "outputs": []
    },
    {
      "cell_type": "code",
      "source": [
        "qr = QuantumRegister(6,name = \"qr0\")\n",
        "qr1 = QuantumRegister(6,name = \"qr1\")\n",
        "qr2 = QuantumRegister(6,name = \"qr2\")\n",
        "qr3 = QuantumRegister(6,name = \"qr3\")\n",
        "ancilla = QuantumRegister(1,name = \"ancilla\")"
      ],
      "metadata": {
        "id": "BGzThk7QYtuN"
      },
      "execution_count": null,
      "outputs": []
    },
    {
      "cell_type": "code",
      "source": [
        "qc = QuantumCircuit(qr,qr1,qr2,qr3,ancilla)"
      ],
      "metadata": {
        "id": "1rVjiTmkZO0Q"
      },
      "execution_count": null,
      "outputs": []
    },
    {
      "cell_type": "code",
      "source": [],
      "metadata": {
        "id": "H98_xh59ckio"
      },
      "execution_count": null,
      "outputs": []
    },
    {
      "cell_type": "code",
      "source": [],
      "metadata": {
        "colab": {
          "base_uri": "https://localhost:8080/",
          "height": 166
        },
        "id": "cWRsjdnn680S",
        "outputId": "fa593aea-4696-49d5-8421-a68686010290"
      },
      "execution_count": null,
      "outputs": [
        {
          "output_type": "error",
          "ename": "TypeError",
          "evalue": "ignored",
          "traceback": [
            "\u001b[0;31m---------------------------------------------------------------------------\u001b[0m",
            "\u001b[0;31mTypeError\u001b[0m                                 Traceback (most recent call last)",
            "\u001b[0;32m<ipython-input-179-f7109c5b5408>\u001b[0m in \u001b[0;36m<cell line: 1>\u001b[0;34m()\u001b[0m\n\u001b[0;32m----> 1\u001b[0;31m \u001b[0mqc\u001b[0m\u001b[0;34m[\u001b[0m\u001b[0mqr\u001b[0m\u001b[0;34m[\u001b[0m\u001b[0;36m0\u001b[0m\u001b[0;34m]\u001b[0m\u001b[0;34m]\u001b[0m\u001b[0;34m=\u001b[0m \u001b[0mm\u001b[0m\u001b[0;34m[\u001b[0m\u001b[0;36m0\u001b[0m\u001b[0;34m]\u001b[0m\u001b[0;34m\u001b[0m\u001b[0;34m\u001b[0m\u001b[0m\n\u001b[0m",
            "\u001b[0;31mTypeError\u001b[0m: 'QuantumCircuit' object does not support item assignment"
          ]
        }
      ]
    },
    {
      "cell_type": "code",
      "source": [
        "qc.remove_register(m)"
      ],
      "metadata": {
        "colab": {
          "base_uri": "https://localhost:8080/",
          "height": 166
        },
        "id": "B4TnZKz36OSN",
        "outputId": "cbce5fb6-38b0-4dc2-ea09-02e48dcbaf66"
      },
      "execution_count": null,
      "outputs": [
        {
          "output_type": "error",
          "ename": "AttributeError",
          "evalue": "ignored",
          "traceback": [
            "\u001b[0;31m---------------------------------------------------------------------------\u001b[0m",
            "\u001b[0;31mAttributeError\u001b[0m                            Traceback (most recent call last)",
            "\u001b[0;32m<ipython-input-172-7f2324fa2959>\u001b[0m in \u001b[0;36m<cell line: 1>\u001b[0;34m()\u001b[0m\n\u001b[0;32m----> 1\u001b[0;31m \u001b[0mqc\u001b[0m\u001b[0;34m.\u001b[0m\u001b[0mremove_register\u001b[0m\u001b[0;34m(\u001b[0m\u001b[0mm\u001b[0m\u001b[0;34m)\u001b[0m\u001b[0;34m\u001b[0m\u001b[0;34m\u001b[0m\u001b[0m\n\u001b[0m",
            "\u001b[0;31mAttributeError\u001b[0m: 'QuantumCircuit' object has no attribute 'remove_register'"
          ]
        }
      ]
    },
    {
      "cell_type": "code",
      "source": [
        "for i in range(len(qr)):\n",
        "  print(i)"
      ],
      "metadata": {
        "colab": {
          "base_uri": "https://localhost:8080/"
        },
        "id": "IgdhXN6WepH2",
        "outputId": "0cda0525-8b29-4267-d25a-0b3172cab7c9"
      },
      "execution_count": null,
      "outputs": [
        {
          "output_type": "stream",
          "name": "stdout",
          "text": [
            "0\n",
            "1\n",
            "2\n",
            "3\n",
            "4\n",
            "5\n"
          ]
        }
      ]
    },
    {
      "cell_type": "code",
      "source": [
        "qc.h(range(qc.num_qubits))"
      ],
      "metadata": {
        "colab": {
          "base_uri": "https://localhost:8080/"
        },
        "id": "HTU2wlKOZTfK",
        "outputId": "146437bd-1de3-4031-cb10-1c541753374c"
      },
      "execution_count": null,
      "outputs": [
        {
          "output_type": "execute_result",
          "data": {
            "text/plain": [
              "<qiskit.circuit.instructionset.InstructionSet at 0x7ffae3d13160>"
            ]
          },
          "metadata": {},
          "execution_count": 90
        }
      ]
    },
    {
      "cell_type": "code",
      "source": [
        "def mutate_bit_random(qr,qc,probabilidad):\n",
        "  \"\"\"mutar bit random\"\"\"\n",
        "  #mutar un qbit aleatorio\n",
        "  if np.random.random() > probabilidad:\n",
        "    qc.x(qr[np.random.randint(0,len(qr))])\n",
        "  \n"
      ],
      "metadata": {
        "id": "f-19lw7ba92T"
      },
      "execution_count": null,
      "outputs": []
    },
    {
      "cell_type": "code",
      "source": [
        "def mutate_bit(qr,qc,bit):\n",
        "  \"\"\"dado un bit a mutar un qr y qc muta ese bit\"\"\"\n",
        "  qc.x(qr[bit])\n",
        "\n",
        "def mutate_multi_bit(qr,qc,probabilidad):#prob >0 and prob <1 a mas grande prob menos oportunidades de mutar\n",
        "  for i in range(len(qr)):\n",
        "     if np.random.random() > probabilidad:\n",
        "      mutate_bit(qr,qc,i)\n",
        "\n",
        "\n",
        "\n"
      ],
      "metadata": {
        "id": "RukxBI28fldk"
      },
      "execution_count": null,
      "outputs": []
    },
    {
      "cell_type": "code",
      "source": [
        "def mutate_exchange(qr,qc,probabilidad):\n",
        "   if np.random.random() > probabilidad:\n",
        "    numero0 = np.random.randint(0,len(qr))\n",
        "    numero1  = np.random.randint(0,len(qr))\n",
        "    if numero0 != numero1:\n",
        "      qc.swap(qr[numero0], qr[numero1])\n",
        "\n",
        "\n"
      ],
      "metadata": {
        "id": "mTq9_YUvuXrn"
      },
      "execution_count": null,
      "outputs": []
    },
    {
      "cell_type": "code",
      "source": [
        "np.random.randint(0,6)"
      ],
      "metadata": {
        "colab": {
          "base_uri": "https://localhost:8080/"
        },
        "id": "3CAYoSQB1tqs",
        "outputId": "641aaf59-b816-464f-fb9b-16c61fcc40d4"
      },
      "execution_count": null,
      "outputs": [
        {
          "output_type": "execute_result",
          "data": {
            "text/plain": [
              "0"
            ]
          },
          "metadata": {},
          "execution_count": 162
        }
      ]
    },
    {
      "cell_type": "code",
      "source": [
        "qr[2]"
      ],
      "metadata": {
        "colab": {
          "base_uri": "https://localhost:8080/"
        },
        "id": "fgvqmhjR4chZ",
        "outputId": "cb607ad8-bea4-4976-98cc-b40cc4953387"
      },
      "execution_count": null,
      "outputs": [
        {
          "output_type": "execute_result",
          "data": {
            "text/plain": [
              "Qubit(QuantumRegister(6, 'qr0'), 2)"
            ]
          },
          "metadata": {},
          "execution_count": 168
        }
      ]
    },
    {
      "cell_type": "code",
      "source": [
        "def puntos(qr):\n",
        "  numero = np.random.randint(1,len(qr)-1) \n",
        "  num = np.random.randint(1,len(qr)-1)\n",
        "  while numero == num:\n",
        "    num = np.random.randint(1,len(qr)-1)\n",
        "  if num > numero:\n",
        "    return numero,num\n",
        "  else:\n",
        "    return num,numero\n"
      ],
      "metadata": {
        "id": "kH1oIBuh1xHX"
      },
      "execution_count": 3,
      "outputs": []
    },
    {
      "cell_type": "code",
      "source": [
        "def pmx_cross(qr0,qr1,qc):\n",
        "  hijo = QuantumRegister(6)\n",
        "  \n",
        "\n",
        "\n",
        "\n"
      ],
      "metadata": {
        "id": "g2HjrxWcw82P"
      },
      "execution_count": null,
      "outputs": []
    },
    {
      "cell_type": "code",
      "source": [
        "qc.h(range(qc.num_qubits))"
      ],
      "metadata": {
        "colab": {
          "base_uri": "https://localhost:8080/"
        },
        "id": "E1eTp-K-wH-J",
        "outputId": "69fcb662-2ca3-4721-ae09-76d0f5aa49b9"
      },
      "execution_count": null,
      "outputs": [
        {
          "output_type": "execute_result",
          "data": {
            "text/plain": [
              "<qiskit.circuit.instructionset.InstructionSet at 0x7ffae3a628c0>"
            ]
          },
          "metadata": {},
          "execution_count": 148
        }
      ]
    },
    {
      "cell_type": "code",
      "source": [
        "mutate_bit_random(qr,qc,0)"
      ],
      "metadata": {
        "id": "_fXHaDTrx3e4"
      },
      "execution_count": null,
      "outputs": []
    },
    {
      "cell_type": "code",
      "source": [
        "def cruce(qc,qr,qr1):\n",
        "\n",
        "  qc.cx(0, 1) # Para |10⟩ => |11⟩\n",
        "  qc.x(0)\n",
        "  qc.x(1) # Prepara los qubits para la siguiente operación\n",
        "  qc.ccx(0, 1, 2) # Marca |00⟩ en el ancilla\n",
        "  qc.x(1) # Aplica NOT en q[1] si el ancilla está en |1⟩\n",
        "  qc.x(0)\n",
        "  qc.cx(2, 1)\n",
        "  qc.x(1)\n",
        "  qc.x(2) # Devuelve los qubits y el ancilla a sus estados originales\n",
        "\n",
        "  qc.barrier()\n",
        "\n",
        "  # Restablece el qubit ancilla\n",
        "  qc.ccx(0, 2, 1)\n",
        "  qc.ccx(0, 1, 2)\n",
        "  qc.ccx(0, 2, 1)\n",
        "  qc.reset(2)\n",
        "\n"
      ],
      "metadata": {
        "id": "91Mrqp59Y-TW"
      },
      "execution_count": null,
      "outputs": []
    },
    {
      "cell_type": "code",
      "source": [
        "qc.draw()"
      ],
      "metadata": {
        "id": "ooIKbZ4PyFEA"
      },
      "execution_count": null,
      "outputs": []
    },
    {
      "cell_type": "code",
      "source": [
        "from qiskit import QuantumCircuit\n",
        "\n",
        "# Inicialización\n",
        "qc = QuantumCircuit(3)\n",
        "\n",
        "# Prueba: Cambia |10⟩ a |11⟩\n",
        "qc.x(0) # primer qubit a |1⟩\n",
        "# el segundo qubit está en |0⟩\n",
        "\n",
        "# Implementación del circuito\n",
        "qc.cx(0, 1) # Para |10⟩ => |11⟩\n",
        "qc.x(0)\n",
        "qc.x(1) # Prepara los qubits para la siguiente operación\n",
        "qc.ccx(0, 1, 2) # Marca |00⟩ en el ancilla\n",
        "qc.x(1) # Aplica NOT en q[1] si el ancilla está en |1⟩\n",
        "qc.cx(2, 1)\n",
        "qc.x(0)\n",
        "qc.x(1)\n",
        "qc.x(2) # Devuelve los qubits y el ancilla a sus estados originales\n",
        "\n",
        "qc.barrier()\n",
        "\n",
        "# Restablece el qubit ancilla\n",
        "qc.ccx(0, 2, 1)\n",
        "qc.ccx(0, 1, 2)\n",
        "qc.ccx(0, 2, 1)\n",
        "\n",
        "print(qc)\n"
      ],
      "metadata": {
        "colab": {
          "base_uri": "https://localhost:8080/"
        },
        "id": "06wOdcGlarhu",
        "outputId": "12f47b10-b24b-4cbc-b104-f76f3e838062"
      },
      "execution_count": null,
      "outputs": [
        {
          "output_type": "stream",
          "name": "stdout",
          "text": [
            "     ┌───┐     ┌───┐     ┌───┐           ░                \n",
            "q_0: ┤ X ├──■──┤ X ├──■──┤ X ├───────────░───■────■────■──\n",
            "     └───┘┌─┴─┐├───┤  │  ├───┤┌───┐┌───┐ ░ ┌─┴─┐  │  ┌─┴─┐\n",
            "q_1: ─────┤ X ├┤ X ├──■──┤ X ├┤ X ├┤ X ├─░─┤ X ├──■──┤ X ├\n",
            "          └───┘└───┘┌─┴─┐└───┘└─┬─┘├───┤ ░ └─┬─┘┌─┴─┐└─┬─┘\n",
            "q_2: ───────────────┤ X ├───────■──┤ X ├─░───■──┤ X ├──■──\n",
            "                    └───┘          └───┘ ░      └───┘     \n"
          ]
        }
      ]
    },
    {
      "cell_type": "markdown",
      "source": [
        "ANCILLAS\n",
        "\n",
        "OPENQASM 2.0;\n",
        "include \"qelib1.inc\";\n",
        "qreg q[4];\n",
        "//x q[0];\n",
        "//x q[1];\n",
        "cx q[0], q[1];\n",
        "ccx q[0], q[1], q[3];\n",
        "ccx q[3], q[2], q[1];\n",
        "ccx q[1], q[3], q[0];\n",
        "ccx q[1], q[2], q[3];\n",
        "cx q[1], q[2];\n",
        "cx q[0], q[1];\n",
        "cx q[1], q[2];\n",
        "cx q[1], q[3];\n",
        "ccx q[3], q[2], q[0];\n",
        "cx q[1], q[2];\n",
        "cx q[1], q[3];"
      ],
      "metadata": {
        "id": "cSnfCpHLb8KV"
      }
    },
    {
      "cell_type": "code",
      "source": [
        "from qiskit import QuantumRegister, QuantumCircuit, Aer, execute, ClassicalRegister"
      ],
      "metadata": {
        "id": "Rb70g4Kponja"
      },
      "execution_count": 4,
      "outputs": []
    },
    {
      "cell_type": "code",
      "source": [
        "def padre_hijo(circuit,qreg_padre,qreg_hijo,qreg_ancilla,cr_ancilla,base,hasta):\n",
        "    for i in range(base, hasta):\n",
        "      circuit.cx(qreg_padre[i], qreg_hijo[i])\n",
        "      circuit.x(qreg_padre[i])\n",
        "      circuit.x(qreg_hijo[i])\n",
        "      circuit.ccx(qreg_padre[i], qreg_hijo[i], qreg_ancilla[0])\n",
        "      circuit.x(qreg_padre[i])\n",
        "      circuit.x(qreg_hijo[i])\n",
        "      circuit.cx(qreg_ancilla[0], qreg_hijo[i])\n",
        "      circuit.x(qreg_hijo[i])\n",
        "      circuit.x(qreg_ancilla[0])\n",
        "      circuit.ccx(qreg_padre[i], qreg_ancilla[0], qreg_hijo[i])\n",
        "      circuit.ccx(qreg_padre[i], qreg_hijo[i], qreg_ancilla[0])\n",
        "      circuit.ccx(qreg_padre[i], qreg_ancilla[0], qreg_hijo[i])\n",
        "      circuit.measure(qreg_ancilla[0], cr_ancilla[0])\n",
        "      with circuit.if_test((cr_ancilla[0],1)):\n",
        "        circuit.x(qreg_ancilla[0])\n",
        "\n",
        "\n",
        "\n",
        "\n",
        "       "
      ],
      "metadata": {
        "id": "EyzTcEpvcIw7"
      },
      "execution_count": 25,
      "outputs": []
    },
    {
      "cell_type": "code",
      "source": [
        "def crear_hijo(base,hasta,maximo,qreg_padre,qreg_madre,qreg_hijo,circuit,qreg_ancilla,cr_ancilla):\n",
        "  padre_hijo(circuit,qreg_padre,qreg_hijo,qreg_ancilla,cr_ancilla,0,base)#inicio pendiente aleatorio padre o madre\n",
        "  padre_hijo(circuit,qreg_padre,qreg_hijo,qreg_ancilla,cr_ancilla,base,hasta)#medio\n",
        "  #padre_hijo(circuito, padre, hijo,0,hasta+1,ancilla)\n",
        "\n",
        "  #padre_hijo(qc, padre, hijo, ancilla,base+1,hasta+1)\n",
        "  padre_hijo(circuit,qreg_madre,qreg_hijo,qreg_ancilla,cr_ancilla,hasta,len(qreg_padre))#fin\n",
        "  #padre_hijo(circuito, madre, hijo,hasta+1,maximo,ancilla)"
      ],
      "metadata": {
        "id": "OHNXWNaWkp2C"
      },
      "execution_count": 23,
      "outputs": []
    },
    {
      "cell_type": "code",
      "source": [
        "qr1 = QuantumRegister(6)\n",
        "qr2 = QuantumRegister(6)\n",
        "qr3 = QuantumRegister(6)\n",
        "qr4 = QuantumRegister(6)\n",
        "cr_hijo =ClassicalRegister(6)\n",
        "ancilla = QuantumRegister(1)\n",
        "cr = ClassicalRegister(1)\n",
        "qc = QuantumCircuit(qr1,qr2,qr3,qr4,ancilla,cr,cr_hijo)\n",
        "qc.x(1)\n",
        "qc.x(2)\n",
        "qc.h(3)\n",
        "base = 1 \n",
        "hasta = 5\n",
        "qc.draw()\n",
        "#mover_ancillas(qr,qc)\n",
        "#qc.measure(qr[0], cr[0])\n"
      ],
      "metadata": {
        "colab": {
          "base_uri": "https://localhost:8080/",
          "height": 863
        },
        "id": "xVA2guHkT4kd",
        "outputId": "22b333b8-e23a-40c5-9580-211b80e205f6"
      },
      "execution_count": 27,
      "outputs": [
        {
          "output_type": "execute_result",
          "data": {
            "text/plain": [
              "            \n",
              "q18_0: ─────\n",
              "       ┌───┐\n",
              "q18_1: ┤ X ├\n",
              "       ├───┤\n",
              "q18_2: ┤ X ├\n",
              "       ├───┤\n",
              "q18_3: ┤ H ├\n",
              "       └───┘\n",
              "q18_4: ─────\n",
              "            \n",
              "q18_5: ─────\n",
              "            \n",
              "q19_0: ─────\n",
              "            \n",
              "q19_1: ─────\n",
              "            \n",
              "q19_2: ─────\n",
              "            \n",
              "q19_3: ─────\n",
              "            \n",
              "q19_4: ─────\n",
              "            \n",
              "q19_5: ─────\n",
              "            \n",
              "q20_0: ─────\n",
              "            \n",
              "q20_1: ─────\n",
              "            \n",
              "q20_2: ─────\n",
              "            \n",
              "q20_3: ─────\n",
              "            \n",
              "q20_4: ─────\n",
              "            \n",
              "q20_5: ─────\n",
              "            \n",
              "q21_0: ─────\n",
              "            \n",
              "q21_1: ─────\n",
              "            \n",
              "q21_2: ─────\n",
              "            \n",
              "q21_3: ─────\n",
              "            \n",
              "q21_4: ─────\n",
              "            \n",
              "q21_5: ─────\n",
              "            \n",
              "  q22: ─────\n",
              "            \n",
              " c3: 1/═════\n",
              "            \n",
              " c2: 6/═════\n",
              "            "
            ],
            "text/html": [
              "<pre style=\"word-wrap: normal;white-space: pre;background: #fff0;line-height: 1.1;font-family: &quot;Courier New&quot;,Courier,monospace\">            \n",
              "q18_0: ─────\n",
              "       ┌───┐\n",
              "q18_1: ┤ X ├\n",
              "       ├───┤\n",
              "q18_2: ┤ X ├\n",
              "       ├───┤\n",
              "q18_3: ┤ H ├\n",
              "       └───┘\n",
              "q18_4: ─────\n",
              "            \n",
              "q18_5: ─────\n",
              "            \n",
              "q19_0: ─────\n",
              "            \n",
              "q19_1: ─────\n",
              "            \n",
              "q19_2: ─────\n",
              "            \n",
              "q19_3: ─────\n",
              "            \n",
              "q19_4: ─────\n",
              "            \n",
              "q19_5: ─────\n",
              "            \n",
              "q20_0: ─────\n",
              "            \n",
              "q20_1: ─────\n",
              "            \n",
              "q20_2: ─────\n",
              "            \n",
              "q20_3: ─────\n",
              "            \n",
              "q20_4: ─────\n",
              "            \n",
              "q20_5: ─────\n",
              "            \n",
              "q21_0: ─────\n",
              "            \n",
              "q21_1: ─────\n",
              "            \n",
              "q21_2: ─────\n",
              "            \n",
              "q21_3: ─────\n",
              "            \n",
              "q21_4: ─────\n",
              "            \n",
              "q21_5: ─────\n",
              "            \n",
              "  q22: ─────\n",
              "            \n",
              " c3: 1/═════\n",
              "            \n",
              " c2: 6/═════\n",
              "            </pre>"
            ]
          },
          "metadata": {},
          "execution_count": 27
        }
      ]
    },
    {
      "cell_type": "code",
      "source": [
        "crear_hijo(base,hasta,len(qc),qr1,qr2,qr3,qc,ancilla,cr)"
      ],
      "metadata": {
        "id": "1hKWGvBcEVkL"
      },
      "execution_count": 28,
      "outputs": []
    },
    {
      "cell_type": "code",
      "source": [
        "for i in range(len(qr3)):\n",
        "  qc.measure(qr3[i],cr_hijo[i])"
      ],
      "metadata": {
        "id": "CbhdfzzIF1Ax"
      },
      "execution_count": 31,
      "outputs": []
    },
    {
      "cell_type": "code",
      "source": [
        "from qiskit_aer import AerSimulator"
      ],
      "metadata": {
        "id": "l9u6Q4V0Doqw"
      },
      "execution_count": 8,
      "outputs": []
    },
    {
      "cell_type": "code",
      "source": [
        "\n",
        "\n",
        "# initialize the simulator\n",
        "backend_sim = AerSimulator()\n",
        "\n",
        "# run the circuit\n",
        "reset_sim_job = backend_sim.run(qc)\n",
        "# get the results\n",
        "reset_sim_result = reset_sim_job.result()\n",
        "# retrieve the bitstring counts\n",
        "reset_sim_counts = reset_sim_result.get_counts()\n",
        "\n",
        "print(f\"Counts: {reset_sim_counts}\")"
      ],
      "metadata": {
        "id": "4hLSS8LQDnbZ",
        "outputId": "4b0e8f56-09c8-4369-ba17-678a53b6d478",
        "colab": {
          "base_uri": "https://localhost:8080/"
        }
      },
      "execution_count": 32,
      "outputs": [
        {
          "output_type": "stream",
          "name": "stdout",
          "text": [
            "Counts: {'000110 0': 508, '001110 0': 516}\n"
          ]
        }
      ]
    },
    {
      "cell_type": "code",
      "source": [
        "simulator = Aer.get_backend('qasm_simulator')\n",
        "job = execute(qc, simulator, shots=1000000)\n",
        "result = job.result()\n",
        "counts = result.get_counts(qc)"
      ],
      "metadata": {
        "id": "NnrfVeI5U4gI"
      },
      "execution_count": null,
      "outputs": []
    },
    {
      "cell_type": "code",
      "source": [
        "counts"
      ],
      "metadata": {
        "colab": {
          "base_uri": "https://localhost:8080/"
        },
        "id": "yOkgRFodU6SA",
        "outputId": "2ab5faf4-61f0-4df4-8fdc-2dc2a8b96153"
      },
      "execution_count": null,
      "outputs": [
        {
          "output_type": "execute_result",
          "data": {
            "text/plain": [
              "{'0': 1000000}"
            ]
          },
          "metadata": {},
          "execution_count": 165
        }
      ]
    },
    {
      "cell_type": "code",
      "source": [
        "qc.draw()"
      ],
      "metadata": {
        "colab": {
          "base_uri": "https://localhost:8080/",
          "height": 186
        },
        "id": "Zq4CsBSkUf7v",
        "outputId": "d4c18eed-bed7-4202-d249-da2d6abc41d8"
      },
      "execution_count": null,
      "outputs": [
        {
          "output_type": "execute_result",
          "data": {
            "text/plain": [
              "        ┌───┐               ┌───┐     ┌─┐\n",
              "q154_0: ┤ H ├──■────■───────┤ X ├─────┤M├\n",
              "        ├───┤┌─┴─┐  │       └─┬─┘     └╥┘\n",
              "q154_1: ┤ H ├┤ X ├──■────■────■────■───╫─\n",
              "        ├───┤└───┘┌─┴─┐  │    │    │   ║ \n",
              "q154_2: ┤ H ├─────┤ X ├──■────┼────■───╫─\n",
              "        ├───┤     └───┘┌─┴─┐  │  ┌─┴─┐ ║ \n",
              "q154_3: ┤ H ├──────────┤ X ├──■──┤ X ├─╫─\n",
              "        └───┘          └───┘     └───┘ ║ \n",
              "  c6: 1/═══════════════════════════════╩═\n",
              "                                       0 "
            ],
            "text/html": [
              "<pre style=\"word-wrap: normal;white-space: pre;background: #fff0;line-height: 1.1;font-family: &quot;Courier New&quot;,Courier,monospace\">        ┌───┐               ┌───┐     ┌─┐\n",
              "q154_0: ┤ H ├──■────■───────┤ X ├─────┤M├\n",
              "        ├───┤┌─┴─┐  │       └─┬─┘     └╥┘\n",
              "q154_1: ┤ H ├┤ X ├──■────■────■────■───╫─\n",
              "        ├───┤└───┘┌─┴─┐  │    │    │   ║ \n",
              "q154_2: ┤ H ├─────┤ X ├──■────┼────■───╫─\n",
              "        ├───┤     └───┘┌─┴─┐  │  ┌─┴─┐ ║ \n",
              "q154_3: ┤ H ├──────────┤ X ├──■──┤ X ├─╫─\n",
              "        └───┘          └───┘     └───┘ ║ \n",
              "  c6: 1/═══════════════════════════════╩═\n",
              "                                       0 </pre>"
            ]
          },
          "metadata": {},
          "execution_count": 155
        }
      ]
    },
    {
      "cell_type": "code",
      "source": [
        "# Crear los registros cuánticos\n",
        "qr = QuantumRegister(6, name = \"qr0\")\n",
        "qr1 = QuantumRegister(6, name = \"qr1\")\n",
        "qr2 = QuantumRegister(6, name = \"qr2\")\n",
        "qr3 = QuantumRegister(6, name = \"qr3\")\n",
        "ancilla = QuantumRegister(4, name = \"ancilla\")\n",
        "\n",
        "# Crear los registros clásicos correspondientes\n",
        "cr = ClassicalRegister(6, name = \"cr0\")\n",
        "cr1 = ClassicalRegister(6, name = \"cr1\")\n",
        "cr2 = ClassicalRegister(6, name = \"cr2\")\n",
        "cr3 = ClassicalRegister(6, name = \"cr3\")\n",
        "\n",
        "\n",
        "# Crear el circuito cuántico\n",
        "qc = QuantumCircuit(qr, qr1, qr2, qr3,ancilla, cr, cr1, cr2, cr3)\n",
        "\n",
        "state_qr = '111111'\n",
        "for i in range(6):\n",
        "    if state_qr[i] == '1':\n",
        "        qc.x(qr[5-i])  # Aquí 5-i se utiliza debido a la convención de ordenamiento de qubits de Qiskit.\n",
        "\n",
        "\n",
        "# Inicializar qr1 a |001101⟩\n",
        "state_qr1 = '001100'\n",
        "for i in range(6):\n",
        "    if state_qr1[i] == '1':\n",
        "        qc.x(qr1[5-i]) \n",
        "\n",
        "# Aplicar la puerta de Hadamard a todos los qubits de qr2 y qr3\n",
        "\"\"\"for i in range(6):\n",
        "  qc.h(qr2[i])\n",
        "  qc.h(qr3[i])\"\"\"\n",
        "\n",
        "#ancilla = QuantumRegister(1,name = \"ancilla\")\n",
        "\n",
        "# Crear el circuito cuántico\n",
        "\n",
        "base, hasta = puntos(qr3)\n",
        "\n",
        "print(\"base: \",base)\n",
        "print(\"hasta:\", hasta)\n",
        "# Aplicar las operaciones\n",
        "#\"\"\"\n",
        "crear_hijo(base,hasta,len(qr),qr,qr1,qr2,qc,ancilla)\n",
        "#ancilla = QuantumRegister(1, name = \"ancilla\")\n",
        "mover_ancillas(ancilla,qc)\n",
        "crear_hijo(base,hasta,len(qr),qr1,qr,qr3,qc,ancilla)#\"\"\"\n",
        "\n",
        "for i in range(6):\n",
        "  qc.measure(qr[i], cr[i])\n",
        "  qc.measure(qr1[i], cr1[i])\n",
        "  qc.measure(qr2[i], cr2[i])\n",
        "  qc.measure(qr3[i], cr3[i])\n",
        "\n",
        "#padre_hijo(qc, qr1, qr2, ancilla,hasta+1,6)\n",
        "\n",
        "# Imprimir el circuito\n",
        "#print(qc)\n"
      ],
      "metadata": {
        "colab": {
          "base_uri": "https://localhost:8080/"
        },
        "id": "p1I-Xup_cGMb",
        "outputId": "fb1031a5-7e39-42f2-df8a-4dd9c86dfaf7"
      },
      "execution_count": null,
      "outputs": [
        {
          "output_type": "stream",
          "name": "stdout",
          "text": [
            "base:  1\n",
            "hasta: 4\n",
            "0\n",
            "1\n",
            "2\n",
            "3\n",
            "4\n",
            "5\n",
            "0\n",
            "1\n",
            "2\n",
            "3\n",
            "4\n",
            "5\n"
          ]
        }
      ]
    },
    {
      "cell_type": "code",
      "source": [],
      "metadata": {
        "colab": {
          "base_uri": "https://localhost:8080/"
        },
        "id": "tIvdIl9t1IYv",
        "outputId": "422abf5c-ea60-4964-c73d-1247e6e3f2f6"
      },
      "execution_count": null,
      "outputs": [
        {
          "output_type": "execute_result",
          "data": {
            "text/plain": [
              "<qiskit.circuit.instructionset.InstructionSet at 0x7f3e88eca3b0>"
            ]
          },
          "metadata": {},
          "execution_count": 3
        }
      ]
    },
    {
      "cell_type": "code",
      "source": [
        "backend = Aer.get_backend(\"qasm_simulator\")\n",
        "trabajo = execute(qc,backend,shots = 1024)\n",
        "resultado = trabajo.result()\n",
        "contar_estados = resultado.get_counts(qc)"
      ],
      "metadata": {
        "id": "SF3tcxHvfdDH"
      },
      "execution_count": null,
      "outputs": []
    },
    {
      "cell_type": "code",
      "source": [
        "\n",
        "simulator = Aer.get_backend('qasm_simulator')\n",
        "job = execute(qc, simulator, shots=4)\n",
        "result = job.result()\n",
        "counts = result.get_counts(qc)\n"
      ],
      "metadata": {
        "id": "_qHjr5dupyr3"
      },
      "execution_count": null,
      "outputs": []
    },
    {
      "cell_type": "code",
      "source": [
        "counts"
      ],
      "metadata": {
        "colab": {
          "base_uri": "https://localhost:8080/"
        },
        "id": "Kio78KreJ2el",
        "outputId": "2aae69bf-2297-445a-e28b-6aafe8e18afb"
      },
      "execution_count": null,
      "outputs": [
        {
          "output_type": "execute_result",
          "data": {
            "text/plain": [
              "{'010011 100000 110011 000000': 4}"
            ]
          },
          "metadata": {},
          "execution_count": 171
        }
      ]
    },
    {
      "cell_type": "code",
      "source": [
        "\n",
        "# Separar las cuentas de los cuatro registros\n",
        "counts_qr = {key[20:]: counts[key] for key in counts.keys()}\n",
        "counts_qr1 = {key[14:20]: counts[key] for key in counts.keys()}\n",
        "counts_qr2 = {key[7:14]: counts[key] for key in counts.keys()}\n",
        "counts_qr3 = {key[:7]: counts[key] for key in counts.keys()}\n",
        "\n",
        "# Imprimir las cuentas\n",
        "print(\"Counts for qr: \", counts_qr)#azul claro\n",
        "print(\"Counts for qr1: \", counts_qr1)#morado\n",
        "print(\"Counts for qr2: \", counts_qr2)\n",
        "print(\"Counts for qr3: \", counts_qr3)\n",
        "\n",
        "# Dibujar los histogramas de las cuentas\n",
        "plot_histogram([counts_qr, counts_qr1, counts_qr2, counts_qr3], legend=['qr', 'qr1', 'qr2', 'qr3'])"
      ],
      "metadata": {
        "colab": {
          "base_uri": "https://localhost:8080/",
          "height": 582
        },
        "id": "lI_UB4sjp3MF",
        "outputId": "6a059c1a-8985-423c-d6c4-cd68479a0167"
      },
      "execution_count": null,
      "outputs": [
        {
          "output_type": "stream",
          "name": "stdout",
          "text": [
            "Counts for qr:  {' 100000': 4}\n",
            "Counts for qr1:  {'101100': 4}\n",
            "Counts for qr2:  {'100000 ': 4}\n",
            "Counts for qr3:  {'000000 ': 4}\n"
          ]
        },
        {
          "output_type": "execute_result",
          "data": {
            "text/plain": [
              "<Figure size 700x500 with 1 Axes>"
            ],
            "image/png": "[encoded data removed]"
          },
          "metadata": {},
          "execution_count": 101
        }
      ]
    },
    {
      "cell_type": "code",
      "source": [
        "padre_hijo(qc, qr1, qr2, ancilla,hasta+1,6)"
      ],
      "metadata": {
        "colab": {
          "base_uri": "https://localhost:8080/"
        },
        "id": "BYsymPishvNg",
        "outputId": "195b7527-c8ce-4030-cfd0-6f256671678f"
      },
      "execution_count": null,
      "outputs": [
        {
          "output_type": "stream",
          "name": "stdout",
          "text": [
            "5\n"
          ]
        }
      ]
    },
    {
      "cell_type": "code",
      "source": [
        "qc.draw()"
      ],
      "metadata": {
        "colab": {
          "base_uri": "https://localhost:8080/",
          "height": 1000
        },
        "id": "PyFrS4gLhw71",
        "outputId": "90b04062-b69f-4a3d-bf3c-43849bd8954c"
      },
      "execution_count": null,
      "outputs": [
        {
          "output_type": "execute_result",
          "data": {
            "text/plain": [
              "         ┌───┐     ┌───┐     ┌───┐           ░                               »\n",
              "  qr0_0: ┤ X ├──■──┤ X ├──■──┤ X ├───────────░───■─────────■─────────■───────»\n",
              "         └───┘  │  └───┘  │  └───┘           ░   │  ┌───┐  │         │  ┌───┐»\n",
              "  qr0_1: ───────┼─────────┼──────────────────░───┼──┤ X ├──┼────■────┼──┤ X ├»\n",
              "                │         │                  ░   │  └───┘  │    │    │  └───┘»\n",
              "  qr0_2: ───────┼─────────┼──────────────────░───┼─────────┼────┼────┼───────»\n",
              "                │         │                  ░   │         │    │    │       »\n",
              "  qr0_3: ───────┼─────────┼──────────────────░───┼─────────┼────┼────┼───────»\n",
              "                │         │                  ░   │         │    │    │       »\n",
              "  qr0_4: ───────┼─────────┼──────────────────░───┼─────────┼────┼────┼───────»\n",
              "                │         │                  ░   │         │    │    │       »\n",
              "  qr0_5: ───────┼─────────┼──────────────────░───┼─────────┼────┼────┼───────»\n",
              "                │         │                  ░   │         │    │    │       »\n",
              "  qr1_0: ───────┼─────────┼──────────────────░───┼─────────┼────┼────┼───────»\n",
              "                │         │                  ░   │         │    │    │       »\n",
              "  qr1_1: ───────┼─────────┼──────────────────░───┼─────────┼────┼────┼───────»\n",
              "                │         │                  ░   │         │    │    │       »\n",
              "  qr1_2: ───────┼─────────┼──────────────────░───┼─────────┼────┼────┼───────»\n",
              "                │         │                  ░   │         │    │    │       »\n",
              "  qr1_3: ───────┼─────────┼──────────────────░───┼─────────┼────┼────┼───────»\n",
              "                │         │                  ░   │         │    │    │       »\n",
              "  qr1_4: ───────┼─────────┼──────────────────░───┼─────────┼────┼────┼───────»\n",
              "                │         │                  ░   │         │    │    │       »\n",
              "  qr1_5: ───────┼─────────┼──────────────────░───┼─────────┼────┼────┼───────»\n",
              "              ┌─┴─┐┌───┐  │  ┌───┐┌───┐┌───┐ ░ ┌─┴─┐       │    │  ┌─┴─┐     »\n",
              "  qr2_0: ─────┤ X ├┤ X ├──■──┤ X ├┤ X ├┤ X ├─░─┤ X ├───────■────┼──┤ X ├─────»\n",
              "              └───┘└───┘  │  └───┘└─┬─┘└───┘ ░ └─┬─┘       │  ┌─┴─┐└─┬─┘┌───┐»\n",
              "  qr2_1: ─────────────────┼─────────┼────────░───┼─────────┼──┤ X ├──┼──┤ X ├»\n",
              "                          │         │        ░   │         │  └───┘  │  └───┘»\n",
              "  qr2_2: ─────────────────┼─────────┼────────░───┼─────────┼─────────┼───────»\n",
              "                          │         │        ░   │         │         │       »\n",
              "  qr2_3: ─────────────────┼─────────┼────────░───┼─────────┼─────────┼───────»\n",
              "                          │         │        ░   │         │         │       »\n",
              "  qr2_4: ─────────────────┼─────────┼────────░───┼─────────┼─────────┼───────»\n",
              "                          │         │        ░   │         │         │       »\n",
              "  qr2_5: ─────────────────┼─────────┼────────░───┼─────────┼─────────┼───────»\n",
              "                          │         │        ░   │         │         │       »\n",
              "  qr3_0: ─────────────────┼─────────┼────────░───┼─────────┼─────────┼───────»\n",
              "                          │         │        ░   │         │         │       »\n",
              "  qr3_1: ─────────────────┼─────────┼────────░───┼─────────┼─────────┼───────»\n",
              "                          │         │        ░   │         │         │       »\n",
              "  qr3_2: ─────────────────┼─────────┼────────░───┼─────────┼─────────┼───────»\n",
              "                          │         │        ░   │         │         │       »\n",
              "  qr3_3: ─────────────────┼─────────┼────────░───┼─────────┼─────────┼───────»\n",
              "                          │         │        ░   │         │         │       »\n",
              "  qr3_4: ─────────────────┼─────────┼────────░───┼─────────┼─────────┼───────»\n",
              "                          │         │        ░   │         │         │       »\n",
              "  qr3_5: ─────────────────┼─────────┼────────░───┼─────────┼─────────┼───────»\n",
              "                        ┌─┴─┐       │  ┌───┐ ░   │       ┌─┴─┐       │       »\n",
              "ancilla: ───────────────┤ X ├───────■──┤ X ├─░───■───────┤ X ├───────■───|0>─»\n",
              "                        └───┘          └───┘ ░           └───┘               »\n",
              "«                              ░                                              »\n",
              "«  qr0_0: ─────────────────────░──────────────────────────────────────────────»\n",
              "«              ┌───┐           ░                                              »\n",
              "«  qr0_1: ──■──┤ X ├───────────░───■─────────■─────────■──────────────────────»\n",
              "«           │  └───┘           ░   │  ┌───┐  │         │  ┌───┐     ┌───┐     »\n",
              "«  qr0_2: ──┼──────────────────░───┼──┤ X ├──┼────■────┼──┤ X ├──■──┤ X ├─────»\n",
              "«           │                  ░   │  └───┘  │    │    │  └───┘  │  └───┘     »\n",
              "«  qr0_3: ──┼──────────────────░───┼─────────┼────┼────┼─────────┼────────────»\n",
              "«           │                  ░   │         │    │    │         │            »\n",
              "«  qr0_4: ──┼──────────────────░───┼─────────┼────┼────┼─────────┼────────────»\n",
              "«           │                  ░   │         │    │    │         │            »\n",
              "«  qr0_5: ──┼──────────────────░───┼─────────┼────┼────┼─────────┼────────────»\n",
              "«           │                  ░   │         │    │    │         │            »\n",
              "«  qr1_0: ──┼──────────────────░───┼─────────┼────┼────┼─────────┼────────────»\n",
              "«           │                  ░   │         │    │    │         │            »\n",
              "«  qr1_1: ──┼──────────────────░───┼─────────┼────┼────┼─────────┼────────────»\n",
              "«           │                  ░   │         │    │    │         │            »\n",
              "«  qr1_2: ──┼──────────────────░───┼─────────┼────┼────┼─────────┼────────────»\n",
              "«           │                  ░   │         │    │    │         │            »\n",
              "«  qr1_3: ──┼──────────────────░───┼─────────┼────┼────┼─────────┼────────────»\n",
              "«           │                  ░   │         │    │    │         │            »\n",
              "«  qr1_4: ──┼──────────────────░───┼─────────┼────┼────┼─────────┼────────────»\n",
              "«           │                  ░   │         │    │    │         │            »\n",
              "«  qr1_5: ──┼──────────────────░───┼─────────┼────┼────┼─────────┼────────────»\n",
              "«           │                  ░   │         │    │    │         │            »\n",
              "«  qr2_0: ──┼──────────────────░───┼─────────┼────┼────┼─────────┼────────────»\n",
              "«           │  ┌───┐┌───┐┌───┐ ░ ┌─┴─┐       │    │  ┌─┴─┐       │            »\n",
              "«  qr2_1: ──■──┤ X ├┤ X ├┤ X ├─░─┤ X ├───────■────┼──┤ X ├───────┼────────────»\n",
              "«           │  └───┘└─┬─┘└───┘ ░ └─┬─┘       │  ┌─┴─┐└─┬─┘┌───┐  │  ┌───┐┌───┐»\n",
              "«  qr2_2: ──┼─────────┼────────░───┼─────────┼──┤ X ├──┼──┤ X ├──■──┤ X ├┤ X ├»\n",
              "«           │         │        ░   │         │  └───┘  │  └───┘  │  └───┘└─┬─┘»\n",
              "«  qr2_3: ──┼─────────┼────────░───┼─────────┼─────────┼─────────┼─────────┼──»\n",
              "«           │         │        ░   │         │         │         │         │  »\n",
              "«  qr2_4: ──┼─────────┼────────░───┼─────────┼─────────┼─────────┼─────────┼──»\n",
              "«           │         │        ░   │         │         │         │         │  »\n",
              "«  qr2_5: ──┼─────────┼────────░───┼─────────┼─────────┼─────────┼─────────┼──»\n",
              "«           │         │        ░   │         │         │         │         │  »\n",
              "«  qr3_0: ──┼─────────┼────────░───┼─────────┼─────────┼─────────┼─────────┼──»\n",
              "«           │         │        ░   │         │         │         │         │  »\n",
              "«  qr3_1: ──┼─────────┼────────░───┼─────────┼─────────┼─────────┼─────────┼──»\n",
              "«           │         │        ░   │         │         │         │         │  »\n",
              "«  qr3_2: ──┼─────────┼────────░───┼─────────┼─────────┼─────────┼─────────┼──»\n",
              "«           │         │        ░   │         │         │         │         │  »\n",
              "«  qr3_3: ──┼─────────┼────────░───┼─────────┼─────────┼─────────┼─────────┼──»\n",
              "«           │         │        ░   │         │         │         │         │  »\n",
              "«  qr3_4: ──┼─────────┼────────░───┼─────────┼─────────┼─────────┼─────────┼──»\n",
              "«           │         │        ░   │         │         │         │         │  »\n",
              "«  qr3_5: ──┼─────────┼────────░───┼─────────┼─────────┼─────────┼─────────┼──»\n",
              "«         ┌─┴─┐       │  ┌───┐ ░   │       ┌─┴─┐       │       ┌─┴─┐       │  »\n",
              "«ancilla: ┤ X ├───────■──┤ X ├─░───■───────┤ X ├───────■───|0>─┤ X ├───────■──»\n",
              "«         └───┘          └───┘ ░           └───┘               └───┘          »\n",
              "«               ░                                                    ░      »\n",
              "«  qr0_0: ──────░────────────────────────────────────────────────────░──────»\n",
              "«               ░                                                    ░      »\n",
              "«  qr0_1: ──────░────────────────────────────────────────────────────░──────»\n",
              "«               ░                                                    ░      »\n",
              "«  qr0_2: ──────░───■─────────■─────────■────────────────────────────░──────»\n",
              "«               ░   │  ┌───┐  │         │  ┌───┐     ┌───┐           ░      »\n",
              "«  qr0_3: ──────░───┼──┤ X ├──┼────■────┼──┤ X ├──■──┤ X ├───────────░───■──»\n",
              "«               ░   │  └───┘  │    │    │  └───┘  │  └───┘           ░   │  »\n",
              "«  qr0_4: ──────░───┼─────────┼────┼────┼─────────┼──────────────────░───┼──»\n",
              "«               ░   │         │    │    │         │                  ░   │  »\n",
              "«  qr0_5: ──────░───┼─────────┼────┼────┼─────────┼──────────────────░───┼──»\n",
              "«               ░   │         │    │    │         │                  ░   │  »\n",
              "«  qr1_0: ──────░───┼─────────┼────┼────┼─────────┼──────────────────░───┼──»\n",
              "«               ░   │         │    │    │         │                  ░   │  »\n",
              "«  qr1_1: ──────░───┼─────────┼────┼────┼─────────┼──────────────────░───┼──»\n",
              "«               ░   │         │    │    │         │                  ░   │  »\n",
              "«  qr1_2: ──────░───┼─────────┼────┼────┼─────────┼──────────────────░───┼──»\n",
              "«               ░   │         │    │    │         │                  ░   │  »\n",
              "«  qr1_3: ──────░───┼─────────┼────┼────┼─────────┼──────────────────░───┼──»\n",
              "«               ░   │         │    │    │         │                  ░   │  »\n",
              "«  qr1_4: ──────░───┼─────────┼────┼────┼─────────┼──────────────────░───┼──»\n",
              "«               ░   │         │    │    │         │                  ░   │  »\n",
              "«  qr1_5: ──────░───┼─────────┼────┼────┼─────────┼──────────────────░───┼──»\n",
              "«               ░   │         │    │    │         │                  ░   │  »\n",
              "«  qr2_0: ──────░───┼─────────┼────┼────┼─────────┼──────────────────░───┼──»\n",
              "«               ░   │         │    │    │         │                  ░   │  »\n",
              "«  qr2_1: ──────░───┼─────────┼────┼────┼─────────┼──────────────────░───┼──»\n",
              "«         ┌───┐ ░ ┌─┴─┐       │    │  ┌─┴─┐       │                  ░   │  »\n",
              "«  qr2_2: ┤ X ├─░─┤ X ├───────■────┼──┤ X ├───────┼──────────────────░───┼──»\n",
              "«         └───┘ ░ └─┬─┘       │  ┌─┴─┐└─┬─┘┌───┐  │  ┌───┐┌───┐┌───┐ ░ ┌─┴─┐»\n",
              "«  qr2_3: ──────░───┼─────────┼──┤ X ├──┼──┤ X ├──■──┤ X ├┤ X ├┤ X ├─░─┤ X ├»\n",
              "«               ░   │         │  └───┘  │  └───┘  │  └───┘└─┬─┘└───┘ ░ └─┬─┘»\n",
              "«  qr2_4: ──────░───┼─────────┼─────────┼─────────┼─────────┼────────░───┼──»\n",
              "«               ░   │         │         │         │         │        ░   │  »\n",
              "«  qr2_5: ──────░───┼─────────┼─────────┼─────────┼─────────┼────────░───┼──»\n",
              "«               ░   │         │         │         │         │        ░   │  »\n",
              "«  qr3_0: ──────░───┼─────────┼─────────┼─────────┼─────────┼────────░───┼──»\n",
              "«               ░   │         │         │         │         │        ░   │  »\n",
              "«  qr3_1: ──────░───┼─────────┼─────────┼─────────┼─────────┼────────░───┼──»\n",
              "«               ░   │         │         │         │         │        ░   │  »\n",
              "«  qr3_2: ──────░───┼─────────┼─────────┼─────────┼─────────┼────────░───┼──»\n",
              "«               ░   │         │         │         │         │        ░   │  »\n",
              "«  qr3_3: ──────░───┼─────────┼─────────┼─────────┼─────────┼────────░───┼──»\n",
              "«               ░   │         │         │         │         │        ░   │  »\n",
              "«  qr3_4: ──────░───┼─────────┼─────────┼─────────┼─────────┼────────░───┼──»\n",
              "«               ░   │         │         │         │         │        ░   │  »\n",
              "«  qr3_5: ──────░───┼─────────┼─────────┼─────────┼─────────┼────────░───┼──»\n",
              "«         ┌───┐ ░   │       ┌─┴─┐       │       ┌─┴─┐       │  ┌───┐ ░   │  »\n",
              "«ancilla: ┤ X ├─░───■───────┤ X ├───────■───|0>─┤ X ├───────■──┤ X ├─░───■──»\n",
              "«         └───┘ ░           └───┘               └───┘          └───┘ ░      »\n",
              "«                                                       ░                     \n",
              "«  qr0_0: ──────────────────────────────────────────────░─────────────────────\n",
              "«                                                       ░                     \n",
              "«  qr0_1: ──────────────────────────────────────────────░─────────────────────\n",
              "«                                                       ░                     \n",
              "«  qr0_2: ──────────────────────────────────────────────░─────────────────────\n",
              "«                                                       ░                     \n",
              "«  qr0_3: ───────■─────────■────────────────────────────░─────────────────────\n",
              "«                │         │                            ░                     \n",
              "«  qr0_4: ───────┼─────────┼────────────────────────────░─────────────────────\n",
              "«                │         │                            ░                     \n",
              "«  qr0_5: ───────┼─────────┼────────────────────────────░─────────────────────\n",
              "«                │         │                            ░                     \n",
              "«  qr1_0: ───────┼─────────┼────────────────────────────░─────────────────────\n",
              "«                │         │                            ░                     \n",
              "«  qr1_1: ───────┼─────────┼────────────────────────────░─────────────────────\n",
              "«                │         │                            ░                     \n",
              "«  qr1_2: ───────┼─────────┼────────────────────────────░─────────────────────\n",
              "«                │         │                            ░                     \n",
              "«  qr1_3: ───────┼─────────┼────────────────────────────░─────────────────────\n",
              "«                │         │                            ░                     \n",
              "«  qr1_4: ───────┼─────────┼────────────────────────────░─────────────────────\n",
              "«         ┌───┐  │         │  ┌───┐     ┌───┐           ░                     \n",
              "«  qr1_5: ┤ X ├──┼────■────┼──┤ X ├──■──┤ X ├───────────░───■────■────■───────\n",
              "«         └───┘  │    │    │  └───┘  │  └───┘           ░   │    │    │       \n",
              "«  qr2_0: ───────┼────┼────┼─────────┼──────────────────░───┼────┼────┼───────\n",
              "«                │    │    │         │                  ░   │    │    │       \n",
              "«  qr2_1: ───────┼────┼────┼─────────┼──────────────────░───┼────┼────┼───────\n",
              "«                │    │    │         │                  ░   │    │    │       \n",
              "«  qr2_2: ───────┼────┼────┼─────────┼──────────────────░───┼────┼────┼───────\n",
              "«                │    │  ┌─┴─┐       │                  ░   │    │    │       \n",
              "«  qr2_3: ───────■────┼──┤ X ├───────┼──────────────────░───┼────┼────┼───────\n",
              "«                │    │  └─┬─┘       │                  ░   │    │    │       \n",
              "«  qr2_4: ───────┼────┼────┼─────────┼──────────────────░───┼────┼────┼───────\n",
              "«                │  ┌─┴─┐  │  ┌───┐  │  ┌───┐┌───┐┌───┐ ░ ┌─┴─┐  │  ┌─┴─┐     \n",
              "«  qr2_5: ───────┼──┤ X ├──┼──┤ X ├──■──┤ X ├┤ X ├┤ X ├─░─┤ X ├──■──┤ X ├─────\n",
              "«                │  └───┘  │  └───┘  │  └───┘└─┬─┘└───┘ ░ └─┬─┘  │  └─┬─┘     \n",
              "«  qr3_0: ───────┼─────────┼─────────┼─────────┼────────░───┼────┼────┼───────\n",
              "«                │         │         │         │        ░   │    │    │       \n",
              "«  qr3_1: ───────┼─────────┼─────────┼─────────┼────────░───┼────┼────┼───────\n",
              "«                │         │         │         │        ░   │    │    │       \n",
              "«  qr3_2: ───────┼─────────┼─────────┼─────────┼────────░───┼────┼────┼───────\n",
              "«                │         │         │         │        ░   │    │    │       \n",
              "«  qr3_3: ───────┼─────────┼─────────┼─────────┼────────░───┼────┼────┼───────\n",
              "«                │         │         │         │        ░   │    │    │       \n",
              "«  qr3_4: ───────┼─────────┼─────────┼─────────┼────────░───┼────┼────┼───────\n",
              "«                │         │         │         │        ░   │    │    │       \n",
              "«  qr3_5: ───────┼─────────┼─────────┼─────────┼────────░───┼────┼────┼───────\n",
              "«              ┌─┴─┐       │       ┌─┴─┐       │  ┌───┐ ░   │  ┌─┴─┐  │       \n",
              "«ancilla: ─────┤ X ├───────■───|0>─┤ X ├───────■──┤ X ├─░───■──┤ X ├──■───|0>─\n",
              "«              └───┘               └───┘          └───┘ ░      └───┘          "
            ],
            "text/html": [
              "<pre style=\"word-wrap: normal;white-space: pre;background: #fff0;line-height: 1.1;font-family: &quot;Courier New&quot;,Courier,monospace\">         ┌───┐     ┌───┐     ┌───┐           ░                               »\n",
              "  qr0_0: ┤ X ├──■──┤ X ├──■──┤ X ├───────────░───■─────────■─────────■───────»\n",
              "         └───┘  │  └───┘  │  └───┘           ░   │  ┌───┐  │         │  ┌───┐»\n",
              "  qr0_1: ───────┼─────────┼──────────────────░───┼──┤ X ├──┼────■────┼──┤ X ├»\n",
              "                │         │                  ░   │  └───┘  │    │    │  └───┘»\n",
              "  qr0_2: ───────┼─────────┼──────────────────░───┼─────────┼────┼────┼───────»\n",
              "                │         │                  ░   │         │    │    │       »\n",
              "  qr0_3: ───────┼─────────┼──────────────────░───┼─────────┼────┼────┼───────»\n",
              "                │         │                  ░   │         │    │    │       »\n",
              "  qr0_4: ───────┼─────────┼──────────────────░───┼─────────┼────┼────┼───────»\n",
              "                │         │                  ░   │         │    │    │       »\n",
              "  qr0_5: ───────┼─────────┼──────────────────░───┼─────────┼────┼────┼───────»\n",
              "                │         │                  ░   │         │    │    │       »\n",
              "  qr1_0: ───────┼─────────┼──────────────────░───┼─────────┼────┼────┼───────»\n",
              "                │         │                  ░   │         │    │    │       »\n",
              "  qr1_1: ───────┼─────────┼──────────────────░───┼─────────┼────┼────┼───────»\n",
              "                │         │                  ░   │         │    │    │       »\n",
              "  qr1_2: ───────┼─────────┼──────────────────░───┼─────────┼────┼────┼───────»\n",
              "                │         │                  ░   │         │    │    │       »\n",
              "  qr1_3: ───────┼─────────┼──────────────────░───┼─────────┼────┼────┼───────»\n",
              "                │         │                  ░   │         │    │    │       »\n",
              "  qr1_4: ───────┼─────────┼──────────────────░───┼─────────┼────┼────┼───────»\n",
              "                │         │                  ░   │         │    │    │       »\n",
              "  qr1_5: ───────┼─────────┼──────────────────░───┼─────────┼────┼────┼───────»\n",
              "              ┌─┴─┐┌───┐  │  ┌───┐┌───┐┌───┐ ░ ┌─┴─┐       │    │  ┌─┴─┐     »\n",
              "  qr2_0: ─────┤ X ├┤ X ├──■──┤ X ├┤ X ├┤ X ├─░─┤ X ├───────■────┼──┤ X ├─────»\n",
              "              └───┘└───┘  │  └───┘└─┬─┘└───┘ ░ └─┬─┘       │  ┌─┴─┐└─┬─┘┌───┐»\n",
              "  qr2_1: ─────────────────┼─────────┼────────░───┼─────────┼──┤ X ├──┼──┤ X ├»\n",
              "                          │         │        ░   │         │  └───┘  │  └───┘»\n",
              "  qr2_2: ─────────────────┼─────────┼────────░───┼─────────┼─────────┼───────»\n",
              "                          │         │        ░   │         │         │       »\n",
              "  qr2_3: ─────────────────┼─────────┼────────░───┼─────────┼─────────┼───────»\n",
              "                          │         │        ░   │         │         │       »\n",
              "  qr2_4: ─────────────────┼─────────┼────────░───┼─────────┼─────────┼───────»\n",
              "                          │         │        ░   │         │         │       »\n",
              "  qr2_5: ─────────────────┼─────────┼────────░───┼─────────┼─────────┼───────»\n",
              "                          │         │        ░   │         │         │       »\n",
              "  qr3_0: ─────────────────┼─────────┼────────░───┼─────────┼─────────┼───────»\n",
              "                          │         │        ░   │         │         │       »\n",
              "  qr3_1: ─────────────────┼─────────┼────────░───┼─────────┼─────────┼───────»\n",
              "                          │         │        ░   │         │         │       »\n",
              "  qr3_2: ─────────────────┼─────────┼────────░───┼─────────┼─────────┼───────»\n",
              "                          │         │        ░   │         │         │       »\n",
              "  qr3_3: ─────────────────┼─────────┼────────░───┼─────────┼─────────┼───────»\n",
              "                          │         │        ░   │         │         │       »\n",
              "  qr3_4: ─────────────────┼─────────┼────────░───┼─────────┼─────────┼───────»\n",
              "                          │         │        ░   │         │         │       »\n",
              "  qr3_5: ─────────────────┼─────────┼────────░───┼─────────┼─────────┼───────»\n",
              "                        ┌─┴─┐       │  ┌───┐ ░   │       ┌─┴─┐       │       »\n",
              "ancilla: ───────────────┤ X ├───────■──┤ X ├─░───■───────┤ X ├───────■───|0>─»\n",
              "                        └───┘          └───┘ ░           └───┘               »\n",
              "«                              ░                                              »\n",
              "«  qr0_0: ─────────────────────░──────────────────────────────────────────────»\n",
              "«              ┌───┐           ░                                              »\n",
              "«  qr0_1: ──■──┤ X ├───────────░───■─────────■─────────■──────────────────────»\n",
              "«           │  └───┘           ░   │  ┌───┐  │         │  ┌───┐     ┌───┐     »\n",
              "«  qr0_2: ──┼──────────────────░───┼──┤ X ├──┼────■────┼──┤ X ├──■──┤ X ├─────»\n",
              "«           │                  ░   │  └───┘  │    │    │  └───┘  │  └───┘     »\n",
              "«  qr0_3: ──┼──────────────────░───┼─────────┼────┼────┼─────────┼────────────»\n",
              "«           │                  ░   │         │    │    │         │            »\n",
              "«  qr0_4: ──┼──────────────────░───┼─────────┼────┼────┼─────────┼────────────»\n",
              "«           │                  ░   │         │    │    │         │            »\n",
              "«  qr0_5: ──┼──────────────────░───┼─────────┼────┼────┼─────────┼────────────»\n",
              "«           │                  ░   │         │    │    │         │            »\n",
              "«  qr1_0: ──┼──────────────────░───┼─────────┼────┼────┼─────────┼────────────»\n",
              "«           │                  ░   │         │    │    │         │            »\n",
              "«  qr1_1: ──┼──────────────────░───┼─────────┼────┼────┼─────────┼────────────»\n",
              "«           │                  ░   │         │    │    │         │            »\n",
              "«  qr1_2: ──┼──────────────────░───┼─────────┼────┼────┼─────────┼────────────»\n",
              "«           │                  ░   │         │    │    │         │            »\n",
              "«  qr1_3: ──┼──────────────────░───┼─────────┼────┼────┼─────────┼────────────»\n",
              "«           │                  ░   │         │    │    │         │            »\n",
              "«  qr1_4: ──┼──────────────────░───┼─────────┼────┼────┼─────────┼────────────»\n",
              "«           │                  ░   │         │    │    │         │            »\n",
              "«  qr1_5: ──┼──────────────────░───┼─────────┼────┼────┼─────────┼────────────»\n",
              "«           │                  ░   │         │    │    │         │            »\n",
              "«  qr2_0: ──┼──────────────────░───┼─────────┼────┼────┼─────────┼────────────»\n",
              "«           │  ┌───┐┌───┐┌───┐ ░ ┌─┴─┐       │    │  ┌─┴─┐       │            »\n",
              "«  qr2_1: ──■──┤ X ├┤ X ├┤ X ├─░─┤ X ├───────■────┼──┤ X ├───────┼────────────»\n",
              "«           │  └───┘└─┬─┘└───┘ ░ └─┬─┘       │  ┌─┴─┐└─┬─┘┌───┐  │  ┌───┐┌───┐»\n",
              "«  qr2_2: ──┼─────────┼────────░───┼─────────┼──┤ X ├──┼──┤ X ├──■──┤ X ├┤ X ├»\n",
              "«           │         │        ░   │         │  └───┘  │  └───┘  │  └───┘└─┬─┘»\n",
              "«  qr2_3: ──┼─────────┼────────░───┼─────────┼─────────┼─────────┼─────────┼──»\n",
              "«           │         │        ░   │         │         │         │         │  »\n",
              "«  qr2_4: ──┼─────────┼────────░───┼─────────┼─────────┼─────────┼─────────┼──»\n",
              "«           │         │        ░   │         │         │         │         │  »\n",
              "«  qr2_5: ──┼─────────┼────────░───┼─────────┼─────────┼─────────┼─────────┼──»\n",
              "«           │         │        ░   │         │         │         │         │  »\n",
              "«  qr3_0: ──┼─────────┼────────░───┼─────────┼─────────┼─────────┼─────────┼──»\n",
              "«           │         │        ░   │         │         │         │         │  »\n",
              "«  qr3_1: ──┼─────────┼────────░───┼─────────┼─────────┼─────────┼─────────┼──»\n",
              "«           │         │        ░   │         │         │         │         │  »\n",
              "«  qr3_2: ──┼─────────┼────────░───┼─────────┼─────────┼─────────┼─────────┼──»\n",
              "«           │         │        ░   │         │         │         │         │  »\n",
              "«  qr3_3: ──┼─────────┼────────░───┼─────────┼─────────┼─────────┼─────────┼──»\n",
              "«           │         │        ░   │         │         │         │         │  »\n",
              "«  qr3_4: ──┼─────────┼────────░───┼─────────┼─────────┼─────────┼─────────┼──»\n",
              "«           │         │        ░   │         │         │         │         │  »\n",
              "«  qr3_5: ──┼─────────┼────────░───┼─────────┼─────────┼─────────┼─────────┼──»\n",
              "«         ┌─┴─┐       │  ┌───┐ ░   │       ┌─┴─┐       │       ┌─┴─┐       │  »\n",
              "«ancilla: ┤ X ├───────■──┤ X ├─░───■───────┤ X ├───────■───|0>─┤ X ├───────■──»\n",
              "«         └───┘          └───┘ ░           └───┘               └───┘          »\n",
              "«               ░                                                    ░      »\n",
              "«  qr0_0: ──────░────────────────────────────────────────────────────░──────»\n",
              "«               ░                                                    ░      »\n",
              "«  qr0_1: ──────░────────────────────────────────────────────────────░──────»\n",
              "«               ░                                                    ░      »\n",
              "«  qr0_2: ──────░───■─────────■─────────■────────────────────────────░──────»\n",
              "«               ░   │  ┌───┐  │         │  ┌───┐     ┌───┐           ░      »\n",
              "«  qr0_3: ──────░───┼──┤ X ├──┼────■────┼──┤ X ├──■──┤ X ├───────────░───■──»\n",
              "«               ░   │  └───┘  │    │    │  └───┘  │  └───┘           ░   │  »\n",
              "«  qr0_4: ──────░───┼─────────┼────┼────┼─────────┼──────────────────░───┼──»\n",
              "«               ░   │         │    │    │         │                  ░   │  »\n",
              "«  qr0_5: ──────░───┼─────────┼────┼────┼─────────┼──────────────────░───┼──»\n",
              "«               ░   │         │    │    │         │                  ░   │  »\n",
              "«  qr1_0: ──────░───┼─────────┼────┼────┼─────────┼──────────────────░───┼──»\n",
              "«               ░   │         │    │    │         │                  ░   │  »\n",
              "«  qr1_1: ──────░───┼─────────┼────┼────┼─────────┼──────────────────░───┼──»\n",
              "«               ░   │         │    │    │         │                  ░   │  »\n",
              "«  qr1_2: ──────░───┼─────────┼────┼────┼─────────┼──────────────────░───┼──»\n",
              "«               ░   │         │    │    │         │                  ░   │  »\n",
              "«  qr1_3: ──────░───┼─────────┼────┼────┼─────────┼──────────────────░───┼──»\n",
              "«               ░   │         │    │    │         │                  ░   │  »\n",
              "«  qr1_4: ──────░───┼─────────┼────┼────┼─────────┼──────────────────░───┼──»\n",
              "«               ░   │         │    │    │         │                  ░   │  »\n",
              "«  qr1_5: ──────░───┼─────────┼────┼────┼─────────┼──────────────────░───┼──»\n",
              "«               ░   │         │    │    │         │                  ░   │  »\n",
              "«  qr2_0: ──────░───┼─────────┼────┼────┼─────────┼──────────────────░───┼──»\n",
              "«               ░   │         │    │    │         │                  ░   │  »\n",
              "«  qr2_1: ──────░───┼─────────┼────┼────┼─────────┼──────────────────░───┼──»\n",
              "«         ┌───┐ ░ ┌─┴─┐       │    │  ┌─┴─┐       │                  ░   │  »\n",
              "«  qr2_2: ┤ X ├─░─┤ X ├───────■────┼──┤ X ├───────┼──────────────────░───┼──»\n",
              "«         └───┘ ░ └─┬─┘       │  ┌─┴─┐└─┬─┘┌───┐  │  ┌───┐┌───┐┌───┐ ░ ┌─┴─┐»\n",
              "«  qr2_3: ──────░───┼─────────┼──┤ X ├──┼──┤ X ├──■──┤ X ├┤ X ├┤ X ├─░─┤ X ├»\n",
              "«               ░   │         │  └───┘  │  └───┘  │  └───┘└─┬─┘└───┘ ░ └─┬─┘»\n",
              "«  qr2_4: ──────░───┼─────────┼─────────┼─────────┼─────────┼────────░───┼──»\n",
              "«               ░   │         │         │         │         │        ░   │  »\n",
              "«  qr2_5: ──────░───┼─────────┼─────────┼─────────┼─────────┼────────░───┼──»\n",
              "«               ░   │         │         │         │         │        ░   │  »\n",
              "«  qr3_0: ──────░───┼─────────┼─────────┼─────────┼─────────┼────────░───┼──»\n",
              "«               ░   │         │         │         │         │        ░   │  »\n",
              "«  qr3_1: ──────░───┼─────────┼─────────┼─────────┼─────────┼────────░───┼──»\n",
              "«               ░   │         │         │         │         │        ░   │  »\n",
              "«  qr3_2: ──────░───┼─────────┼─────────┼─────────┼─────────┼────────░───┼──»\n",
              "«               ░   │         │         │         │         │        ░   │  »\n",
              "«  qr3_3: ──────░───┼─────────┼─────────┼─────────┼─────────┼────────░───┼──»\n",
              "«               ░   │         │         │         │         │        ░   │  »\n",
              "«  qr3_4: ──────░───┼─────────┼─────────┼─────────┼─────────┼────────░───┼──»\n",
              "«               ░   │         │         │         │         │        ░   │  »\n",
              "«  qr3_5: ──────░───┼─────────┼─────────┼─────────┼─────────┼────────░───┼──»\n",
              "«         ┌───┐ ░   │       ┌─┴─┐       │       ┌─┴─┐       │  ┌───┐ ░   │  »\n",
              "«ancilla: ┤ X ├─░───■───────┤ X ├───────■───|0>─┤ X ├───────■──┤ X ├─░───■──»\n",
              "«         └───┘ ░           └───┘               └───┘          └───┘ ░      »\n",
              "«                                                       ░                     \n",
              "«  qr0_0: ──────────────────────────────────────────────░─────────────────────\n",
              "«                                                       ░                     \n",
              "«  qr0_1: ──────────────────────────────────────────────░─────────────────────\n",
              "«                                                       ░                     \n",
              "«  qr0_2: ──────────────────────────────────────────────░─────────────────────\n",
              "«                                                       ░                     \n",
              "«  qr0_3: ───────■─────────■────────────────────────────░─────────────────────\n",
              "«                │         │                            ░                     \n",
              "«  qr0_4: ───────┼─────────┼────────────────────────────░─────────────────────\n",
              "«                │         │                            ░                     \n",
              "«  qr0_5: ───────┼─────────┼────────────────────────────░─────────────────────\n",
              "«                │         │                            ░                     \n",
              "«  qr1_0: ───────┼─────────┼────────────────────────────░─────────────────────\n",
              "«                │         │                            ░                     \n",
              "«  qr1_1: ───────┼─────────┼────────────────────────────░─────────────────────\n",
              "«                │         │                            ░                     \n",
              "«  qr1_2: ───────┼─────────┼────────────────────────────░─────────────────────\n",
              "«                │         │                            ░                     \n",
              "«  qr1_3: ───────┼─────────┼────────────────────────────░─────────────────────\n",
              "«                │         │                            ░                     \n",
              "«  qr1_4: ───────┼─────────┼────────────────────────────░─────────────────────\n",
              "«         ┌───┐  │         │  ┌───┐     ┌───┐           ░                     \n",
              "«  qr1_5: ┤ X ├──┼────■────┼──┤ X ├──■──┤ X ├───────────░───■────■────■───────\n",
              "«         └───┘  │    │    │  └───┘  │  └───┘           ░   │    │    │       \n",
              "«  qr2_0: ───────┼────┼────┼─────────┼──────────────────░───┼────┼────┼───────\n",
              "«                │    │    │         │                  ░   │    │    │       \n",
              "«  qr2_1: ───────┼────┼────┼─────────┼──────────────────░───┼────┼────┼───────\n",
              "«                │    │    │         │                  ░   │    │    │       \n",
              "«  qr2_2: ───────┼────┼────┼─────────┼──────────────────░───┼────┼────┼───────\n",
              "«                │    │  ┌─┴─┐       │                  ░   │    │    │       \n",
              "«  qr2_3: ───────■────┼──┤ X ├───────┼──────────────────░───┼────┼────┼───────\n",
              "«                │    │  └─┬─┘       │                  ░   │    │    │       \n",
              "«  qr2_4: ───────┼────┼────┼─────────┼──────────────────░───┼────┼────┼───────\n",
              "«                │  ┌─┴─┐  │  ┌───┐  │  ┌───┐┌───┐┌───┐ ░ ┌─┴─┐  │  ┌─┴─┐     \n",
              "«  qr2_5: ───────┼──┤ X ├──┼──┤ X ├──■──┤ X ├┤ X ├┤ X ├─░─┤ X ├──■──┤ X ├─────\n",
              "«                │  └───┘  │  └───┘  │  └───┘└─┬─┘└───┘ ░ └─┬─┘  │  └─┬─┘     \n",
              "«  qr3_0: ───────┼─────────┼─────────┼─────────┼────────░───┼────┼────┼───────\n",
              "«                │         │         │         │        ░   │    │    │       \n",
              "«  qr3_1: ───────┼─────────┼─────────┼─────────┼────────░───┼────┼────┼───────\n",
              "«                │         │         │         │        ░   │    │    │       \n",
              "«  qr3_2: ───────┼─────────┼─────────┼─────────┼────────░───┼────┼────┼───────\n",
              "«                │         │         │         │        ░   │    │    │       \n",
              "«  qr3_3: ───────┼─────────┼─────────┼─────────┼────────░───┼────┼────┼───────\n",
              "«                │         │         │         │        ░   │    │    │       \n",
              "«  qr3_4: ───────┼─────────┼─────────┼─────────┼────────░───┼────┼────┼───────\n",
              "«                │         │         │         │        ░   │    │    │       \n",
              "«  qr3_5: ───────┼─────────┼─────────┼─────────┼────────░───┼────┼────┼───────\n",
              "«              ┌─┴─┐       │       ┌─┴─┐       │  ┌───┐ ░   │  ┌─┴─┐  │       \n",
              "«ancilla: ─────┤ X ├───────■───|0>─┤ X ├───────■──┤ X ├─░───■──┤ X ├──■───|0>─\n",
              "«              └───┘               └───┘          └───┘ ░      └───┘          </pre>"
            ]
          },
          "metadata": {},
          "execution_count": 59
        }
      ]
    },
    {
      "cell_type": "code",
      "source": [
        "from qiskit import QuantumCircuit\n",
        "\n",
        "# Inicialización\n",
        "qc = QuantumCircuit(3)\n",
        "\n",
        "# Prueba: Cambia |10⟩ a |11⟩\n",
        "qc.x(0) # primer qubit a |1⟩\n",
        "# el segundo qubit está en |0⟩\n",
        "\n",
        "# Implementación del circuito\n",
        "qc.cx(0, 1) # Para |10⟩ => |11⟩\n",
        "qc.x(0)\n",
        "qc.x(1) # Prepara los qubits para la siguiente operación\n",
        "qc.ccx(0, 1, 2) # Marca |00⟩ en el ancilla\n",
        "qc.x(1) # Aplica NOT en q[1] si el ancilla está en |1⟩\n",
        "qc.x(0)\n",
        "qc.cx(2, 1)\n",
        "qc.x(1)\n",
        "qc.x(2) # Devuelve los qubits y el ancilla a sus estados originales\n",
        "\n",
        "qc.barrier()\n",
        "\n",
        "# Restablece el qubit ancilla\n",
        "qc.ccx(0, 2, 1)\n",
        "qc.ccx(0, 1, 2)\n",
        "qc.ccx(0, 2, 1)\n",
        "qc.reset(2)\n",
        "\n",
        "print(qc)\n"
      ],
      "metadata": {
        "colab": {
          "base_uri": "https://localhost:8080/"
        },
        "id": "bfEA_VCSYAhU",
        "outputId": "b8a39c00-8bf1-43a2-ac82-0541a214882e"
      },
      "execution_count": null,
      "outputs": [
        {
          "output_type": "stream",
          "name": "stdout",
          "text": [
            "     ┌───┐     ┌───┐     ┌───┐           ░                     \n",
            "q_0: ┤ X ├──■──┤ X ├──■──┤ X ├───────────░───■────■────■───────\n",
            "     └───┘┌─┴─┐├───┤  │  ├───┤┌───┐┌───┐ ░ ┌─┴─┐  │  ┌─┴─┐     \n",
            "q_1: ─────┤ X ├┤ X ├──■──┤ X ├┤ X ├┤ X ├─░─┤ X ├──■──┤ X ├─────\n",
            "          └───┘└───┘┌─┴─┐└───┘└─┬─┘├───┤ ░ └─┬─┘┌─┴─┐└─┬─┘     \n",
            "q_2: ───────────────┤ X ├───────■──┤ X ├─░───■──┤ X ├──■───|0>─\n",
            "                    └───┘          └───┘ ░      └───┘          \n"
          ]
        }
      ]
    }
  ]
}
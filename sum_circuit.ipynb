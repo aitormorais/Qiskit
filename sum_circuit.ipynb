{
 "cells": [
  {
   "attachments": {},
   "cell_type": "markdown",
   "id": "de0665b6",
   "metadata": {},
   "source": [
    "# Summation circuit\n",
    "---\n",
    "Main program. See [arXiv:quant-ph/0008033](https://arxiv.org/abs/quant-ph/0008033).\n",
    "\n",
    "*Author*: Sebastián V. Romero ([sebastian.vidal@rai.usc.es](mailto:sebastian.vidal@rai.usc.es))."
   ]
  },
  {
   "cell_type": "markdown",
   "id": "e456d7a4",
   "metadata": {},
   "source": [
    "## General imports"
   ]
  },
  {
   "cell_type": "code",
   "execution_count": 1,
   "id": "b80c14b7",
   "metadata": {},
   "outputs": [],
   "source": [
    "from qiskit import QuantumRegister, transpile\n",
    "\n",
    "%run sum_functions.ipynb"
   ]
  },
  {
   "cell_type": "markdown",
   "id": "44fdab8d",
   "metadata": {},
   "source": [
    "## Circuit construction"
   ]
  },
  {
   "attachments": {},
   "cell_type": "markdown",
   "id": "0ca813e6",
   "metadata": {},
   "source": [
    "### Naive example for 2 qubits\n",
    "\n",
    "Preparation:\n",
    "- Top: $\\ket{1}\\ket{0} = \\ket{2}$.\n",
    "- Bottom: $\\ket{0}\\ket{1} = \\ket{1}$.\n",
    "\n",
    "After summation:\n",
    "- Top: $\\ket{1}\\ket{1} = \\ket{3}$.\n",
    "- Bottom: $\\ket{0}\\ket{1} = \\ket{1}$ (same)."
   ]
  },
  {
   "cell_type": "code",
   "execution_count": 2,
   "id": "d95fecbf",
   "metadata": {},
   "outputs": [
    {
     "name": "stdout",
     "output_type": "stream",
     "text": [
      "(1+0j) |0110>   \n",
      "(1-0j) |1110>   \n",
      "Result: 2+1 = 3\n"
     ]
    },
    {
     "data": {
      "image/png": "[encoded data removed]",
      "text/plain": [
       "<Figure size 723.783x367.889 with 1 Axes>"
      ]
     },
     "execution_count": 2,
     "metadata": {},
     "output_type": "execute_result"
    }
   ],
   "source": [
    "nq = 2\n",
    "q1 = QuantumRegister(nq, name = 'q1')\n",
    "q2 = QuantumRegister(nq, name = 'q2')\n",
    "qc = QuantumCircuit(q1, q2)\n",
    "\n",
    "zeroState = np.array([1, 0])\n",
    "oneState  = np.array([0, 1])\n",
    "\n",
    "for qubit in range(nq):\n",
    "    if qubit != 0:\n",
    "        qc.initialize(oneState, q1.index(q1[qubit]))\n",
    "        qc.initialize(zeroState, q2.index(q2[qubit])+nq)\n",
    "    else:\n",
    "        qc.initialize(zeroState, q1.index(q1[qubit]))\n",
    "        qc.initialize(oneState, q2.index(q2[qubit])+nq)\n",
    "qc.barrier()\n",
    "\n",
    "finalState = getState(qc, 2 * nq, fancyPrint = True)\n",
    "\n",
    "n = len(q1)\n",
    "qc.append(QFT(n, do_swaps = False), q1)\n",
    "summation(qc, q2, q1)\n",
    "qc.append(QFT(n, inverse = True, do_swaps = False), q1)\n",
    "\n",
    "finalState = getState(qc, 2 * nq, fancyPrint = True)\n",
    "print('Result: 2+1 = %i' % binaryToInt(finalState[-1][: nq]))\n",
    "\n",
    "qc.draw(output = 'mpl', plot_barriers = False)"
   ]
  },
  {
   "cell_type": "markdown",
   "id": "1680d497",
   "metadata": {},
   "source": [
    "## Version information"
   ]
  },
  {
   "cell_type": "code",
   "execution_count": 3,
   "id": "b80c9ee9",
   "metadata": {},
   "outputs": [
    {
     "data": {
      "text/html": [
       "<h3>Version Information</h3><table><tr><th>Qiskit Software</th><th>Version</th></tr><tr><td><code>qiskit-terra</code></td><td>0.21.0</td></tr><tr><td><code>qiskit-aer</code></td><td>0.10.4</td></tr><tr><td><code>qiskit-ibmq-provider</code></td><td>0.19.2</td></tr><tr><th>System information</th></tr><tr><td>Python version</td><td>3.9.16</td></tr><tr><td>Python compiler</td><td>GCC 11.2.0</td></tr><tr><td>Python build</td><td>main, Mar  1 2023 18:22:10</td></tr><tr><td>OS</td><td>Linux</td></tr><tr><td>CPUs</td><td>8</td></tr><tr><td>Memory (Gb)</td><td>30.56763458251953</td></tr><tr><td colspan='2'>Wed Apr 12 09:52:35 2023 CEST</td></tr></table>"
      ],
      "text/plain": [
       "<IPython.core.display.HTML object>"
      ]
     },
     "metadata": {},
     "output_type": "display_data"
    }
   ],
   "source": [
    "import qiskit.tools.jupyter\n",
    "%qiskit_version_table"
   ]
  },
  {
   "cell_type": "code",
   "execution_count": null,
   "id": "0a73bf25",
   "metadata": {},
   "outputs": [],
   "source": []
  }
 ],
 "metadata": {
  "interpreter": {
   "hash": "9b9c1c20af78f4bed64a8df9d0ad676f49a92edf53137635330c764a5b9c63c9"
  },
  "kernelspec": {
   "display_name": "Python 3 (ipykernel)",
   "language": "python",
   "name": "python3"
  },
  "language_info": {
   "codemirror_mode": {
    "name": "ipython",
    "version": 3
   },
   "file_extension": ".py",
   "mimetype": "text/x-python",
   "name": "python",
   "nbconvert_exporter": "python",
   "pygments_lexer": "ipython3",
   "version": "3.9.16"
  }
 },
 "nbformat": 4,
 "nbformat_minor": 5
}

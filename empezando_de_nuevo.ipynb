{
  "nbformat": 4,
  "nbformat_minor": 0,
  "metadata": {
    "colab": {
      "provenance": [],
      "authorship_tag": "ABX9TyMxzi9xH9dfJmLIiynZlTb7",
      "include_colab_link": true
    },
    "kernelspec": {
      "name": "python3",
      "display_name": "Python 3"
    },
    "language_info": {
      "name": "python"
    }
  },
  "cells": [
    {
      "cell_type": "markdown",
      "metadata": {
        "id": "view-in-github",
        "colab_type": "text"
      },
      "source": [
        "<a href=\"https://colab.research.google.com/github/aitormorais/Qiskit/blob/main/empezando_de_nuevo.ipynb\" target=\"_parent\"><img src=\"https://colab.research.google.com/assets/colab-badge.svg\" alt=\"Open In Colab\"/></a>"
      ]
    },
    {
      "cell_type": "code",
      "source": [
        "import random\n",
        "import networkx as nx"
      ],
      "metadata": {
        "id": "LwX9QimwBfxB"
      },
      "execution_count": null,
      "outputs": []
    },
    {
      "cell_type": "code",
      "source": [
        "import itertools"
      ],
      "metadata": {
        "id": "xM7-7G0MYGX9"
      },
      "execution_count": 307,
      "outputs": []
    },
    {
      "cell_type": "code",
      "source": [
        "import time\n",
        "import numpy as np\n",
        "import matplotlib.pyplot as plt\n",
        "\n"
      ],
      "metadata": {
        "id": "LEKF58SEsCgm"
      },
      "execution_count": null,
      "outputs": []
    },
    {
      "cell_type": "code",
      "source": [
        "def generar_grafo(numero_ciudades):\n",
        "    \"\"\"\n",
        "    Genera un grafo completo con un número dado de ciudades como nodos y asigna distancias aleatorias a cada par de nodos comprendidas entre el 1 y el 10.\n",
        "    \n",
        "    Parámetros\n",
        "    ----------\n",
        "    numero_ciudades : int\n",
        "        El número de ciudades (nodos) para incluir en el grafo.\n",
        "        \n",
        "    Devoluciones\n",
        "    ------------\n",
        "    G : networkx.classes.graph.Graph\n",
        "        Un objeto de grafo completo de NetworkX con 'numero_ciudades' nodos y distancias aleatorias asignadas a cada par de nodos.\n",
        "        \n",
        "    distancias : dict\n",
        "        Un diccionario de NetworkX que mapea cada par de nodos a la 'distancia' entre ellos. Las claves del diccionario son tuplas de dos elementos que representan los pares de nodos, y los valores son las distancias aleatorias asignadas.\n",
        "        \n",
        "    Ejemplo\n",
        "    -------\n",
        "    >>> G, distancias = generar_grafo(5)\n",
        "    >>> print(G.edges(data=True))\n",
        "    [(0, 1, {'distancia': 3}), (0, 2, {'distancia': 7}), (0, 3, {'distancia': 2}), (0, 4, {'distancia': 6}), \n",
        "    (1, 2, {'distancia': 10}), (1, 3, {'distancia': 1}), (1, 4, {'distancia': 8}), (2, 3, {'distancia': 4}), \n",
        "    (2, 4, {'distancia': 5}), (3, 4, {'distancia': 9})]\n",
        "    >>> print(distancias)\n",
        "    {(0, 1): 3, (0, 2): 7, (0, 3): 2, (0, 4): 6, (1, 2): 10, (1, 3): 1, (1, 4): 8, (2, 3): 4, (2, 4): 5, (3, 4): 9}\n",
        "    \"\"\"\n",
        "    # Crear un grafo completo con 'numero_ciudades' nodos\n",
        "    G = nx.complete_graph(numero_ciudades)\n",
        "    # Asignar una distancia aleatoria (entre 1 y 10) a cada par de nodos\n",
        "    for (u, v) in G.edges():\n",
        "        G.edges[u, v]['distancia'] = random.randint(1, 10)\n",
        "    # Obtener un diccionario de las distancias entre cada par de nodos\n",
        "    distancias = nx.get_edge_attributes(G, 'distancia')\n",
        "    return G, distancias\n"
      ],
      "metadata": {
        "id": "SaTyS3h6-SYS"
      },
      "execution_count": 344,
      "outputs": []
    },
    {
      "cell_type": "code",
      "execution_count": 345,
      "metadata": {
        "id": "t9r7gS-XBUI2"
      },
      "outputs": [],
      "source": [
        "def dibujar_grafo(G):\n",
        "    \"\"\"\n",
        "    Dibuja el grafo en un layout circular con las etiquetas de nodos y las distancias de las aristas.\n",
        "\n",
        "    Parámetros\n",
        "    ----------\n",
        "    G : networkx.classes.graph.Graph\n",
        "        Un objeto de grafo de NetworkX que se desea dibujar. Cada arista del grafo debe tener un atributo de 'distancia'.\n",
        "\n",
        "    Devoluciones\n",
        "    ------------\n",
        "    None : Esta función no devuelve nada pero genera un gráfico de matplotlib.\n",
        "\n",
        "    Ejemplo\n",
        "    -------\n",
        "    >>> G, _ = generar_grafo(5)\n",
        "    >>> dibujar_grafo(G)\n",
        "    \"\"\"\n",
        "    # Crear un layout circular para el grafo\n",
        "    pos = nx.circular_layout(G)\n",
        "    \n",
        "    # Dibujar el grafo con las etiquetas de los nodos\n",
        "    nx.draw(G, pos, with_labels=True)\n",
        "    \n",
        "    # Obtener un diccionario de las distancias entre cada par de nodos\n",
        "    labels = nx.get_edge_attributes(G, 'distancia')\n",
        "    \n",
        "    # Dibujar las etiquetas de las aristas (distancias)\n",
        "    nx.draw_networkx_edge_labels(G, pos, edge_labels=labels)\n"
      ]
    },
    {
      "cell_type": "code",
      "source": [
        "grafo, distancias = generar_grafo(8)"
      ],
      "metadata": {
        "id": "GF_BtKufZ6RX"
      },
      "execution_count": null,
      "outputs": []
    },
    {
      "cell_type": "code",
      "source": [
        "def generar_diccionario_viajes(grafo, distancias):\n",
        "    \"\"\"\n",
        "    Genera un diccionario de todos los posibles viajes entre los nodos del grafo y sus respectivas distancias.\n",
        "\n",
        "    Parámetros\n",
        "    ----------\n",
        "    grafo : NetworkX Graph\n",
        "        El grafo sobre el cual se generan los viajes. Cada nodo del grafo representa una ciudad.\n",
        "\n",
        "    distancias : dict\n",
        "        Un diccionario que mapea cada par de nodos (ciudades) a la distancia entre ellos.\n",
        "\n",
        "    Devoluciones\n",
        "    ------------\n",
        "    dicionario : dict\n",
        "        Un diccionario donde cada clave es una tupla que representa un posible viaje entre las ciudades,\n",
        "        y cada valor es la distancia total de ese viaje.\n",
        "\n",
        "    Ejemplo\n",
        "    -------\n",
        "    >>> grafo = nx.complete_graph(3)\n",
        "    >>> distancias = {(0, 1): 2, (1, 2): 3, (0, 2): 1}\n",
        "    >>> dicionario = generar_diccionario_viajes(grafo, distancias)\n",
        "    >>> print(dicionario)\n",
        "    {(0, 1, 2): 5, (0, 2, 1): 4, (1, 0, 2): 6, (1, 2, 0): 3, (2, 0, 1): 3, (2, 1, 0): 6}\n",
        "    \"\"\"\n",
        "    #list(range(grafo.number_of_nodes())) == nodos\n",
        "    #len(list(range(grafo.number_of_nodes())))) == len(nodos)\n",
        "    # Genera todas las posibles permutaciones de los nodos en el grafo\n",
        "    permutaciones = list(itertools.permutations(list(range(grafo.number_of_nodes())), len(list(range(grafo.number_of_nodes())))))\n",
        "\n",
        "    # Inicializa el diccionario vacío\n",
        "    dicionario = {}\n",
        "\n",
        "    # Para cada posible viaje, calcula la distancia total y la almacena en el diccionario\n",
        "    for viaje in permutaciones:\n",
        "      dicionario[viaje] = distancia_entera(viaje, distancias)\n",
        "\n",
        "    # Devuelve el diccionario de viajes y distancias\n",
        "    return dicionario\n"
      ],
      "metadata": {
        "id": "o2gwUhqCBfR4"
      },
      "execution_count": 348,
      "outputs": []
    },
    {
      "cell_type": "code",
      "source": [
        "def generar_dic_viajes(grafo,distancias):#comaparar???\n",
        "  \"\"\"generar un dicionario con todos los viajes y su respectiva distancia\"\"\"\n",
        "  # Obteniendo el número de nodos\n",
        "  nodos = list(range(grafo.number_of_nodes()))\n",
        "  # Define el número de nodos en cada permutación\n",
        "  k = len(nodos)\n",
        "  # Genera todas las permutaciones de k nodos\n",
        "  permutaciones = list(itertools.permutations(nodos, k))\n",
        "  #crear dicionario\n",
        "  dicionario = {}\n",
        "  for viaje in permutaciones:\n",
        "    dicionario[viaje] = distancia_entera(viaje,distancias)\n",
        "  return dicionario\n"
      ],
      "metadata": {
        "id": "1nIsqSqbPFhA"
      },
      "execution_count": null,
      "outputs": []
    },
    {
      "cell_type": "code",
      "source": [
        "def de(viaje, labels):\n",
        "    suma = 0\n",
        "    for i in range(len(viaje)):\n",
        "        pueblo = viaje[i]\n",
        "        if i == len(viaje) - 1:  # es el último elemento\n",
        "            siguiente = viaje[0]\n",
        "        else:\n",
        "            siguiente = viaje[i+1]\n",
        "\n",
        "        clave = tuple(sorted((pueblo, siguiente)))\n",
        "        distancia = labels.get(clave, None)\n",
        "        if distancia is not None:\n",
        "            suma += distancia\n",
        "\n",
        "    return suma\n"
      ],
      "metadata": {
        "id": "Jw-jxnF2qptH"
      },
      "execution_count": null,
      "outputs": []
    },
    {
      "cell_type": "code",
      "source": [
        "def distancia_entera(viaje,labels):\n",
        "  suma = 0\n",
        "  for pueblo in viaje:\n",
        "    if pueblo == viaje[-1]:\n",
        "      clave = (viaje[0],pueblo) if pueblo > viaje[0] else (pueblo,viaje[0])\n",
        "      suma = suma +labels.get(clave, None)\n",
        "    else:\n",
        "      siguiente= viaje[viaje.index(pueblo)+1]\n",
        "      clave = (pueblo,siguiente ) if siguiente > pueblo else (siguiente,pueblo)\n",
        "      suma = suma +labels.get(clave, None)\n",
        "  return suma"
      ],
      "metadata": {
        "id": "0PBJ23WVNI-q"
      },
      "execution_count": null,
      "outputs": []
    },
    {
      "cell_type": "code",
      "source": [
        "def medir_tiempo(func, args, numero):\n",
        "    \"\"\"\n",
        "    Mide el tiempo de ejecución de una función específica varias veces.\n",
        "\n",
        "    Parámetros\n",
        "    ----------\n",
        "    func : Callable\n",
        "        La función cuyo tiempo de ejecución se desea medir.\n",
        "\n",
        "    args : list\n",
        "        Una lista de los argumentos para pasar a la función.\n",
        "\n",
        "    numero : int\n",
        "        El número de veces que se debe ejecutar la función para medir su tiempo de ejecución.\n",
        "\n",
        "    Devoluciones\n",
        "    ------------\n",
        "    tiempos : list\n",
        "        Una lista de los tiempos de ejecución de la función.\n",
        "\n",
        "    Ejemplo\n",
        "    -------\n",
        "    >>> def suma(x, y):\n",
        "    ...     return x + y\n",
        "    ...\n",
        "    >>> tiempos = medir_tiempo(suma, [1, 2], 100)\n",
        "    \"\"\"\n",
        "    # Inicializar una lista vacía para almacenar los tiempos de ejecución\n",
        "    tiempos = []\n",
        "\n",
        "    # Ejecutar la función el número especificado de veces\n",
        "    for _ in range(numero):\n",
        "\n",
        "        # Registrar el tiempo antes de ejecutar la función\n",
        "        inicio = time.time()\n",
        "\n",
        "        # Ejecutar la función con los argumentos dados\n",
        "        func(*args)\n",
        "\n",
        "        # Registrar el tiempo después de ejecutar la función\n",
        "        fin = time.time()\n",
        "\n",
        "        # Calcular el tiempo de ejecución y agregarlo a la lista de tiempos\n",
        "        tiempos.append(fin - inicio)\n",
        "\n",
        "    # Devolver la lista de tiempos de ejecución\n",
        "    return tiempos\n"
      ],
      "metadata": {
        "id": "zH1agMAw_-7x"
      },
      "execution_count": 347,
      "outputs": []
    },
    {
      "cell_type": "code",
      "source": [
        "def medir_tiempos(funciones, argumentos, numero):\n",
        "    \"\"\"\n",
        "    Mide el tiempo de ejecución de varias funciones, ejecutándolas un número especificado de veces.\n",
        "\n",
        "    Parámetros\n",
        "    ----------\n",
        "    funciones : list\n",
        "        Una lista de funciones cuyos tiempos de ejecución se quieren medir.\n",
        "    argumentos : list\n",
        "        Una lista de listas. Cada sublista contiene los argumentos para la función correspondiente en la lista de funciones.\n",
        "    numero : int\n",
        "        El número de veces que se quiere ejecutar cada función para medir su tiempo de ejecución.\n",
        "\n",
        "    Devoluciones\n",
        "    ------------\n",
        "    tiempos : dict\n",
        "        Un diccionario donde las claves son los nombres de las funciones y los valores son listas de los tiempos de ejecución de la correspondiente función.\n",
        "\n",
        "    Ejemplo\n",
        "    -------\n",
        "    >>> def suma(a, b):\n",
        "    ...     return a + b\n",
        "    >>> def producto(a, b):\n",
        "    ...     return a * b\n",
        "    >>> funciones = [suma, producto]\n",
        "    >>> argumentos = [[1, 2], [3, 4]]\n",
        "    >>> medir_tiempos(funciones, argumentos, 10)\n",
        "    {'suma': [1.1920928955078125e-06, 9.5367431640625e-07, ...],\n",
        "     'producto': [9.5367431640625e-07, 1.1920928955078125e-06, ...]}\n",
        "    \"\"\"\n",
        "    tiempos = {}\n",
        "    for func, args in zip(funciones, argumentos):\n",
        "        tiempos[func.__name__] = medir_tiempo(func, args, numero)\n",
        "    return tiempos\n"
      ],
      "metadata": {
        "id": "LPmstbHuxYc_"
      },
      "execution_count": 346,
      "outputs": []
    },
    {
      "cell_type": "code",
      "source": [
        "\n",
        "def comparar_tiempos(nombres, medias, maximos, minimos):\n",
        "    \"\"\"\n",
        "    Dibuja un gráfico de barras para comparar los tiempos de ejecución de diferentes funciones.\n",
        "\n",
        "    Parámetros\n",
        "    ----------\n",
        "    nombres : list of str\n",
        "        Los nombres de las funciones a comparar.\n",
        "    medias : list of list of float\n",
        "        Los tiempos de ejecución medios para cada función.\n",
        "    maximos : list of list of float\n",
        "        Los tiempos de ejecución máximos para cada función.\n",
        "    minimos : list of list of float\n",
        "        Los tiempos de ejecución mínimos para cada función.\n",
        "    \"\"\"\n",
        "    x = np.arange(len(nombres))  # las ubicaciones de las etiquetas\n",
        "    width = 0.2  # el ancho de las barras\n",
        "\n",
        "    fig, ax = plt.subplots()\n",
        "    rects1 = ax.bar(x - width, medias, width, label='Media')\n",
        "    rects2 = ax.bar(x, maximos, width, label='Máximo')\n",
        "    rects3 = ax.bar(x + width, minimos, width, label='Mínimo')\n",
        "\n",
        "    # Añadir algunas etiquetas de texto, título y leyenda\n",
        "    ax.set_ylabel('Tiempo (s)')\n",
        "    ax.set_title('Tiempos de ejecución')\n",
        "    ax.set_xticks(x)\n",
        "    ax.set_xticklabels(nombres)\n",
        "    ax.legend()\n",
        "\n",
        "    # Función para manejar el evento de pasar el ratón sobre una barra\n",
        "    def on_motion(event):\n",
        "        if event.inaxes == ax:\n",
        "            for i, rect in enumerate(np.hstack((rects1, rects2, rects3))):\n",
        "                if rect.contains(event)[0]:\n",
        "                    height = rect.get_height()\n",
        "                    message = f\"Altura: {height}\"\n",
        "                    fig.canvas.toolbar.set_message(message)\n",
        "                    break\n",
        "            else:\n",
        "                fig.canvas.toolbar.set_message(\"\")\n",
        "        else:\n",
        "            fig.canvas.toolbar.set_message(\"\")\n",
        "\n",
        "    # Conectar la función de manejo de eventos al canvas del gráfico\n",
        "    fig.canvas.mpl_connect('motion_notify_event', on_motion)\n",
        "\n",
        "    # Mostrar el gráfico\n",
        "    plt.show()\n",
        "\n"
      ],
      "metadata": {
        "id": "0FpTSIKZCvhE"
      },
      "execution_count": 356,
      "outputs": []
    },
    {
      "cell_type": "code",
      "source": [
        "funciones = [de, distancia_entera]\n",
        "argumentos = [[[0,1,7,3,4,5,6,2], distancias], [[0,1,7,3,4,5,6,2], distancias]]"
      ],
      "metadata": {
        "id": "A5EcD8Ey6Zbd"
      },
      "execution_count": null,
      "outputs": []
    },
    {
      "cell_type": "code",
      "source": [
        "def grafico(funciones, argumentos):\n",
        "    \"\"\"\n",
        "    Esta función genera un gráfico comparativo de los tiempos de ejecución de diferentes funciones.\n",
        "\n",
        "    Parámetros\n",
        "    ----------\n",
        "    funciones : list of function\n",
        "        Una lista de las funciones que se van a comparar. \n",
        "        Cada función debería tomar los mismos argumentos.\n",
        "    argumentos : list of list\n",
        "        Una lista de listas. Cada sublista es una lista de argumentos para pasar a cada función. \n",
        "        Todas las sub-listas deben tener el mismo tamaño y los argumentos deben estar en el mismo orden para cada función.\n",
        "\n",
        "    Notas\n",
        "    -----\n",
        "    Esta función utiliza las funciones 'medir_tiempos' y 'crear_arrays_tiempos' para medir y preparar los datos de los tiempos de ejecución.\n",
        "    Después, utiliza la función 'comparar_tiempos' para generar y mostrar el gráfico de barras.\n",
        "    \"\"\"\n",
        "    lista = []\n",
        "    nombres = []\n",
        "    for clave, valor in medir_tiempos(funciones, argumentos, 10000).items():\n",
        "        nombres.append(clave)\n",
        "        lista.append(valor)\n",
        "    comparar_tiempos(nombres, *crear_arrays_tiempos(lista))\n"
      ],
      "metadata": {
        "id": "Vplhb1qw59vg"
      },
      "execution_count": 364,
      "outputs": []
    },
    {
      "cell_type": "code",
      "source": [
        "grafico(funciones,argumentos)"
      ],
      "metadata": {
        "colab": {
          "base_uri": "https://localhost:8080/",
          "height": 453
        },
        "id": "84Oyln7U9VOO",
        "outputId": "7ef6a3a2-7f9f-4bc7-ab5d-7ced3ba335e4"
      },
      "execution_count": 365,
      "outputs": [
        {
          "output_type": "display_data",
          "data": {
            "text/plain": [
              "<Figure size 640x480 with 1 Axes>"
            ],
            "image/png": "[encoded data removed]"
          },
          "metadata": {}
        }
      ]
    },
    {
      "cell_type": "code",
      "source": [],
      "metadata": {
        "id": "HDphIb_n82DR"
      },
      "execution_count": null,
      "outputs": []
    },
    {
      "cell_type": "code",
      "source": [
        "def crear_arrays_tiempos(lista_tiempos):\n",
        "\n",
        "  medias = []\n",
        "  maximos = []\n",
        "  minimos = []\n",
        "\n",
        "  for lista in lista_tiempos:\n",
        "    \n",
        "    #print(medias.append(np.mean(lista)))\n",
        "    medias.append(np.mean(lista))\n",
        "    maximos.append(np.max(lista))\n",
        "    minimos.append(np.min(lista))\n",
        "\n",
        "  return medias,maximos,minimos\n",
        "\n",
        "\n"
      ],
      "metadata": {
        "id": "Z_jf_TMqtihr"
      },
      "execution_count": 324,
      "outputs": []
    },
    {
      "cell_type": "code",
      "source": [
        "medias,maximos,minimos = crear_arrays_tiempos(lista)"
      ],
      "metadata": {
        "id": "DXDJiWgH73wo"
      },
      "execution_count": 330,
      "outputs": []
    },
    {
      "cell_type": "code",
      "source": [
        "def ct(nombres,medias,maximos,minimos):\n",
        "  x = np.arange(len(nombres))  # las ubicaciones de las etiquetas\n",
        "  width = 0.2  # el ancho de las barras\n",
        "\n",
        "  fig, ax = plt.subplots()\n",
        "  rects1 = ax.bar(x - width, medias, width, label='Media')\n",
        "  rects2 = ax.bar(x, maximos, width, label='Máximo')\n",
        "  rects3 = ax.bar(x + width, minimos, width, label='Mínimo')\n",
        "\n",
        "  # Añadir algunas etiquetas de texto, título y leyenda\n",
        "  ax.set_ylabel('Tiempo (s)')\n",
        "  ax.set_title('Tiempos de ejecución')\n",
        "  ax.set_xticks(x)\n",
        "  ax.set_xticklabels(nombres)\n",
        "  ax.legend()\n",
        "\n",
        "  # Mostrar el gráfico\n",
        "  plt.show()\n"
      ],
      "metadata": {
        "id": "XbMrXUSasySb"
      },
      "execution_count": 352,
      "outputs": []
    },
    {
      "cell_type": "code",
      "source": [
        "comparar_tiempos(nombres,medias,maximos,minimos)"
      ],
      "metadata": {
        "colab": {
          "base_uri": "https://localhost:8080/",
          "height": 453
        },
        "id": "EtvOCt8R8WVB",
        "outputId": "b4037cf0-1ae3-46c6-c14c-c12439a5607e"
      },
      "execution_count": 331,
      "outputs": [
        {
          "output_type": "display_data",
          "data": {
            "text/plain": [
              "<Figure size 640x480 with 1 Axes>"
            ],
            "image/png": "[encoded data removed]"
          },
          "metadata": {}
        }
      ]
    },
    {
      "cell_type": "code",
      "source": [
        "def prepar(tiempos):\n",
        "    medias = []\n",
        "    maximos = []\n",
        "    minimos = []\n",
        "    nombres = []\n",
        "    for clave, valor in tiempos.items():\n",
        "        nombres.append(clave)\n",
        "        med, mas, men = crear_arrays_tiempos(valor)\n",
        "        medias.append(med)\n",
        "        maximos.append(mas)\n",
        "        minimos.append(men)\n",
        "    return nombres, medias, maximos, minimos\n",
        "\n",
        "\n",
        "\n",
        "\n"
      ],
      "metadata": {
        "id": "zi--BCMUzdEo"
      },
      "execution_count": null,
      "outputs": []
    },
    {
      "cell_type": "code",
      "source": [
        "a"
      ],
      "metadata": {
        "colab": {
          "base_uri": "https://localhost:8080/"
        },
        "id": "8LHyCcOp38p5",
        "outputId": "3523e848-0dbd-46a9-f661-226fb84b5aeb"
      },
      "execution_count": null,
      "outputs": [
        {
          "output_type": "execute_result",
          "data": {
            "text/plain": [
              "['de', 'distancia_entera']"
            ]
          },
          "metadata": {},
          "execution_count": 295
        }
      ]
    },
    {
      "cell_type": "code",
      "source": [
        "funciones = [de, distancia_entera]\n",
        "argumentos = [[[0,1,7,3,4,5,6,2], distancias], [[0,1,7,3,4,5,6,2], distancias]]\n",
        "tiempos = medir_tiempos(funciones, argumentos,100)\n",
        "comparar_tiempos(*prepar(tiempos))"
      ],
      "metadata": {
        "colab": {
          "base_uri": "https://localhost:8080/",
          "height": 1000
        },
        "id": "DVb5dIdswQMF",
        "outputId": "106de226-8744-472c-d82d-19baac9e3eee"
      },
      "execution_count": null,
      "outputs": [
        {
          "output_type": "error",
          "ename": "ValueError",
          "evalue": "ignored",
          "traceback": [
            "\u001b[0;31m---------------------------------------------------------------------------\u001b[0m",
            "\u001b[0;31mValueError\u001b[0m                                Traceback (most recent call last)",
            "\u001b[0;32m<ipython-input-293-3fa8dba72cc4>\u001b[0m in \u001b[0;36m<cell line: 4>\u001b[0;34m()\u001b[0m\n\u001b[1;32m      2\u001b[0m \u001b[0margumentos\u001b[0m \u001b[0;34m=\u001b[0m \u001b[0;34m[\u001b[0m\u001b[0;34m[\u001b[0m\u001b[0;34m[\u001b[0m\u001b[0;36m0\u001b[0m\u001b[0;34m,\u001b[0m\u001b[0;36m1\u001b[0m\u001b[0;34m,\u001b[0m\u001b[0;36m7\u001b[0m\u001b[0;34m,\u001b[0m\u001b[0;36m3\u001b[0m\u001b[0;34m,\u001b[0m\u001b[0;36m4\u001b[0m\u001b[0;34m,\u001b[0m\u001b[0;36m5\u001b[0m\u001b[0;34m,\u001b[0m\u001b[0;36m6\u001b[0m\u001b[0;34m,\u001b[0m\u001b[0;36m2\u001b[0m\u001b[0;34m]\u001b[0m\u001b[0;34m,\u001b[0m \u001b[0mdistancias\u001b[0m\u001b[0;34m]\u001b[0m\u001b[0;34m,\u001b[0m \u001b[0;34m[\u001b[0m\u001b[0;34m[\u001b[0m\u001b[0;36m0\u001b[0m\u001b[0;34m,\u001b[0m\u001b[0;36m1\u001b[0m\u001b[0;34m,\u001b[0m\u001b[0;36m7\u001b[0m\u001b[0;34m,\u001b[0m\u001b[0;36m3\u001b[0m\u001b[0;34m,\u001b[0m\u001b[0;36m4\u001b[0m\u001b[0;34m,\u001b[0m\u001b[0;36m5\u001b[0m\u001b[0;34m,\u001b[0m\u001b[0;36m6\u001b[0m\u001b[0;34m,\u001b[0m\u001b[0;36m2\u001b[0m\u001b[0;34m]\u001b[0m\u001b[0;34m,\u001b[0m \u001b[0mdistancias\u001b[0m\u001b[0;34m]\u001b[0m\u001b[0;34m]\u001b[0m\u001b[0;34m\u001b[0m\u001b[0;34m\u001b[0m\u001b[0m\n\u001b[1;32m      3\u001b[0m \u001b[0mtiempos\u001b[0m \u001b[0;34m=\u001b[0m \u001b[0mmedir_tiempos\u001b[0m\u001b[0;34m(\u001b[0m\u001b[0mfunciones\u001b[0m\u001b[0;34m,\u001b[0m \u001b[0margumentos\u001b[0m\u001b[0;34m,\u001b[0m\u001b[0;36m100\u001b[0m\u001b[0;34m)\u001b[0m\u001b[0;34m\u001b[0m\u001b[0;34m\u001b[0m\u001b[0m\n\u001b[0;32m----> 4\u001b[0;31m \u001b[0mcomparar_tiempos\u001b[0m\u001b[0;34m(\u001b[0m\u001b[0;34m*\u001b[0m\u001b[0mprepar\u001b[0m\u001b[0;34m(\u001b[0m\u001b[0mtiempos\u001b[0m\u001b[0;34m)\u001b[0m\u001b[0;34m)\u001b[0m\u001b[0;34m\u001b[0m\u001b[0;34m\u001b[0m\u001b[0m\n\u001b[0m",
            "\u001b[0;32m<ipython-input-251-baa12d4f4293>\u001b[0m in \u001b[0;36mcomparar_tiempos\u001b[0;34m(nombres, medias, maximos, minimos)\u001b[0m\n\u001b[1;32m      4\u001b[0m \u001b[0;34m\u001b[0m\u001b[0m\n\u001b[1;32m      5\u001b[0m   \u001b[0mfig\u001b[0m\u001b[0;34m,\u001b[0m \u001b[0max\u001b[0m \u001b[0;34m=\u001b[0m \u001b[0mplt\u001b[0m\u001b[0;34m.\u001b[0m\u001b[0msubplots\u001b[0m\u001b[0;34m(\u001b[0m\u001b[0;34m)\u001b[0m\u001b[0;34m\u001b[0m\u001b[0;34m\u001b[0m\u001b[0m\n\u001b[0;32m----> 6\u001b[0;31m   \u001b[0mrects1\u001b[0m \u001b[0;34m=\u001b[0m \u001b[0max\u001b[0m\u001b[0;34m.\u001b[0m\u001b[0mbar\u001b[0m\u001b[0;34m(\u001b[0m\u001b[0mx\u001b[0m \u001b[0;34m-\u001b[0m \u001b[0mwidth\u001b[0m\u001b[0;34m,\u001b[0m \u001b[0mmedias\u001b[0m\u001b[0;34m,\u001b[0m \u001b[0mwidth\u001b[0m\u001b[0;34m,\u001b[0m \u001b[0mlabel\u001b[0m\u001b[0;34m=\u001b[0m\u001b[0;34m'Media'\u001b[0m\u001b[0;34m)\u001b[0m\u001b[0;34m\u001b[0m\u001b[0;34m\u001b[0m\u001b[0m\n\u001b[0m\u001b[1;32m      7\u001b[0m   \u001b[0mrects2\u001b[0m \u001b[0;34m=\u001b[0m \u001b[0max\u001b[0m\u001b[0;34m.\u001b[0m\u001b[0mbar\u001b[0m\u001b[0;34m(\u001b[0m\u001b[0mx\u001b[0m\u001b[0;34m,\u001b[0m \u001b[0mmaximos\u001b[0m\u001b[0;34m,\u001b[0m \u001b[0mwidth\u001b[0m\u001b[0;34m,\u001b[0m \u001b[0mlabel\u001b[0m\u001b[0;34m=\u001b[0m\u001b[0;34m'Máximo'\u001b[0m\u001b[0;34m)\u001b[0m\u001b[0;34m\u001b[0m\u001b[0;34m\u001b[0m\u001b[0m\n\u001b[1;32m      8\u001b[0m   \u001b[0mrects3\u001b[0m \u001b[0;34m=\u001b[0m \u001b[0max\u001b[0m\u001b[0;34m.\u001b[0m\u001b[0mbar\u001b[0m\u001b[0;34m(\u001b[0m\u001b[0mx\u001b[0m \u001b[0;34m+\u001b[0m \u001b[0mwidth\u001b[0m\u001b[0;34m,\u001b[0m \u001b[0mminimos\u001b[0m\u001b[0;34m,\u001b[0m \u001b[0mwidth\u001b[0m\u001b[0;34m,\u001b[0m \u001b[0mlabel\u001b[0m\u001b[0;34m=\u001b[0m\u001b[0;34m'Mínimo'\u001b[0m\u001b[0;34m)\u001b[0m\u001b[0;34m\u001b[0m\u001b[0;34m\u001b[0m\u001b[0m\n",
            "\u001b[0;32m/usr/local/lib/python3.10/dist-packages/matplotlib/__init__.py\u001b[0m in \u001b[0;36minner\u001b[0;34m(ax, data, *args, **kwargs)\u001b[0m\n\u001b[1;32m   1440\u001b[0m     \u001b[0;32mdef\u001b[0m \u001b[0minner\u001b[0m\u001b[0;34m(\u001b[0m\u001b[0max\u001b[0m\u001b[0;34m,\u001b[0m \u001b[0;34m*\u001b[0m\u001b[0margs\u001b[0m\u001b[0;34m,\u001b[0m \u001b[0mdata\u001b[0m\u001b[0;34m=\u001b[0m\u001b[0;32mNone\u001b[0m\u001b[0;34m,\u001b[0m \u001b[0;34m**\u001b[0m\u001b[0mkwargs\u001b[0m\u001b[0;34m)\u001b[0m\u001b[0;34m:\u001b[0m\u001b[0;34m\u001b[0m\u001b[0;34m\u001b[0m\u001b[0m\n\u001b[1;32m   1441\u001b[0m         \u001b[0;32mif\u001b[0m \u001b[0mdata\u001b[0m \u001b[0;32mis\u001b[0m \u001b[0;32mNone\u001b[0m\u001b[0;34m:\u001b[0m\u001b[0;34m\u001b[0m\u001b[0;34m\u001b[0m\u001b[0m\n\u001b[0;32m-> 1442\u001b[0;31m             \u001b[0;32mreturn\u001b[0m \u001b[0mfunc\u001b[0m\u001b[0;34m(\u001b[0m\u001b[0max\u001b[0m\u001b[0;34m,\u001b[0m \u001b[0;34m*\u001b[0m\u001b[0mmap\u001b[0m\u001b[0;34m(\u001b[0m\u001b[0msanitize_sequence\u001b[0m\u001b[0;34m,\u001b[0m \u001b[0margs\u001b[0m\u001b[0;34m)\u001b[0m\u001b[0;34m,\u001b[0m \u001b[0;34m**\u001b[0m\u001b[0mkwargs\u001b[0m\u001b[0;34m)\u001b[0m\u001b[0;34m\u001b[0m\u001b[0;34m\u001b[0m\u001b[0m\n\u001b[0m\u001b[1;32m   1443\u001b[0m \u001b[0;34m\u001b[0m\u001b[0m\n\u001b[1;32m   1444\u001b[0m         \u001b[0mbound\u001b[0m \u001b[0;34m=\u001b[0m \u001b[0mnew_sig\u001b[0m\u001b[0;34m.\u001b[0m\u001b[0mbind\u001b[0m\u001b[0;34m(\u001b[0m\u001b[0max\u001b[0m\u001b[0;34m,\u001b[0m \u001b[0;34m*\u001b[0m\u001b[0margs\u001b[0m\u001b[0;34m,\u001b[0m \u001b[0;34m**\u001b[0m\u001b[0mkwargs\u001b[0m\u001b[0;34m)\u001b[0m\u001b[0;34m\u001b[0m\u001b[0;34m\u001b[0m\u001b[0m\n",
            "\u001b[0;32m/usr/local/lib/python3.10/dist-packages/matplotlib/axes/_axes.py\u001b[0m in \u001b[0;36mbar\u001b[0;34m(self, x, height, width, bottom, align, **kwargs)\u001b[0m\n\u001b[1;32m   2415\u001b[0m                 \u001b[0myerr\u001b[0m \u001b[0;34m=\u001b[0m \u001b[0mself\u001b[0m\u001b[0;34m.\u001b[0m\u001b[0m_convert_dx\u001b[0m\u001b[0;34m(\u001b[0m\u001b[0myerr\u001b[0m\u001b[0;34m,\u001b[0m \u001b[0my0\u001b[0m\u001b[0;34m,\u001b[0m \u001b[0my\u001b[0m\u001b[0;34m,\u001b[0m \u001b[0mself\u001b[0m\u001b[0;34m.\u001b[0m\u001b[0mconvert_yunits\u001b[0m\u001b[0;34m)\u001b[0m\u001b[0;34m\u001b[0m\u001b[0;34m\u001b[0m\u001b[0m\n\u001b[1;32m   2416\u001b[0m \u001b[0;34m\u001b[0m\u001b[0m\n\u001b[0;32m-> 2417\u001b[0;31m         x, height, width, y, linewidth, hatch = np.broadcast_arrays(\n\u001b[0m\u001b[1;32m   2418\u001b[0m             \u001b[0;31m# Make args iterable too.\u001b[0m\u001b[0;34m\u001b[0m\u001b[0;34m\u001b[0m\u001b[0m\n\u001b[1;32m   2419\u001b[0m             np.atleast_1d(x), height, width, y, linewidth, hatch)\n",
            "\u001b[0;32m/usr/local/lib/python3.10/dist-packages/numpy/core/overrides.py\u001b[0m in \u001b[0;36mbroadcast_arrays\u001b[0;34m(*args, **kwargs)\u001b[0m\n",
            "\u001b[0;32m/usr/local/lib/python3.10/dist-packages/numpy/lib/stride_tricks.py\u001b[0m in \u001b[0;36mbroadcast_arrays\u001b[0;34m(subok, *args)\u001b[0m\n\u001b[1;32m    537\u001b[0m     \u001b[0margs\u001b[0m \u001b[0;34m=\u001b[0m \u001b[0;34m[\u001b[0m\u001b[0mnp\u001b[0m\u001b[0;34m.\u001b[0m\u001b[0marray\u001b[0m\u001b[0;34m(\u001b[0m\u001b[0m_m\u001b[0m\u001b[0;34m,\u001b[0m \u001b[0mcopy\u001b[0m\u001b[0;34m=\u001b[0m\u001b[0;32mFalse\u001b[0m\u001b[0;34m,\u001b[0m \u001b[0msubok\u001b[0m\u001b[0;34m=\u001b[0m\u001b[0msubok\u001b[0m\u001b[0;34m)\u001b[0m \u001b[0;32mfor\u001b[0m \u001b[0m_m\u001b[0m \u001b[0;32min\u001b[0m \u001b[0margs\u001b[0m\u001b[0;34m]\u001b[0m\u001b[0;34m\u001b[0m\u001b[0;34m\u001b[0m\u001b[0m\n\u001b[1;32m    538\u001b[0m \u001b[0;34m\u001b[0m\u001b[0m\n\u001b[0;32m--> 539\u001b[0;31m     \u001b[0mshape\u001b[0m \u001b[0;34m=\u001b[0m \u001b[0m_broadcast_shape\u001b[0m\u001b[0;34m(\u001b[0m\u001b[0;34m*\u001b[0m\u001b[0margs\u001b[0m\u001b[0;34m)\u001b[0m\u001b[0;34m\u001b[0m\u001b[0;34m\u001b[0m\u001b[0m\n\u001b[0m\u001b[1;32m    540\u001b[0m \u001b[0;34m\u001b[0m\u001b[0m\n\u001b[1;32m    541\u001b[0m     \u001b[0;32mif\u001b[0m \u001b[0mall\u001b[0m\u001b[0;34m(\u001b[0m\u001b[0marray\u001b[0m\u001b[0;34m.\u001b[0m\u001b[0mshape\u001b[0m \u001b[0;34m==\u001b[0m \u001b[0mshape\u001b[0m \u001b[0;32mfor\u001b[0m \u001b[0marray\u001b[0m \u001b[0;32min\u001b[0m \u001b[0margs\u001b[0m\u001b[0;34m)\u001b[0m\u001b[0;34m:\u001b[0m\u001b[0;34m\u001b[0m\u001b[0;34m\u001b[0m\u001b[0m\n",
            "\u001b[0;32m/usr/local/lib/python3.10/dist-packages/numpy/lib/stride_tricks.py\u001b[0m in \u001b[0;36m_broadcast_shape\u001b[0;34m(*args)\u001b[0m\n\u001b[1;32m    419\u001b[0m     \u001b[0;31m# use the old-iterator because np.nditer does not handle size 0 arrays\u001b[0m\u001b[0;34m\u001b[0m\u001b[0;34m\u001b[0m\u001b[0m\n\u001b[1;32m    420\u001b[0m     \u001b[0;31m# consistently\u001b[0m\u001b[0;34m\u001b[0m\u001b[0;34m\u001b[0m\u001b[0m\n\u001b[0;32m--> 421\u001b[0;31m     \u001b[0mb\u001b[0m \u001b[0;34m=\u001b[0m \u001b[0mnp\u001b[0m\u001b[0;34m.\u001b[0m\u001b[0mbroadcast\u001b[0m\u001b[0;34m(\u001b[0m\u001b[0;34m*\u001b[0m\u001b[0margs\u001b[0m\u001b[0;34m[\u001b[0m\u001b[0;34m:\u001b[0m\u001b[0;36m32\u001b[0m\u001b[0;34m]\u001b[0m\u001b[0;34m)\u001b[0m\u001b[0;34m\u001b[0m\u001b[0;34m\u001b[0m\u001b[0m\n\u001b[0m\u001b[1;32m    422\u001b[0m     \u001b[0;31m# unfortunately, it cannot handle 32 or more arguments directly\u001b[0m\u001b[0;34m\u001b[0m\u001b[0;34m\u001b[0m\u001b[0m\n\u001b[1;32m    423\u001b[0m     \u001b[0;32mfor\u001b[0m \u001b[0mpos\u001b[0m \u001b[0;32min\u001b[0m \u001b[0mrange\u001b[0m\u001b[0;34m(\u001b[0m\u001b[0;36m32\u001b[0m\u001b[0;34m,\u001b[0m \u001b[0mlen\u001b[0m\u001b[0;34m(\u001b[0m\u001b[0margs\u001b[0m\u001b[0;34m)\u001b[0m\u001b[0;34m,\u001b[0m \u001b[0;36m31\u001b[0m\u001b[0;34m)\u001b[0m\u001b[0;34m:\u001b[0m\u001b[0;34m\u001b[0m\u001b[0;34m\u001b[0m\u001b[0m\n",
            "\u001b[0;31mValueError\u001b[0m: shape mismatch: objects cannot be broadcast to a single shape.  Mismatch is between arg 0 with shape (2,) and arg 1 with shape (2, 100)."
          ]
        },
        {
          "output_type": "display_data",
          "data": {
            "text/plain": [
              "<Figure size 640x480 with 1 Axes>"
            ],
            "image/png": "[encoded data removed]"
          },
          "metadata": {}
        }
      ]
    },
    {
      "cell_type": "code",
      "source": [],
      "metadata": {
        "id": "vlHOUf4e1pxv"
      },
      "execution_count": null,
      "outputs": []
    }
  ]
}
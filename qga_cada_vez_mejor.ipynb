{
 "cells": [
  {
   "cell_type": "code",
   "execution_count": 1,
   "id": "b967eb7f-322c-4e6d-a98a-b237ad3820f5",
   "metadata": {
    "tags": []
   },
   "outputs": [],
   "source": [
    "from qiskit_ibm_provider import IBMProvider\n"
   ]
  },
  {
   "cell_type": "code",
   "execution_count": 2,
   "id": "3efc5494-1001-4390-8ba6-c1859d2a4ae2",
   "metadata": {
    "tags": []
   },
   "outputs": [],
   "source": [
    "provider = IBMProvider('e485d342bdc1db8e8f5af875971bc7a9b620739623f52d8124bfe985a4cc21fba43246e318346b9e89a6b795f022ab64edd78a1490409174af435fff3cca5291')\n"
   ]
  },
  {
   "cell_type": "code",
   "execution_count": 3,
   "id": "7fa66222-12f2-40fe-91d4-af9bbd28a8d7",
   "metadata": {
    "tags": []
   },
   "outputs": [],
   "source": [
    "# Importing standard Qiskit libraries\n",
    "from qiskit import QuantumCircuit, transpile\n",
    "from qiskit.tools.jupyter import *\n",
    "from qiskit.visualization import *\n",
    "from ibm_quantum_widgets import *\n",
    "from qiskit_aer import AerSimulator\n",
    "\n",
    "# qiskit-ibmq-provider has been deprecated.\n",
    "# Please see the Migration Guides in https://ibm.biz/provider_migration_guide for more detail.\n",
    "from qiskit_ibm_runtime import QiskitRuntimeService, Sampler, Estimator, Session, Options\n",
    "\n",
    "# Loading your IBM Quantum account(s)\n",
    "service = QiskitRuntimeService(channel=\"ibm_quantum\")\n",
    "\n",
    "# Invoke a primitive inside a session. For more details see https://qiskit.org/documentation/partners/qiskit_ibm_runtime/tutorials.html\n",
    "# with Session(backend=service.backend(\"ibmq_qasm_simulator\")):\n",
    "#     result = Sampler().run(circuits).result()"
   ]
  },
  {
   "cell_type": "code",
   "execution_count": 4,
   "id": "c4cad474-1922-4552-a118-7923a428a923",
   "metadata": {
    "tags": []
   },
   "outputs": [],
   "source": [
    "import matplotlib.pyplot as plt\n",
    "import numpy as np\n",
    "import networkx as nx\n",
    "import random"
   ]
  },
  {
   "cell_type": "code",
   "execution_count": 5,
   "id": "cb2e86d9-b71d-4201-a423-df26ac2f5b86",
   "metadata": {
    "tags": []
   },
   "outputs": [],
   "source": [
    "from qiskit_aer import AerSimulator\n",
    "from qiskit import QuantumRegister, QuantumCircuit,Aer, execute,ClassicalRegister"
   ]
  },
  {
   "cell_type": "code",
   "execution_count": 6,
   "id": "9ed5c116-3bad-495c-81ec-204634573c7d",
   "metadata": {
    "tags": []
   },
   "outputs": [],
   "source": [
    "def compute_cost(n, w, G):\n",
    "    \"\"\"\n",
    "    Calcula el costo de cada posible configuración de un sistema dado representado por un grafo y retorna el costo máximo y su configuración correspondiente.\n",
    "\n",
    "    Parámetros\n",
    "    ----------\n",
    "    n : int\n",
    "        El número de nodos en el grafo.\n",
    "    w : numpy.ndarray\n",
    "        Matriz de pesos de las aristas en el grafo.\n",
    "    G : networkx.classes.graph.Graph\n",
    "        Un objeto de grafo de NetworkX.\n",
    "    pos : dict\n",
    "        Un diccionario que mapea cada nodo a su posición en el grafo.\n",
    "\n",
    "    Devoluciones\n",
    "    -----------\n",
    "    cost_dict : dict\n",
    "        Un diccionario que mapea cada posible configuración del sistema a su costo asociado.\n",
    "    best_cost_brute : int\n",
    "        El costo máximo encontrado entre todas las configuraciones posibles.\n",
    "\n",
    "    Ejemplo\n",
    "    -------\n",
    "    >>> cost_dict, best_cost_brute = compute_cost(n, w, G, pos)\n",
    "    >>> print(best_cost_brute)\n",
    "    15\n",
    "    >>> print(cost_dict)\n",
    "    {(0, 0, 0): 0, (0, 0, 1): 5, ..., (1, 1, 1): 15}\n",
    "    \"\"\"\n",
    "    best_cost_brute = 0\n",
    "    cost_dict = {}  # Diccionario para almacenar los casos y sus costos\n",
    "\n",
    "    for b in range(2**n):\n",
    "        x = [int(t) for t in reversed(list(bin(b)[2:].zfill(n)))]\n",
    "        cost = 0\n",
    "        for i in range(n):\n",
    "            for j in range(n):\n",
    "                cost = cost + w[i, j] * x[i] * (1 - x[j])\n",
    "        if best_cost_brute < cost:\n",
    "            best_cost_brute = cost\n",
    "            xbest_brute = x\n",
    "        \n",
    "        # Almacena el caso y el costo en el diccionario\n",
    "        cost_dict[tuple(x)] = cost\n",
    "\n",
    "    colors = [\"r\" if xbest_brute[i] == 0 else \"c\" for i in range(n)]\n",
    "    #draw_graph(G, colors, pos)\n",
    "\n",
    "    return cost_dict, best_cost_brute\n"
   ]
  },
  {
   "cell_type": "code",
   "execution_count": 7,
   "id": "53775a21-c093-4c6e-82d3-e1d755670d1a",
   "metadata": {
    "tags": []
   },
   "outputs": [],
   "source": [
    "def generate_hamiltonian_graph(num_nodes):\n",
    "    \"\"\"\n",
    "    Genera un grafo Hamiltoniano no dirigido con un número dado de nodos y aristas adicionales aleatorias.\n",
    "\n",
    "    Un grafo Hamiltoniano es un grafo que tiene un ciclo Hamiltoniano (un ciclo que visita cada nodo una vez).\n",
    "    Esta función primero crea un ciclo que conecta todos los nodos, y luego agrega aristas adicionales de manera aleatoria.\n",
    "\n",
    "    Parámetros\n",
    "    ----------\n",
    "    num_nodes : int\n",
    "        El número de nodos para incluir en el grafo.\n",
    "\n",
    "    Devoluciones\n",
    "    ------------\n",
    "    G : networkx.classes.graph.Graph\n",
    "        Un objeto de grafo no dirigido de NetworkX con 'num_nodes' nodos, un ciclo Hamiltoniano,\n",
    "        y aristas adicionales que se añaden aleatoriamente.\n",
    "\n",
    "    Ejemplo\n",
    "    -------\n",
    "    >>> G = generate_hamiltonian_graph(5)\n",
    "    >>> print(G.edges(data=True))\n",
    "    [(0, 1, {'weight': 1.0}), (0, 4, {'weight': 1.0}), (1, 2, {'weight': 1.0}), \n",
    "    (2, 3, {'weight': 1.0}), (3, 4, {'weight': 1.0})]\n",
    "    \"\"\"\n",
    "    # Crea un nuevo grafo no dirigido\n",
    "    G = nx.Graph()\n",
    "\n",
    "    # Agrega los nodos al grafo\n",
    "    G.add_nodes_from(range(num_nodes))\n",
    "\n",
    "    # Genera un camino Hamiltoniano\n",
    "    for i in range(num_nodes - 1):\n",
    "        G.add_edge(i, i + 1, weight=1.0)\n",
    "    G.add_edge(num_nodes - 1, 0, weight=1.0)  # Cierra el ciclo para hacerlo Hamiltoniano\n",
    "\n",
    "    # Agrega más aristas de manera aleatoria\n",
    "    for i in range(num_nodes):\n",
    "        for j in range(i + 2, num_nodes):\n",
    "            if np.random.random() > 0.5:  # Añade la arista con una probabilidad del 50%\n",
    "                G.add_edge(i, j, weight=1.0)\n",
    "\n",
    "    return G"
   ]
  },
  {
   "cell_type": "code",
   "execution_count": 8,
   "id": "59274848-4746-415f-9fe4-1e56d7a49fc2",
   "metadata": {
    "tags": []
   },
   "outputs": [],
   "source": [
    "def compute_weight_matrix(G, n):\n",
    "    \"\"\"\n",
    "    Calcula la matriz de pesos a partir de un grafo dado.\n",
    "\n",
    "    Parámetros\n",
    "    ----------\n",
    "    G : networkx.classes.graph.Graph\n",
    "        Un objeto de grafo de NetworkX.\n",
    "    n : int\n",
    "        El número de nodos en el grafo.\n",
    "\n",
    "    Devoluciones\n",
    "    -----------\n",
    "    w : numpy.ndarray\n",
    "        Una matriz de 'n' por 'n' que representa los pesos de las aristas en el grafo. \n",
    "        Cada elemento w[i, j] es el peso de la arista entre los nodos i y j.\n",
    "\n",
    "    Ejemplo\n",
    "    -------\n",
    "    >>> w = compute_weight_matrix(G, 5)\n",
    "    >>> print(w)\n",
    "    [[0. 1. 1. 1. 1.]\n",
    "     [1. 0. 1. 1. 1.]\n",
    "     [1. 1. 0. 1. 1.]\n",
    "     [1. 1. 1. 0. 1.]\n",
    "     [1. 1. 1. 1. 0.]]\n",
    "    \"\"\"\n",
    "    # Calculando la matriz de pesos a partir del grafo aleatorio\n",
    "    w = np.zeros([n, n])\n",
    "    for i in range(n):\n",
    "        for j in range(n):\n",
    "            temp = G.get_edge_data(i, j, default=0)\n",
    "            if temp != 0:\n",
    "                w[i, j] = temp[\"weight\"]\n",
    "    return w\n"
   ]
  },
  {
   "cell_type": "code",
   "execution_count": 9,
   "id": "9968a783-b28d-4016-b96d-472e7151762c",
   "metadata": {
    "tags": []
   },
   "outputs": [],
   "source": [
    "def draw_graph(G, colors, pos):\n",
    "    \"\"\"\n",
    "    Dibuja un grafo de NetworkX con nodos de colores y etiquetas de aristas.\n",
    "\n",
    "    Parámetros\n",
    "    ----------\n",
    "    G : networkx.classes.graph.Graph\n",
    "        Un objeto de grafo de NetworkX.\n",
    "    colors : list\n",
    "        Una lista de colores para los nodos. Cada nodo se dibuja con el color correspondiente de la lista.\n",
    "    pos : dict\n",
    "        Un diccionario que mapea cada nodo a su posición en el grafo.\n",
    "\n",
    "    Ejemplo\n",
    "    -------\n",
    "    >>> draw_graph(G, ['red', 'red', 'cyan', 'cyan', 'cyan'], pos)\n",
    "    \"\"\"\n",
    "    default_axes = plt.axes(frameon=True)\n",
    "    nx.draw_networkx(G, node_color=colors, node_size=600, alpha=0.8, ax=default_axes, pos=pos)\n",
    "    edge_labels = nx.get_edge_attributes(G, \"peso\")\n",
    "    nx.draw_networkx_edge_labels(G, pos=pos, edge_labels=edge_labels)"
   ]
  },
  {
   "cell_type": "code",
   "execution_count": 10,
   "id": "94cf72e8-ee11-4f29-8d16-f54f9cd389ab",
   "metadata": {
    "tags": []
   },
   "outputs": [],
   "source": [
    "def string_to_tuple(s):\n",
    "    \"\"\"\n",
    "    Convierte una cadena de texto en una tupla, interpretando cada carácter como un número entero.\n",
    "\n",
    "    Parámetros\n",
    "    ----------\n",
    "    s : str\n",
    "        La cadena de texto a convertir. Se espera que cada carácter de la cadena sea un dígito decimal.\n",
    "\n",
    "    Devoluciones\n",
    "    -----------\n",
    "    tuple\n",
    "        Una tupla de enteros correspondiente a los caracteres de la cadena.\n",
    "\n",
    "    Ejemplo\n",
    "    -------\n",
    "    >>> t = string_to_tuple(\"1234\")\n",
    "    >>> print(t)\n",
    "    (1, 2, 3, 4)\n",
    "    \"\"\"\n",
    "    return tuple(int(char) for char in s)"
   ]
  },
  {
   "cell_type": "code",
   "execution_count": 11,
   "id": "03418569-ae4f-4c5e-8b38-38fc6b032c35",
   "metadata": {
    "tags": []
   },
   "outputs": [],
   "source": [
    "def get_random_number(qc, qubit, reg):\n",
    "    \"\"\"\n",
    "    Genera un número aleatorio (0 o 1) utilizando un circuito cuántico.\n",
    "\n",
    "    Parámetros\n",
    "    ----------\n",
    "    qc : qiskit.circuit.quantumcircuit.QuantumCircuit\n",
    "        El circuito cuántico en el que se realizará la operación.\n",
    "    qubit : qiskit.circuit.quantumregister.QuantumRegister\n",
    "        El registro cuántico que contiene los qubits en los que se realizará la operación.\n",
    "    reg : qiskit.circuit.classicalregister.ClassicalRegister\n",
    "        El registro clásico que se utilizará para la medición.\n",
    "\n",
    "    Devoluciones\n",
    "    -----------\n",
    "    first_digit : int\n",
    "        Un número aleatorio (0 o 1) generado a partir de la medida del estado del qubit.\n",
    "\n",
    "    Ejemplo\n",
    "    -------\n",
    "    >>> qc = QuantumCircuit(1, 1)\n",
    "    >>> qubit = QuantumRegister(1)\n",
    "    >>> reg = ClassicalRegister(1)\n",
    "    >>> random_number = get_random_number(qc, qubit, reg)\n",
    "    >>> print(random_number)\n",
    "    0\n",
    "    \"\"\"\n",
    "    qc.h(qubit[0])\n",
    "    qc.measure(qubit[0], reg[0])\n",
    "    \n",
    "    with qc.if_test((reg, 1)):\n",
    "        qc.x(qubit[0])\n",
    "\n",
    "    backend_sim = AerSimulator()\n",
    "    reset_sim_job = backend_sim.run(qc, shots = 1)\n",
    "    reset_sim_result = reset_sim_job.result()\n",
    "    counts = reset_sim_result.get_counts(qc)\n",
    "\n",
    "    key = list(counts.keys())[0]\n",
    "    first_digit = int(key[0])  # Convierte el primer carácter de la clave a un entero\n",
    "    return first_digit"
   ]
  },
  {
   "cell_type": "code",
   "execution_count": 12,
   "id": "e99e9e04-e77e-4b42-b235-b339465aaa29",
   "metadata": {
    "tags": []
   },
   "outputs": [],
   "source": [
    "def mutate_bit(qr, qc, bit):\n",
    "    \"\"\"\n",
    "    Aplica una operación NOT (X) a un bit específico de un registro cuántico.\n",
    "    \n",
    "    Parámetros\n",
    "    ----------\n",
    "    qr : QuantumRegister\n",
    "        El registro cuántico en el que se realizará la mutación.\n",
    "    qc : QuantumCircuit\n",
    "        El circuito cuántico que contiene el registro.\n",
    "    bit : int\n",
    "        El índice del bit que se va a mutar.\n",
    "        \n",
    "    Devoluciones\n",
    "    ------------\n",
    "    No devuelve nada; la función modifica el circuito cuántico directamente.\n",
    "    \"\"\"\n",
    "    qc.x(qr[bit])\n",
    "\n",
    "\n",
    "def mutate_multi_bit(qr, qc, probabilidad):\n",
    "    \"\"\"\n",
    "    Aplica una operación NOT (X) a cada bit en un registro cuántico con cierta probabilidad.\n",
    "    \n",
    "    Parámetros\n",
    "    ----------\n",
    "    qr : QuantumRegister\n",
    "        El registro cuántico en el que se realizarán las mutaciones.\n",
    "    qc : QuantumCircuit\n",
    "        El circuito cuántico que contiene el registro.\n",
    "    probabilidad : float\n",
    "        La probabilidad de que cada bit sea mutado.\n",
    "        \n",
    "    Devoluciones\n",
    "    ------------\n",
    "    No devuelve nada; la función modifica el circuito cuántico directamente.\n",
    "    \"\"\"\n",
    "    for i in range(len(qr)):\n",
    "        if np.random.random() > probabilidad:\n",
    "            mutate_bit(qr, qc, i)\n",
    "\n",
    "\n",
    "def mutate_bit_random(qr, qc, probabilidad):#prob >0 and prob <1 a mas grande prob menos oportunidades de mutar\n",
    "    \"\"\"\n",
    "    Aplica una operación NOT (X) a un bit aleatorio en un registro cuántico con cierta probabilidad.\n",
    "    \n",
    "    Parámetros\n",
    "    ----------\n",
    "    qr : QuantumRegister\n",
    "        El registro cuántico en el que se realizará la mutación.\n",
    "    qc : QuantumCircuit\n",
    "        El circuito cuántico que contiene el registro.\n",
    "    probabilidad : float\n",
    "        La probabilidad de que el bit sea mutado.\n",
    "        \n",
    "    Devoluciones\n",
    "    ------------\n",
    "    No devuelve nada; la función modifica el circuito cuántico directamente.\n",
    "    \"\"\"\n",
    "    if np.random.random() > probabilidad:\n",
    "        qc.x(qr[np.random.randint(0, len(qr))])\n",
    "\n",
    "\n",
    "def mutate_exchange(qr, qc, probabilidad):\n",
    "    \"\"\"\n",
    "    Intercambia dos bits aleatorios en un registro cuántico con cierta probabilidad.\n",
    "    \n",
    "    Parámetros\n",
    "    ----------\n",
    "    qr : QuantumRegister\n",
    "        El registro cuántico en el que se realizará el intercambio.\n",
    "    qc : QuantumCircuit\n",
    "        El circuito cuántico que contiene el registro.\n",
    "    probabilidad : float\n",
    "        La probabilidad de que se realice el intercambio.\n",
    "        \n",
    "    Devoluciones\n",
    "    ------------\n",
    "    No devuelve nada; la función modifica el circuito cuántico directamente.\n",
    "    \"\"\"\n",
    "    if np.random.random() > probabilidad:\n",
    "        numero0 = np.random.randint(0, len(qr))\n",
    "        numero1 = np.random.randint(0, len(qr))\n",
    "        if numero0 != numero1:\n",
    "            qc.swap(qr[numero0], qr[numero1])"
   ]
  },
  {
   "cell_type": "code",
   "execution_count": 13,
   "id": "275a4b1f-c0bd-4875-9276-b9b4db353cfe",
   "metadata": {
    "tags": []
   },
   "outputs": [],
   "source": [
    "def puntos(qr):\n",
    "    \"\"\"\n",
    "    Genera dos números enteros aleatorios diferentes dentro del rango del tamaño del registro cuántico.\n",
    "\n",
    "    Parámetros\n",
    "    ----------\n",
    "    qr : QuantumRegister\n",
    "        El registro cuántico que se utiliza para determinar el rango de los números generados.\n",
    "\n",
    "    Devoluciones\n",
    "    ------------\n",
    "    tuple\n",
    "        Una tupla de dos enteros. El primer elemento de la tupla es siempre menor que el segundo.\n",
    "\n",
    "    Ejemplo\n",
    "    -------\n",
    "    >>> qr = QuantumRegister(5)\n",
    "    >>> p = puntos(qr)\n",
    "    >>> print(p)\n",
    "    (2, 4)  # Los valores exactos pueden variar debido a la generación aleatoria\n",
    "    \"\"\"\n",
    "    numero = np.random.randint(1, len(qr) - 1) \n",
    "    num = np.random.randint(1, len(qr) - 1)\n",
    "    while numero == num:\n",
    "        num = np.random.randint(1, len(qr) - 1)\n",
    "    if num > numero:\n",
    "        return numero, num\n",
    "    if num <= numero:\n",
    "        return num, numero\n"
   ]
  },
  {
   "cell_type": "code",
   "execution_count": 14,
   "id": "e344e7e9-2af4-4d46-83a8-abc896d42ae4",
   "metadata": {
    "tags": []
   },
   "outputs": [],
   "source": [
    "def escribir(qc, qreg, bin_string):\n",
    "    \"\"\"\n",
    "    Escribe o 'resetea' un registro cuántico, basándose en una cadena de texto binaria.\n",
    "\n",
    "    Parámetros\n",
    "    ----------\n",
    "    qc : QuantumCircuit\n",
    "        El circuito cuántico que contiene el registro.\n",
    "    qreg : QuantumRegister\n",
    "        El registro cuántico que se va a escribir o resetear.\n",
    "    bin_string : str\n",
    "        La cadena de texto binaria que se utilizará para escribir o resetear el registro. Si se quiere escribir un\n",
    "        número específico, esta cadena debe representar el número en binario. Si se quiere resetear el registro, esta\n",
    "        cadena debe ser la representación binaria actual del estado del registro cuántico.\n",
    "\n",
    "    Devoluciones\n",
    "    ------------\n",
    "    No devuelve nada; la función modifica el circuito cuántico directamente.\n",
    "\n",
    "    Lanza\n",
    "    -----\n",
    "    ValueError\n",
    "        Si el tamaño del QuantumRegister no es suficientemente grande para el string binario.\n",
    "\n",
    "    Ejemplo\n",
    "    -------\n",
    "    >>> qr = QuantumRegister(5)\n",
    "    >>> qc = QuantumCircuit(qr)\n",
    "    >>> escribir(qc, qr, '10101')\n",
    "    \"\"\"\n",
    "    if qreg.size < len(bin_string):\n",
    "        raise ValueError(\"El QuantumRegister no es suficientemente grande para el string binario\")\n",
    "\n",
    "    bin_string = bin_string[::-1]\n",
    "\n",
    "    for i, bit in enumerate(bin_string):\n",
    "        if bit == '1':\n",
    "            qc.x(i)\n"
   ]
  },
  {
   "cell_type": "code",
   "execution_count": 15,
   "id": "2ef69c3d-90ef-452d-ad93-5cd588929df0",
   "metadata": {
    "tags": []
   },
   "outputs": [],
   "source": [
    "def create_qc(number_quantum_reg,qubits,number_classic_reg,bits):\n",
    "    \"\"\"facilita el crear circuitos cuanticos si quieres poner ancillas aconesjo hacerlo manualmente partiendo desde aqui\"\"\"\n",
    "    # Create quantum registers\n",
    "    qregs = [QuantumRegister(qubits, name=f'q{i}') for i in range(number_quantum_reg)]\n",
    "    ancilla = QuantumRegister(1, name='ancilla')\n",
    "    # Create classical registers\n",
    "    cregs = [ClassicalRegister(bits, name=f'c{i}') for i in range(number_classic_reg)]\n",
    "    cr_ancilla = ClassicalRegister(1, name='cr_ancilla')\n",
    "    # Create a quantum circuit\n",
    "    return QuantumCircuit(*qregs, ancilla, *cregs, cr_ancilla)"
   ]
  },
  {
   "cell_type": "code",
   "execution_count": 16,
   "id": "f6cd246f-6b71-43ff-b351-5e97a11cedef",
   "metadata": {
    "tags": []
   },
   "outputs": [],
   "source": [
    "def lanzar_dinamico(circuito, backend,shots):\n",
    "    \"\"\"\n",
    "    Ejecuta un circuito cuántico en un backend específico y devuelve los conteos de resultados.\n",
    "\n",
    "    Parámetros\n",
    "    ----------\n",
    "    circuito : QuantumCircuit\n",
    "        El circuito cuántico que se va a ejecutar.\n",
    "    backend : Backend\n",
    "        El backend de Qiskit en el que se ejecutará el circuito.\n",
    "\n",
    "    Devoluciones\n",
    "    ------------\n",
    "    dict\n",
    "        Un diccionario que contiene los conteos de resultados de la ejecución del circuito. Las claves son las \n",
    "        cadenas de texto binarias que representan los resultados, y los valores son los números de veces que cada \n",
    "        resultado ocurrió.\n",
    "\n",
    "    Ejemplo\n",
    "    -------\n",
    "    >>> qc = QuantumCircuit(1)\n",
    "    >>> qc.h(0)\n",
    "    >>> backend = Aer.get_backend('qasm_simulator')\n",
    "    >>> counts = lanzar_dinamico(qc, backend)\n",
    "    >>> print(counts)\n",
    "    {'0': 512, '1': 512}\n",
    "    \"\"\"\n",
    "    backend_sim = backend\n",
    "    #tp_circuit = transpile(circuito, backend=backend, optimization_level=0)\n",
    "    tp_c = transpile(circuito,backend)\n",
    "    reset_sim_job = backend_sim.run(tp_c, shots=shots, dynamic=True)\n",
    "    reset_sim_result = reset_sim_job.result()\n",
    "    return reset_sim_result.get_counts()"
   ]
  },
  {
   "cell_type": "code",
   "execution_count": 17,
   "id": "c7325f1b-9d26-45df-8c90-167a5bde1fd3",
   "metadata": {
    "tags": []
   },
   "outputs": [],
   "source": [
    "def valores_hijos(resultados):#se supone que solo tenemos dos creg, es decir dos hijos\n",
    "    \"\"\"\n",
    "    Extrae dos cadenas de texto binarias de los resultados de una ejecución de un circuito cuántico.\n",
    "\n",
    "    Parámetros\n",
    "    ----------\n",
    "    resultados : dict\n",
    "        El diccionario que contiene los conteos de resultados de la ejecución del circuito. Se espera que las claves\n",
    "        sean cadenas de texto binarias separadas por espacios.\n",
    "\n",
    "    Devoluciones\n",
    "    ------------\n",
    "    tuple\n",
    "        Una tupla de dos tuplas de enteros. Cada tupla de enteros corresponde a los dígitos de una de las cadenas de \n",
    "        texto binarias.\n",
    "\n",
    "    Ejemplo\n",
    "    -------\n",
    "    >>> resultados = {'1 101 011': 1}\n",
    "    >>> valores = valores_hijos(resultados)\n",
    "    >>> print(valores)\n",
    "    ((0, 1, 1), (1, 0, 1))\n",
    "    \"\"\"\n",
    "    for key in resultados.keys():\n",
    "        return string_to_tuple(key.split(' ')[2]), string_to_tuple(key.split(' ')[1])"
   ]
  },
  {
   "cell_type": "code",
   "execution_count": 18,
   "id": "73e5c11e-6141-4e7c-9400-586738d1bad0",
   "metadata": {
    "tags": []
   },
   "outputs": [],
   "source": [
    "def tuple_to_string(t):\n",
    "    \"\"\"\n",
    "    Convierte una tupla de enteros en una cadena de texto, interpretando cada número entero como un carácter.\n",
    "\n",
    "    Parámetros\n",
    "    ----------\n",
    "    t : tuple\n",
    "        La tupla de enteros a convertir. Se espera que cada elemento de la tupla sea un número entero.\n",
    "\n",
    "    Devoluciones\n",
    "    ------------\n",
    "    str\n",
    "        Una cadena de texto correspondiente a los números de la tupla.\n",
    "\n",
    "    Ejemplo\n",
    "    -------\n",
    "    >>> s = tuple_to_string((1, 2, 3, 4))\n",
    "    >>> print(s)\n",
    "    '1234'\n",
    "    \"\"\"\n",
    "    return ''.join(str(num) for num in t)"
   ]
  },
  {
   "cell_type": "code",
   "execution_count": null,
   "id": "02fb046f-25d2-400d-b95b-cb5ea6e2b1f0",
   "metadata": {
    "tags": []
   },
   "outputs": [],
   "source": [
    "for i in range(10):\n",
    "    \n",
    "    print(np.random.randint(0,2))"
   ]
  },
  {
   "cell_type": "code",
   "execution_count": 19,
   "id": "234be5d0-0133-4c9e-80ca-2575d83ffa6d",
   "metadata": {
    "tags": []
   },
   "outputs": [],
   "source": [
    "def crear_hijo(base, hasta, maximo, qreg_padre, qreg_madre, qreg_hijo, qc, qreg_ancilla, cr_ancilla):\n",
    "    \"\"\"\n",
    "    Crea un nuevo registro cuántico hijo a partir de dos registros cuánticos padres utilizando el algoritmo genético.\n",
    "\n",
    "    Parámetros\n",
    "    ----------\n",
    "    base : int\n",
    "        El índice en el que comienza la sección intermedia del hijo.\n",
    "    hasta : int\n",
    "        El índice en el que termina la sección intermedia del hijo.\n",
    "    maximo : int\n",
    "        El tamaño total del registro cuántico.\n",
    "    qreg_padre : QuantumRegister\n",
    "        El registro cuántico del primer progenitor.\n",
    "    qreg_madre : QuantumRegister\n",
    "        El registro cuántico del segundo progenitor.\n",
    "    qreg_hijo : QuantumRegister\n",
    "        El registro cuántico del hijo que se va a crear.\n",
    "    qc : QuantumCircuit\n",
    "        El circuito cuántico en el que se realizarán las operaciones.\n",
    "    qreg_ancilla : QuantumRegister\n",
    "        El registro cuántico de ancilla utilizado para las operaciones.\n",
    "    cr_ancilla : ClassicalRegister\n",
    "        El registro clásico de ancilla utilizado para las operaciones.\n",
    "\n",
    "    Devoluciones\n",
    "    ------------\n",
    "    No devuelve nada; la función modifica el QuantumCircuit directamente.\n",
    "\n",
    "    Ejemplo\n",
    "    -------\n",
    "    >>> qr_padre = QuantumRegister(5, 'padre')\n",
    "    >>> qr_madre = QuantumRegister(5, 'madre')\n",
    "    >>> qr_hijo = QuantumRegister(5, 'hijo')\n",
    "    >>> qc = QuantumCircuit(qr_padre, qr_madre, qr_hijo)\n",
    "    >>> qr_ancilla = QuantumRegister(1, 'ancilla')\n",
    "    >>> cr_ancilla = ClassicalRegister(1, 'cr_ancilla')\n",
    "    >>> qc.add_register(qr_ancilla, cr_ancilla)\n",
    "    >>> base = 1\n",
    "    >>> hasta = 3\n",
    "    >>> maximo = 5\n",
    "    >>> crear_hijo(base, hasta, maximo, qr_padre, qr_madre, qr_hijo, qc, qr_ancilla, cr_ancilla)\n",
    "    \"\"\"\n",
    "    \n",
    "    #if get_random_number(qc, qreg_ancilla, cr_ancilla) == 0:#se genera un numero aleatorio que indicara si se usa al padre o a la madre\n",
    "    \n",
    "    if np.random.randint(0,2) ==0:#del 0 al 1 random\n",
    "        padre_hijo(qc, qreg_padre, qreg_hijo, qreg_ancilla, cr_ancilla, 0, base)\n",
    "    if np.random.randint(0,2) ==1:\n",
    "        padre_hijo(qc, qreg_madre, qreg_hijo, qreg_ancilla, cr_ancilla, 0, base)\n",
    "\n",
    "    padre_hijo(qc, qreg_padre, qreg_hijo, qreg_ancilla, cr_ancilla, base, hasta)#medio\n",
    "    padre_hijo(qc, qreg_madre, qreg_hijo, qreg_ancilla, cr_ancilla, hasta, maximo)#fin\n"
   ]
  },
  {
   "cell_type": "code",
   "execution_count": 20,
   "id": "784566b0-cb93-49f5-bc60-d39982e7bf42",
   "metadata": {
    "tags": []
   },
   "outputs": [],
   "source": [
    "def padre_hijo(circuit, qreg_padre, qreg_hijo, qreg_ancilla, cr_ancilla, base, hasta):\n",
    "    \"\"\"\n",
    "    Realiza el cruce entre el registro cuántico de un progenitor y el registro cuántico de un hijo.\n",
    "\n",
    "    Parámetros\n",
    "    ----------\n",
    "    circuit : QuantumCircuit\n",
    "        El circuito cuántico en el que se realizarán las operaciones.\n",
    "    qreg_padre : QuantumRegister\n",
    "        El registro cuántico del progenitor.\n",
    "    qreg_hijo : QuantumRegister\n",
    "        El registro cuántico del hijo.\n",
    "    qreg_ancilla : QuantumRegister\n",
    "        El registro cuántico de ancilla utilizado para las operaciones.\n",
    "    cr_ancilla : ClassicalRegister\n",
    "        El registro clásico de ancilla utilizado para las operaciones.\n",
    "    base : int\n",
    "        El índice en el que comienza la sección a cruzar.\n",
    "    hasta : int\n",
    "        El índice en el que termina la sección a cruzar.\n",
    "\n",
    "    Devoluciones\n",
    "    ------------\n",
    "    No devuelve nada; la función modifica el QuantumCircuit directamente.\n",
    "\n",
    "    Ejemplo\n",
    "    -------\n",
    "    >>> qr_padre = QuantumRegister(5, 'padre')\n",
    "    >>> qr_hijo = QuantumRegister(5, 'hijo')\n",
    "    >>> qc = QuantumCircuit(qr_padre, qr_hijo)\n",
    "    >>> qr_ancilla = QuantumRegister(1, 'ancilla')\n",
    "    >>> cr_ancilla = ClassicalRegister(1, 'cr_ancilla')\n",
    "    >>> qc.add_register(qr_ancilla, cr_ancilla)\n",
    "    >>> base = 1\n",
    "    >>> hasta = 3\n",
    "    >>> padre_hijo(qc, qr_padre, qr_hijo, qr_ancilla, cr_ancilla, base, hasta)\n",
    "    \"\"\"\n",
    "    for i in range(base, hasta):\n",
    "        circuit.cx(qreg_padre[i], qreg_hijo[i])\n",
    "        circuit.x(qreg_padre[i])\n",
    "        circuit.x(qreg_hijo[i])\n",
    "        circuit.ccx(qreg_padre[i], qreg_hijo[i], qreg_ancilla[0])\n",
    "        circuit.x(qreg_padre[i])\n",
    "        circuit.x(qreg_hijo[i])\n",
    "        circuit.cx(qreg_ancilla[0], qreg_hijo[i])\n",
    "        circuit.x(qreg_hijo[i])\n",
    "        circuit.x(qreg_ancilla[0])\n",
    "        circuit.ccx(qreg_padre[i], qreg_ancilla[0], qreg_hijo[i])\n",
    "        circuit.ccx(qreg_padre[i], qreg_hijo[i], qreg_ancilla[0])\n",
    "        circuit.ccx(qreg_padre[i], qreg_ancilla[0], qreg_hijo[i])\n",
    "        circuit.measure(qreg_ancilla[0], cr_ancilla[0])\n",
    "        with circuit.if_test((cr_ancilla[0], 1)):\n",
    "            circuit.x(qreg_ancilla[0])"
   ]
  },
  {
   "cell_type": "code",
   "execution_count": 21,
   "id": "2b6c8374-1bec-4660-9220-3a8a5798324f",
   "metadata": {
    "tags": []
   },
   "outputs": [],
   "source": [
    "def calculate_cut(partition_string, weight_matrix):\n",
    "    \"\"\"\n",
    "    Calcula el número de aristas que cruzan la partición.\n",
    "\n",
    "    Parámetros\n",
    "    ----------\n",
    "    partition_string : str\n",
    "        Una cadena binaria que representa la partición. \n",
    "        Cada carácter en la cadena representa un nodo en el grafo. \n",
    "        Un '0' significa que el nodo está en un lado de la partición, \n",
    "        y un '1' significa que está en el otro lado.\n",
    "    weight_matrix : numpy.ndarray\n",
    "        Una matriz que representa los pesos de las aristas en el grafo. \n",
    "        Cada elemento w[i, j] es el peso de la arista entre los nodos i y j.\n",
    "\n",
    "    Devoluciones\n",
    "    -----------\n",
    "    cut : int\n",
    "        El número de aristas que cruzan la partición.\n",
    "    \"\"\"\n",
    "    cut = 0\n",
    "    for i in range(len(partition_string)):\n",
    "        for j in range(i+1, len(partition_string)): # Evita contar dos veces la misma arista\n",
    "            if partition_string[i] != partition_string[j]: # Si los nodos están en lados opuestos de la partición\n",
    "                cut += weight_matrix[i, j] # Añade el peso de la arista al corte\n",
    "    return cut\n"
   ]
  },
  {
   "cell_type": "code",
   "execution_count": 22,
   "id": "b406238f-4b17-4718-a586-8b22fe5a5ee5",
   "metadata": {
    "tags": []
   },
   "outputs": [
    {
     "name": "stdout",
     "output_type": "stream",
     "text": [
      "Traceback \u001b[1;36m(most recent call last)\u001b[0m:\n",
      "\u001b[1;36m  File \u001b[1;32m/opt/conda/lib/python3.10/site-packages/IPython/core/compilerop.py:86\u001b[1;36m in \u001b[1;35mast_parse\u001b[1;36m\n",
      "\u001b[1;33m    return compile(source, filename, symbol, self.flags | PyCF_ONLY_AST, 1)\u001b[1;36m\n",
      "\u001b[1;36m  Cell \u001b[1;32mIn[22], line 36\u001b[1;36m\u001b[0m\n",
      "\u001b[1;33m    tp_c = transpile(circuito,backend)\u001b[0m\n",
      "\u001b[1;37m    ^\u001b[0m\n",
      "\u001b[1;31mIndentationError\u001b[0m\u001b[1;31m:\u001b[0m unexpected indent\n",
      "\n",
      "Use %tb to get the full traceback.\n"
     ]
    },
    {
     "data": {
      "text/html": [
       "\n",
       "<style>\n",
       ".button {\n",
       "  border: none;\n",
       "  color: white;\n",
       "  padding: 4px 8px;\n",
       "  text-align: center;\n",
       "  text-decoration: none;\n",
       "  display: inline-block;\n",
       "  font-size: 12px;\n",
       "  margin: 4px 2px;\n",
       "  transition-duration: 0.2s;\n",
       "  cursor: pointer;\n",
       "}\n",
       ".iqx-button {\n",
       "  background-color: #0f62fe; \n",
       "  color: white; \n",
       "}\n",
       ".iqx-button:hover {\n",
       "  background-color: #0043ce;\n",
       "  color: white;\n",
       "}\n",
       "</style>\n",
       "<a href=\"https://stackoverflow.com/search?q=IndentationError: unexpected indent\" target='_blank'><button class='button iqx-button'>Search for solution online</button></a>\n"
      ],
      "text/plain": [
       "<IPython.core.display.HTML object>"
      ]
     },
     "metadata": {},
     "output_type": "display_data"
    }
   ],
   "source": [
    "def measure_cut(circuit, partition,backend):\n",
    "    measure_circuit = QuantumCircuit(len(partition), len(partition))\n",
    "\n",
    "    for i in range(len(partition)):\n",
    "        measure_circuit.measure(i, i)\n",
    "\n",
    "    #total_circuit = circuit + measure_circuit\n",
    "    \n",
    "\n",
    "    job = execute(measure_circuit, Aer.get_backend('qasm_simulator'), shots=1000)\n",
    "    result = job.result()\n",
    "\n",
    "    counts = result.get_counts(measure_circuit)\n",
    "    \n",
    "    tp_c = transpile(circuito,backend)\n",
    "    reset_sim_job = backend_sim.run(tp_c, shots=1000, dynamic=True)\n",
    "    reset_sim_result = reset_sim_job.result()\n",
    "    counts = reset_sim_result.get_counts()\n",
    "    \n",
    "    \n",
    "    \n",
    "    \n",
    "    total = 0\n",
    "    print(counts)\n",
    "    for partition, count in counts.items():\n",
    "        total += count * calculate_cut(partition,w)\n",
    "\n",
    "    return total / 1000\n",
    "\n",
    "\n",
    "\n",
    "\n",
    "\n",
    "backend_sim = backend\n",
    "    #tp_circuit = transpile(circuito, backend=backend, optimization_level=0)\n",
    "    tp_c = transpile(circuito,backend)\n",
    "    reset_sim_job = backend_sim.run(tp_c, shots=1, dynamic=True)\n",
    "    reset_sim_result = reset_sim_job.result()\n",
    "    counts = reset_sim_result.get_counts()\n"
   ]
  },
  {
   "cell_type": "code",
   "execution_count": null,
   "id": "a7bb1dd7-4e04-4502-98da-1e5a425d1fc8",
   "metadata": {
    "tags": []
   },
   "outputs": [],
   "source": [
    "def qga(number_quantum_reg,qubits,number_classic_reg,bits,cost_dict,probabilidad,mejor,backend,inicial):\n",
    "\n",
    "    \"\"\"\n",
    "    qga(number_quantum_reg, qubits, number_classic_reg, bits, cost_dict, probabilidad, mejor, backend)\n",
    "\n",
    "    Algoritmo genético cuántico que realiza una búsqueda de soluciones en un espacio cuántico.\n",
    "\n",
    "    Parámetros:\n",
    "    ------------\n",
    "    number_quantum_reg: int\n",
    "        Número de registros cuánticos a utilizar en el circuito.\n",
    "\n",
    "    qubits: int\n",
    "        Número de qubits en cada registro cuántico.\n",
    "\n",
    "    number_classic_reg: int\n",
    "        Número de registros clásicos a utilizar en el circuito.\n",
    "\n",
    "    bits: int\n",
    "        Número de bits en cada registro clásico.\n",
    "\n",
    "    cost_dict: dict\n",
    "        Un diccionario con los costos asociados a cada posible solución.\n",
    "\n",
    "    probabilidad: float\n",
    "        Probabilidad utilizada para las operaciones de mutación.\n",
    "\n",
    "    mejor: tuple\n",
    "        La mejor solución conocida hasta el momento.\n",
    "\n",
    "    backend: Provider\n",
    "        El backend en el que se ejecutará el circuito.\n",
    "    \n",
    "    inicial: tuple\n",
    "        La solución inicial desde donde el algoritmo comenzará la búsqueda.\n",
    "\n",
    "    Devuelve:\n",
    "    ----------\n",
    "    result: tuple\n",
    "        La mejor solución encontrada por el algoritmo.\n",
    "\n",
    "    Ejemplo:\n",
    "    ---------\n",
    "    >>> number_quantum_reg = 4\n",
    "    >>> qubits = 6\n",
    "    >>> number_classic_reg = 2\n",
    "    >>> bits = 6\n",
    "    >>> cost_dict = {(0, 1, 0, 0, 0, 1): 5.0, ...}\n",
    "    >>> probabilidad = 0.1\n",
    "    >>> mejor = (1, 0, 1, 1, 0, 0)\n",
    "    >>> backend = Aer.get_backend('qasm_simulator')\n",
    "    >>> qga(number_quantum_reg, qubits, number_classic_reg, bits, cost_dict, probabilidad, mejor, backend)\n",
    "    (1, 0, 1, 1, 0, 0)\n",
    "    \"\"\"\n",
    "\n",
    "\n",
    "    #qc = create_qc(number_quantum_reg,qubits,number_classic_reg,bits)\n",
    "    # Create quantum registers\n",
    "    qregs = [QuantumRegister(qubits, name=f'q{i}') for i in range(number_quantum_reg)]\n",
    "    ancilla = QuantumRegister(1, name='ancilla')\n",
    "\n",
    "    # Create classical registers\n",
    "    cregs = [ClassicalRegister(bits, name=f'c{i}') for i in range(number_classic_reg)]\n",
    "    cr_ancilla = ClassicalRegister(1, name='cr_ancilla')\n",
    "    qc = QuantumCircuit(*qregs, ancilla, *cregs, cr_ancilla)\n",
    "    generation = 0 \n",
    "    best = False\n",
    "    #result = ''\n",
    "    #case = (0, 1, 0, 0, 0, 1) cost = 5.0 emepzaremos con este reg como padre y el segundo reg en superposicion\n",
    "    #inicial = (0, 1, 0, 0, 0, 1)\n",
    "    result=inicial\n",
    "    escribir(qc,qc.qregs[0],tuple_to_string(inicial))\n",
    "    for i in range(qc.qregs[1].size):\n",
    "        qc.h(qc.qregs[1][i])\n",
    "    #crear_hijo(base,hasta,qubits,qc.qregs[0],qc.qregs[1],qc.qregs[2],qc,qc.ancilla,qc.cr_ancilla)#usando al padre\n",
    "    #crear_hijo(base,hasta,qubits,qc.qregs[1],qc.qregs[0],qc.qregs[3],qc,qc.ancilla,qc.cr_ancilla)#usando a la madre\n",
    "    while generation <10:\n",
    "        print(\"Generation: \",generation)\n",
    "        crear_hijo(*puntos(qc.qregs[0]),qubits,qc.qregs[0],qc.qregs[1],qc.qregs[2],qc,ancilla,cr_ancilla)#usando al padre qc.qregs[-2]  # -2 since ancilla is the second last element added to qregs\n",
    "        crear_hijo(*puntos(qc.qregs[0]),qubits,qc.qregs[1],qc.qregs[0],qc.qregs[3],qc,ancilla,cr_ancilla)#usando a la madre\n",
    "        \n",
    "        \n",
    "        \n",
    "        \n",
    "        \n",
    "        \n",
    "        \n",
    "        for i in range(qubits):\n",
    "            qc.measure(qc.qregs[2][i],qc.cregs[0][i])\n",
    "            qc.measure(qc.qregs[3][i],qc.cregs[1][i])\n",
    "        hijo0,hijo1 = valores_hijos(lanzar_dinamico(qc,backend))\n",
    "        print(\"recien_crea2 hijo0: \",hijo0,\"costo: \",cost_dict[hijo0])\n",
    "        print(\"recien_crea2 hijo1: \",hijo1,\"costo: \",cost_dict[hijo1])\n",
    "        if cost_dict[hijo0] < cost_dict[hijo1] and cost_dict[inicial] < cost_dict[hijo1]:\n",
    "            escribir(qc,qc.qregs[0],tuple_to_string(hijo1))#borramos la info del padre\n",
    "            inicial = hijo1\n",
    "            result = hijo1\n",
    "            \n",
    "        if cost_dict[hijo0] > cost_dict[hijo1] and cost_dict[inicial] < cost_dict[hijo0]:\n",
    "            escribir(qc,qc.qregs[0],tuple_to_string(hijo0))#borramos la info del padre\n",
    "            inicial = hijo0\n",
    "            result = hijo0\n",
    "            \n",
    "        if  cost_dict[hijo0] == mejor:\n",
    "            result = hijo0\n",
    "            print(\"fin!!\")\n",
    "            best = True\n",
    "            break\n",
    "            \n",
    "            #best = True\n",
    "            \n",
    "        if  cost_dict[hijo1] == mejor:\n",
    "            result = hijo1\n",
    "            print(\"fin!!\")\n",
    "            best = True\n",
    "            break\n",
    "\n",
    "\n",
    "        \n",
    "        cual = np.random.randint(0, 4)#aleatorio cual de las 4 mutaciones\n",
    "        functions = {\n",
    "            0: lambda: mutate_bit(qc.qregs[0], qc, np.random.randint(0, len(qc.qregs[0]))),\n",
    "            1: lambda: mutate_multi_bit(qc.qregs[0], qc, probabilidad),\n",
    "            2: lambda: mutate_bit_random(qc.qregs[0], qc, probabilidad),\n",
    "            3: lambda: mutate_exchange(qc.qregs[0], qc, probabilidad)\n",
    "        }\n",
    "        functions[cual]()\n",
    "        if cost_dict[hijo0]>cost_dict[hijo1] and cost_dict[hijo0]> cost_dict[inicial]:\n",
    "            if cost_dict[hijo0] == mejor:\n",
    "                best = True\n",
    "                break\n",
    "            escribir(qc,qc.qregs[0],tuple_to_string(hijo0))#borramos la info del padre\n",
    "            inicial = hijo0\n",
    "            result = hijo0\n",
    "        \n",
    "        if cost_dict[hijo0]<cost_dict[hijo1] and cost_dict[hijo1]> cost_dict[inicial]:\n",
    "            if cost_dict[hijo1] == mejor:\n",
    "                best = True\n",
    "                break\n",
    "            \n",
    "            escribir(qc,qc.qregs[0],tuple_to_string(hijo1))#borramos la info del padre\n",
    "            inicial = hijo1\n",
    "            result = hijo1\n",
    "        print(\"mutaciones_hijo0: \",hijo0,\"costo: \",cost_dict[hijo0])\n",
    "        print(\"mutaciones_hijo1: \",hijo1,\"costo: \",cost_dict[hijo1])\n",
    "\n",
    "        print(\"padre: \",inicial)\n",
    "        print(\"hijo0: \",hijo0)\n",
    "        print(\"hijo1: \",hijo1)\n",
    "        generation+=1\n",
    "        print(generation)\n",
    "    return result,best"
   ]
  },
  {
   "cell_type": "code",
   "execution_count": null,
   "id": "6394fdda-9c87-42ed-9d9b-a5124ab1c546",
   "metadata": {
    "tags": []
   },
   "outputs": [],
   "source": [
    "measurement"
   ]
  },
  {
   "cell_type": "code",
   "execution_count": 23,
   "id": "182708ef-443e-43b9-bb39-0e756423aa96",
   "metadata": {
    "tags": []
   },
   "outputs": [],
   "source": [
    "\n",
    "n = 10 #numero de nodos\n",
    "grafo = generate_hamiltonian_graph(n)\n",
    "     "
   ]
  },
  {
   "cell_type": "code",
   "execution_count": 24,
   "id": "9dd730de-0d35-4af3-8437-388916b07321",
   "metadata": {
    "tags": []
   },
   "outputs": [],
   "source": [
    "\n",
    "w = compute_weight_matrix(grafo,n)"
   ]
  },
  {
   "cell_type": "code",
   "execution_count": null,
   "id": "d6ad0bfa-10c9-42d4-a72f-31c01a2a13ed",
   "metadata": {
    "tags": []
   },
   "outputs": [],
   "source": [
    "calculate_cut(\"101110\", w)"
   ]
  },
  {
   "cell_type": "code",
   "execution_count": null,
   "id": "6bfe268d-0bb6-4d69-a5b4-ddba7f6ee508",
   "metadata": {
    "tags": []
   },
   "outputs": [],
   "source": [
    "cost_dict, best_cost_brute = compute_cost(n, w, grafo )"
   ]
  },
  {
   "cell_type": "code",
   "execution_count": null,
   "id": "38f59efd-cd49-4397-a7dd-543d8e062998",
   "metadata": {
    "tags": []
   },
   "outputs": [],
   "source": [
    "best_cost_brute"
   ]
  },
  {
   "cell_type": "code",
   "execution_count": null,
   "id": "037f07f7-b377-474c-ae59-b88620be8eb3",
   "metadata": {
    "tags": []
   },
   "outputs": [],
   "source": [
    "for k, v in cost_dict.items():\n",
    "    print(k,\": \",v)"
   ]
  },
  {
   "cell_type": "code",
   "execution_count": 25,
   "id": "90846e14-1050-4be6-be98-62dbcbc55805",
   "metadata": {
    "tags": []
   },
   "outputs": [],
   "source": [
    "def reset(qc,qr,cr_ancilla):\n",
    "    for qubit in range(0,qr.size):\n",
    "        qc.measure(qr[qubit],cr_ancilla)\n",
    "        with qc.if_test((cr_ancilla, 1)):\n",
    "            qc.x(qr[qubit])\n",
    "        \n",
    "    "
   ]
  },
  {
   "cell_type": "code",
   "execution_count": null,
   "id": "47368f9f-8e9b-4a67-af53-96db9846b044",
   "metadata": {
    "tags": []
   },
   "outputs": [
    {
     "name": "stdout",
     "output_type": "stream",
     "text": [
      "0\n",
      "Energia inicial:  0\n",
      "BUCLE:  0\n",
      "LOS COUNTS IMPORTAN:  {'0 0111111100': 2, '0 1011111100': 3}\n",
      "0111111100\n",
      "1011111100\n",
      "EVALUACION:  15.6\n",
      "SIII\n",
      "PONIENDO en q0 :  1011111100\n",
      "CONTAMOS CON ESTA:  16.0\n",
      "BUCLE:  1\n",
      "LOS COUNTS IMPORTAN:  {'0 0011111100': 1, '0 0111111100': 2, '1 1111111100': 2}\n",
      "0011111100\n",
      "0111111100\n",
      "1111111100\n",
      "EVALUACION:  14.4\n",
      "SIII\n",
      "BUCLE:  2\n",
      "LOS COUNTS IMPORTAN:  {'1 1101111100': 1, '1 1001111100': 1, '0 0101111100': 1, '1 1011111100': 1, '0 0001111100': 1}\n",
      "1101111100\n",
      "1001111100\n",
      "0101111100\n",
      "1011111100\n",
      "0001111100\n",
      "EVALUACION:  16.8\n",
      "SIII\n",
      "PONIENDO en q0 :  0001111100\n",
      "CONTAMOS CON ESTA:  17.0\n",
      "BUCLE:  3\n"
     ]
    }
   ],
   "source": [
    "\n",
    "\n",
    "from qiskit import QuantumRegister, ClassicalRegister, QuantumCircuit\n",
    "\n",
    "# Crear los registros cuánticos\n",
    "q0 = QuantumRegister(10, 'q0')\n",
    "q1 = QuantumRegister(10, 'q1')\n",
    "q2 = QuantumRegister(10, 'q2')\n",
    "\n",
    "# Crear el qubit ancilla\n",
    "ancilla = QuantumRegister(1, 'ancilla')\n",
    "\n",
    "# Crear los registros clásicos\n",
    "c0 = ClassicalRegister(10, 'c0')\n",
    "c1 = ClassicalRegister(1, 'c1')\n",
    "\n",
    "# Crear el circuito cuántico\n",
    "qc = QuantumCircuit(q0, q1, q2, ancilla, c0, c1)\n",
    "\"\"\"qc.h(q0)\n",
    "#iniciar padre\n",
    "qc.measure(q0, c0)\n",
    "backend = Aer.get_backend('qasm_simulator')\n",
    "job = execute(qc, backend, shots=1000)\n",
    "\n",
    "# Obtiene los resultados\n",
    "result = job.result()\n",
    "\n",
    "# Obtiene las cuentas de las mediciones\n",
    "counts = result.get_counts(qc)\n",
    "total = 0\n",
    "for key, value in counts.items():\n",
    "    \n",
    "    #key = list(results.keys())[0]\n",
    "# Divide la clave por el espacio y toma el segundo elemento\n",
    "    measurement = key.split(' ')[1]\n",
    "    #print(measurement)\n",
    "    r = calculate_cut(measurement, w)\n",
    "    total = total + (r*value)\n",
    "    \n",
    "energia_inicial = total/1000\"\"\"\n",
    "escribir = tuple_to_string((1, 1, 1, 1, 1, 1,1,1,1,1))\n",
    "#escribir(qc,q0,\"\")\n",
    "# La cadena binaria que representa el estado al que quieres inicializar tu registro cuántico\n",
    "binary_string = escribir\n",
    "\n",
    "# Invierte la cadena, ya que los qubits en Qiskit se numeran de derecha a izquierda\n",
    "binary_string = binary_string[::-1]\n",
    "\n",
    "# Aplica una puerta X a cada qubit que quieras en el estado |1⟩\n",
    "for i in range(len(binary_string)):\n",
    "    if binary_string[i] == '1':\n",
    "        qc.x(q0[i])\n",
    "print(calculate_cut(escribir, w))\n",
    "energia_inicial = calculate_cut(escribir, w)\n",
    "# Aplica la puerta Hadamard a todos los qubits en q1\n",
    "\n",
    "\n",
    "print(\"Energia inicial: \",energia_inicial)\n",
    "qc.h(q1)\n",
    "\n",
    "\n",
    "#qc.measure(q2, c0)\n",
    "\n",
    "total = 0\n",
    "iteraciones = 0\n",
    "bucle = 0\n",
    "mejor = 0\n",
    "hijo=None\n",
    "while bucle<10:\n",
    "    print(\"BUCLE: \",bucle)\n",
    "    base,hasta = puntos(q0)\n",
    "    #print(\"PUNTOS DE CORTE: \",base,hasta)\n",
    "    crear_hijo(base,hasta,10,q0,q1,q2,qc,ancilla,c1)\n",
    "    #print(iteraciones)\n",
    "    qc.measure(q2, c0)\n",
    "    #backend = Aer.get_backend('qasm_simulator')\n",
    "    backend = AerSimulator()\n",
    "    c=lanzar_dinamico(qc,backend,5)\n",
    "    print(\"LOS COUNTS IMPORTAN: \",c)\n",
    "    total = 0\n",
    "    for key, value in c.items():\n",
    "        #key = list(results.keys())[0]\n",
    "    # Divide la clave por el espacio y toma el segundo elemento\n",
    "        measurement = key.split(' ')[1]\n",
    "        #print(measurement)\n",
    "        #print(measurement)\n",
    "        r = calculate_cut(measurement, w)\n",
    "        total = total + (r*value)\n",
    "    evaluacion_hijo = total / 5\n",
    "    print(\"EVALUACION: \",evaluacion_hijo)\n",
    "    if energia_inicial < evaluacion_hijo:\n",
    "        print(\"SIII\")\n",
    "        #mejor = 0\n",
    "        for key, value in c.items():\n",
    "            \n",
    "            \n",
    "            #key = list(results.keys())[0]\n",
    "            # Divide la clave por el espacio y toma el segundo elemento\n",
    "            measurement = key.split(' ')[1]\n",
    "            if energia_inicial < calculate_cut(measurement, w) and mejor < calculate_cut(measurement, w):\n",
    "                hijo=measurement\n",
    "                \n",
    "                \n",
    "        #padre_hijo(qc, q2, q0, ancilla, c1, 0, 6)\n",
    "        if hijo != None:\n",
    "            print(\"PONIENDO en q0 : \",str(hijo))\n",
    "            \n",
    "            reset(qc,q0,c1)#resetar el qreg\n",
    "            reset(qc,ancilla,c1)#reset qreg de ancilla\n",
    "            binary_string = hijo\n",
    "\n",
    "            # Invierte la cadena, ya que los qubits en Qiskit se numeran de derecha a izquierda\n",
    "            binary_string = binary_string[::-1]\n",
    "\n",
    "            # Aplica una puerta X a cada qubit que quieras en el estado |1⟩\n",
    "            for i in range(len(binary_string)):\n",
    "                if binary_string[i] == '1':\n",
    "                    qc.x(q0[i])\n",
    "            \n",
    "            mejor = calculate_cut(hijo, w)\n",
    "            print(\"CONTAMOS CON ESTA: \",mejor)\n",
    "            hijo = None\n",
    "    total = 0\n",
    "    bucle = bucle+1\n",
    "        \n",
    "    \"\"\"while iteraciones <100:\n",
    "        base,hasta = puntos(q0)\n",
    "        #print(\"PUNTOS DE CORTE: \",base,hasta)\n",
    "        crear_hijo(base,hasta,6,q0,q1,q2,qc,ancilla,c1)\n",
    "        #print(iteraciones)\n",
    "        qc.measure(q2, c0)\n",
    "        #backend = Aer.get_backend('qasm_simulator')\n",
    "        backend = AerSimulator()\n",
    "        c=lanzar_dinamico(qc,backend,1000)\n",
    "        print(\"LOS COUNTS IMPORTAN: \",c)\n",
    "        total = 0\n",
    "        for key, value in c.items():\n",
    "            #key = list(results.keys())[0]\n",
    "        # Divide la clave por el espacio y toma el segundo elemento\n",
    "            measurement = key.split(' ')[1]\n",
    "            #print(measurement)\n",
    "            r = calculate_cut(measurement, w)\n",
    "            total = total + (r*value)\n",
    "        \n",
    "        \n",
    "        \n",
    "        \n",
    "        \n",
    "        \n",
    "        qc.measure(q2, c0)\n",
    "        backend = AerSimulator()\n",
    "        results = lanzar_dinamico(qc,backend,1)\n",
    "        # Extrae la clave del diccionario\n",
    "        key = list(results.keys())[0]\n",
    "\n",
    "        # Divide la clave por el espacio y toma el segundo elemento\n",
    "        measurement = key.split(' ')[1]\n",
    "        #print(measurement)\n",
    "        #print(\"valoooor\",calculate_cut(measurement, w))\n",
    "        total = total + calculate_cut(measurement, w)\n",
    "        iteraciones = iteraciones+1\n",
    "    \n",
    "    evaluacion_hijo = total / 100\n",
    "    print(\"EVALUACION: \",evaluacion_hijo)\n",
    "    if energia_inicial < evaluacion_hijo:\n",
    "        padre_hijo(qc, q2, q0, ancilla, c1, 0, 6)\n",
    "        energia_inicial = evaluacion_hijo\n",
    "    total = 0\n",
    "    iteraciones = 0\n",
    "    bucle = bucle+1\"\"\"\n",
    "    \n",
    "# Mide el registro cuántico q0 en el registro clásico c0\n",
    "qc.measure(q0, c0)\n",
    "\n",
    "    \n",
    "job = execute(qc, backend, shots=1)\n",
    "\n",
    "# Obtiene los resultados\n",
    "result = job.result()\n",
    "\n",
    "# Obtiene las cuentas de las mediciones\n",
    "counts = result.get_counts(qc)\n",
    "    \n",
    "    \n",
    "print(counts)"
   ]
  },
  {
   "cell_type": "code",
   "execution_count": null,
   "id": "1880ae37-2173-47e8-9575-07c74b066d88",
   "metadata": {},
   "outputs": [],
   "source": [
    "calculate_cut(\"101010\", w)"
   ]
  },
  {
   "cell_type": "code",
   "execution_count": null,
   "id": "8e73c8bb-aaf2-4c8e-a505-17f4d75e2c9c",
   "metadata": {
    "tags": []
   },
   "outputs": [],
   "source": [
    "qr = QuantumRegister(6, 'qr')\n",
    "cr = ClassicalRegister(6, 'cr')\n",
    "ancilla = QuantumRegister(1, 'ancilla')\n",
    "cr_ancilla =  ClassicalRegister(1, 'cr_ancilla')\n",
    "qc = QuantumCircuit(qr,ancilla, cr,cr_ancilla)\n",
    "for i in range(len(qr)):\n",
    "    qc.x(qr[i])\n",
    "reset(qc,qr,cr_ancilla)\n",
    "reset(qc,ancilla,cr_ancilla)\n",
    "qc.measure(qr, cr)\n",
    "backend = AerSimulator()\n",
    "job = execute(qc, backend, shots=10)\n",
    "result = job.result()\n",
    "counts = result.get_counts(qc)"
   ]
  },
  {
   "cell_type": "code",
   "execution_count": null,
   "id": "206a2d7c-e5f4-46fe-a6a6-17a382ef8b10",
   "metadata": {
    "tags": []
   },
   "outputs": [],
   "source": [
    "print(counts)"
   ]
  },
  {
   "cell_type": "code",
   "execution_count": null,
   "id": "33c23b6d-d819-4c0a-aa6d-fbdd67bb38ac",
   "metadata": {
    "tags": []
   },
   "outputs": [],
   "source": [
    "from qiskit import QuantumRegister, ClassicalRegister, QuantumCircuit\n",
    "from qiskit import Aer, execute\n",
    "\n",
    "# Crea un registro cuántico con 6 qubits y aplica la puerta Hadamard\n",
    "qr = QuantumRegister(6, 'qr')\n",
    "cr = ClassicalRegister(6, 'cr')\n",
    "qc = QuantumCircuit(qr, cr)\n",
    "\n",
    "qc.h(qr[:])\n",
    "\n",
    "# Agrega la medición\n",
    "qc.measure(qr, cr)\n",
    "\n",
    "# Ejecuta el circuito en el simulador de estado cuántico de Aer con 10 shots\n",
    "backend = Aer.get_backend('qasm_simulator')\n",
    "job = execute(qc, backend, shots=10)\n",
    "result = job.result()\n",
    "counts = result.get_counts(qc)\n",
    "print(\"Resultados con 10 disparos: \", counts)\n",
    "\n",
    "# Ahora realiza una única medida\n",
    "job = execute(qc, backend, shots=1)\n",
    "result = job.result()\n",
    "counts = result.get_counts(qc)\n",
    "print(\"Resultados con 1 disparo: \", counts)\n",
    "\n",
    "# Y otra medida única\n",
    "job = execute(qc, backend, shots=1)\n",
    "result = job.result()\n",
    "counts = result.get_counts(qc)\n",
    "print(\"Resultados con otro disparo: \", counts)\n"
   ]
  },
  {
   "cell_type": "code",
   "execution_count": null,
   "id": "d7b983c0-91bd-48bc-aca2-fe315605a146",
   "metadata": {
    "tags": []
   },
   "outputs": [],
   "source": [
    "\n",
    "for clave, valor in cost_dict.items():\n",
    "    print(clave, valor)"
   ]
  },
  {
   "cell_type": "code",
   "execution_count": null,
   "id": "6ab19b40-6a90-4d18-8676-664b1d48f937",
   "metadata": {
    "tags": []
   },
   "outputs": [],
   "source": [
    "suma = 0\n",
    "for valor in cost_dict.values():\n",
    "    suma = suma+valor\n",
    "print(np.ceil(suma/len(cost_dict)))"
   ]
  },
  {
   "cell_type": "code",
   "execution_count": null,
   "id": "89d4328b-5457-4f72-8375-fabba1a75de3",
   "metadata": {
    "tags": []
   },
   "outputs": [],
   "source": [
    "len(cost_dict)"
   ]
  },
  {
   "cell_type": "code",
   "execution_count": null,
   "id": "15cca6c9-ac1c-4d40-a1ce-44da6c8f9579",
   "metadata": {
    "tags": []
   },
   "outputs": [],
   "source": [
    "best_cost_brute"
   ]
  },
  {
   "cell_type": "code",
   "execution_count": null,
   "id": "64a4ad96-75a4-493f-a849-a4afbdfa9957",
   "metadata": {
    "tags": []
   },
   "outputs": [],
   "source": [
    "calculate_cut(tuple_to_string((1, 1, 0, 1, 1, 1)),w)"
   ]
  },
  {
   "cell_type": "code",
   "execution_count": null,
   "id": "8976c169-2091-4dd2-809b-1d983a95918e",
   "metadata": {
    "tags": []
   },
   "outputs": [],
   "source": [
    "cost_dict[(0, 0, 1, 1, 0, 0, 1, 1, 1, 1)]"
   ]
  },
  {
   "cell_type": "code",
   "execution_count": null,
   "id": "0c767b23-d099-47a8-a165-834f37f1e179",
   "metadata": {
    "tags": []
   },
   "outputs": [],
   "source": [
    "from qiskit import IBMQ\n"
   ]
  },
  {
   "cell_type": "code",
   "execution_count": null,
   "id": "faaef32b-0d12-40dc-a7dc-705c94c890b4",
   "metadata": {
    "tags": []
   },
   "outputs": [],
   "source": [
    "\n",
    "from qiskit.providers.fake_provider import FakeManilaV2"
   ]
  },
  {
   "cell_type": "code",
   "execution_count": null,
   "id": "4158700e-52ae-4e66-aa18-22f4e6135860",
   "metadata": {
    "tags": []
   },
   "outputs": [],
   "source": [
    "#provider = IBMQ.get_provider(hub='ibm-q', group='open', project='main')\n",
    "#backend = provider.get_backend('ibm_sherbrooke')\n",
    "#backend = AerSimulator()\n",
    "#backend = FakeManilaV2()\n",
    "backend = provider.get_backend('ibm_cairo')"
   ]
  },
  {
   "cell_type": "code",
   "execution_count": null,
   "id": "f7d4a11c-d3f0-4c53-81e1-0adacf04ea4d",
   "metadata": {
    "tags": []
   },
   "outputs": [],
   "source": [
    "service.backends(simulator=True, min_num_qubits=29)"
   ]
  },
  {
   "cell_type": "code",
   "execution_count": null,
   "id": "8149a9d2-0dc2-469c-ab6f-b7377c1b1bd6",
   "metadata": {},
   "outputs": [],
   "source": [
    "result,best = qga(4,6,2,6,cost_dict,0.6,best_cost_brute,backend,(0, 1, 0, 1, 1, 1))"
   ]
  },
  {
   "cell_type": "code",
   "execution_count": null,
   "id": "9917ec73-1d6d-46d6-805d-53998335ae70",
   "metadata": {},
   "outputs": [],
   "source": [
    "result"
   ]
  },
  {
   "cell_type": "code",
   "execution_count": null,
   "id": "41bda5f3-f0b6-4e00-bf15-3945e82b97e5",
   "metadata": {},
   "outputs": [],
   "source": [
    "#~4"
   ]
  },
  {
   "cell_type": "code",
   "execution_count": null,
   "id": "4166febb-41bd-43dc-8b87-39282195d998",
   "metadata": {},
   "outputs": [],
   "source": [
    "import networkx as nx\n",
    "import numpy as np\n",
    "\n",
    "# Crea un grafo simple con cuatro nodos y cinco aristas\n",
    "G = nx.Graph()\n",
    "G.add_nodes_from(range(4))\n",
    "G.add_edges_from([(0, 1), (0, 2), (0, 3), (1, 2), (2, 3)])\n",
    "\n",
    "# Asigna pesos a las aristas\n",
    "for u, v, d in G.edges(data=True):\n",
    "    d['weight'] = np.random.rand()\n"
   ]
  },
  {
   "cell_type": "code",
   "execution_count": null,
   "id": "cc9bc75a-787b-4828-836f-d3fe482ae138",
   "metadata": {},
   "outputs": [],
   "source": [
    "n = G.number_of_nodes()\n",
    "w = compute_weight_matrix(G, n)\n",
    "print(w)\n"
   ]
  },
  {
   "cell_type": "code",
   "execution_count": null,
   "id": "1254738a-da5c-4539-82a7-269b84f8329a",
   "metadata": {},
   "outputs": [],
   "source": [
    "def prepare_state(partition):\n",
    "    \"\"\"\n",
    "    Prepara un estado cuántico a partir de una cadena binaria dada.\n",
    "\n",
    "    Parámetros\n",
    "    ----------\n",
    "    partition : str\n",
    "        Una cadena binaria que representa la partición del grafo.\n",
    "\n",
    "    Devoluciones\n",
    "    -----------\n",
    "    circuit : qiskit.circuit.quantumcircuit.QuantumCircuit\n",
    "        Un circuito cuántico que representa el estado cuántico preparado.\n",
    "    \"\"\"\n",
    "    circuit = QuantumCircuit(len(partition))\n",
    "\n",
    "    for i in range(len(partition)):\n",
    "        if partition[i] == '1':\n",
    "            circuit.x(i)\n",
    "\n",
    "    return circuit\n",
    "\n"
   ]
  },
  {
   "cell_type": "code",
   "execution_count": null,
   "id": "7fbc00b8-dc57-44e5-87b2-1056a6519078",
   "metadata": {},
   "outputs": [],
   "source": [
    "# Genera una cadena binaria aleatoria de longitud n\n",
    "#partition = np.random.randint(2, size=n)\n",
    "partition = [1, 0, 1, 1]  # Esto divide el grafo en los subconjuntos {0, 1} y {2, 3}\n",
    "\n",
    "# Prepara un estado cuántico correspondiente a esta partición\n",
    "state = prepare_state(partition)\n",
    "\n",
    "# Mide la \"energía\" de este estado\n",
    "energy = measure_cut(state, partition)\n",
    "print(energy)\n"
   ]
  },
  {
   "cell_type": "code",
   "execution_count": null,
   "id": "6e0aee21-e9c3-43eb-b746-f9f0c77980b0",
   "metadata": {},
   "outputs": [],
   "source": []
  }
 ],
 "metadata": {
  "kernelspec": {
   "display_name": "Python 3 (ipykernel)",
   "language": "python",
   "name": "python3"
  },
  "language_info": {
   "codemirror_mode": {
    "name": "ipython",
    "version": 3
   },
   "file_extension": ".py",
   "mimetype": "text/x-python",
   "name": "python",
   "nbconvert_exporter": "python",
   "pygments_lexer": "ipython3",
   "version": "3.10.8"
  },
  "widgets": {
   "application/vnd.jupyter.widget-state+json": {
    "state": {
     "121c1f1317f546b89287ec6e6ee64fb7": {
      "model_module": "@jupyter-widgets/controls",
      "model_module_version": "2.0.0",
      "model_name": "HTMLModel",
      "state": {
       "layout": "IPY_MODEL_9fa4136efdfe4c7690106829e2267ae0",
       "style": "IPY_MODEL_fa8a230fbd3f4da69dab30f3132aaeac",
       "value": "<h5>Backend</h5>"
      }
     },
     "17d6922878cc47478fd921d6daccb5ab": {
      "model_module": "@jupyter-widgets/controls",
      "model_module_version": "2.0.0",
      "model_name": "HTMLModel",
      "state": {
       "layout": "IPY_MODEL_642e31262ade4e63929c8e397d257ad1",
       "style": "IPY_MODEL_e4d4c2bad18d4d028f8cbaa620efe318",
       "value": "<h5>Message</h5>"
      }
     },
     "2bedaca875d44eada81bc2d2c2c93be9": {
      "model_module": "@jupyter-widgets/base",
      "model_module_version": "2.0.0",
      "model_name": "LayoutModel",
      "state": {
       "grid_area": "right",
       "padding": "0px 0px 0px 0px",
       "width": "70px"
      }
     },
     "2cbf1b5c9a8643218a82920506f89055": {
      "model_module": "@jupyter-widgets/base",
      "model_module_version": "2.0.0",
      "model_name": "LayoutModel",
      "state": {
       "grid_template_areas": "\n                                       \". . . . right \"\n                                        ",
       "grid_template_columns": "20% 20% 20% 20% 20%",
       "width": "100%"
      }
     },
     "3607bb7ab9ba4e92a9fefc98b8b24785": {
      "model_module": "@jupyter-widgets/controls",
      "model_module_version": "2.0.0",
      "model_name": "HTMLModel",
      "state": {
       "layout": "IPY_MODEL_aabe50d613a14c25a63ab25558ab129d",
       "style": "IPY_MODEL_b9e77f5b741d40e3905f53e68944efe1",
       "value": "<h5>Job ID</h5>"
      }
     },
     "3a41cc22248749cba7f9bfeb88b8098a": {
      "model_module": "@jupyter-widgets/base",
      "model_module_version": "2.0.0",
      "model_name": "LayoutModel",
      "state": {
       "width": "70px"
      }
     },
     "58bfecd1142f41dda97967b0655b5af9": {
      "model_module": "@jupyter-widgets/controls",
      "model_module_version": "2.0.0",
      "model_name": "ButtonModel",
      "state": {
       "button_style": "primary",
       "description": "Clear",
       "layout": "IPY_MODEL_2bedaca875d44eada81bc2d2c2c93be9",
       "style": "IPY_MODEL_6cb7b8275b144fdc9caf2289a4a6e26d",
       "tooltip": null
      }
     },
     "642e31262ade4e63929c8e397d257ad1": {
      "model_module": "@jupyter-widgets/base",
      "model_module_version": "2.0.0",
      "model_name": "LayoutModel",
      "state": {}
     },
     "6cb7b8275b144fdc9caf2289a4a6e26d": {
      "model_module": "@jupyter-widgets/controls",
      "model_module_version": "2.0.0",
      "model_name": "ButtonStyleModel",
      "state": {
       "font_family": null,
       "font_size": null,
       "font_style": null,
       "font_variant": null,
       "font_weight": null,
       "text_color": null,
       "text_decoration": null
      }
     },
     "85fde5c4657d413f98b8ec8e06b21bf3": {
      "model_module": "@jupyter-widgets/controls",
      "model_module_version": "2.0.0",
      "model_name": "HTMLModel",
      "state": {
       "layout": "IPY_MODEL_3a41cc22248749cba7f9bfeb88b8098a",
       "style": "IPY_MODEL_9ecaec5621e4483bbfa0d380e37d13f9",
       "value": "<h5>Queue</h5>"
      }
     },
     "89c806a748d54769b80f464ec0670e1e": {
      "model_module": "@jupyter-widgets/controls",
      "model_module_version": "2.0.0",
      "model_name": "HTMLModel",
      "state": {
       "layout": "IPY_MODEL_a194655edc7943c48f8de04fc47ad373",
       "style": "IPY_MODEL_fd24e577af524080a653cb55da44deb1",
       "value": "<h5>Status</h5>"
      }
     },
     "8bd2e36356a7452ba5c262867101e6c5": {
      "model_module": "@jupyter-widgets/controls",
      "model_module_version": "2.0.0",
      "model_name": "HTMLModel",
      "state": {
       "layout": "IPY_MODEL_fb5a205984a94272a84fea8c1518c819",
       "style": "IPY_MODEL_c2823f37afbc44c1bcc96f487b700d75",
       "value": "<p style='font-family: IBM Plex Sans, Arial, Helvetica, sans-serif; font-size: 20px; font-weight: medium;'>Circuit Properties</p>"
      }
     },
     "9426f03f67984cd6a2feb5b00b5ac411": {
      "model_module": "@jupyter-widgets/controls",
      "model_module_version": "2.0.0",
      "model_name": "GridBoxModel",
      "state": {
       "children": [
        "IPY_MODEL_58bfecd1142f41dda97967b0655b5af9"
       ],
       "layout": "IPY_MODEL_2cbf1b5c9a8643218a82920506f89055"
      }
     },
     "9ecaec5621e4483bbfa0d380e37d13f9": {
      "model_module": "@jupyter-widgets/controls",
      "model_module_version": "2.0.0",
      "model_name": "HTMLStyleModel",
      "state": {
       "description_width": "",
       "font_size": null,
       "text_color": null
      }
     },
     "9fa4136efdfe4c7690106829e2267ae0": {
      "model_module": "@jupyter-widgets/base",
      "model_module_version": "2.0.0",
      "model_name": "LayoutModel",
      "state": {
       "width": "145px"
      }
     },
     "a194655edc7943c48f8de04fc47ad373": {
      "model_module": "@jupyter-widgets/base",
      "model_module_version": "2.0.0",
      "model_name": "LayoutModel",
      "state": {
       "width": "95px"
      }
     },
     "aabe50d613a14c25a63ab25558ab129d": {
      "model_module": "@jupyter-widgets/base",
      "model_module_version": "2.0.0",
      "model_name": "LayoutModel",
      "state": {
       "width": "190px"
      }
     },
     "b9e77f5b741d40e3905f53e68944efe1": {
      "model_module": "@jupyter-widgets/controls",
      "model_module_version": "2.0.0",
      "model_name": "HTMLStyleModel",
      "state": {
       "description_width": "",
       "font_size": null,
       "text_color": null
      }
     },
     "c1c389ec6cbc4ba99c2aeb27636e925e": {
      "model_module": "@jupyter-widgets/base",
      "model_module_version": "2.0.0",
      "model_name": "LayoutModel",
      "state": {
       "margin": "0px 0px 0px 37px",
       "width": "600px"
      }
     },
     "c2823f37afbc44c1bcc96f487b700d75": {
      "model_module": "@jupyter-widgets/controls",
      "model_module_version": "2.0.0",
      "model_name": "HTMLStyleModel",
      "state": {
       "description_width": "",
       "font_size": null,
       "text_color": null
      }
     },
     "cba06467cb854ec1bf707bd1c22533fa": {
      "model_module": "@jupyter-widgets/controls",
      "model_module_version": "2.0.0",
      "model_name": "HBoxModel",
      "state": {
       "children": [
        "IPY_MODEL_3607bb7ab9ba4e92a9fefc98b8b24785",
        "IPY_MODEL_121c1f1317f546b89287ec6e6ee64fb7",
        "IPY_MODEL_89c806a748d54769b80f464ec0670e1e",
        "IPY_MODEL_85fde5c4657d413f98b8ec8e06b21bf3",
        "IPY_MODEL_17d6922878cc47478fd921d6daccb5ab"
       ],
       "layout": "IPY_MODEL_c1c389ec6cbc4ba99c2aeb27636e925e"
      }
     },
     "e4d4c2bad18d4d028f8cbaa620efe318": {
      "model_module": "@jupyter-widgets/controls",
      "model_module_version": "2.0.0",
      "model_name": "HTMLStyleModel",
      "state": {
       "description_width": "",
       "font_size": null,
       "text_color": null
      }
     },
     "fa8a230fbd3f4da69dab30f3132aaeac": {
      "model_module": "@jupyter-widgets/controls",
      "model_module_version": "2.0.0",
      "model_name": "HTMLStyleModel",
      "state": {
       "description_width": "",
       "font_size": null,
       "text_color": null
      }
     },
     "fb5a205984a94272a84fea8c1518c819": {
      "model_module": "@jupyter-widgets/base",
      "model_module_version": "2.0.0",
      "model_name": "LayoutModel",
      "state": {
       "margin": "0px 0px 10px 0px"
      }
     },
     "fd24e577af524080a653cb55da44deb1": {
      "model_module": "@jupyter-widgets/controls",
      "model_module_version": "2.0.0",
      "model_name": "HTMLStyleModel",
      "state": {
       "description_width": "",
       "font_size": null,
       "text_color": null
      }
     }
    },
    "version_major": 2,
    "version_minor": 0
   }
  }
 },
 "nbformat": 4,
 "nbformat_minor": 5
}

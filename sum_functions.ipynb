{
 "cells": [
  {
   "attachments": {},
   "cell_type": "markdown",
   "id": "6ea86a47",
   "metadata": {},
   "source": [
    "# Summation circuit\n",
    "---\n",
    "Definition of functions. See [arXiv:quant-ph/0008033](https://arxiv.org/abs/quant-ph/0008033).\n",
    "\n",
    "*Author*: Sebastián V. Romero ([sebastian.vidal@rai.usc.es](mailto:sebastian.vidal@rai.usc.es))."
   ]
  },
  {
   "cell_type": "markdown",
   "id": "7239a8c7",
   "metadata": {},
   "source": [
    "## General imports"
   ]
  },
  {
   "cell_type": "code",
   "execution_count": 1,
   "id": "cf9aa8cd",
   "metadata": {},
   "outputs": [],
   "source": [
    "import numpy as np\n",
    "\n",
    "from qiskit import QuantumCircuit, execute, Aer\n",
    "from qiskit.circuit.library import QFT"
   ]
  },
  {
   "cell_type": "markdown",
   "id": "c9019b8c",
   "metadata": {},
   "source": [
    "## Some previous functions"
   ]
  },
  {
   "cell_type": "code",
   "execution_count": 2,
   "id": "94be58fd",
   "metadata": {},
   "outputs": [],
   "source": [
    "def intToBinary(value: str, nBits: int, reverse: bool = True):\n",
    "    \n",
    "    value = int(value)\n",
    "    if value != 0:\n",
    "        bound = int(np.ceil(np.log2(value)))\n",
    "        if nBits < bound: nBits = bound\n",
    "    \n",
    "    binaryFormat = '{0:0' + str(nBits) + 'b}'\n",
    "    binary = binaryFormat.format(value)\n",
    "    \n",
    "    if reverse: return binary[ : : -1]\n",
    "    else: return binary"
   ]
  },
  {
   "cell_type": "code",
   "execution_count": 3,
   "id": "ee82d793",
   "metadata": {},
   "outputs": [],
   "source": [
    "def binaryToInt(value: str, reverse: bool = True):\n",
    "    \n",
    "    if reverse: return int(value[ : : -1], 2)\n",
    "    else: return int(value, 2)"
   ]
  },
  {
   "cell_type": "code",
   "execution_count": 4,
   "id": "3cd1bdd0",
   "metadata": {},
   "outputs": [],
   "source": [
    "def getState(circuit, nBits: int, precision: int = 10, fancyPrint: bool = False):\n",
    "    \n",
    "    # Let's simulate our circuit in order to get the final state vector\n",
    "    svsim = Aer.get_backend('statevector_simulator', device='GPU')\n",
    "\n",
    "    # Do the simulation, return the result and get the state vector\n",
    "    result = execute(circuit, svsim).result().get_statevector()\n",
    "    \n",
    "    if int(precision) < 8: precision = 8\n",
    "    \n",
    "    result = np.asarray(result).round(precision)\n",
    "    \n",
    "    # Returns non-zero values\n",
    "    stateIndices = result.nonzero()[0]\n",
    "    \n",
    "#     if nBits < int(np.log2(len(circuit))): nBits = int(np.log2(len(circuit)))\n",
    "    states = np.empty(0)\n",
    "    for index in stateIndices:\n",
    "        binaryState = intToBinary(index, nBits)\n",
    "        states = np.append(states , [result[index], binaryState])\n",
    "    \n",
    "    if fancyPrint:\n",
    "        string = ''\n",
    "        for index in range(0, len(states), 2):\n",
    "            coef, bstate = states[index], states[index + 1]\n",
    "            string = string + f'{coef} |{bstate}>   '\n",
    "        print(string)\n",
    "    \n",
    "    return states"
   ]
  },
  {
   "cell_type": "code",
   "execution_count": 6,
   "id": "ace09045",
   "metadata": {},
   "outputs": [],
   "source": [
    "def summation(circuit, state1, state2):\n",
    "    \n",
    "    assert len(state1) == len(state2)\n",
    "    n = len(state1)\n",
    "    \n",
    "    if n == 0: return circuit\n",
    "    for phase in range(n):\n",
    "        for control in range(0, phase + 1):\n",
    "            dif = phase - control\n",
    "            circuit.cp(np.pi / pow(2, dif), state1[control], state2[phase])\n",
    "            circuit.barrier()\n",
    "    \n",
    "    return circuit"
   ]
  }
 ],
 "metadata": {
  "kernelspec": {
   "display_name": "Python 3 (ipykernel)",
   "language": "python",
   "name": "python3"
  },
  "language_info": {
   "codemirror_mode": {
    "name": "ipython",
    "version": 3
   },
   "file_extension": ".py",
   "mimetype": "text/x-python",
   "name": "python",
   "nbconvert_exporter": "python",
   "pygments_lexer": "ipython3",
   "version": "3.10.4"
  }
 },
 "nbformat": 4,
 "nbformat_minor": 5
}

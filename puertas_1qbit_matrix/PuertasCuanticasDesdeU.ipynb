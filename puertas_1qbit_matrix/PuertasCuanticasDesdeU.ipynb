{
  "nbformat": 4,
  "nbformat_minor": 0,
  "metadata": {
    "colab": {
      "provenance": []
    },
    "kernelspec": {
      "name": "python3",
      "display_name": "Python 3"
    },
    "language_info": {
      "name": "python"
    }
  },
  "cells": [
    {
      "cell_type": "code",
      "execution_count": 141,
      "metadata": {
        "id": "SCvFwTioaS5Y"
      },
      "outputs": [],
      "source": [
        "import numpy as np\n",
        "import math \n",
        "from math import cos\n",
        "from math import sin"
      ]
    },
    {
      "cell_type": "code",
      "source": [
        "\n",
        "def crearMatrix(t, p, l):\n",
        "    \"\"\"\n",
        "    Crea una matriz de puerta U en computación cuántica para los parámetros dados.\n",
        "\n",
        "    Parámetros:\n",
        "    t (float): ángulo en radianes para la posición (0, 0) de la matriz\n",
        "    p (float): ángulo en radianes para la posición (1, 0) de la matriz\n",
        "    l (float): ángulo en radianes para la posición (0, 1) de la matriz\n",
        "\n",
        "    Retorna:\n",
        "    np.array: una matriz de 2x2 que representa la puerta U en computación cuántica para los ángulos dados\n",
        "    \"\"\"\n",
        "    pos_00 = np.cos(t/2)\n",
        "    pos_01 = -np.exp(1j*l)* np.sin(t/2)\n",
        "    pos_10 = np.exp(1j*p) * np.sin(t/2)\n",
        "    pos_11 = np.exp(1j*(p+l)) * np.cos(t/2)\n",
        "    \n",
        "    matrix = np.array([[pos_00, pos_01], [pos_10, pos_11]])\n",
        "    return matrix\n",
        "\n"
      ],
      "metadata": {
        "id": "ClIDx-4feISs"
      },
      "execution_count": 142,
      "outputs": []
    },
    {
      "cell_type": "markdown",
      "source": [
        "Puertas Pauli"
      ],
      "metadata": {
        "id": "MjQ7tYVXn0hX"
      }
    },
    {
      "cell_type": "code",
      "source": [
        "#puerta x\n",
        "print(crearMatrix(np.pi,0,np.pi))"
      ],
      "metadata": {
        "colab": {
          "base_uri": "https://localhost:8080/"
        },
        "id": "o7gpQ6-En2Yy",
        "outputId": "532f10ad-5c88-4d46-9e63-6743fd0928e7"
      },
      "execution_count": 143,
      "outputs": [
        {
          "output_type": "stream",
          "name": "stdout",
          "text": [
            "[[ 6.123234e-17+0.00000000e+00j  1.000000e+00-1.22464680e-16j]\n",
            " [ 1.000000e+00+0.00000000e+00j -6.123234e-17+7.49879891e-33j]]\n"
          ]
        }
      ]
    },
    {
      "cell_type": "code",
      "source": [
        "#puerta y\n",
        "print(crearMatrix(np.pi,0,0))"
      ],
      "metadata": {
        "colab": {
          "base_uri": "https://localhost:8080/"
        },
        "id": "Mj6jLaUnoQxk",
        "outputId": "5a3513ae-9c76-4e63-9b25-75003d37cb43"
      },
      "execution_count": 145,
      "outputs": [
        {
          "output_type": "stream",
          "name": "stdout",
          "text": [
            "[[ 6.123234e-17+0.j -1.000000e+00-0.j]\n",
            " [ 1.000000e+00+0.j  6.123234e-17+0.j]]\n"
          ]
        }
      ]
    },
    {
      "cell_type": "code",
      "source": [
        "#puerta z\n",
        "print(crearMatrix(0,0,np.pi))"
      ],
      "metadata": {
        "colab": {
          "base_uri": "https://localhost:8080/"
        },
        "id": "1H9XNp8OomXB",
        "outputId": "205dc006-dfc4-4ddd-db31-0b06d0281dbf"
      },
      "execution_count": 146,
      "outputs": [
        {
          "output_type": "stream",
          "name": "stdout",
          "text": [
            "[[ 1.+0.0000000e+00j  0.+0.0000000e+00j]\n",
            " [ 0.+0.0000000e+00j -1.+1.2246468e-16j]]\n"
          ]
        }
      ]
    },
    {
      "cell_type": "markdown",
      "source": [
        "Puerta Hadamar"
      ],
      "metadata": {
        "id": "5lKffXtxg9oW"
      }
    },
    {
      "cell_type": "code",
      "source": [
        "#puerta H\n",
        "print(crearMatrix(np.pi/2,0,np.pi))"
      ],
      "metadata": {
        "colab": {
          "base_uri": "https://localhost:8080/"
        },
        "id": "B1A2oaZlcA7e",
        "outputId": "dcb27f85-1f31-45a0-df88-0a066c55686c"
      },
      "execution_count": 147,
      "outputs": [
        {
          "output_type": "stream",
          "name": "stdout",
          "text": [
            "[[ 0.70710678+0.00000000e+00j  0.70710678-8.65956056e-17j]\n",
            " [ 0.70710678+0.00000000e+00j -0.70710678+8.65956056e-17j]]\n"
          ]
        }
      ]
    },
    {
      "cell_type": "markdown",
      "source": [
        "Puertas phase:"
      ],
      "metadata": {
        "id": "GFWwLFMBpRmQ"
      }
    },
    {
      "cell_type": "markdown",
      "source": [
        "identidad"
      ],
      "metadata": {
        "id": "c6uhCqOOpTuG"
      }
    },
    {
      "cell_type": "code",
      "source": [
        "print(crearMatrix(0,0,0))"
      ],
      "metadata": {
        "colab": {
          "base_uri": "https://localhost:8080/"
        },
        "id": "46sevmvGpROk",
        "outputId": "d84ede1b-b3e8-4d5d-939c-b1a3b0c17af3"
      },
      "execution_count": 148,
      "outputs": [
        {
          "output_type": "stream",
          "name": "stdout",
          "text": [
            "[[1.+0.j 0.-0.j]\n",
            " [0.+0.j 1.+0.j]]\n"
          ]
        }
      ]
    },
    {
      "cell_type": "markdown",
      "source": [
        "puerta S"
      ],
      "metadata": {
        "id": "Wi27NUFrpZQu"
      }
    },
    {
      "cell_type": "code",
      "source": [
        "exponen=(1j*np.pi)/2"
      ],
      "metadata": {
        "id": "sKybYdxApspV"
      },
      "execution_count": 55,
      "outputs": []
    },
    {
      "cell_type": "code",
      "source": [
        "np.exp(exponen)"
      ],
      "metadata": {
        "colab": {
          "base_uri": "https://localhost:8080/"
        },
        "id": "VmZGdu8Vpnt-",
        "outputId": "12d84e28-3145-4a23-9f27-997da60074e1"
      },
      "execution_count": 56,
      "outputs": [
        {
          "output_type": "execute_result",
          "data": {
            "text/plain": [
              "(6.123233995736766e-17+1j)"
            ]
          },
          "metadata": {},
          "execution_count": 56
        }
      ]
    },
    {
      "cell_type": "code",
      "source": [
        "print(crearMatrix(0,0,np.pi/2))"
      ],
      "metadata": {
        "colab": {
          "base_uri": "https://localhost:8080/"
        },
        "id": "ZMx1FWw-pbJ9",
        "outputId": "6ed7d981-6898-4411-cec3-a3c1bc13733e"
      },
      "execution_count": 149,
      "outputs": [
        {
          "output_type": "stream",
          "name": "stdout",
          "text": [
            "[[1.000000e+00+0.j 0.000000e+00-0.j]\n",
            " [0.000000e+00+0.j 6.123234e-17+1.j]]\n"
          ]
        }
      ]
    },
    {
      "cell_type": "markdown",
      "source": [
        "Puerta T"
      ],
      "metadata": {
        "id": "talBpEM_qLRM"
      }
    },
    {
      "cell_type": "code",
      "source": [
        "expo=(1j*np.pi)/4"
      ],
      "metadata": {
        "id": "DBmXFSiXqWRm"
      },
      "execution_count": 60,
      "outputs": []
    },
    {
      "cell_type": "code",
      "source": [
        "np.exp(expo)"
      ],
      "metadata": {
        "colab": {
          "base_uri": "https://localhost:8080/"
        },
        "id": "XbPywX0XqVoU",
        "outputId": "20639b5c-6ceb-4cc8-d5bd-64e545619675"
      },
      "execution_count": 61,
      "outputs": [
        {
          "output_type": "execute_result",
          "data": {
            "text/plain": [
              "(0.7071067811865476+0.7071067811865475j)"
            ]
          },
          "metadata": {},
          "execution_count": 61
        }
      ]
    },
    {
      "cell_type": "code",
      "source": [
        "print(crearMatrix(0,0,np.pi/4))"
      ],
      "metadata": {
        "colab": {
          "base_uri": "https://localhost:8080/"
        },
        "id": "8urYQVCrqKd2",
        "outputId": "9760049d-60d9-48db-e2fc-11eee0f46eba"
      },
      "execution_count": 150,
      "outputs": [
        {
          "output_type": "stream",
          "name": "stdout",
          "text": [
            "[[1.        +0.j         0.        -0.j        ]\n",
            " [0.        +0.j         0.70710678+0.70710678j]]\n"
          ]
        }
      ]
    }
  ]
}
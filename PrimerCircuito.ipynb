{
 "cells": [
  {
   "cell_type": "code",
   "execution_count": 11,
   "id": "1fc1da59-5bee-4dbf-806c-659e0a342dce",
   "metadata": {},
   "outputs": [],
   "source": [
    "from qiskit import QuantumCircuit,Aer,execute\n",
    "from qiskit.visualization import plot_histogram"
   ]
  },
  {
   "cell_type": "code",
   "execution_count": 6,
   "id": "59cb0f48-69d9-450e-ab18-2e5989ff7ff1",
   "metadata": {},
   "outputs": [
    {
     "data": {
      "text/plain": [
       "(<qiskit.circuit.instructionset.InstructionSet at 0x7f01dfa4a820>, (0, 1))"
      ]
     },
     "execution_count": 6,
     "metadata": {},
     "output_type": "execute_result"
    }
   ],
   "source": [
    "#primer parametro qbits \n",
    "#segundo parametro bits, usaremos los bits para medir \n",
    "circuito = QuantumCircuit(2,2)\n",
    "#metemos puerta h al primer qbit\n",
    "circuito.h(0)\n",
    "#metemos puerta x y z al segundo qbit\n",
    "circuito.x(1)\n",
    "circuito.z(1)\n",
    "#vamos a medir el circuito primero referenciamos los qbits, y segundo referenciamos los bits con los que llevaremos a cabo esa medida\n",
    "circuito.measure(0,1),(0,1)"
   ]
  },
  {
   "cell_type": "code",
   "execution_count": 7,
   "id": "d1d2d419-f8b3-450d-a8be-9c5a4ef22608",
   "metadata": {},
   "outputs": [
    {
     "data": {
      "image/png": "[encoded data removed]",
      "text/plain": [
       "<Figure size 267.052x204.68 with 1 Axes>"
      ]
     },
     "execution_count": 7,
     "metadata": {},
     "output_type": "execute_result"
    }
   ],
   "source": [
    "circuito.draw()"
   ]
  },
  {
   "cell_type": "code",
   "execution_count": 8,
   "id": "e92f4108-0184-4aa5-95c8-8451175e35ad",
   "metadata": {},
   "outputs": [
    {
     "name": "stderr",
     "output_type": "stream",
     "text": [
      "<frozen importlib._bootstrap>:219: RuntimeWarning: scipy._lib.messagestream.MessageStream size changed, may indicate binary incompatibility. Expected 56 from C header, got 64 from PyObject\n"
     ]
    }
   ],
   "source": [
    "backend = Aer.get_backend(\"qasm_simulator\")\n",
    "trabajo = execute(circuito,backend,shots = 1024)\n",
    "resultado = trabajo.result()\n",
    "contar_estados = resultado.get_counts(circuito)"
   ]
  },
  {
   "cell_type": "code",
   "execution_count": 12,
   "id": "7cf2e4e7-fef9-4cbd-b20c-f01e82b4f102",
   "metadata": {},
   "outputs": [
    {
     "data": {
      "image/png": "[encoded data removed]",
      "text/plain": [
       "<Figure size 504x360 with 1 Axes>"
      ]
     },
     "execution_count": 12,
     "metadata": {},
     "output_type": "execute_result"
    }
   ],
   "source": [
    "plot_histogram(contar_estados)"
   ]
  },
  {
   "cell_type": "code",
   "execution_count": null,
   "id": "7b092673-a90b-4196-828a-8c84e7e34242",
   "metadata": {},
   "outputs": [],
   "source": []
  }
 ],
 "metadata": {
  "kernelspec": {
   "display_name": "Python 3 (ipykernel)",
   "language": "python",
   "name": "python3"
  },
  "language_info": {
   "codemirror_mode": {
    "name": "ipython",
    "version": 3
   },
   "file_extension": ".py",
   "mimetype": "text/x-python",
   "name": "python",
   "nbconvert_exporter": "python",
   "pygments_lexer": "ipython3",
   "version": "3.8.12"
  },
  "widgets": {
   "application/vnd.jupyter.widget-state+json": {
    "state": {},
    "version_major": 2,
    "version_minor": 0
   }
  }
 },
 "nbformat": 4,
 "nbformat_minor": 5
}
